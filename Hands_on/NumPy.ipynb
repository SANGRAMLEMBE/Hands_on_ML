{
  "nbformat": 4,
  "nbformat_minor": 0,
  "metadata": {
    "colab": {
      "provenance": [],
      "include_colab_link": true
    },
    "kernelspec": {
      "name": "python3",
      "display_name": "Python 3"
    },
    "language_info": {
      "name": "python"
    }
  },
  "cells": [
    {
      "cell_type": "markdown",
      "metadata": {
        "id": "view-in-github",
        "colab_type": "text"
      },
      "source": [
        "<a href=\"https://colab.research.google.com/github/SANGRAMLEMBE/Hands_on_ML/blob/main/Hands_on/NumPy.ipynb\" target=\"_parent\"><img src=\"https://colab.research.google.com/assets/colab-badge.svg\" alt=\"Open In Colab\"/></a>"
      ]
    },
    {
      "cell_type": "markdown",
      "source": [
        "### What is NumPy?\n",
        "\n",
        "NumPy (short for Numerical Python) is a fundamental package in Python used for scientific computing. It provides support for:\n",
        "\n",
        "#### Key Features:\n",
        "- Works with 1D, 2D, and higher-dimensional arrays\n",
        "- Fast math operations (like sum, mean, etc.)\n",
        "- Supports matrix and linear algebra\n",
        "\n"
      ],
      "metadata": {
        "id": "rH0xy0dDYupb"
      }
    },
    {
      "cell_type": "markdown",
      "source": [
        "# Using NumPy for Smart Fitness Score Calculation\n",
        "\n",
        "## 🏋️ Scenario: Fitness Performance Scoring\n",
        "\n",
        "You run a fitness platform that evaluates daily performance using three metrics:\n",
        "- Minutes of exercise\n",
        "- Liters of water consumed\n",
        "- Hours of sleep\n",
        "\n",
        "You want to assign a **daily fitness score** based on how well a user balances these metrics.\n",
        "---\n",
        "\n",
        "##Fitness Score Formula\n",
        "\n",
        "We will use a simple linear formula:\n",
        "\n",
        "score = w1 * exercise + w2 * water + w3 * sleep"
      ],
      "metadata": {
        "id": "XkhXxMt44UWl"
      }
    },
    {
      "cell_type": "markdown",
      "source": [
        "\n",
        "Where `w1`, `w2`, and `w3` reflect the importance of each metric.\n",
        "\n",
        "---\n",
        "\n",
        "##Define the Weights and Sample Data\n"
      ],
      "metadata": {
        "id": "du1SrG844o7U"
      }
    },
    {
      "cell_type": "code",
      "source": [
        "# Assigning importance to each factor\n",
        "weights = [0.5, 0.2, 0.3]  # More emphasis on exercise\n",
        "\n",
        "# Sample user data: [exercise_minutes, water_liters, sleep_hours]\n",
        "day1 = [45, 2.0, 6.5]\n",
        "day2 = [30, 1.5, 8.0]\n",
        "day3 = [60, 3.0, 7.0]"
      ],
      "metadata": {
        "id": "5kRj-Lgn40V8"
      },
      "execution_count": 1,
      "outputs": []
    },
    {
      "cell_type": "code",
      "execution_count": 2,
      "metadata": {
        "colab": {
          "base_uri": "https://localhost:8080/"
        },
        "id": "AWBwb-984HbM",
        "outputId": "ebe2743a-f606-4b1e-de98-6159c5c525ac"
      },
      "outputs": [
        {
          "output_type": "stream",
          "name": "stdout",
          "text": [
            "24.849999999999998\n",
            "17.7\n",
            "32.7\n"
          ]
        }
      ],
      "source": [
        "def compute_score(day_data, weights):\n",
        "    result = 0\n",
        "    for i in range(len(day_data)):\n",
        "        result += day_data[i] * weights[i]\n",
        "    return result\n",
        "\n",
        "# Example usage\n",
        "print(compute_score(day1, weights))  # Output: Fitness score for day1\n",
        "print(compute_score(day2, weights))\n",
        "print(compute_score(day3, weights))\n"
      ]
    },
    {
      "cell_type": "code",
      "source": [
        "weight = [0.4,0.6,0.3]\n",
        "\n",
        "# sample student data = [\"college_lecture\", \"self_study\" , \"Hack_a_thon\" ]\n",
        "stud_1 = [40,15,2]\n",
        "stud_2 = [35,20,3]\n",
        "stud_3 = [45,10,1]\n",
        "\n",
        "def chances_of_placement(stud_data , weight):\n",
        "  result = 0\n",
        "  for i in range(len(stud_data)):\n",
        "    result += stud_data[i]*weight[i]\n",
        "  return result\n",
        "\n",
        "print(chances_of_placement(stud_1,weight))\n",
        "print(chances_of_placement(stud_2,weight))\n",
        "print(chances_of_placement(stud_3,weight))"
      ],
      "metadata": {
        "colab": {
          "base_uri": "https://localhost:8080/"
        },
        "id": "I29ZnfZ23JDq",
        "outputId": "21456060-384e-4a1a-dd74-4815055fd33f"
      },
      "execution_count": 3,
      "outputs": [
        {
          "output_type": "stream",
          "name": "stdout",
          "text": [
            "25.6\n",
            "26.9\n",
            "24.3\n"
          ]
        }
      ]
    },
    {
      "cell_type": "markdown",
      "source": [
        "### using Zip function\n",
        "The zip() function in Python is a built-in function used to combine multiple iterables (like lists, tuples, or strings) element-wise into a single iterable of tuples. It pairs corresponding elements from each input iterable."
      ],
      "metadata": {
        "id": "d_X37afuCkON"
      }
    },
    {
      "cell_type": "code",
      "source": [
        "list1 = [1, 2, 3]\n",
        "list2 = ['a', 'b', 'c']\n",
        "zipped_result = zip(list1, list2)\n",
        "\n",
        "# Convert the zip object to a list to view the contents\n",
        "print(list(zipped_result))"
      ],
      "metadata": {
        "colab": {
          "base_uri": "https://localhost:8080/"
        },
        "id": "t27MZYDcCwaz",
        "outputId": "16be77f7-75dd-48e7-d7e6-91d187473c97"
      },
      "execution_count": 4,
      "outputs": [
        {
          "output_type": "stream",
          "name": "stdout",
          "text": [
            "[(1, 'a'), (2, 'b'), (3, 'c')]\n"
          ]
        }
      ]
    },
    {
      "cell_type": "code",
      "source": [
        "list1 = [\"sangram\",\"Jeevan\",\"Himanshu\",\"Divyanshu\"]\n",
        "list2 = [80,85,65,30]\n",
        "zipped_list = zip(list1,list2)\n",
        "print(list(zipped_list))\n",
        "print(zipped_list)"
      ],
      "metadata": {
        "colab": {
          "base_uri": "https://localhost:8080/"
        },
        "id": "Mxuh82Nu57eR",
        "outputId": "b94063c2-4245-46c4-a6b1-46a02ee52993"
      },
      "execution_count": 5,
      "outputs": [
        {
          "output_type": "stream",
          "name": "stdout",
          "text": [
            "[('sangram', 80), ('Jeevan', 85), ('Himanshu', 65), ('Divyanshu', 30)]\n",
            "<zip object at 0x7df21008ba40>\n"
          ]
        }
      ]
    },
    {
      "cell_type": "code",
      "source": [
        "print(list(zip(day1,weights)))"
      ],
      "metadata": {
        "colab": {
          "base_uri": "https://localhost:8080/"
        },
        "id": "gOmJ3CqD7Hsv",
        "outputId": "1c8e7c7d-f78e-4372-8adb-69441e4fb5a0"
      },
      "execution_count": 6,
      "outputs": [
        {
          "output_type": "stream",
          "name": "stdout",
          "text": [
            "[(45, 0.5), (2.0, 0.2), (6.5, 0.3)]\n"
          ]
        }
      ]
    },
    {
      "cell_type": "code",
      "source": [
        "print(list(zip(stud_2,weight)))"
      ],
      "metadata": {
        "colab": {
          "base_uri": "https://localhost:8080/"
        },
        "id": "4Buh_2rD6pA5",
        "outputId": "61a7849e-a5a7-490a-81d8-6d279921a56e"
      },
      "execution_count": 7,
      "outputs": [
        {
          "output_type": "stream",
          "name": "stdout",
          "text": [
            "[(35, 0.4), (20, 0.6), (3, 0.3)]\n"
          ]
        }
      ]
    },
    {
      "cell_type": "code",
      "source": [
        "def compute_score(day_data, weights):\n",
        "    result = 0\n",
        "    for data,w in zip(day_data,weights):\n",
        "        result += data*w\n",
        "\n",
        "    return result\n",
        "\n",
        "# Example usage\n",
        "print(compute_score(day1, weights))\n",
        "print(compute_score(day2, weights))\n",
        "print(compute_score(day3, weights))"
      ],
      "metadata": {
        "colab": {
          "base_uri": "https://localhost:8080/"
        },
        "id": "4AnOhoxyC3wm",
        "outputId": "c6411e4e-6f97-4eb2-97ae-29ca9cdfd9af"
      },
      "execution_count": 8,
      "outputs": [
        {
          "output_type": "stream",
          "name": "stdout",
          "text": [
            "24.849999999999998\n",
            "17.7\n",
            "32.7\n"
          ]
        }
      ]
    },
    {
      "cell_type": "code",
      "source": [
        "def chances_of_placement(stud_data,weight):\n",
        "  result = 0\n",
        "  for data,w in zip(stud_data,weight):\n",
        "    result += data*w\n",
        "  return result\n",
        "\n",
        "print(chances_of_placement(stud_1,weight))\n",
        "print(chances_of_placement(stud_2,weight))\n",
        "print(chances_of_placement(stud_3,weight))"
      ],
      "metadata": {
        "colab": {
          "base_uri": "https://localhost:8080/"
        },
        "id": "oV9n8IVH7KSS",
        "outputId": "36e89746-19fd-43c2-cad9-fdd20e78ea29"
      },
      "execution_count": 9,
      "outputs": [
        {
          "output_type": "stream",
          "name": "stdout",
          "text": [
            "25.6\n",
            "26.9\n",
            "24.3\n"
          ]
        }
      ]
    },
    {
      "cell_type": "markdown",
      "source": [
        " ## Now Use NumPy"
      ],
      "metadata": {
        "id": "dDKWo6gf5t5H"
      }
    },
    {
      "cell_type": "code",
      "source": [
        "import numpy as np\n"
      ],
      "metadata": {
        "id": "cqZ18SGG5yMV"
      },
      "execution_count": 10,
      "outputs": []
    },
    {
      "cell_type": "markdown",
      "source": [
        "###Convert Lists to Arrays"
      ],
      "metadata": {
        "id": "RyAR3M1N51_r"
      }
    },
    {
      "cell_type": "code",
      "source": [
        "day1 = np.array([45, 2.0, 6.5])\n",
        "weights = np.array([0.5, 0.2, 0.3])\n"
      ],
      "metadata": {
        "id": "928RSwjP5zTv"
      },
      "execution_count": 11,
      "outputs": []
    },
    {
      "cell_type": "code",
      "source": [
        "type(day1)\n",
        "type(weights)"
      ],
      "metadata": {
        "colab": {
          "base_uri": "https://localhost:8080/"
        },
        "id": "CxeQOZXcdMyK",
        "outputId": "0aa30856-2d67-41c0-ae11-2080585ef5b0"
      },
      "execution_count": 12,
      "outputs": [
        {
          "output_type": "execute_result",
          "data": {
            "text/plain": [
              "numpy.ndarray"
            ]
          },
          "metadata": {},
          "execution_count": 12
        }
      ]
    },
    {
      "cell_type": "code",
      "source": [
        "day1[0]"
      ],
      "metadata": {
        "colab": {
          "base_uri": "https://localhost:8080/"
        },
        "id": "mWPsGmwvdZFc",
        "outputId": "7f1e4340-5ca7-4784-ae22-1af1ab987c98"
      },
      "execution_count": 13,
      "outputs": [
        {
          "output_type": "execute_result",
          "data": {
            "text/plain": [
              "np.float64(45.0)"
            ]
          },
          "metadata": {},
          "execution_count": 13
        }
      ]
    },
    {
      "cell_type": "code",
      "source": [
        "weights[1]"
      ],
      "metadata": {
        "colab": {
          "base_uri": "https://localhost:8080/"
        },
        "id": "_d5-VYDB8viO",
        "outputId": "5978e8e1-d8c8-4f68-f552-be4935151206"
      },
      "execution_count": 14,
      "outputs": [
        {
          "output_type": "execute_result",
          "data": {
            "text/plain": [
              "np.float64(0.2)"
            ]
          },
          "metadata": {},
          "execution_count": 14
        }
      ]
    },
    {
      "cell_type": "code",
      "source": [
        "a = 5.0\n",
        "print(type(a))"
      ],
      "metadata": {
        "colab": {
          "base_uri": "https://localhost:8080/"
        },
        "id": "T8RLQezVDfPy",
        "outputId": "1f239be2-7c07-45dd-ff94-15935d9116c1"
      },
      "execution_count": 15,
      "outputs": [
        {
          "output_type": "stream",
          "name": "stdout",
          "text": [
            "<class 'float'>\n"
          ]
        }
      ]
    },
    {
      "cell_type": "markdown",
      "source": [
        "# Dot method\n"
      ],
      "metadata": {
        "id": "4_M7ytcY9ChY"
      }
    },
    {
      "cell_type": "code",
      "source": [
        "score = np.dot(day1, weights)\n",
        "print(\"Fitness Score:\", score)\n"
      ],
      "metadata": {
        "colab": {
          "base_uri": "https://localhost:8080/"
        },
        "id": "y3x8wSr0588O",
        "outputId": "0a9545c0-3ca2-4ab1-9484-a0f7c3c36053"
      },
      "execution_count": 16,
      "outputs": [
        {
          "output_type": "stream",
          "name": "stdout",
          "text": [
            "Fitness Score: 24.849999999999998\n"
          ]
        }
      ]
    },
    {
      "cell_type": "code",
      "source": [
        "placement_chance = np.dot(stud_2,weight)\n",
        "print(\"Student 2 Placement Chances score is \",placement_chance)"
      ],
      "metadata": {
        "colab": {
          "base_uri": "https://localhost:8080/"
        },
        "id": "ZLLzvxNp9HrF",
        "outputId": "0bf92d01-7f2b-4233-9de4-a41eea1f75b1"
      },
      "execution_count": 17,
      "outputs": [
        {
          "output_type": "stream",
          "name": "stdout",
          "text": [
            "Student 2 Placement Chances score is  26.9\n"
          ]
        }
      ]
    },
    {
      "cell_type": "markdown",
      "source": [
        "### Or:"
      ],
      "metadata": {
        "id": "uf7YCVr_6BJ2"
      }
    },
    {
      "cell_type": "code",
      "source": [
        "print(day1*weights)"
      ],
      "metadata": {
        "colab": {
          "base_uri": "https://localhost:8080/"
        },
        "id": "XlJ7uPC8Eujm",
        "outputId": "f2a81930-80f1-4572-e7f0-f8207a720f3f"
      },
      "execution_count": 18,
      "outputs": [
        {
          "output_type": "stream",
          "name": "stdout",
          "text": [
            "[22.5   0.4   1.95]\n"
          ]
        }
      ]
    },
    {
      "cell_type": "code",
      "source": [
        "(day1 * weights).sum()\n"
      ],
      "metadata": {
        "colab": {
          "base_uri": "https://localhost:8080/"
        },
        "id": "R5LClXWt6DR0",
        "outputId": "a04d9e39-2296-4c88-eec9-9848fed29e09"
      },
      "execution_count": 19,
      "outputs": [
        {
          "output_type": "execute_result",
          "data": {
            "text/plain": [
              "np.float64(24.849999999999998)"
            ]
          },
          "metadata": {},
          "execution_count": 19
        }
      ]
    },
    {
      "cell_type": "code",
      "source": [
        "print(stud_2,weight)\n",
        "print(type(stud_2))\n",
        "\n",
        "# convert list into numpy array\n",
        "\n",
        "stud_2 = np.array(stud_2)\n",
        "weight = np.array(weight)\n",
        "\n",
        "\n",
        "print(stud_2 * weight)\n",
        "print(type(stud_2))\n",
        "\n",
        "(stud_2 * weight).sum()"
      ],
      "metadata": {
        "colab": {
          "base_uri": "https://localhost:8080/"
        },
        "id": "O9DzTSbP9reC",
        "outputId": "4ba01348-1721-4353-af34-2bf5691ac292"
      },
      "execution_count": 20,
      "outputs": [
        {
          "output_type": "stream",
          "name": "stdout",
          "text": [
            "[35, 20, 3] [0.4, 0.6, 0.3]\n",
            "<class 'list'>\n",
            "[14.  12.   0.9]\n",
            "<class 'numpy.ndarray'>\n"
          ]
        },
        {
          "output_type": "execute_result",
          "data": {
            "text/plain": [
              "np.float64(26.9)"
            ]
          },
          "metadata": {},
          "execution_count": 20
        }
      ]
    },
    {
      "cell_type": "markdown",
      "source": [
        "### Compare performance of Python loop vs NumPy dot product"
      ],
      "metadata": {
        "id": "yqwz8mHjFGhh"
      }
    },
    {
      "cell_type": "code",
      "source": [
        "\n",
        "workout_minutes = list(range(30, 1000000))\n",
        "calories_burned = list(range(30, 1000000))\n",
        "\n",
        "# Convert to NumPy arrays\n",
        "workout_np = np.array(workout_minutes)\n",
        "calories_np = np.array(calories_burned)\n",
        "\n",
        "# Compare performance of Python loop vs NumPy dot product\n"
      ],
      "metadata": {
        "id": "3ydBrZhbf7YL"
      },
      "execution_count": 21,
      "outputs": []
    },
    {
      "cell_type": "code",
      "source": [
        "%%time\n",
        "energy_score_loop = 0\n",
        "for w, c in zip(workout_minutes, calories_burned):\n",
        "    energy_score_loop += w * c\n",
        "print(energy_score_loop)"
      ],
      "metadata": {
        "colab": {
          "base_uri": "https://localhost:8080/"
        },
        "id": "LKL7LGA5glIt",
        "outputId": "8f56254e-5e14-415e-e9aa-a7d42237fb12"
      },
      "execution_count": 22,
      "outputs": [
        {
          "output_type": "stream",
          "name": "stdout",
          "text": [
            "333332833333491445\n",
            "CPU times: user 366 ms, sys: 2.57 ms, total: 369 ms\n",
            "Wall time: 397 ms\n"
          ]
        }
      ]
    },
    {
      "cell_type": "markdown",
      "source": [
        "### Using NumPy vectorized dot product"
      ],
      "metadata": {
        "id": "1_De4sM-goYM"
      }
    },
    {
      "cell_type": "code",
      "source": [
        "%%time\n",
        "energy_score_np = np.dot(workout_np, calories_np)\n",
        "print(energy_score_np)"
      ],
      "metadata": {
        "colab": {
          "base_uri": "https://localhost:8080/"
        },
        "id": "mul4mSQ3gp4M",
        "outputId": "e38d6e51-21c9-49fb-97a3-031c1967d6d6"
      },
      "execution_count": 23,
      "outputs": [
        {
          "output_type": "stream",
          "name": "stdout",
          "text": [
            "333332833333491445\n",
            "CPU times: user 2.05 ms, sys: 12 µs, total: 2.06 ms\n",
            "Wall time: 1.8 ms\n"
          ]
        }
      ]
    },
    {
      "cell_type": "code",
      "source": [
        "%%time\n",
        "energy_score_loop = 0\n",
        "for s, w in zip(stud_1, weight):\n",
        "    energy_score_loop += s * w\n",
        "print(energy_score_loop)"
      ],
      "metadata": {
        "colab": {
          "base_uri": "https://localhost:8080/"
        },
        "id": "FxGf15vpBBvM",
        "outputId": "faa9fa44-9cd8-49ef-c460-4c843f30986e"
      },
      "execution_count": 24,
      "outputs": [
        {
          "output_type": "stream",
          "name": "stdout",
          "text": [
            "25.6\n",
            "CPU times: user 251 µs, sys: 25 µs, total: 276 µs\n",
            "Wall time: 258 µs\n"
          ]
        }
      ]
    },
    {
      "cell_type": "code",
      "source": [
        "%%time\n",
        "energy_score_np = np.dot(stud_1,weight)\n",
        "print(energy_score_np)"
      ],
      "metadata": {
        "colab": {
          "base_uri": "https://localhost:8080/"
        },
        "id": "GLeqQhxwA8gl",
        "outputId": "d433bf07-e501-41ed-ac44-0731cd27b2c7"
      },
      "execution_count": 25,
      "outputs": [
        {
          "output_type": "stream",
          "name": "stdout",
          "text": [
            "25.6\n",
            "CPU times: user 262 µs, sys: 25 µs, total: 287 µs\n",
            "Wall time: 311 µs\n"
          ]
        }
      ]
    },
    {
      "cell_type": "markdown",
      "source": [
        "###Evaluate a Week at Once"
      ],
      "metadata": {
        "id": "cXmh9Pr96K0p"
      }
    },
    {
      "cell_type": "code",
      "source": [
        "week_data = np.array([\n",
        "    [45, 2.0, 6.5],\n",
        "    [30, 1.5, 8.0],\n",
        "    [60, 3.0, 7.0],\n",
        "    [50, 2.5, 7.5],\n",
        "    [40, 1.8, 6.0],\n",
        "    [55, 2.2, 6.8],\n",
        "    [35, 1.6, 7.2]\n",
        "])\n",
        "#2d array\n",
        "print(week_data.shape)"
      ],
      "metadata": {
        "id": "gdrh-kTj6OVt",
        "colab": {
          "base_uri": "https://localhost:8080/"
        },
        "outputId": "1c26ed5e-dd88-44a6-f5f2-7e62ef137e3e"
      },
      "execution_count": 26,
      "outputs": [
        {
          "output_type": "stream",
          "name": "stdout",
          "text": [
            "(7, 3)\n"
          ]
        }
      ]
    },
    {
      "cell_type": "code",
      "source": [
        "# print(week_data)\n",
        "print(week_data.shape)"
      ],
      "metadata": {
        "colab": {
          "base_uri": "https://localhost:8080/"
        },
        "id": "7VBsWQnujOHC",
        "outputId": "f3f1cd76-851d-4a67-bb10-f9027d8f3c2f"
      },
      "execution_count": 27,
      "outputs": [
        {
          "output_type": "stream",
          "name": "stdout",
          "text": [
            "(7, 3)\n"
          ]
        }
      ]
    },
    {
      "cell_type": "code",
      "source": [
        "x=np.array([1,2,3])\n",
        "print(x.shape)"
      ],
      "metadata": {
        "colab": {
          "base_uri": "https://localhost:8080/"
        },
        "id": "AoMm_69ujbvB",
        "outputId": "c14f9606-3450-440b-a251-1b79e5dfe4bb"
      },
      "execution_count": 28,
      "outputs": [
        {
          "output_type": "stream",
          "name": "stdout",
          "text": [
            "(3,)\n"
          ]
        }
      ]
    },
    {
      "cell_type": "code",
      "source": [
        "y = np.array([[3,4,5],\n",
        " [3,7,9]])\n",
        "print(y.shape)"
      ],
      "metadata": {
        "colab": {
          "base_uri": "https://localhost:8080/"
        },
        "id": "ChVQqTcJCa9v",
        "outputId": "9e8681e7-e047-4278-eee3-a67844007196"
      },
      "execution_count": 29,
      "outputs": [
        {
          "output_type": "stream",
          "name": "stdout",
          "text": [
            "(2, 3)\n"
          ]
        }
      ]
    },
    {
      "cell_type": "code",
      "source": [
        "weights = np.array([0.5, 0.2, 0.3])\n",
        "#1d array"
      ],
      "metadata": {
        "id": "dQjEk23gjzpN"
      },
      "execution_count": 30,
      "outputs": []
    },
    {
      "cell_type": "code",
      "source": [
        "\n",
        "arr = np.array([[[1, 2, 3], [4, 5, 6]],\n",
        "\n",
        "                 [[1, 2, 3], [4, 5, 6]]])\n",
        "\n",
        "print(arr.shape)"
      ],
      "metadata": {
        "colab": {
          "base_uri": "https://localhost:8080/"
        },
        "id": "aVnrjMlSln6g",
        "outputId": "3b849e5c-d660-4b17-d3ea-6d9a82dde5fd"
      },
      "execution_count": 31,
      "outputs": [
        {
          "output_type": "stream",
          "name": "stdout",
          "text": [
            "(2, 2, 3)\n"
          ]
        }
      ]
    },
    {
      "cell_type": "code",
      "source": [
        "arr = np.array([\n",
        "    [[[1,2,3],[2,4,6],[5,6,7]],[[2,3,4],[4,4,5],[6,7,8]]],\n",
        "    [[[1,8,3],[3,5,6],[3,9,7]],[[2,3,5],[4,4,5],[6,7,8]]]\n",
        "])\n",
        "\n",
        "print(arr.shape)"
      ],
      "metadata": {
        "colab": {
          "base_uri": "https://localhost:8080/"
        },
        "id": "rz19X77rC3qL",
        "outputId": "a059848e-a05b-4b7b-c26a-a03c99e96c96"
      },
      "execution_count": 32,
      "outputs": [
        {
          "output_type": "stream",
          "name": "stdout",
          "text": [
            "(2, 2, 3, 3)\n"
          ]
        }
      ]
    },
    {
      "cell_type": "markdown",
      "source": [
        "All elements in a NumPy array must have the same data type. You can inspect the type using .dtype."
      ],
      "metadata": {
        "id": "edWMHNsgn3IW"
      }
    },
    {
      "cell_type": "code",
      "source": [
        "arr = np.array([\n",
        "    [8, 2, 1],\n",
        "    [9, 3, 2],\n",
        "    [7, 1, 2]\n",
        "])\n",
        "print(\"arr dtype:\", arr.dtype)"
      ],
      "metadata": {
        "colab": {
          "base_uri": "https://localhost:8080/"
        },
        "id": "QLnryhSrnxQJ",
        "outputId": "be6f0dc2-cb70-4346-8d9b-9069e122f6b0"
      },
      "execution_count": 33,
      "outputs": [
        {
          "output_type": "stream",
          "name": "stdout",
          "text": [
            "arr dtype: int64\n"
          ]
        }
      ]
    },
    {
      "cell_type": "code",
      "source": [
        "arr = np.array([[2,3],[4,7],[1,5]])\n",
        "print(arr.dtype)"
      ],
      "metadata": {
        "colab": {
          "base_uri": "https://localhost:8080/"
        },
        "id": "FRTGhqbnEJxb",
        "outputId": "c6341f4c-fe63-4231-8655-a18d6a779bc6"
      },
      "execution_count": 34,
      "outputs": [
        {
          "output_type": "stream",
          "name": "stdout",
          "text": [
            "int64\n"
          ]
        }
      ]
    },
    {
      "cell_type": "markdown",
      "source": [
        "Add Floating Point to One Entry"
      ],
      "metadata": {
        "id": "1IqcOuhhn7uM"
      }
    },
    {
      "cell_type": "code",
      "source": [
        "# Introduce one float into the array\n",
        "arr2 = np.array([\n",
        "    [8.0, 2, 1],\n",
        "    [9, 3, 2],\n",
        "    [7, 1, 2]\n",
        "])\n",
        "print(\"arr2 dtype:\",arr2.dtype)  # datatype will changes to float64\n"
      ],
      "metadata": {
        "colab": {
          "base_uri": "https://localhost:8080/"
        },
        "id": "XyVo-FjWn6Kw",
        "outputId": "f45cb470-2d7d-4444-ca48-f9854eae6f2f"
      },
      "execution_count": 35,
      "outputs": [
        {
          "output_type": "stream",
          "name": "stdout",
          "text": [
            "arr2 dtype: float64\n"
          ]
        }
      ]
    },
    {
      "cell_type": "markdown",
      "source": [
        "- np.dot will work same as @"
      ],
      "metadata": {
        "id": "UvhR6BQSFU4K"
      }
    },
    {
      "cell_type": "code",
      "source": [
        "weekly_scores = np.dot(week_data, weights)\n",
        "print(\"Weekly Scores:\", weekly_scores)\n"
      ],
      "metadata": {
        "colab": {
          "base_uri": "https://localhost:8080/"
        },
        "id": "ZrZIYPIYh3rf",
        "outputId": "64227353-e854-4d33-89c5-c20f3163dc8b"
      },
      "execution_count": 36,
      "outputs": [
        {
          "output_type": "stream",
          "name": "stdout",
          "text": [
            "Weekly Scores: [24.85 17.7  32.7  27.75 22.16 29.98 19.98]\n"
          ]
        }
      ]
    },
    {
      "cell_type": "code",
      "source": [
        "weekly_scores1=week_data @ weights\n",
        "print(\"Weekly Scores1:\", weekly_scores1)"
      ],
      "metadata": {
        "colab": {
          "base_uri": "https://localhost:8080/"
        },
        "id": "0oXCuqJJj7ra",
        "outputId": "d9195716-a4f0-4e48-c441-b0fa7ea60ab8"
      },
      "execution_count": 37,
      "outputs": [
        {
          "output_type": "stream",
          "name": "stdout",
          "text": [
            "Weekly Scores1: [24.85 17.7  32.7  27.75 22.16 29.98 19.98]\n"
          ]
        }
      ]
    },
    {
      "cell_type": "code",
      "source": [
        "weekly_scores = np.dot(week_data, weight)\n",
        "print(\"weekly score :\",weekly_scores)\n",
        "\n",
        "weekly_scores = week_data @ weight\n",
        "print(\"weekly score :\",weekly_scores)"
      ],
      "metadata": {
        "colab": {
          "base_uri": "https://localhost:8080/"
        },
        "id": "gB9fw9bwFk4Z",
        "outputId": "9758c2d2-91f2-45e1-f1ea-7800b5c07820"
      },
      "execution_count": 38,
      "outputs": [
        {
          "output_type": "stream",
          "name": "stdout",
          "text": [
            "weekly score : [21.15 15.3  27.9  23.75 18.88 25.36 17.12]\n",
            "weekly score : [21.15 15.3  27.9  23.75 18.88 25.36 17.12]\n"
          ]
        }
      ]
    },
    {
      "cell_type": "markdown",
      "source": [
        "# NumPy Analysis on Wine Quality Dataset\n",
        "\n",
        "We will use NumPy to explore the [Wine Quality dataset](https://archive.ics.uci.edu/ml/datasets/wine+quality), which contains physicochemical and quality-related properties of red and white wine samples.\n",
        "\n",
        "---\n",
        "\n",
        "## Step 1: Load CSV Data using NumPy\n"
      ],
      "metadata": {
        "id": "sbw87PPCHJWP"
      }
    },
    {
      "cell_type": "code",
      "source": [
        "# Load data from UCI Wine Quality Dataset (hosted on GitHub)\n",
        "url = 'https://archive.ics.uci.edu/ml/machine-learning-databases/wine-quality/winequality-red.csv'\n"
      ],
      "metadata": {
        "id": "TJRFZE9jvOb6"
      },
      "execution_count": 39,
      "outputs": []
    },
    {
      "cell_type": "markdown",
      "source": [
        "- **genfromtext**  --> It will convert url into numpy array\n",
        "- **delimiter**  --> It will seprates the value by (,      ;     \" \")"
      ],
      "metadata": {
        "id": "OqvYlm_mGn9Q"
      }
    },
    {
      "cell_type": "code",
      "source": [
        "wine_data = np.loadtxt(\"/content/winequality-white.csv\", delimiter=\";\", skiprows=1)   # headings are string , can't take with numerical\n",
        "print(wine_data.shape)\n",
        "print(wine_data)\n"
      ],
      "metadata": {
        "colab": {
          "base_uri": "https://localhost:8080/",
          "height": 321
        },
        "id": "B11BtRDYICFt",
        "outputId": "bda54c8d-5afe-4ccc-ce5d-90afcfc9fd02"
      },
      "execution_count": 40,
      "outputs": [
        {
          "output_type": "error",
          "ename": "FileNotFoundError",
          "evalue": "/content/winequality-white.csv not found.",
          "traceback": [
            "\u001b[0;31m---------------------------------------------------------------------------\u001b[0m",
            "\u001b[0;31mFileNotFoundError\u001b[0m                         Traceback (most recent call last)",
            "\u001b[0;32m/tmp/ipython-input-2326398046.py\u001b[0m in \u001b[0;36m<cell line: 0>\u001b[0;34m()\u001b[0m\n\u001b[0;32m----> 1\u001b[0;31m \u001b[0mwine_data\u001b[0m \u001b[0;34m=\u001b[0m \u001b[0mnp\u001b[0m\u001b[0;34m.\u001b[0m\u001b[0mloadtxt\u001b[0m\u001b[0;34m(\u001b[0m\u001b[0;34m\"/content/winequality-white.csv\"\u001b[0m\u001b[0;34m,\u001b[0m \u001b[0mdelimiter\u001b[0m\u001b[0;34m=\u001b[0m\u001b[0;34m\";\"\u001b[0m\u001b[0;34m,\u001b[0m \u001b[0mskiprows\u001b[0m\u001b[0;34m=\u001b[0m\u001b[0;36m1\u001b[0m\u001b[0;34m)\u001b[0m   \u001b[0;31m# headings are string , can't take with numerical\u001b[0m\u001b[0;34m\u001b[0m\u001b[0;34m\u001b[0m\u001b[0m\n\u001b[0m\u001b[1;32m      2\u001b[0m \u001b[0mprint\u001b[0m\u001b[0;34m(\u001b[0m\u001b[0mwine_data\u001b[0m\u001b[0;34m.\u001b[0m\u001b[0mshape\u001b[0m\u001b[0;34m)\u001b[0m\u001b[0;34m\u001b[0m\u001b[0;34m\u001b[0m\u001b[0m\n\u001b[1;32m      3\u001b[0m \u001b[0mprint\u001b[0m\u001b[0;34m(\u001b[0m\u001b[0mwine_data\u001b[0m\u001b[0;34m)\u001b[0m\u001b[0;34m\u001b[0m\u001b[0;34m\u001b[0m\u001b[0m\n",
            "\u001b[0;32m/usr/local/lib/python3.12/dist-packages/numpy/lib/_npyio_impl.py\u001b[0m in \u001b[0;36mloadtxt\u001b[0;34m(fname, dtype, comments, delimiter, converters, skiprows, usecols, unpack, ndmin, encoding, max_rows, quotechar, like)\u001b[0m\n\u001b[1;32m   1379\u001b[0m         \u001b[0mdelimiter\u001b[0m \u001b[0;34m=\u001b[0m \u001b[0mdelimiter\u001b[0m\u001b[0;34m.\u001b[0m\u001b[0mdecode\u001b[0m\u001b[0;34m(\u001b[0m\u001b[0;34m'latin1'\u001b[0m\u001b[0;34m)\u001b[0m\u001b[0;34m\u001b[0m\u001b[0;34m\u001b[0m\u001b[0m\n\u001b[1;32m   1380\u001b[0m \u001b[0;34m\u001b[0m\u001b[0m\n\u001b[0;32m-> 1381\u001b[0;31m     arr = _read(fname, dtype=dtype, comment=comment, delimiter=delimiter,\n\u001b[0m\u001b[1;32m   1382\u001b[0m                 \u001b[0mconverters\u001b[0m\u001b[0;34m=\u001b[0m\u001b[0mconverters\u001b[0m\u001b[0;34m,\u001b[0m \u001b[0mskiplines\u001b[0m\u001b[0;34m=\u001b[0m\u001b[0mskiprows\u001b[0m\u001b[0;34m,\u001b[0m \u001b[0musecols\u001b[0m\u001b[0;34m=\u001b[0m\u001b[0musecols\u001b[0m\u001b[0;34m,\u001b[0m\u001b[0;34m\u001b[0m\u001b[0;34m\u001b[0m\u001b[0m\n\u001b[1;32m   1383\u001b[0m                 \u001b[0munpack\u001b[0m\u001b[0;34m=\u001b[0m\u001b[0munpack\u001b[0m\u001b[0;34m,\u001b[0m \u001b[0mndmin\u001b[0m\u001b[0;34m=\u001b[0m\u001b[0mndmin\u001b[0m\u001b[0;34m,\u001b[0m \u001b[0mencoding\u001b[0m\u001b[0;34m=\u001b[0m\u001b[0mencoding\u001b[0m\u001b[0;34m,\u001b[0m\u001b[0;34m\u001b[0m\u001b[0;34m\u001b[0m\u001b[0m\n",
            "\u001b[0;32m/usr/local/lib/python3.12/dist-packages/numpy/lib/_npyio_impl.py\u001b[0m in \u001b[0;36m_read\u001b[0;34m(fname, delimiter, comment, quote, imaginary_unit, usecols, skiplines, max_rows, converters, ndmin, unpack, dtype, encoding)\u001b[0m\n\u001b[1;32m    995\u001b[0m             \u001b[0mfname\u001b[0m \u001b[0;34m=\u001b[0m \u001b[0mos\u001b[0m\u001b[0;34m.\u001b[0m\u001b[0mfspath\u001b[0m\u001b[0;34m(\u001b[0m\u001b[0mfname\u001b[0m\u001b[0;34m)\u001b[0m\u001b[0;34m\u001b[0m\u001b[0;34m\u001b[0m\u001b[0m\n\u001b[1;32m    996\u001b[0m         \u001b[0;32mif\u001b[0m \u001b[0misinstance\u001b[0m\u001b[0;34m(\u001b[0m\u001b[0mfname\u001b[0m\u001b[0;34m,\u001b[0m \u001b[0mstr\u001b[0m\u001b[0;34m)\u001b[0m\u001b[0;34m:\u001b[0m\u001b[0;34m\u001b[0m\u001b[0;34m\u001b[0m\u001b[0m\n\u001b[0;32m--> 997\u001b[0;31m             \u001b[0mfh\u001b[0m \u001b[0;34m=\u001b[0m \u001b[0mnp\u001b[0m\u001b[0;34m.\u001b[0m\u001b[0mlib\u001b[0m\u001b[0;34m.\u001b[0m\u001b[0m_datasource\u001b[0m\u001b[0;34m.\u001b[0m\u001b[0mopen\u001b[0m\u001b[0;34m(\u001b[0m\u001b[0mfname\u001b[0m\u001b[0;34m,\u001b[0m \u001b[0;34m'rt'\u001b[0m\u001b[0;34m,\u001b[0m \u001b[0mencoding\u001b[0m\u001b[0;34m=\u001b[0m\u001b[0mencoding\u001b[0m\u001b[0;34m)\u001b[0m\u001b[0;34m\u001b[0m\u001b[0;34m\u001b[0m\u001b[0m\n\u001b[0m\u001b[1;32m    998\u001b[0m             \u001b[0;32mif\u001b[0m \u001b[0mencoding\u001b[0m \u001b[0;32mis\u001b[0m \u001b[0;32mNone\u001b[0m\u001b[0;34m:\u001b[0m\u001b[0;34m\u001b[0m\u001b[0;34m\u001b[0m\u001b[0m\n\u001b[1;32m    999\u001b[0m                 \u001b[0mencoding\u001b[0m \u001b[0;34m=\u001b[0m \u001b[0mgetattr\u001b[0m\u001b[0;34m(\u001b[0m\u001b[0mfh\u001b[0m\u001b[0;34m,\u001b[0m \u001b[0;34m'encoding'\u001b[0m\u001b[0;34m,\u001b[0m \u001b[0;34m'latin1'\u001b[0m\u001b[0;34m)\u001b[0m\u001b[0;34m\u001b[0m\u001b[0;34m\u001b[0m\u001b[0m\n",
            "\u001b[0;32m/usr/local/lib/python3.12/dist-packages/numpy/lib/_datasource.py\u001b[0m in \u001b[0;36mopen\u001b[0;34m(path, mode, destpath, encoding, newline)\u001b[0m\n\u001b[1;32m    190\u001b[0m \u001b[0;34m\u001b[0m\u001b[0m\n\u001b[1;32m    191\u001b[0m     \u001b[0mds\u001b[0m \u001b[0;34m=\u001b[0m \u001b[0mDataSource\u001b[0m\u001b[0;34m(\u001b[0m\u001b[0mdestpath\u001b[0m\u001b[0;34m)\u001b[0m\u001b[0;34m\u001b[0m\u001b[0;34m\u001b[0m\u001b[0m\n\u001b[0;32m--> 192\u001b[0;31m     \u001b[0;32mreturn\u001b[0m \u001b[0mds\u001b[0m\u001b[0;34m.\u001b[0m\u001b[0mopen\u001b[0m\u001b[0;34m(\u001b[0m\u001b[0mpath\u001b[0m\u001b[0;34m,\u001b[0m \u001b[0mmode\u001b[0m\u001b[0;34m,\u001b[0m \u001b[0mencoding\u001b[0m\u001b[0;34m=\u001b[0m\u001b[0mencoding\u001b[0m\u001b[0;34m,\u001b[0m \u001b[0mnewline\u001b[0m\u001b[0;34m=\u001b[0m\u001b[0mnewline\u001b[0m\u001b[0;34m)\u001b[0m\u001b[0;34m\u001b[0m\u001b[0;34m\u001b[0m\u001b[0m\n\u001b[0m\u001b[1;32m    193\u001b[0m \u001b[0;34m\u001b[0m\u001b[0m\n\u001b[1;32m    194\u001b[0m \u001b[0;34m\u001b[0m\u001b[0m\n",
            "\u001b[0;32m/usr/local/lib/python3.12/dist-packages/numpy/lib/_datasource.py\u001b[0m in \u001b[0;36mopen\u001b[0;34m(self, path, mode, encoding, newline)\u001b[0m\n\u001b[1;32m    530\u001b[0m                                       encoding=encoding, newline=newline)\n\u001b[1;32m    531\u001b[0m         \u001b[0;32melse\u001b[0m\u001b[0;34m:\u001b[0m\u001b[0;34m\u001b[0m\u001b[0;34m\u001b[0m\u001b[0m\n\u001b[0;32m--> 532\u001b[0;31m             \u001b[0;32mraise\u001b[0m \u001b[0mFileNotFoundError\u001b[0m\u001b[0;34m(\u001b[0m\u001b[0;34mf\"{path} not found.\"\u001b[0m\u001b[0;34m)\u001b[0m\u001b[0;34m\u001b[0m\u001b[0;34m\u001b[0m\u001b[0m\n\u001b[0m\u001b[1;32m    533\u001b[0m \u001b[0;34m\u001b[0m\u001b[0m\n\u001b[1;32m    534\u001b[0m \u001b[0;34m\u001b[0m\u001b[0m\n",
            "\u001b[0;31mFileNotFoundError\u001b[0m: /content/winequality-white.csv not found."
          ]
        }
      ]
    },
    {
      "cell_type": "code",
      "source": [
        "# Use genfromtxt with proper delimiter and header skip\n",
        "wine_data = np.genfromtxt(url, delimiter=';', skip_header=1)\n",
        "print(\"Shape of dataset:\", wine_data.shape)\n"
      ],
      "metadata": {
        "colab": {
          "base_uri": "https://localhost:8080/"
        },
        "id": "L-HdnwrpvCZ_",
        "outputId": "cf2a522c-9079-44c8-dd9a-3007f8c837a3"
      },
      "execution_count": 41,
      "outputs": [
        {
          "output_type": "stream",
          "name": "stdout",
          "text": [
            "Shape of dataset: (1599, 12)\n"
          ]
        }
      ]
    },
    {
      "cell_type": "code",
      "source": [
        "\n",
        "print(wine_data)"
      ],
      "metadata": {
        "colab": {
          "base_uri": "https://localhost:8080/"
        },
        "id": "jLPRSlsc_fsq",
        "outputId": "b29fa06c-9dec-4d0d-a678-1f1ffb130bf5"
      },
      "execution_count": 42,
      "outputs": [
        {
          "output_type": "stream",
          "name": "stdout",
          "text": [
            "[[ 7.4    0.7    0.    ...  0.56   9.4    5.   ]\n",
            " [ 7.8    0.88   0.    ...  0.68   9.8    5.   ]\n",
            " [ 7.8    0.76   0.04  ...  0.65   9.8    5.   ]\n",
            " ...\n",
            " [ 6.3    0.51   0.13  ...  0.75  11.     6.   ]\n",
            " [ 5.9    0.645  0.12  ...  0.71  10.2    5.   ]\n",
            " [ 6.     0.31   0.47  ...  0.66  11.     6.   ]]\n"
          ]
        }
      ]
    },
    {
      "cell_type": "markdown",
      "source": [
        "Download and Save the CSV File:"
      ],
      "metadata": {
        "id": "w0jpqBJ_4fAg"
      }
    },
    {
      "cell_type": "code",
      "source": [
        "import urllib.request\n",
        "\n",
        "# URL of the dataset\n",
        "url = 'https://archive.ics.uci.edu/ml/machine-learning-databases/wine-quality/winequality-red.csv'\n",
        "\n",
        "# Local filename to save as\n",
        "filename = 'wine-quality-red.csv'\n",
        "\n",
        "# Download the file from `url` and save it locally under `filename`\n",
        "urllib.request.urlretrieve(url, filename)\n",
        "\n",
        "print(f\"File saved as: {filename}\")\n"
      ],
      "metadata": {
        "colab": {
          "base_uri": "https://localhost:8080/"
        },
        "id": "M2-1cHM_4cQR",
        "outputId": "5ce6f1f0-c58d-4c5d-ae4a-fe9fb2df7a7c"
      },
      "execution_count": 43,
      "outputs": [
        {
          "output_type": "stream",
          "name": "stdout",
          "text": [
            "File saved as: wine-quality-red.csv\n"
          ]
        }
      ]
    },
    {
      "cell_type": "code",
      "source": [
        "\n",
        "wine_data = np.genfromtxt('/content/wine-quality-red.csv', delimiter=';', skip_header=1)\n",
        "print(wine_data.shape)"
      ],
      "metadata": {
        "colab": {
          "base_uri": "https://localhost:8080/"
        },
        "id": "2U9pp4QC4uND",
        "outputId": "8fdf7f4c-fcff-40a3-8314-dc61c4ebb5fe"
      },
      "execution_count": 44,
      "outputs": [
        {
          "output_type": "stream",
          "name": "stdout",
          "text": [
            "(1599, 12)\n"
          ]
        }
      ]
    },
    {
      "cell_type": "code",
      "source": [
        "wine_data"
      ],
      "metadata": {
        "id": "58e57toBvzoX"
      },
      "execution_count": null,
      "outputs": []
    },
    {
      "cell_type": "markdown",
      "source": [
        "Check Column-wise Statistics"
      ],
      "metadata": {
        "id": "_mq8PRJhyzMQ"
      }
    },
    {
      "cell_type": "code",
      "source": [
        "# COLUMN WISE --> axis = 0\n",
        "\n",
        "mean_vals = np.mean(wine_data, axis=0)\n",
        "std_vals = np.std(wine_data, axis=0)\n",
        "print(\"Means:\\n\", mean_vals)\n",
        "print(\"Standard Deviations:\\n\", std_vals)\n"
      ],
      "metadata": {
        "colab": {
          "base_uri": "https://localhost:8080/"
        },
        "id": "tEn86KTCy2GX",
        "outputId": "864c80b7-c531-4371-b451-8e3cc2d2b167"
      },
      "execution_count": 46,
      "outputs": [
        {
          "output_type": "stream",
          "name": "stdout",
          "text": [
            "Means:\n",
            " [ 8.31963727  0.52782051  0.27097561  2.5388055   0.08746654 15.87492183\n",
            " 46.46779237  0.99674668  3.3111132   0.65814884 10.42298311  5.63602251]\n",
            "Standard Deviations:\n",
            " [1.74055180e+00 1.79003704e-01 1.94740214e-01 1.40948711e+00\n",
            " 4.70505826e-02 1.04568856e+01 3.28850367e+01 1.88674370e-03\n",
            " 1.54338181e-01 1.69453967e-01 1.06533430e+00 8.07316877e-01]\n"
          ]
        }
      ]
    },
    {
      "cell_type": "code",
      "source": [
        "# ROW WISE --> axis = 1\n",
        "\n",
        "mean_vals = np.mean(wine_data, axis=1)\n",
        "std_vals = np.std(wine_data, axis=1)\n",
        "print(\"Means:\\n\", mean_vals)\n",
        "print(\"Standard Deviations:\\n\", std_vals)"
      ],
      "metadata": {
        "id": "HxQcQH-0VosR",
        "outputId": "a4d8e7a4-341e-4af4-e2ca-9121163d3ad0",
        "colab": {
          "base_uri": "https://localhost:8080/"
        }
      },
      "execution_count": 47,
      "outputs": [
        {
          "output_type": "stream",
          "name": "stdout",
          "text": [
            "Means:\n",
            " [ 6.21198333 10.25456667  8.30825    ...  8.37347833  8.76795583\n",
            "  7.7077075 ]\n",
            "Standard Deviations:\n",
            " [ 9.12775181 18.3785345  14.4697315  ... 12.29881939 13.60147485\n",
            " 11.52640133]\n"
          ]
        }
      ]
    },
    {
      "cell_type": "code",
      "source": [
        "x = np.array([[1, 2, 3],\n",
        "                      [4, 5, 6],\n",
        "                      [7, 8, 9]])\n",
        "mean_vals = np.mean(x, axis=1)\n",
        "print(mean_vals)\n"
      ],
      "metadata": {
        "colab": {
          "base_uri": "https://localhost:8080/"
        },
        "id": "Zyo3_af2KaTK",
        "outputId": "66813bbf-bcf5-4e33-d63b-0adca8090e13"
      },
      "execution_count": 48,
      "outputs": [
        {
          "output_type": "stream",
          "name": "stdout",
          "text": [
            "[2. 5. 8.]\n"
          ]
        }
      ]
    },
    {
      "cell_type": "code",
      "source": [
        "x = np.array([ [2,3,6,7],\n",
        "                              [1,2,9,4],\n",
        "               [5,8,3,6]])\n",
        "print(x)"
      ],
      "metadata": {
        "id": "gIY7GozUWK-_",
        "outputId": "bcc12822-5797-4acd-a1be-5f061da3fb04",
        "colab": {
          "base_uri": "https://localhost:8080/"
        }
      },
      "execution_count": 49,
      "outputs": [
        {
          "output_type": "stream",
          "name": "stdout",
          "text": [
            "[[2 3 6 7]\n",
            " [1 2 9 4]\n",
            " [5 8 3 6]]\n"
          ]
        }
      ]
    },
    {
      "cell_type": "code",
      "source": [
        "mean_value = np.mean(x, axis = 0)\n",
        "print(mean_value)"
      ],
      "metadata": {
        "id": "6TXhuhn9Wclz",
        "outputId": "36ba2496-6bd4-4911-d768-7b5ad9c2734d",
        "colab": {
          "base_uri": "https://localhost:8080/"
        }
      },
      "execution_count": 50,
      "outputs": [
        {
          "output_type": "stream",
          "name": "stdout",
          "text": [
            "[2.66666667 4.33333333 6.         5.66666667]\n"
          ]
        }
      ]
    },
    {
      "cell_type": "code",
      "source": [
        "mean_value = np.mean(x, axis = 1)\n",
        "print(mean_value)"
      ],
      "metadata": {
        "id": "RZXWqRMMWlWO",
        "outputId": "268adea3-e9fa-4b0c-83f2-03472bffce9f",
        "colab": {
          "base_uri": "https://localhost:8080/"
        }
      },
      "execution_count": 51,
      "outputs": [
        {
          "output_type": "stream",
          "name": "stdout",
          "text": [
            "[4.5 4.  5.5]\n"
          ]
        }
      ]
    },
    {
      "cell_type": "markdown",
      "source": [
        "###Indexing and Filtering Examples"
      ],
      "metadata": {
        "id": "LT3GRoq8zM75"
      }
    },
    {
      "cell_type": "markdown",
      "source": [
        "Filter wines with alcohol > 10\n",
        "\n",
        "- wine_data is a 2D NumPy array (typically representing a dataset with rows for samples and columns for features, e.g., “wine” characteristics).\n",
        "\n",
        "* wine_data[:, 10] selects all rows (you could think of this as every wine sample) but only the 11th column (Python uses zero-based indexing, so column index 10 is the 11th column).\n",
        "\n",
        ">10 creates a boolean mask: For every value in that column, it checks if the value is greater than 10. The result is a 1D NumPy array of True/False values, one for each row."
      ],
      "metadata": {
        "id": "9ogDBvRWzO1u"
      }
    },
    {
      "cell_type": "code",
      "source": [
        "wine_data[:,10]>10"
      ],
      "metadata": {
        "colab": {
          "base_uri": "https://localhost:8080/"
        },
        "id": "Ptfie8WcLUs9",
        "outputId": "4fd944f4-c0c8-4a85-aec1-d545f0763d38"
      },
      "execution_count": 52,
      "outputs": [
        {
          "output_type": "execute_result",
          "data": {
            "text/plain": [
              "array([False, False, False, ...,  True,  True,  True])"
            ]
          },
          "metadata": {},
          "execution_count": 52
        }
      ]
    },
    {
      "cell_type": "markdown",
      "source": [
        "How the Code Works\n",
        "wine_data[:, 10] > 10\n",
        "This part creates a boolean mask: a 1D array of True/False values, one for each row in wine_data.\n",
        "It checks whether the value in the 11th column (index 10) for each row is greater than 10.\n",
        "\n",
        "wine_data[ ... ]\n",
        "Here, wine_data is the original 2D array (your dataset).\n",
        "Inside the square brackets, the boolean mask is used to select rows.\n",
        "Only rows where the mask is True (i.e., where the 11th column > 10) are kept.\n",
        "\n",
        "high_alcohol = wine_data[wine_data[:, 10] > 10]\n",
        "This line creates a new array containing only the rows of wine_data where the alcohol content (column 10) is greater than 10.\n",
        "\n",
        "The rest of the code just prints information about this new array, including the number of such “high alcohol” wines (high_alcohol.shape).\n",
        "\n",
        "Why Does wine_data Appear Twice?\n",
        "The first use (wine_data[:, 10] > 10) generates a filter: it checks a condition on every row, producing the mask.\n",
        "\n",
        "The second use (wine_data[ ... ]) applies that filter: it uses the mask to extract the subset of rows that meet the condition.\n",
        "\n",
        "This is a common and efficient NumPy pattern:\n",
        "You do not copy the whole dataset. Instead, the first reference is used to quickly create a filter, and the second applies that filter to select data directly.\n",
        "\n",
        "\n",
        "\n"
      ],
      "metadata": {
        "id": "a8Di0UBdbyP4"
      }
    },
    {
      "cell_type": "code",
      "source": [
        "high_alcohol = wine_data[wine_data[:, 10] > 10]\n",
        "print(high_alcohol)\n",
        "high_alcohol.shape\n",
        "print(\"High alcohol wines:\", high_alcohol.shape[0])\n"
      ],
      "metadata": {
        "colab": {
          "base_uri": "https://localhost:8080/"
        },
        "id": "f4hUtZOSzMul",
        "outputId": "0d185c08-50d0-4b5d-fb03-078edb60ff8e"
      },
      "execution_count": 53,
      "outputs": [
        {
          "output_type": "stream",
          "name": "stdout",
          "text": [
            "[[ 7.5    0.5    0.36  ...  0.8   10.5    5.   ]\n",
            " [ 7.5    0.5    0.36  ...  0.8   10.5    5.   ]\n",
            " [ 8.5    0.28   0.56  ...  0.75  10.5    7.   ]\n",
            " ...\n",
            " [ 6.3    0.51   0.13  ...  0.75  11.     6.   ]\n",
            " [ 5.9    0.645  0.12  ...  0.71  10.2    5.   ]\n",
            " [ 6.     0.31   0.47  ...  0.66  11.     6.   ]]\n",
            "High alcohol wines: 852\n"
          ]
        }
      ]
    },
    {
      "cell_type": "markdown",
      "source": [
        "Filter wines with quality (last column) ≥ 7"
      ],
      "metadata": {
        "id": "qG4nUYG8zW9w"
      }
    },
    {
      "cell_type": "code",
      "source": [
        "good_wines = wine_data[wine_data[:, -1] >= 7]\n",
        "print(\"Good quality wines:\", good_wines.shape[0])\n"
      ],
      "metadata": {
        "colab": {
          "base_uri": "https://localhost:8080/"
        },
        "id": "oo6T8JU3zYEM",
        "outputId": "82c59709-e18f-4c53-d615-b6c069d3ac39"
      },
      "execution_count": 54,
      "outputs": [
        {
          "output_type": "stream",
          "name": "stdout",
          "text": [
            "Good quality wines: 217\n"
          ]
        }
      ]
    },
    {
      "cell_type": "code",
      "source": [
        "lst=[1,2,3,4,5,6]\n",
        "print(lst[:5])"
      ],
      "metadata": {
        "colab": {
          "base_uri": "https://localhost:8080/"
        },
        "id": "25qAEW3jB1Li",
        "outputId": "283a5d31-047b-426c-fdcc-e834bda751e3"
      },
      "execution_count": 55,
      "outputs": [
        {
          "output_type": "stream",
          "name": "stdout",
          "text": [
            "[1, 2, 3, 4, 5]\n"
          ]
        }
      ]
    },
    {
      "cell_type": "markdown",
      "source": [
        "Slice first 5 rows and columns"
      ],
      "metadata": {
        "id": "9HHiuCCHzcDz"
      }
    },
    {
      "cell_type": "code",
      "source": [
        "print(wine_data[:5, :5])\n"
      ],
      "metadata": {
        "id": "zCnFH6w_zc83",
        "colab": {
          "base_uri": "https://localhost:8080/"
        },
        "outputId": "f62fdb68-f19b-4ebc-d640-9555bddc1f52"
      },
      "execution_count": 56,
      "outputs": [
        {
          "output_type": "stream",
          "name": "stdout",
          "text": [
            "[[ 7.4    0.7    0.     1.9    0.076]\n",
            " [ 7.8    0.88   0.     2.6    0.098]\n",
            " [ 7.8    0.76   0.04   2.3    0.092]\n",
            " [11.2    0.28   0.56   1.9    0.075]\n",
            " [ 7.4    0.7    0.     1.9    0.076]]\n"
          ]
        }
      ]
    },
    {
      "cell_type": "markdown",
      "source": [
        "Compute average alcohol content per quality level"
      ],
      "metadata": {
        "id": "hSSr_xwNzez3"
      }
    },
    {
      "cell_type": "code",
      "source": [
        "np.unique(wine_data[:, -1])"
      ],
      "metadata": {
        "colab": {
          "base_uri": "https://localhost:8080/"
        },
        "id": "G25_66YOMzmu",
        "outputId": "8daf6155-6c81-469c-993b-792a6c8b0c1d"
      },
      "execution_count": 57,
      "outputs": [
        {
          "output_type": "execute_result",
          "data": {
            "text/plain": [
              "array([3., 4., 5., 6., 7., 8.])"
            ]
          },
          "metadata": {},
          "execution_count": 57
        }
      ]
    },
    {
      "cell_type": "code",
      "source": [
        "wine_data[:, -1] == 5"
      ],
      "metadata": {
        "colab": {
          "base_uri": "https://localhost:8080/"
        },
        "id": "Lb3BHg8tC42y",
        "outputId": "fd19fb50-b10e-4fca-cd13-f5463f39f6b2"
      },
      "execution_count": 58,
      "outputs": [
        {
          "output_type": "execute_result",
          "data": {
            "text/plain": [
              "array([ True,  True,  True, ..., False,  True, False])"
            ]
          },
          "metadata": {},
          "execution_count": 58
        }
      ]
    },
    {
      "cell_type": "code",
      "source": [
        "np.mean(wine_data[wine_data[:, -1] == 5][:,10])"
      ],
      "metadata": {
        "colab": {
          "base_uri": "https://localhost:8080/"
        },
        "id": "fz9hT7eQCl08",
        "outputId": "1b266ac1-9170-4618-9723-179d773024c6"
      },
      "execution_count": 59,
      "outputs": [
        {
          "output_type": "execute_result",
          "data": {
            "text/plain": [
              "np.float64(9.899706314243758)"
            ]
          },
          "metadata": {},
          "execution_count": 59
        }
      ]
    },
    {
      "cell_type": "code",
      "source": [
        "for quality in np.unique(wine_data[:, -1]):\n",
        "    avg_alcohol = np.mean(wine_data[wine_data[:, -1] == quality][:, 10])\n",
        "    print(f\"Quality {int(quality)}: Avg Alcohol = {avg_alcohol:.2f}\")\n"
      ],
      "metadata": {
        "colab": {
          "base_uri": "https://localhost:8080/"
        },
        "id": "XRE5TehBzg0w",
        "outputId": "80f8c0a7-8628-46ea-82ba-e37d514838fb"
      },
      "execution_count": 60,
      "outputs": [
        {
          "output_type": "stream",
          "name": "stdout",
          "text": [
            "Quality 3: Avg Alcohol = 9.96\n",
            "Quality 4: Avg Alcohol = 10.27\n",
            "Quality 5: Avg Alcohol = 9.90\n",
            "Quality 6: Avg Alcohol = 10.63\n",
            "Quality 7: Avg Alcohol = 11.47\n",
            "Quality 8: Avg Alcohol = 12.09\n"
          ]
        }
      ]
    },
    {
      "cell_type": "markdown",
      "source": [
        "Compute correlation between alcohol and quality"
      ],
      "metadata": {
        "id": "flEm2lplzlp6"
      }
    },
    {
      "cell_type": "code",
      "source": [
        "alcohol = wine_data[:, 10]\n",
        "quality = wine_data[:, -1]\n",
        "correlation = np.corrcoef(alcohol, quality)[0, 1]\n",
        "print(\"Correlation between alcohol and quality:\", correlation)\n"
      ],
      "metadata": {
        "colab": {
          "base_uri": "https://localhost:8080/"
        },
        "id": "Lpwm7iRczmk8",
        "outputId": "a431dac5-145a-4ec3-e448-c12fc9500bc9"
      },
      "execution_count": 61,
      "outputs": [
        {
          "output_type": "stream",
          "name": "stdout",
          "text": [
            "Correlation between alcohol and quality: 0.47616632400113584\n"
          ]
        }
      ]
    },
    {
      "cell_type": "markdown",
      "source": [
        "###Compute Weighted Wine Score\n",
        "Let’s say you care about three columns:\n",
        "\n",
        "Alcohol (index 10)\n",
        "\n",
        "Sulphates (index 9)\n",
        "\n",
        "Volatile acidity (index 1)"
      ],
      "metadata": {
        "id": "47AyF6uXv-BI"
      }
    },
    {
      "cell_type": "code",
      "source": [
        "# Select relevant columns\n",
        "features = wine_data[:, [10, 9, 1]]\n",
        "\n",
        "# Assign weights: high alcohol is good, low volatile acidity is good\n",
        "weights = np.array([0.4, 0.3, -0.3])\n",
        "\n",
        "# Compute custom wine score\n",
        "scores = features @ weights\n",
        "print(\"Wine scores (first 5):\", scores[:5])\n"
      ],
      "metadata": {
        "colab": {
          "base_uri": "https://localhost:8080/"
        },
        "id": "guxIfGmZwBoc",
        "outputId": "396d8284-8cf2-4e18-fa9c-d4ab4c5ac0b2"
      },
      "execution_count": 62,
      "outputs": [
        {
          "output_type": "stream",
          "name": "stdout",
          "text": [
            "Wine scores (first 5): [3.718 3.86  3.887 4.01  3.718]\n"
          ]
        }
      ]
    },
    {
      "cell_type": "markdown",
      "source": [
        "##  Broadcasting\n",
        "\n",
        "NumPy lets you perform mathematical operations with operators like `+`, `-`, `*`, `/` on arrays.\n",
        "You can use these with either a single number (scalar) or another array of the same shape.\n",
        "Here are some useful examples:\n"
      ],
      "metadata": {
        "id": "KppuHWRl8aZx"
      }
    },
    {
      "cell_type": "code",
      "source": [
        "import numpy as np\n",
        "\n",
        "# Example arrays\n",
        "matrixA = np.array([[4, 7, 2, 5],\n",
        "                    [6, 3, 8, 1],\n",
        "                    [0, 9, 2, 6]])\n",
        "\n",
        "matrixB = np.array([[14, 11, 16, 12],\n",
        "                    [13, 19, 10, 15],\n",
        "                    [21, 14, 18, 13]])\n",
        "\n",
        "# matrix sum\n",
        "print(\"# maatrix sum\\n\", matrixA + matrixB)\n",
        "\n",
        "# Subtract arrays\n",
        "print(\"\\n# Subtract arrays\\n\", matrixB - matrixA)\n",
        "\n",
        "# Add a scalar\n",
        "print(\"# Add a scalar\\n\", matrixA + 2)\n",
        "\n",
        "\n",
        "# Divide by scalar\n",
        "print(\"\\n# Divide by scalar\\n\", matrixA / 2)\n",
        "\n",
        "# Elementwise multiplication\n",
        "print(\"\\n# Elementwise multiplication\\n\", matrixA * matrixB)\n",
        "\n",
        "# Modulus with scalar\n",
        "print(\"\\n# Modulus with scalar\\n\", matrixA % 3)\n"
      ],
      "metadata": {
        "colab": {
          "base_uri": "https://localhost:8080/"
        },
        "id": "i7usnXEG8ldC",
        "outputId": "a49b66d1-e706-4251-eade-60f0d581c6f1"
      },
      "execution_count": 63,
      "outputs": [
        {
          "output_type": "stream",
          "name": "stdout",
          "text": [
            "# maatrix sum\n",
            " [[18 18 18 17]\n",
            " [19 22 18 16]\n",
            " [21 23 20 19]]\n",
            "\n",
            "# Subtract arrays\n",
            " [[10  4 14  7]\n",
            " [ 7 16  2 14]\n",
            " [21  5 16  7]]\n",
            "# Add a scalar\n",
            " [[ 6  9  4  7]\n",
            " [ 8  5 10  3]\n",
            " [ 2 11  4  8]]\n",
            "\n",
            "# Divide by scalar\n",
            " [[2.  3.5 1.  2.5]\n",
            " [3.  1.5 4.  0.5]\n",
            " [0.  4.5 1.  3. ]]\n",
            "\n",
            "# Elementwise multiplication\n",
            " [[ 56  77  32  60]\n",
            " [ 78  57  80  15]\n",
            " [  0 126  36  78]]\n",
            "\n",
            "# Modulus with scalar\n",
            " [[1 1 2 2]\n",
            " [0 0 2 1]\n",
            " [0 0 2 0]]\n"
          ]
        }
      ]
    },
    {
      "cell_type": "markdown",
      "source": [
        "## Array Broadcasting\n",
        "\n",
        "Broadcasting describes how NumPy handles operations between arrays of different shapes. Instead of forcing you to create arrays with the exact same dimensions, NumPy automatically \"broadcasts\" the smaller array across the larger one so that their shapes match."
      ],
      "metadata": {
        "id": "hrHVzcqV8u3L"
      }
    },
    {
      "cell_type": "markdown",
      "source": [
        "When operating on two arrays, NumPy compares their shapes element-wise. It starts with the trailing (i.e. rightmost) dimension and works its way left. Two dimensions are compatible when they are equal, or one of them is 1."
      ],
      "metadata": {
        "id": "CP6sCnSWXgZp"
      }
    },
    {
      "cell_type": "markdown",
      "source": [],
      "metadata": {
        "id": "4X6IYUqeHaw7"
      }
    },
    {
      "cell_type": "code",
      "source": [
        "a = np.array([1, 2, 3])\n",
        "b = 10\n",
        "print(a + b)"
      ],
      "metadata": {
        "colab": {
          "base_uri": "https://localhost:8080/"
        },
        "id": "q8YmDgnUPT3p",
        "outputId": "7aa3ff6c-609a-4a89-b46f-8078156b9171"
      },
      "execution_count": 64,
      "outputs": [
        {
          "output_type": "stream",
          "name": "stdout",
          "text": [
            "[11 12 13]\n"
          ]
        }
      ]
    },
    {
      "cell_type": "markdown",
      "source": [
        "2D array and 1D array\n"
      ],
      "metadata": {
        "id": "9ZFmDEfhPa8s"
      }
    },
    {
      "cell_type": "code",
      "source": [
        "A = np.array([[1, 2, 3],\n",
        "\n",
        "              [4, 5, 6]])\n",
        "\n",
        "B = np.array([10, 20, 30])\n",
        "print(A + B)\n",
        "#Here, B is broadcasted over each row of A"
      ],
      "metadata": {
        "colab": {
          "base_uri": "https://localhost:8080/"
        },
        "id": "AcdlSaXBPcnm",
        "outputId": "ada35be6-de8e-471e-9eac-74c03d8de797"
      },
      "execution_count": 65,
      "outputs": [
        {
          "output_type": "stream",
          "name": "stdout",
          "text": [
            "[[11 22 33]\n",
            " [14 25 36]]\n"
          ]
        }
      ]
    },
    {
      "cell_type": "markdown",
      "source": [],
      "metadata": {
        "id": "w2GnWlEMPxEw"
      }
    },
    {
      "cell_type": "code",
      "source": [
        "matrixA = np.array([[4, 7, 2, 5],\n",
        "                    [6, 3, 8, 1],\n",
        "                    [0, 9, 2, 6]])\n",
        "vectorC = np.array([2, 4, 6, 8])\n",
        "\n",
        "print(\"matrixA.shape:\", matrixA.shape)\n",
        "print(\"vectorC.shape:\", vectorC.shape)\n",
        "print(\"\\n# Broadcasting add\\n\", matrixA + vectorC)\n",
        "\n",
        "vectorD = np.array([5, 7])\n",
        "# This will error:\n",
        "try:\n",
        "    matrixA + vectorD\n",
        "except Exception as e:\n",
        "    print(\"\\n# Broadcasting error:\", e)\n"
      ],
      "metadata": {
        "colab": {
          "base_uri": "https://localhost:8080/"
        },
        "id": "dvFGV5QF8zED",
        "outputId": "cd72624b-70e7-485b-ebcc-df074e50f053"
      },
      "execution_count": 66,
      "outputs": [
        {
          "output_type": "stream",
          "name": "stdout",
          "text": [
            "matrixA.shape: (3, 4)\n",
            "vectorC.shape: (4,)\n",
            "\n",
            "# Broadcasting add\n",
            " [[ 6 11  8 13]\n",
            " [ 8  7 14  9]\n",
            " [ 2 13  8 14]]\n",
            "\n",
            "# Broadcasting error: operands could not be broadcast together with shapes (3,4) (2,) \n"
          ]
        }
      ]
    },
    {
      "cell_type": "code",
      "source": [
        "A = np.array([[1, 2, 3],\n",
        "\n",
        "              [4, 5, 6]])\n",
        "\n",
        "B = np.array([[10],\n",
        "\n",
        "              [20]])\n",
        "print(A + B)\n"
      ],
      "metadata": {
        "colab": {
          "base_uri": "https://localhost:8080/"
        },
        "id": "fMlq9U2xSK6X",
        "outputId": "e8b35de0-e07b-48a1-d2b5-9d2a4fc1d835"
      },
      "execution_count": 67,
      "outputs": [
        {
          "output_type": "stream",
          "name": "stdout",
          "text": [
            "[[11 12 13]\n",
            " [24 25 26]]\n"
          ]
        }
      ]
    },
    {
      "cell_type": "code",
      "source": [
        "a = np.array([1, 2, 3])\n",
        "b = np.array([1, 2])\n",
        "a + b  # This will raise an error because their shapes are not compatible!"
      ],
      "metadata": {
        "colab": {
          "base_uri": "https://localhost:8080/",
          "height": 176
        },
        "id": "8aIbhAY0Sj3a",
        "outputId": "dd80a615-0dc6-4326-d761-652a39e0ac20"
      },
      "execution_count": 68,
      "outputs": [
        {
          "output_type": "error",
          "ename": "ValueError",
          "evalue": "operands could not be broadcast together with shapes (3,) (2,) ",
          "traceback": [
            "\u001b[0;31m---------------------------------------------------------------------------\u001b[0m",
            "\u001b[0;31mValueError\u001b[0m                                Traceback (most recent call last)",
            "\u001b[0;32m/tmp/ipython-input-3226033446.py\u001b[0m in \u001b[0;36m<cell line: 0>\u001b[0;34m()\u001b[0m\n\u001b[1;32m      1\u001b[0m \u001b[0ma\u001b[0m \u001b[0;34m=\u001b[0m \u001b[0mnp\u001b[0m\u001b[0;34m.\u001b[0m\u001b[0marray\u001b[0m\u001b[0;34m(\u001b[0m\u001b[0;34m[\u001b[0m\u001b[0;36m1\u001b[0m\u001b[0;34m,\u001b[0m \u001b[0;36m2\u001b[0m\u001b[0;34m,\u001b[0m \u001b[0;36m3\u001b[0m\u001b[0;34m]\u001b[0m\u001b[0;34m)\u001b[0m\u001b[0;34m\u001b[0m\u001b[0;34m\u001b[0m\u001b[0m\n\u001b[1;32m      2\u001b[0m \u001b[0mb\u001b[0m \u001b[0;34m=\u001b[0m \u001b[0mnp\u001b[0m\u001b[0;34m.\u001b[0m\u001b[0marray\u001b[0m\u001b[0;34m(\u001b[0m\u001b[0;34m[\u001b[0m\u001b[0;36m1\u001b[0m\u001b[0;34m,\u001b[0m \u001b[0;36m2\u001b[0m\u001b[0;34m]\u001b[0m\u001b[0;34m)\u001b[0m\u001b[0;34m\u001b[0m\u001b[0;34m\u001b[0m\u001b[0m\n\u001b[0;32m----> 3\u001b[0;31m \u001b[0ma\u001b[0m \u001b[0;34m+\u001b[0m \u001b[0mb\u001b[0m  \u001b[0;31m# This will raise an error because their shapes are not compatible!\u001b[0m\u001b[0;34m\u001b[0m\u001b[0;34m\u001b[0m\u001b[0m\n\u001b[0m",
            "\u001b[0;31mValueError\u001b[0m: operands could not be broadcast together with shapes (3,) (2,) "
          ]
        }
      ]
    },
    {
      "cell_type": "code",
      "source": [
        "A = np.array([[1],\n",
        "\n",
        "              [2],\n",
        "\n",
        "               [3]])   # Shape (3,1)\n",
        "B = np.array([10, 20, 30])      # Shape (3,)\n",
        "print(A.shape)\n",
        "print(B.shape)"
      ],
      "metadata": {
        "id": "2Yz4zXWhSyKO",
        "outputId": "030ccb34-eb1e-496a-d0dc-4f0c173effb2",
        "colab": {
          "base_uri": "https://localhost:8080/"
        }
      },
      "execution_count": 69,
      "outputs": [
        {
          "output_type": "stream",
          "name": "stdout",
          "text": [
            "(3, 1)\n",
            "(3,)\n"
          ]
        }
      ]
    },
    {
      "cell_type": "code",
      "source": [
        "a = np.array([1, 2, 3])\n",
        "b = np.array([4, 5])\n",
        "print(a.shape,b.shape)\n",
        "a+b"
      ],
      "metadata": {
        "id": "IFQUqufXVy0x",
        "outputId": "44f47573-b743-44fa-94a9-ac8b0ad6fdc4",
        "colab": {
          "base_uri": "https://localhost:8080/",
          "height": 193
        }
      },
      "execution_count": 70,
      "outputs": [
        {
          "output_type": "stream",
          "name": "stdout",
          "text": [
            "(3,) (2,)\n"
          ]
        },
        {
          "output_type": "error",
          "ename": "ValueError",
          "evalue": "operands could not be broadcast together with shapes (3,) (2,) ",
          "traceback": [
            "\u001b[0;31m---------------------------------------------------------------------------\u001b[0m",
            "\u001b[0;31mValueError\u001b[0m                                Traceback (most recent call last)",
            "\u001b[0;32m/tmp/ipython-input-922007874.py\u001b[0m in \u001b[0;36m<cell line: 0>\u001b[0;34m()\u001b[0m\n\u001b[1;32m      2\u001b[0m \u001b[0mb\u001b[0m \u001b[0;34m=\u001b[0m \u001b[0mnp\u001b[0m\u001b[0;34m.\u001b[0m\u001b[0marray\u001b[0m\u001b[0;34m(\u001b[0m\u001b[0;34m[\u001b[0m\u001b[0;36m4\u001b[0m\u001b[0;34m,\u001b[0m \u001b[0;36m5\u001b[0m\u001b[0;34m]\u001b[0m\u001b[0;34m)\u001b[0m\u001b[0;34m\u001b[0m\u001b[0;34m\u001b[0m\u001b[0m\n\u001b[1;32m      3\u001b[0m \u001b[0mprint\u001b[0m\u001b[0;34m(\u001b[0m\u001b[0ma\u001b[0m\u001b[0;34m.\u001b[0m\u001b[0mshape\u001b[0m\u001b[0;34m,\u001b[0m\u001b[0mb\u001b[0m\u001b[0;34m.\u001b[0m\u001b[0mshape\u001b[0m\u001b[0;34m)\u001b[0m\u001b[0;34m\u001b[0m\u001b[0;34m\u001b[0m\u001b[0m\n\u001b[0;32m----> 4\u001b[0;31m \u001b[0ma\u001b[0m\u001b[0;34m+\u001b[0m\u001b[0mb\u001b[0m\u001b[0;34m\u001b[0m\u001b[0;34m\u001b[0m\u001b[0m\n\u001b[0m",
            "\u001b[0;31mValueError\u001b[0m: operands could not be broadcast together with shapes (3,) (2,) "
          ]
        }
      ]
    },
    {
      "cell_type": "code",
      "source": [
        " np.ones((4, 3, 5))"
      ],
      "metadata": {
        "id": "zwQcfsbZHokQ",
        "outputId": "80ecd6a6-b8d3-4a1c-ba40-984f7928e21c",
        "colab": {
          "base_uri": "https://localhost:8080/"
        }
      },
      "execution_count": 71,
      "outputs": [
        {
          "output_type": "execute_result",
          "data": {
            "text/plain": [
              "array([[[1., 1., 1., 1., 1.],\n",
              "        [1., 1., 1., 1., 1.],\n",
              "        [1., 1., 1., 1., 1.]],\n",
              "\n",
              "       [[1., 1., 1., 1., 1.],\n",
              "        [1., 1., 1., 1., 1.],\n",
              "        [1., 1., 1., 1., 1.]],\n",
              "\n",
              "       [[1., 1., 1., 1., 1.],\n",
              "        [1., 1., 1., 1., 1.],\n",
              "        [1., 1., 1., 1., 1.]],\n",
              "\n",
              "       [[1., 1., 1., 1., 1.],\n",
              "        [1., 1., 1., 1., 1.],\n",
              "        [1., 1., 1., 1., 1.]]])"
            ]
          },
          "metadata": {},
          "execution_count": 71
        }
      ]
    },
    {
      "cell_type": "code",
      "source": [
        "a = np.ones((1, 3, 5))\n",
        "b = np.ones((4,3,1))\n",
        "print(a.shape)\n",
        "print(b.shape)\n",
        "# Error!\n",
        "c=a + b\n",
        "\n",
        "print(c.shape)"
      ],
      "metadata": {
        "id": "QT8_0zeAWIW9",
        "outputId": "1db23662-2c66-46eb-f76c-27a956461a7c",
        "colab": {
          "base_uri": "https://localhost:8080/"
        }
      },
      "execution_count": 72,
      "outputs": [
        {
          "output_type": "stream",
          "name": "stdout",
          "text": [
            "(1, 3, 5)\n",
            "(4, 3, 1)\n",
            "(4, 3, 5)\n"
          ]
        }
      ]
    },
    {
      "cell_type": "markdown",
      "source": [
        "## Array Comparison\n",
        "\n",
        "Elementwise comparisons in NumPy return boolean arrays.\n",
        "You can use operations like `==`, `!=`, `>`, `<`, `>=`, `<=`.\n",
        "\n",
        "Example:\n"
      ],
      "metadata": {
        "id": "sbVmhlea82G7"
      }
    },
    {
      "cell_type": "code",
      "source": [
        "X = np.array([[5, 1, 8], [2, 4, 7]])\n",
        "Y = np.array([[3, 1, 8], [2, 9, 6]])\n",
        "\n",
        "print(\"# X == Y\\n\", X == Y)\n",
        "print(\"\\n# X >= Y\\n\", X >= Y)\n",
        "print(\"\\n# Count not equal:\", (X != Y).sum())\n"
      ],
      "metadata": {
        "id": "oTmt23F-84AE",
        "outputId": "cc38af4b-8203-4157-d26d-12479b0d69c2",
        "colab": {
          "base_uri": "https://localhost:8080/"
        }
      },
      "execution_count": 73,
      "outputs": [
        {
          "output_type": "stream",
          "name": "stdout",
          "text": [
            "# X == Y\n",
            " [[False  True  True]\n",
            " [ True False False]]\n",
            "\n",
            "# X >= Y\n",
            " [[ True  True  True]\n",
            " [ True False  True]]\n",
            "\n",
            "# Count not equal: 3\n"
          ]
        }
      ]
    },
    {
      "cell_type": "markdown",
      "source": [
        "## Array Indexing and Slicing\n",
        "\n",
        "You can select single elements, slices, or subarrays in NumPy arrays using indices and ranges.\n",
        "Here are a few examples:\n"
      ],
      "metadata": {
        "id": "kzU0ujEG86AI"
      }
    },
    {
      "cell_type": "code",
      "source": [
        "cube = np.array([\n",
        "    [[ 3,  5,  7], [ 8, 10, 12]],\n",
        "    [[13, 15, 17], [18, 20, 22]],\n",
        "    [[23, 25, 27], [28, 30, 32]]\n",
        "])\n",
        "\n",
        "# print(\"# Shape:\", cube.shape)\n",
        "\n",
        "# Single element\n",
        "print(\"\\n# cube[2, 1, 0]:\", cube[2, 1, 0])\n",
        "\n",
        "# Subarray using ranges\n",
        "print(\"\\n# cube[1:, :, 1]:\\n\", cube[1:, :, 1])\n",
        "\n",
        "# Mixing indices and ranges\n",
        "print(\"\\n# cube[1, :, 1:]:\\n\", cube[1, :, 1:])\n",
        "\n",
        "# Fewer indices (returns 2D slice)\n",
        "print(\"\\n# cube[2]:\\n\", cube[2])\n"
      ],
      "metadata": {
        "id": "qjkHTiHp87XL",
        "outputId": "c77136cf-7df5-4a02-acce-bd6d2c4c30dd",
        "colab": {
          "base_uri": "https://localhost:8080/"
        }
      },
      "execution_count": 74,
      "outputs": [
        {
          "output_type": "stream",
          "name": "stdout",
          "text": [
            "\n",
            "# cube[2, 1, 0]: 28\n",
            "\n",
            "# cube[1:, :, 1]:\n",
            " [[15 20]\n",
            " [25 30]]\n",
            "\n",
            "# cube[1, :, 1:]:\n",
            " [[15 17]\n",
            " [20 22]]\n",
            "\n",
            "# cube[2]:\n",
            " [[23 25 27]\n",
            " [28 30 32]]\n"
          ]
        }
      ]
    },
    {
      "cell_type": "markdown",
      "source": [
        "## Different Ways to Initialize Numpy Arrays\n",
        "\n",
        "Numpy offers many built-in methods to create arrays with preset or random values.  \n",
        "Here are some useful examples with different shapes and values.  \n",
        "Check the [official docs](https://numpy.org/doc/stable/reference/routines.array-creation.html) for more options!\n"
      ],
      "metadata": {
        "id": "g6rHnIDy9Tcj"
      }
    },
    {
      "cell_type": "code",
      "source": [
        "import numpy as np\n",
        "\n",
        "# All zeros array\n",
        "zero_grid = np.zeros((4, 2))\n",
        "print(\"# All zeros array\\n\", zero_grid)\n",
        "\n",
        "# All ones, higher dimension\n",
        "ones_cube = np.ones((2, 3, 2))\n",
        "print(\"\\n# All ones (3D)\\n\", ones_cube)\n",
        "\n",
        "# Identity matrix\n",
        "identity = np.eye(4)\n",
        "print(\"\\n# Identity matrix\\n\", identity)\n",
        "\n",
        "# Random vector (0 to 1)\n",
        "rand_vec = np.random.rand(6)\n",
        "print(\"\\n# Random vector\\n\", rand_vec)\n",
        "\n",
        "# Random matrix, standard normal distribution\n",
        "rand_matrix = np.random.randn(3, 4)\n",
        "print(\"\\n# Random matrix (normal dist)\\n\", rand_matrix)\n",
        "\n",
        "# Array with all entries set to a fixed value\n",
        "fixed_arr = np.full((3, 2), 77)\n",
        "print(\"\\n# All 77s\\n\", fixed_arr)\n",
        "\n",
        "# Array with range and step\n",
        "range_arr = np.arange(5, 50, 7)\n",
        "print(\"\\n# Range with step\\n\", range_arr)\n",
        "\n",
        "# Equally spaced points in an interval\n",
        "eq_space = np.linspace(2, 18, 9)\n",
        "print(\"\\n# Evenly spaced in [2,18]\\n\", eq_space)\n"
      ],
      "metadata": {
        "id": "GKyv-Ktx9YEG",
        "outputId": "19389166-8e8a-4228-ccd3-53f5b750c6b9",
        "colab": {
          "base_uri": "https://localhost:8080/"
        }
      },
      "execution_count": 75,
      "outputs": [
        {
          "output_type": "stream",
          "name": "stdout",
          "text": [
            "# All zeros array\n",
            " [[0. 0.]\n",
            " [0. 0.]\n",
            " [0. 0.]\n",
            " [0. 0.]]\n",
            "\n",
            "# All ones (3D)\n",
            " [[[1. 1.]\n",
            "  [1. 1.]\n",
            "  [1. 1.]]\n",
            "\n",
            " [[1. 1.]\n",
            "  [1. 1.]\n",
            "  [1. 1.]]]\n",
            "\n",
            "# Identity matrix\n",
            " [[1. 0. 0. 0.]\n",
            " [0. 1. 0. 0.]\n",
            " [0. 0. 1. 0.]\n",
            " [0. 0. 0. 1.]]\n",
            "\n",
            "# Random vector\n",
            " [0.77262636 0.51424452 0.63373686 0.16953884 0.18360523 0.30523824]\n",
            "\n",
            "# Random matrix (normal dist)\n",
            " [[ 0.62298193  0.53548181  0.07378887 -1.89104959]\n",
            " [-0.77523873 -0.65804812  1.0480165  -0.34618531]\n",
            " [ 1.8566364   0.15751434  1.83502555  0.6278075 ]]\n",
            "\n",
            "# All 77s\n",
            " [[77 77]\n",
            " [77 77]\n",
            " [77 77]]\n",
            "\n",
            "# Range with step\n",
            " [ 5 12 19 26 33 40 47]\n",
            "\n",
            "# Evenly spaced in [2,18]\n",
            " [ 2.  4.  6.  8. 10. 12. 14. 16. 18.]\n"
          ]
        }
      ]
    },
    {
      "cell_type": "markdown",
      "source": [
        "#Assignment"
      ],
      "metadata": {
        "id": "3-vLkTk-mYLv"
      }
    },
    {
      "cell_type": "markdown",
      "source": [
        "\n",
        "Use the [Wine Quality Red dataset](https://archive.ics.uci.edu/ml/machine-learning-databases/wine-quality/winequality-red.csv) from UCI.\n",
        "\n",
        "**Rules:**\n",
        "- Use only NumPy (not Pandas, not scikit-learn, not SciPy)\n",
        "- Download, load, and manipulate the data with NumPy only\n",
        "\n",
        "###1. What is the shape of the data array? (How many wine samples and how many columns of features does it have?)\n"
      ],
      "metadata": {
        "id": "p6zScPZ_nCu9"
      }
    },
    {
      "cell_type": "code",
      "source": [
        "print (\"shape of wine Data :\" , wine_data.shape)"
      ],
      "metadata": {
        "id": "4_BuzplO7XXN",
        "outputId": "7a8e6720-c155-4f13-b0e4-32f988fe6a43",
        "colab": {
          "base_uri": "https://localhost:8080/"
        }
      },
      "execution_count": 76,
      "outputs": [
        {
          "output_type": "stream",
          "name": "stdout",
          "text": [
            "shape of wine Data : (1599, 12)\n"
          ]
        }
      ]
    },
    {
      "cell_type": "markdown",
      "source": [
        "\n",
        "###2. Calculate the average (mean) quality score of the red wines. (Hint: this is the mean of the last column in the data array.)\n",
        "\n"
      ],
      "metadata": {
        "id": "tWsQj_RU7d_6"
      }
    },
    {
      "cell_type": "code",
      "source": [
        "# It explicitly selects all rows but only the last column ([:, -1]) and then computes the mean of that slice.\n",
        "\n",
        "mean_quality = wine_data[:,-1].mean()\n",
        "print(\"Average quality score of red Wine:\",mean_quality)"
      ],
      "metadata": {
        "id": "SlOvQ0ml-ohW",
        "outputId": "9a15ca57-6cc3-478f-e658-a5a393a64168",
        "colab": {
          "base_uri": "https://localhost:8080/"
        }
      },
      "execution_count": 77,
      "outputs": [
        {
          "output_type": "stream",
          "name": "stdout",
          "text": [
            "Average quality score of red Wine: 5.6360225140712945\n"
          ]
        }
      ]
    },
    {
      "cell_type": "code",
      "source": [
        "mean_quality = np.mean(wine_data[:,-1])\n",
        "print(\"Average quality score of red Wine:\",mean_quality)"
      ],
      "metadata": {
        "id": "KfJcUKGo_Qqi",
        "outputId": "102e5f23-a567-4286-b980-16efbefa1c6c",
        "colab": {
          "base_uri": "https://localhost:8080/"
        }
      },
      "execution_count": 78,
      "outputs": [
        {
          "output_type": "stream",
          "name": "stdout",
          "text": [
            "Average quality score of red Wine: 5.6360225140712945\n"
          ]
        }
      ]
    },
    {
      "cell_type": "code",
      "source": [
        "#This calculates the mean over the entire array except the last row\n",
        "# The slice wine_data[:-1] means all rows except the last one, but across all columns\n",
        "\n",
        "\n",
        "mean_quality = wine_data[:-1].mean()    # If we romove , from above code it will consider all columns\n",
        "print(\"Average quality score of red Wine:\",mean_quality)"
      ],
      "metadata": {
        "id": "zWSJ_f-jAMDN",
        "outputId": "daf7b99d-963b-4a87-f316-bb3017439f15",
        "colab": {
          "base_uri": "https://localhost:8080/"
        }
      },
      "execution_count": 79,
      "outputs": [
        {
          "output_type": "stream",
          "name": "stdout",
          "text": [
            "Average quality score of red Wine: 7.92617279151022\n"
          ]
        }
      ]
    },
    {
      "cell_type": "markdown",
      "source": [
        "\n",
        "###3. What are the minimum and maximum pH values observed in the dataset? (Use NumPy to find the smallest and largest pH.)\n",
        "\n",
        "\n",
        "\n",
        "\n",
        "\n"
      ],
      "metadata": {
        "id": "i70z9r_S-gGg"
      }
    },
    {
      "cell_type": "code",
      "source": [
        "min_ph = np.min(wine_data[:,-4])\n",
        "max_ph = np.max(wine_data[:,-4])\n",
        "print(\"Minimum pH value:\", min_ph)\n",
        "print(\"Maximum pH value:\", max_ph)"
      ],
      "metadata": {
        "id": "VIe8AmFb7eiY",
        "outputId": "326cb95b-8030-469d-f36a-1022b3156cdf",
        "colab": {
          "base_uri": "https://localhost:8080/"
        }
      },
      "execution_count": 80,
      "outputs": [
        {
          "output_type": "stream",
          "name": "stdout",
          "text": [
            "Minimum pH value: 2.74\n",
            "Maximum pH value: 4.01\n"
          ]
        }
      ]
    },
    {
      "cell_type": "code",
      "source": [
        "ph_column = 8\n",
        "min_ph = np.min(wine_data[:,ph_column])\n",
        "max_ph = np.max(wine_data[:,ph_column])\n",
        "print(\"Minimum pH value:\", min_ph)\n",
        "print(\"Maximum pH value:\", max_ph)"
      ],
      "metadata": {
        "id": "dtxaLV74CLOz",
        "outputId": "ff18a029-64b4-4208-9ca5-cc600ade2b76",
        "colab": {
          "base_uri": "https://localhost:8080/"
        }
      },
      "execution_count": 81,
      "outputs": [
        {
          "output_type": "stream",
          "name": "stdout",
          "text": [
            "Minimum pH value: 2.74\n",
            "Maximum pH value: 4.01\n"
          ]
        }
      ]
    },
    {
      "cell_type": "markdown",
      "source": [
        "###4. Determine the mean and standard deviation of the alcohol content in these wines. (Calculate the average alcohol percentage and how much it varies.)\n"
      ],
      "metadata": {
        "id": "ev71CauIA3N3"
      }
    },
    {
      "cell_type": "code",
      "source": [
        "alcohol_column = 10\n",
        "mean_alcohol = np.mean(wine_data[:,alcohol_column])\n",
        "std_alcohol = np.std(wine_data[:,alcohol_column])\n",
        "print(\"Mean alcohol content:\", mean_alcohol)\n",
        "print(\"Standard deviation of alcohol content:\", std_alcohol)"
      ],
      "metadata": {
        "id": "43i2qk-YA3q_",
        "outputId": "b9c7772c-f358-450b-f5a8-d8ebca126243",
        "colab": {
          "base_uri": "https://localhost:8080/"
        }
      },
      "execution_count": 82,
      "outputs": [
        {
          "output_type": "stream",
          "name": "stdout",
          "text": [
            "Mean alcohol content: 10.422983114446529\n",
            "Standard deviation of alcohol content: 1.0653343003437483\n"
          ]
        }
      ]
    },
    {
      "cell_type": "markdown",
      "source": [
        "###5. List all the unique quality ratings present in the dataset. (What distinct quality values appear? Use np.unique on the quality column.)\n"
      ],
      "metadata": {
        "id": "JDj9r7d_DWOq"
      }
    },
    {
      "cell_type": "code",
      "source": [
        "unique_ratings = np.unique(wine_data[:,-1])\n",
        "print(\"Unique quality ratings:\", unique_ratings)"
      ],
      "metadata": {
        "id": "NFIVjs36DWz-",
        "outputId": "1b607413-1277-45af-ec82-c175c16e9c53",
        "colab": {
          "base_uri": "https://localhost:8080/"
        }
      },
      "execution_count": 83,
      "outputs": [
        {
          "output_type": "stream",
          "name": "stdout",
          "text": [
            "Unique quality ratings: [3. 4. 5. 6. 7. 8.]\n"
          ]
        }
      ]
    },
    {
      "cell_type": "markdown",
      "source": [
        "###6. How many wine samples have a quality rating of 7? (Count the number of entries where the quality column is exactly 7.)\n"
      ],
      "metadata": {
        "id": "xO02Vv32E9z0"
      }
    },
    {
      "cell_type": "code",
      "source": [
        "number = np.count_nonzero(wine_data[:,-1] == 7)\n",
        "print(\"Total Number of times Number Repitated:\",number)\n",
        "\n",
        "number = np.count_nonzero(wine_data[:,-1] == 5)\n",
        "print(\"Total Number of times Number Repitated:\",number)\n",
        "\n",
        "number = np.count_nonzero(wine_data[:,-1] == 6)\n",
        "print(\"Total Number of times Number Repitated:\",number)"
      ],
      "metadata": {
        "id": "OI7dOyOPE-Yo",
        "outputId": "178fd1eb-78a7-49d1-b68e-e4baa401a780",
        "colab": {
          "base_uri": "https://localhost:8080/"
        }
      },
      "execution_count": 84,
      "outputs": [
        {
          "output_type": "stream",
          "name": "stdout",
          "text": [
            "Total Number of times Number Repitated: 199\n",
            "Total Number of times Number Repitated: 681\n",
            "Total Number of times Number Repitated: 638\n"
          ]
        }
      ]
    },
    {
      "cell_type": "code",
      "source": [
        "(wine_data[:,-1]== 7).sum()"
      ],
      "metadata": {
        "id": "KnOlbPcnA3ja",
        "outputId": "ab451822-bdfa-4982-cdfb-c3ac2d52c36e",
        "colab": {
          "base_uri": "https://localhost:8080/"
        }
      },
      "execution_count": 85,
      "outputs": [
        {
          "output_type": "execute_result",
          "data": {
            "text/plain": [
              "np.int64(199)"
            ]
          },
          "metadata": {},
          "execution_count": 85
        }
      ]
    },
    {
      "cell_type": "code",
      "source": [
        "np.sum(wine_data[:,],-1)"
      ],
      "metadata": {
        "id": "n-3Lq2-_BhuX",
        "outputId": "145990c2-37ea-4ae6-a47d-2647fc18b983",
        "colab": {
          "base_uri": "https://localhost:8080/"
        }
      },
      "execution_count": 86,
      "outputs": [
        {
          "output_type": "execute_result",
          "data": {
            "text/plain": [
              "array([ 74.5438 , 123.0548 ,  99.699  , ..., 100.48174, 105.21547,\n",
              "        92.49249])"
            ]
          },
          "metadata": {},
          "execution_count": 86
        }
      ]
    },
    {
      "cell_type": "code",
      "source": [
        "i =0\n",
        "for q in np.unique(wine_data[:,-1]):\n",
        "  i = max(i,(wine_data[:,-1]==q).sum())\n",
        "print(i)"
      ],
      "metadata": {
        "id": "SYdDXe6OjaUo",
        "outputId": "88561ccb-9c9b-4805-f45a-9c5ee8cdfa57",
        "colab": {
          "base_uri": "https://localhost:8080/"
        }
      },
      "execution_count": 87,
      "outputs": [
        {
          "output_type": "stream",
          "name": "stdout",
          "text": [
            "681\n"
          ]
        }
      ]
    },
    {
      "cell_type": "code",
      "source": [
        "## count wines for each quality rating  and return output as list\n",
        "op = []\n",
        "for q in np.unique(wine_data[:,-1]):\n",
        "  op.append((wine_data[:,-1]==q).sum())\n",
        "print(op)"
      ],
      "metadata": {
        "id": "Tfj7nbZKiRVl",
        "outputId": "064b3974-9a3e-4527-859a-dd9c9fc7f00f",
        "colab": {
          "base_uri": "https://localhost:8080/"
        }
      },
      "execution_count": 88,
      "outputs": [
        {
          "output_type": "stream",
          "name": "stdout",
          "text": [
            "[np.int64(10), np.int64(53), np.int64(681), np.int64(638), np.int64(199), np.int64(18)]\n"
          ]
        }
      ]
    },
    {
      "cell_type": "code",
      "source": [
        "## count wines for each quality rating  and return output as dictionary\n",
        "\n",
        "op = {}\n",
        "\n",
        "for i in np.unique(wine_data[:,-1]):\n",
        "  op[i] = np.sum(wine_data[:,-1]==i)\n",
        "print(op)"
      ],
      "metadata": {
        "id": "G0HAzGWJl-Qb",
        "outputId": "841c81a0-d838-4e9c-f863-3cf299e55164",
        "colab": {
          "base_uri": "https://localhost:8080/"
        }
      },
      "execution_count": 89,
      "outputs": [
        {
          "output_type": "stream",
          "name": "stdout",
          "text": [
            "{np.float64(3.0): np.int64(10), np.float64(4.0): np.int64(53), np.float64(5.0): np.int64(681), np.float64(6.0): np.int64(638), np.float64(7.0): np.int64(199), np.float64(8.0): np.int64(18)}\n"
          ]
        }
      ]
    },
    {
      "cell_type": "code",
      "source": [
        "print(op.keys())"
      ],
      "metadata": {
        "id": "TQy4cDU4muAb",
        "outputId": "1892fcd1-4b3f-4a35-ba99-9e7aaea2b241",
        "colab": {
          "base_uri": "https://localhost:8080/"
        }
      },
      "execution_count": 90,
      "outputs": [
        {
          "output_type": "stream",
          "name": "stdout",
          "text": [
            "dict_keys([np.float64(3.0), np.float64(4.0), np.float64(5.0), np.float64(6.0), np.float64(7.0), np.float64(8.0)])\n"
          ]
        }
      ]
    },
    {
      "cell_type": "code",
      "source": [
        "unique , counts = np.unique(wine_data[:,-1],return_counts=True)\n",
        "print(unique)\n",
        "print(counts)"
      ],
      "metadata": {
        "id": "MED_3EmgnSsL",
        "outputId": "d7b15eb4-0b94-4c44-f5e7-4f07c8148deb",
        "colab": {
          "base_uri": "https://localhost:8080/"
        }
      },
      "execution_count": 91,
      "outputs": [
        {
          "output_type": "stream",
          "name": "stdout",
          "text": [
            "[3. 4. 5. 6. 7. 8.]\n",
            "[ 10  53 681 638 199  18]\n"
          ]
        }
      ]
    },
    {
      "cell_type": "markdown",
      "source": [
        "###7. How many wines have an alcohol content greater than 10%? (Hint: create a boolean mask for alcohol > 10 and sum it or use np.where.)\n",
        "\n"
      ],
      "metadata": {
        "id": "_TWugu-tF1WU"
      }
    },
    {
      "cell_type": "code",
      "source": [
        "alcohol_column = 10\n",
        "alcohol_greater_than_10 = wine_data[:,alcohol_column] > 10\n",
        "num_wines = np.sum(alcohol_greater_than_10)\n",
        "print(\"Number of wines with alcohol content > 10%:\", num_wines)"
      ],
      "metadata": {
        "id": "484aoLk1F17q",
        "outputId": "65ad9531-37b3-4cb1-c0dc-bef9974cd003",
        "colab": {
          "base_uri": "https://localhost:8080/"
        }
      },
      "execution_count": 92,
      "outputs": [
        {
          "output_type": "stream",
          "name": "stdout",
          "text": [
            "Number of wines with alcohol content > 10%: 852\n"
          ]
        }
      ]
    },
    {
      "cell_type": "code",
      "source": [
        "alcohol_greater_than_10 = wine_data[:,-2] > 10\n",
        "num_wines = np.sum(alcohol_greater_than_10)\n",
        "print(\"Number of wines with alcohol content > 10%:\", num_wines)"
      ],
      "metadata": {
        "id": "gJn-rEmoHrJa",
        "outputId": "95121fcb-64ec-4c01-df24-0eda67d2f130",
        "colab": {
          "base_uri": "https://localhost:8080/"
        }
      },
      "execution_count": 93,
      "outputs": [
        {
          "output_type": "stream",
          "name": "stdout",
          "text": [
            "Number of wines with alcohol content > 10%: 852\n"
          ]
        }
      ]
    },
    {
      "cell_type": "markdown",
      "source": [
        "###8. What is the average citric acid concentration across all red wines? (Compute the mean of the citric acid column.)\n"
      ],
      "metadata": {
        "id": "UXxo5aQpGldh"
      }
    },
    {
      "cell_type": "code",
      "source": [
        "\n",
        "average_citric_acid = np.mean(wine_data[:,2])\n",
        "print(\"Average citric acid concentration:\", average_citric_acid)"
      ],
      "metadata": {
        "id": "fAiNLA_cGl_w",
        "outputId": "d30ed8ad-fafd-412d-f24f-a409c137d80b",
        "colab": {
          "base_uri": "https://localhost:8080/"
        }
      },
      "execution_count": 94,
      "outputs": [
        {
          "output_type": "stream",
          "name": "stdout",
          "text": [
            "Average citric acid concentration: 0.2709756097560976\n"
          ]
        }
      ]
    },
    {
      "cell_type": "code",
      "source": [
        "average_citric_acid = wine_data[:,2].mean()\n",
        "print(\"Average citric acid concentration:\", average_citric_acid)"
      ],
      "metadata": {
        "id": "kFJduYlvJFFZ",
        "outputId": "4b26734c-7340-4bec-95b8-64f9927ba7a4",
        "colab": {
          "base_uri": "https://localhost:8080/"
        }
      },
      "execution_count": 95,
      "outputs": [
        {
          "output_type": "stream",
          "name": "stdout",
          "text": [
            "Average citric acid concentration: 0.2709756097560976\n"
          ]
        }
      ]
    },
    {
      "cell_type": "markdown",
      "source": [
        "###9. Determine the median residual sugar content in the dataset. (Hint: you can use np.median or np.percentile with 50th percentile to find the median residual sugar.)\n"
      ],
      "metadata": {
        "id": "omQ28roaIFY7"
      }
    },
    {
      "cell_type": "code",
      "source": [
        "median_residual_sugar = np.median(wine_data[:,3])\n",
        "print(\"Median residual sugar content:\", median_residual_sugar)"
      ],
      "metadata": {
        "id": "bM15nKEUIGPI",
        "outputId": "71c32031-823d-4746-b48c-9aaa48fcc7e1",
        "colab": {
          "base_uri": "https://localhost:8080/"
        }
      },
      "execution_count": 96,
      "outputs": [
        {
          "output_type": "stream",
          "name": "stdout",
          "text": [
            "Median residual sugar content: 2.2\n"
          ]
        }
      ]
    },
    {
      "cell_type": "code",
      "source": [
        "median_residual_sugar = np.percentile(wine_data[:,3],50)\n",
        "print(\"Median residual sugar content:\", median_residual_sugar)"
      ],
      "metadata": {
        "id": "1YJpUhaGeOpH",
        "outputId": "63b01df5-c948-4abf-b779-00fb9444eb82",
        "colab": {
          "base_uri": "https://localhost:8080/"
        }
      },
      "execution_count": 97,
      "outputs": [
        {
          "output_type": "stream",
          "name": "stdout",
          "text": [
            "Median residual sugar content: 2.2\n"
          ]
        }
      ]
    },
    {
      "cell_type": "markdown",
      "source": [
        "###10. What is the 75th percentile (upper quartile) of the alcohol content? (In other words, 25% of the wines have an alcohol content above what value?)\n"
      ],
      "metadata": {
        "id": "tpxlHXFIJU6a"
      }
    },
    {
      "cell_type": "code",
      "source": [
        "alcohol_content = np.percentile(wine_data[:,10],75)\n",
        "print(\"75th percentile of alcohol content:\", alcohol_content)"
      ],
      "metadata": {
        "id": "IA3Y03ZdJVfN",
        "outputId": "6a5bb6ad-8f18-481a-c681-e1e3743fdb60",
        "colab": {
          "base_uri": "https://localhost:8080/"
        }
      },
      "execution_count": 98,
      "outputs": [
        {
          "output_type": "stream",
          "name": "stdout",
          "text": [
            "75th percentile of alcohol content: 11.1\n"
          ]
        }
      ]
    },
    {
      "cell_type": "code",
      "source": [
        "# which quality have Highest number of wines\n",
        "\n",
        "a = 0\n",
        "for i in np.unique(wine_data[:,-1]):\n",
        "  a = max(a, np.sum(wine_data[:,-1]==i))\n",
        "\n",
        "print(a)"
      ],
      "metadata": {
        "id": "1FfNP-dto5RP",
        "outputId": "00579244-5bff-4f97-cb37-94aa0d8701f5",
        "colab": {
          "base_uri": "https://localhost:8080/"
        }
      },
      "execution_count": 99,
      "outputs": [
        {
          "output_type": "stream",
          "name": "stdout",
          "text": [
            "681\n"
          ]
        }
      ]
    },
    {
      "cell_type": "markdown",
      "source": [
        "\n",
        "###11. determine how many wines fall into each quality score category. (Find the count of samples for each unique quality value.) Which quality rating is most common in the red wine dataset?\n",
        "\n"
      ],
      "metadata": {
        "id": "Y-REadwJeI6N"
      }
    },
    {
      "cell_type": "code",
      "source": [
        "quality_scores = wine_data[:, -1]\n",
        "unique_qualities, counts = np.unique(quality_scores, return_counts=True)\n",
        "\n",
        "print(\"Quality scores:\", unique_qualities)\n",
        "print(\"Counts:\", counts)\n",
        "\n",
        "total_unique_qualities = len(unique_qualities)\n",
        "print(\"Total unique quality scores:\", total_unique_qualities)"
      ],
      "metadata": {
        "id": "ILNfb6oMkayd",
        "outputId": "e4627ef7-49ca-4061-c9f0-e7084757dd22",
        "colab": {
          "base_uri": "https://localhost:8080/"
        }
      },
      "execution_count": 100,
      "outputs": [
        {
          "output_type": "stream",
          "name": "stdout",
          "text": [
            "Quality scores: [3. 4. 5. 6. 7. 8.]\n",
            "Counts: [ 10  53 681 638 199  18]\n",
            "Total unique quality scores: 6\n"
          ]
        }
      ]
    },
    {
      "cell_type": "markdown",
      "source": [
        "\n",
        "###12. Which five wine samples have the highest alcohol content? Identify their alcohol values and corresponding quality scores. (Hint: use np.argsort to sort by the alcohol column and pick the top 5 entries.)\n"
      ],
      "metadata": {
        "id": "CkCq8v13g-pn"
      }
    },
    {
      "cell_type": "code",
      "source": [
        "help(np.argsort)"
      ],
      "metadata": {
        "id": "KUBV4i2rqhGm",
        "outputId": "05aceb0a-9ce3-4a17-8f99-02addbdb2b88",
        "colab": {
          "base_uri": "https://localhost:8080/"
        }
      },
      "execution_count": 101,
      "outputs": [
        {
          "output_type": "stream",
          "name": "stdout",
          "text": [
            "Help on _ArrayFunctionDispatcher in module numpy:\n",
            "\n",
            "argsort(a, axis=-1, kind=None, order=None, *, stable=None)\n",
            "    Returns the indices that would sort an array.\n",
            "\n",
            "    Perform an indirect sort along the given axis using the algorithm specified\n",
            "    by the `kind` keyword. It returns an array of indices of the same shape as\n",
            "    `a` that index data along the given axis in sorted order.\n",
            "\n",
            "    Parameters\n",
            "    ----------\n",
            "    a : array_like\n",
            "        Array to sort.\n",
            "    axis : int or None, optional\n",
            "        Axis along which to sort.  The default is -1 (the last axis). If None,\n",
            "        the flattened array is used.\n",
            "    kind : {'quicksort', 'mergesort', 'heapsort', 'stable'}, optional\n",
            "        Sorting algorithm. The default is 'quicksort'. Note that both 'stable'\n",
            "        and 'mergesort' use timsort under the covers and, in general, the\n",
            "        actual implementation will vary with data type. The 'mergesort' option\n",
            "        is retained for backwards compatibility.\n",
            "\n",
            "        .. versionchanged:: 1.15.0.\n",
            "           The 'stable' option was added.\n",
            "    order : str or list of str, optional\n",
            "        When `a` is an array with fields defined, this argument specifies\n",
            "        which fields to compare first, second, etc.  A single field can\n",
            "        be specified as a string, and not all fields need be specified,\n",
            "        but unspecified fields will still be used, in the order in which\n",
            "        they come up in the dtype, to break ties.\n",
            "    stable : bool, optional\n",
            "        Sort stability. If ``True``, the returned array will maintain\n",
            "        the relative order of ``a`` values which compare as equal.\n",
            "        If ``False`` or ``None``, this is not guaranteed. Internally,\n",
            "        this option selects ``kind='stable'``. Default: ``None``.\n",
            "\n",
            "        .. versionadded:: 2.0.0\n",
            "\n",
            "    Returns\n",
            "    -------\n",
            "    index_array : ndarray, int\n",
            "        Array of indices that sort `a` along the specified `axis`.\n",
            "        If `a` is one-dimensional, ``a[index_array]`` yields a sorted `a`.\n",
            "        More generally, ``np.take_along_axis(a, index_array, axis=axis)``\n",
            "        always yields the sorted `a`, irrespective of dimensionality.\n",
            "\n",
            "    See Also\n",
            "    --------\n",
            "    sort : Describes sorting algorithms used.\n",
            "    lexsort : Indirect stable sort with multiple keys.\n",
            "    ndarray.sort : Inplace sort.\n",
            "    argpartition : Indirect partial sort.\n",
            "    take_along_axis : Apply ``index_array`` from argsort\n",
            "                      to an array as if by calling sort.\n",
            "\n",
            "    Notes\n",
            "    -----\n",
            "    See `sort` for notes on the different sorting algorithms.\n",
            "\n",
            "    As of NumPy 1.4.0 `argsort` works with real/complex arrays containing\n",
            "    nan values. The enhanced sort order is documented in `sort`.\n",
            "\n",
            "    Examples\n",
            "    --------\n",
            "    One dimensional array:\n",
            "\n",
            "    >>> x = np.array([3, 1, 2])\n",
            "    >>> np.argsort(x)\n",
            "    array([1, 2, 0])\n",
            "\n",
            "    Two-dimensional array:\n",
            "\n",
            "    >>> x = np.array([[0, 3], [2, 2]])\n",
            "    >>> x\n",
            "    array([[0, 3],\n",
            "           [2, 2]])\n",
            "\n",
            "    >>> ind = np.argsort(x, axis=0)  # sorts along first axis (down)\n",
            "    >>> ind\n",
            "    array([[0, 1],\n",
            "           [1, 0]])\n",
            "    >>> np.take_along_axis(x, ind, axis=0)  # same as np.sort(x, axis=0)\n",
            "    array([[0, 2],\n",
            "           [2, 3]])\n",
            "\n",
            "    >>> ind = np.argsort(x, axis=1)  # sorts along last axis (across)\n",
            "    >>> ind\n",
            "    array([[0, 1],\n",
            "           [0, 1]])\n",
            "    >>> np.take_along_axis(x, ind, axis=1)  # same as np.sort(x, axis=1)\n",
            "    array([[0, 3],\n",
            "           [2, 2]])\n",
            "\n",
            "    Indices of the sorted elements of a N-dimensional array:\n",
            "\n",
            "    >>> ind = np.unravel_index(np.argsort(x, axis=None), x.shape)\n",
            "    >>> ind\n",
            "    (array([0, 1, 1, 0]), array([0, 0, 1, 1]))\n",
            "    >>> x[ind]  # same as np.sort(x, axis=None)\n",
            "    array([0, 2, 2, 3])\n",
            "\n",
            "    Sorting with keys:\n",
            "\n",
            "    >>> x = np.array([(1, 0), (0, 1)], dtype=[('x', '<i4'), ('y', '<i4')])\n",
            "    >>> x\n",
            "    array([(1, 0), (0, 1)],\n",
            "          dtype=[('x', '<i4'), ('y', '<i4')])\n",
            "\n",
            "    >>> np.argsort(x, order=('x','y'))\n",
            "    array([1, 0])\n",
            "\n",
            "    >>> np.argsort(x, order=('y','x'))\n",
            "    array([0, 1])\n",
            "\n"
          ]
        }
      ]
    },
    {
      "cell_type": "code",
      "source": [
        "import numpy as np\n",
        "\n",
        "# Assuming wine_data is already loaded as a NumPy array\n",
        "\n",
        "# Specify the alcohol column index\n",
        "alcohol_col_index = -2\n",
        "quality_col_index = -1  # last column\n",
        "\n",
        "# Get indices that would sort the alcohol column in ascending order\n",
        "sorted_indices = np.argsort(wine_data[:, alcohol_col_index])\n",
        "\n",
        "# Pick the indices of the top 5 samples with highest alcohol, reverse for descending\n",
        "top5_indices = sorted_indices[-5:][::-1]\n",
        "\n",
        "# Extract the alcohol and quality values for these samples\n",
        "top5_alcohol = wine_data[top5_indices, alcohol_col_index]\n",
        "top5_quality = wine_data[top5_indices, quality_col_index]\n",
        "\n",
        "# Print results\n",
        "for i, idx in enumerate(top5_indices):\n",
        "    print(f\"Sample index {idx}: Alcohol = {top5_alcohol[i]}, Quality = {int(top5_quality[i])}\")\n"
      ],
      "metadata": {
        "id": "XYD56SYTnnVk",
        "outputId": "67a44bf4-4cb1-4bb1-c7c1-c4f646724efa",
        "colab": {
          "base_uri": "https://localhost:8080/"
        }
      },
      "execution_count": 102,
      "outputs": [
        {
          "output_type": "stream",
          "name": "stdout",
          "text": [
            "Sample index 652: Alcohol = 14.9, Quality = 5\n",
            "Sample index 144: Alcohol = 14.0, Quality = 6\n",
            "Sample index 142: Alcohol = 14.0, Quality = 6\n",
            "Sample index 1270: Alcohol = 14.0, Quality = 6\n",
            "Sample index 821: Alcohol = 14.0, Quality = 7\n"
          ]
        }
      ]
    },
    {
      "cell_type": "code",
      "source": [
        "for i in np.argsort(-wine_data[:,-2])[:5]:     # it will give us last 5 index\n",
        "  print(wine_data[i,:])                        # ith row , all columns"
      ],
      "metadata": {
        "id": "Kc6y5bhnuXj2",
        "outputId": "3ef1b8e6-a7a4-4660-8efc-49f3ded75c2d",
        "colab": {
          "base_uri": "https://localhost:8080/"
        }
      },
      "execution_count": 103,
      "outputs": [
        {
          "output_type": "stream",
          "name": "stdout",
          "text": [
            "[15.9     0.36    0.65    7.5     0.096  22.     71.      0.9976  2.98\n",
            "  0.84   14.9     5.    ]\n",
            "[ 8.8     0.46    0.45    2.6     0.065   7.     18.      0.9947  3.32\n",
            "  0.79   14.      6.    ]\n",
            "[ 4.9      0.42     0.       2.1      0.048   16.      42.       0.99154\n",
            "  3.71     0.74    14.       7.     ]\n",
            "[5.200e+00 3.400e-01 0.000e+00 1.800e+00 5.000e-02 2.700e+01 6.300e+01\n",
            " 9.916e-01 3.680e+00 7.900e-01 1.400e+01 6.000e+00]\n",
            "[5.500e+00 4.900e-01 3.000e-02 1.800e+00 4.400e-02 2.800e+01 8.700e+01\n",
            " 9.908e-01 3.500e+00 8.200e-01 1.400e+01 8.000e+00]\n"
          ]
        }
      ]
    },
    {
      "cell_type": "code",
      "source": [
        "for i in np.argsort(-wine_data[:,-2])[:10]:\n",
        "  print(\"Quality for alcohol level {} is {}\".format(wine_data[i,-2],wine_data[i,-1]))"
      ],
      "metadata": {
        "id": "cEnXORB9vXIS",
        "colab": {
          "base_uri": "https://localhost:8080/"
        },
        "outputId": "33e78e28-c3d4-41b1-8cba-dcc513b46056"
      },
      "execution_count": 104,
      "outputs": [
        {
          "output_type": "stream",
          "name": "stdout",
          "text": [
            "Quality for alcohol level 14.9 is 5.0\n",
            "Quality for alcohol level 14.0 is 6.0\n",
            "Quality for alcohol level 14.0 is 7.0\n",
            "Quality for alcohol level 14.0 is 6.0\n",
            "Quality for alcohol level 14.0 is 8.0\n",
            "Quality for alcohol level 14.0 is 6.0\n",
            "Quality for alcohol level 14.0 is 8.0\n",
            "Quality for alcohol level 14.0 is 6.0\n",
            "Quality for alcohol level 13.6 is 7.0\n",
            "Quality for alcohol level 13.6 is 7.0\n"
          ]
        }
      ]
    },
    {
      "cell_type": "code",
      "source": [
        "# method 2\n",
        "top_5 = np.argsort(wine_data[:,-2])[::-1][:10]  # 1) taken secound last column 2) reverse 3)top 5\n",
        "print(top_5)\n",
        "value = wine_data[top_5][:,[-2,-1]]  # top 5 with only last two columns\n",
        "value"
      ],
      "metadata": {
        "colab": {
          "base_uri": "https://localhost:8080/"
        },
        "id": "JsiX8qgnFySu",
        "outputId": "048f6840-83d9-46df-a6c5-8b2e99396d17"
      },
      "execution_count": 105,
      "outputs": [
        {
          "output_type": "stream",
          "name": "stdout",
          "text": [
            "[ 652  144  142 1270  821  467  588 1269 1477 1132]\n"
          ]
        },
        {
          "output_type": "execute_result",
          "data": {
            "text/plain": [
              "array([[14.9,  5. ],\n",
              "       [14. ,  6. ],\n",
              "       [14. ,  6. ],\n",
              "       [14. ,  6. ],\n",
              "       [14. ,  7. ],\n",
              "       [14. ,  6. ],\n",
              "       [14. ,  8. ],\n",
              "       [14. ,  8. ],\n",
              "       [13.6,  7. ],\n",
              "       [13.6,  7. ]])"
            ]
          },
          "metadata": {},
          "execution_count": 105
        }
      ]
    },
    {
      "cell_type": "markdown",
      "source": [
        "###13. Do wines with higher alcohol content tend to have higher quality? To investigate, compare the average quality of wines with above-average alcohol to those with below-average alcohol. (Calculate the mean quality for wines where alcohol is above the overall average, and compare it to the mean quality for wines where alcohol is below the average.)\n"
      ],
      "metadata": {
        "id": "xV57jDdtnoZW"
      }
    },
    {
      "cell_type": "code",
      "source": [
        "wine_data[:,-2]"
      ],
      "metadata": {
        "id": "wX4Fqybono70",
        "colab": {
          "base_uri": "https://localhost:8080/"
        },
        "outputId": "177c4bfc-341f-4925-dfdd-6d8842f57c0f"
      },
      "execution_count": 106,
      "outputs": [
        {
          "output_type": "execute_result",
          "data": {
            "text/plain": [
              "array([ 9.4,  9.8,  9.8, ..., 11. , 10.2, 11. ])"
            ]
          },
          "metadata": {},
          "execution_count": 106
        }
      ]
    },
    {
      "cell_type": "code",
      "source": [
        "x = np.mean(wine_data[:,-2])\n",
        "x"
      ],
      "metadata": {
        "colab": {
          "base_uri": "https://localhost:8080/"
        },
        "id": "q3NUN1GnKh3q",
        "outputId": "f6364138-25f8-45e3-82b8-35b26f17f227"
      },
      "execution_count": 107,
      "outputs": [
        {
          "output_type": "execute_result",
          "data": {
            "text/plain": [
              "np.float64(10.422983114446529)"
            ]
          },
          "metadata": {},
          "execution_count": 107
        }
      ]
    },
    {
      "cell_type": "code",
      "source": [
        "\n",
        "wine_data[wine_data[:,-2]>x][:,-1]     # Greater than"
      ],
      "metadata": {
        "colab": {
          "base_uri": "https://localhost:8080/"
        },
        "id": "JtnU9zL8Kua_",
        "outputId": "56455b84-2920-486a-f11a-85a825f7d007"
      },
      "execution_count": 108,
      "outputs": [
        {
          "output_type": "execute_result",
          "data": {
            "text/plain": [
              "array([5., 5., 7., 6., 6., 5., 5., 6., 4., 5., 5., 5., 5., 6., 5., 5., 6.,\n",
              "       4., 6., 5., 6., 6., 6., 5., 5., 7., 5., 5., 6., 6., 6., 5., 5., 5.,\n",
              "       5., 6., 6., 7., 4., 7., 7., 7., 6., 5., 5., 6., 6., 5., 7., 5., 6.,\n",
              "       5., 7., 5., 8., 6., 6., 8., 7., 7., 7., 7., 5., 6., 5., 6., 7., 7.,\n",
              "       7., 5., 6., 6., 5., 7., 7., 6., 6., 6., 6., 7., 6., 5., 6., 6., 5.,\n",
              "       7., 6., 7., 6., 6., 7., 6., 7., 6., 6., 8., 7., 6., 6., 6., 6., 6.,\n",
              "       6., 7., 6., 7., 6., 5., 7., 7., 5., 7., 5., 7., 6., 6., 7., 6., 6.,\n",
              "       6., 7., 7., 7., 5., 5., 6., 6., 7., 5., 8., 7., 6., 5., 6., 6., 5.,\n",
              "       6., 5., 6., 8., 6., 7., 6., 7., 7., 6., 6., 8., 5., 8., 6., 7., 7.,\n",
              "       7., 7., 7., 7., 7., 7., 7., 6., 6., 5., 5., 6., 6., 6., 7., 5., 6.,\n",
              "       6., 6., 5., 5., 5., 6., 5., 6., 6., 5., 6., 5., 6., 6., 6., 6., 7.,\n",
              "       7., 8., 7., 6., 7., 6., 6., 6., 6., 4., 4., 7., 6., 5., 5., 6., 7.,\n",
              "       4., 5., 5., 5., 3., 6., 6., 5., 6., 4., 6., 6., 5., 6., 6., 6., 5.,\n",
              "       5., 6., 7., 6., 6., 7., 7., 7., 7., 5., 6., 5., 4., 6., 5., 6., 6.,\n",
              "       7., 5., 7., 5., 8., 6., 4., 6., 7., 7., 7., 7., 6., 6., 6., 6., 7.,\n",
              "       6., 7., 7., 6., 6., 6., 6., 6., 6., 6., 5., 7., 7., 7., 4., 6., 6.,\n",
              "       6., 5., 7., 6., 6., 7., 6., 7., 3., 5., 7., 7., 7., 7., 5., 6., 6.,\n",
              "       6., 6., 6., 6., 7., 6., 6., 5., 6., 6., 5., 6., 6., 5., 7., 5., 7.,\n",
              "       5., 5., 6., 6., 7., 5., 7., 7., 7., 7., 7., 7., 7., 7., 7., 7., 7.,\n",
              "       7., 6., 6., 6., 7., 6., 6., 6., 6., 7., 6., 6., 6., 7., 5., 7., 7.,\n",
              "       6., 6., 6., 6., 7., 6., 7., 7., 6., 7., 7., 7., 7., 7., 7., 7., 7.,\n",
              "       5., 7., 6., 6., 7., 6., 6., 6., 6., 5., 6., 7., 6., 5., 7., 7., 7.,\n",
              "       7., 7., 7., 6., 6., 7., 6., 6., 6., 6., 6., 5., 7., 7., 7., 7., 8.,\n",
              "       6., 6., 6., 7., 7., 7., 5., 7., 6., 6., 5., 5., 7., 6., 7., 6., 7.,\n",
              "       6., 8., 6., 6., 7., 6., 5., 6., 7., 6., 6., 6., 6., 6., 5., 6., 7.,\n",
              "       6., 7., 6., 6., 6., 6., 6., 6., 5., 8., 6., 6., 6., 4., 7., 6., 6.,\n",
              "       6., 7., 7., 7., 6., 6., 6., 6., 6., 7., 6., 6., 7., 6., 6., 6., 7.,\n",
              "       7., 6., 5., 7., 7., 7., 6., 6., 6., 6., 6., 6., 4., 7., 5., 6., 6.,\n",
              "       5., 6., 5., 6., 5., 6., 5., 6., 5., 7., 5., 6., 7., 8., 7., 7., 7.,\n",
              "       7., 7., 6., 6., 6., 6., 6., 6., 6., 6., 7., 6., 5., 6., 4., 6., 4.,\n",
              "       6., 5., 5., 6., 6., 6., 5., 5., 6., 6., 6., 4., 6., 6., 8., 6., 6.,\n",
              "       5., 6., 4., 7., 6., 5., 5., 6., 5., 5., 6., 6., 6., 6., 6., 3., 6.,\n",
              "       6., 6., 5., 4., 6., 5., 6., 6., 6., 5., 7., 6., 6., 6., 6., 6., 6.,\n",
              "       6., 6., 6., 5., 5., 5., 6., 6., 5., 6., 6., 6., 6., 6., 6., 6., 5.,\n",
              "       6., 6., 6., 7., 6., 6., 7., 6., 6., 6., 6., 7., 6., 4., 6., 5., 5.,\n",
              "       5., 6., 5., 6., 7., 5., 6., 8., 7., 7., 7., 6., 6., 6., 5., 7., 6.,\n",
              "       4., 5., 6., 5., 7., 7., 5., 5., 5., 4., 5., 5., 6., 6., 5., 5., 6.,\n",
              "       6., 6., 6., 6., 6., 6., 6., 6., 5., 6., 5., 5., 5., 6., 6., 7., 5.,\n",
              "       6., 7., 6., 7., 5., 8., 6., 6., 7., 6., 6., 6., 6., 6., 6., 6., 6.,\n",
              "       6., 6., 6., 6., 5., 6., 5., 5., 7., 6., 6., 6., 6., 6., 6., 6., 5.,\n",
              "       6., 6., 6.])"
            ]
          },
          "metadata": {},
          "execution_count": 108
        }
      ]
    },
    {
      "cell_type": "code",
      "source": [
        "np.mean(wine_data[wine_data[:,-2]>x][:,-1])"
      ],
      "metadata": {
        "colab": {
          "base_uri": "https://localhost:8080/"
        },
        "id": "P4PVVrJcLRQW",
        "outputId": "045e36da-972f-403a-f9fc-411144aa3559"
      },
      "execution_count": 109,
      "outputs": [
        {
          "output_type": "execute_result",
          "data": {
            "text/plain": [
              "np.float64(6.026354319180088)"
            ]
          },
          "metadata": {},
          "execution_count": 109
        }
      ]
    },
    {
      "cell_type": "code",
      "source": [
        "wine_data[wine_data[:,-2]<x]     # less than"
      ],
      "metadata": {
        "colab": {
          "base_uri": "https://localhost:8080/"
        },
        "id": "qT6nvz27LreL",
        "outputId": "e6315212-3f61-47d1-863f-1fd0b31c2531"
      },
      "execution_count": 110,
      "outputs": [
        {
          "output_type": "execute_result",
          "data": {
            "text/plain": [
              "array([[ 7.4  ,  0.7  ,  0.   , ...,  0.56 ,  9.4  ,  5.   ],\n",
              "       [ 7.8  ,  0.88 ,  0.   , ...,  0.68 ,  9.8  ,  5.   ],\n",
              "       [ 7.8  ,  0.76 ,  0.04 , ...,  0.65 ,  9.8  ,  5.   ],\n",
              "       ...,\n",
              "       [ 6.6  ,  0.725,  0.2  , ...,  0.54 ,  9.2  ,  5.   ],\n",
              "       [ 6.8  ,  0.62 ,  0.08 , ...,  0.82 ,  9.5  ,  6.   ],\n",
              "       [ 5.9  ,  0.645,  0.12 , ...,  0.71 , 10.2  ,  5.   ]])"
            ]
          },
          "metadata": {},
          "execution_count": 110
        }
      ]
    },
    {
      "cell_type": "code",
      "source": [
        "np.mean(wine_data[wine_data[:,-2]<x][:,-1])"
      ],
      "metadata": {
        "colab": {
          "base_uri": "https://localhost:8080/"
        },
        "id": "DqppIIJ1MYmz",
        "outputId": "4731f148-4f55-4281-d3f8-9a8aa1fb8fd1"
      },
      "execution_count": 111,
      "outputs": [
        {
          "output_type": "execute_result",
          "data": {
            "text/plain": [
              "np.float64(5.344978165938865)"
            ]
          },
          "metadata": {},
          "execution_count": 111
        }
      ]
    },
    {
      "cell_type": "markdown",
      "source": [
        "###14. Compute the average alcohol percentage for each quality score in the dataset. (Group the data by the quality column and calculate the mean alcohol content for each quality value. Which quality level has the highest average alcohol content?)\n"
      ],
      "metadata": {
        "id": "8qxLQxZ_Fih-"
      }
    },
    {
      "cell_type": "code",
      "source": [
        "for i in np.unique(wine_data[:,-1]):\n",
        "  print(i,wine_data[wine_data[:,-1]==i][:,-2].mean())\n",
        "\n",
        "\n",
        "  print(wine_data[wine_data[:,-1]==i][:,-2].mean())"
      ],
      "metadata": {
        "colab": {
          "base_uri": "https://localhost:8080/"
        },
        "id": "tXFingFEFjTg",
        "outputId": "c16228ef-f94e-4c65-9718-1c383ec7eed1"
      },
      "execution_count": 112,
      "outputs": [
        {
          "output_type": "stream",
          "name": "stdout",
          "text": [
            "3.0 9.955000000000002\n",
            "9.955000000000002\n",
            "4.0 10.265094339622639\n",
            "10.265094339622639\n",
            "5.0 9.899706314243758\n",
            "9.899706314243758\n",
            "6.0 10.629519331243468\n",
            "10.629519331243468\n",
            "7.0 11.465912897822445\n",
            "11.465912897822445\n",
            "8.0 12.094444444444445\n",
            "12.094444444444445\n"
          ]
        }
      ]
    },
    {
      "cell_type": "markdown",
      "source": [
        "###15. Define total acidity as the sum of fixed acidity and volatile acidity for each wine. First, calculate the total acidity for every sample. Next, add this as a new column to the dataset (so the array now has 13 columns). Which wine has the highest total acidity, and what is its quality rating? (Find the index of the max total acidity and check the quality at that index.)\n"
      ],
      "metadata": {
        "id": "E2mUvyFHQv1S"
      }
    },
    {
      "cell_type": "code",
      "source": [
        "column_sum = wine_data[:,0] + wine_data[:,1]\n",
        "sum = np.column_stack((wine_data,column_sum))\n",
        "sum\n",
        "\n"
      ],
      "metadata": {
        "id": "IACOIsHRQx9n",
        "outputId": "722b0cc5-9342-4730-e61b-91720d10a935",
        "colab": {
          "base_uri": "https://localhost:8080/"
        }
      },
      "execution_count": 113,
      "outputs": [
        {
          "output_type": "execute_result",
          "data": {
            "text/plain": [
              "array([[ 7.4  ,  0.7  ,  0.   , ...,  9.4  ,  5.   ,  8.1  ],\n",
              "       [ 7.8  ,  0.88 ,  0.   , ...,  9.8  ,  5.   ,  8.68 ],\n",
              "       [ 7.8  ,  0.76 ,  0.04 , ...,  9.8  ,  5.   ,  8.56 ],\n",
              "       ...,\n",
              "       [ 6.3  ,  0.51 ,  0.13 , ..., 11.   ,  6.   ,  6.81 ],\n",
              "       [ 5.9  ,  0.645,  0.12 , ..., 10.2  ,  5.   ,  6.545],\n",
              "       [ 6.   ,  0.31 ,  0.47 , ..., 11.   ,  6.   ,  6.31 ]])"
            ]
          },
          "metadata": {},
          "execution_count": 113
        }
      ]
    },
    {
      "cell_type": "code",
      "source": [
        "np.savetxt('updated_ex',sum,delimiter=',',header='fixed acidity,volatile acidity,citric acid,residual sugar,chlorides,free sulfur dioxide,total sulfur dioxide,density,pH,sulphates,alcohol,quality,total acidity')\n",
        "print(sum)"
      ],
      "metadata": {
        "id": "nqKc6eBfaTjV",
        "outputId": "4c2823c6-776e-48b2-8c79-c68c735f8beb",
        "colab": {
          "base_uri": "https://localhost:8080/"
        }
      },
      "execution_count": 114,
      "outputs": [
        {
          "output_type": "stream",
          "name": "stdout",
          "text": [
            "[[ 7.4    0.7    0.    ...  9.4    5.     8.1  ]\n",
            " [ 7.8    0.88   0.    ...  9.8    5.     8.68 ]\n",
            " [ 7.8    0.76   0.04  ...  9.8    5.     8.56 ]\n",
            " ...\n",
            " [ 6.3    0.51   0.13  ... 11.     6.     6.81 ]\n",
            " [ 5.9    0.645  0.12  ... 10.2    5.     6.545]\n",
            " [ 6.     0.31   0.47  ... 11.     6.     6.31 ]]\n"
          ]
        }
      ]
    },
    {
      "cell_type": "code",
      "source": [
        "np.unique(sum[:,-1])"
      ],
      "metadata": {
        "id": "EiDvVUQraBaa",
        "outputId": "a3381881-357e-4145-af7e-2113226d550f",
        "colab": {
          "base_uri": "https://localhost:8080/"
        }
      },
      "execution_count": 115,
      "outputs": [
        {
          "output_type": "execute_result",
          "data": {
            "text/plain": [
              "array([ 5.12 ,  5.3  ,  5.32 ,  5.38 ,  5.4  ,  5.42 ,  5.52 ,  5.52 ,\n",
              "        5.54 ,  5.57 ,  5.61 ,  5.68 ,  5.685,  5.69 ,  5.74 ,  5.77 ,\n",
              "        5.82 ,  5.845,  5.87 ,  5.91 ,  5.98 ,  5.99 ,  6.015,  6.02 ,\n",
              "        6.04 ,  6.09 ,  6.09 ,  6.1  ,  6.14 ,  6.14 ,  6.19 ,  6.205,\n",
              "        6.215,  6.22 ,  6.235,  6.26 ,  6.295,  6.3  ,  6.31 ,  6.33 ,\n",
              "        6.34 ,  6.36 ,  6.41 ,  6.42 ,  6.44 ,  6.45 ,  6.45 ,  6.48 ,\n",
              "        6.49 ,  6.5  ,  6.51 ,  6.51 ,  6.515,  6.54 ,  6.545,  6.56 ,\n",
              "        6.58 ,  6.59 ,  6.6  ,  6.63 ,  6.64 ,  6.64 ,  6.65 ,  6.66 ,\n",
              "        6.68 ,  6.69 ,  6.7  ,  6.71 ,  6.72 ,  6.74 ,  6.76 ,  6.76 ,\n",
              "        6.77 ,  6.77 ,  6.78 ,  6.79 ,  6.8  ,  6.8  ,  6.805,  6.81 ,\n",
              "        6.815,  6.82 ,  6.83 ,  6.84 ,  6.85 ,  6.85 ,  6.86 ,  6.87 ,\n",
              "        6.89 ,  6.9  ,  6.9  ,  6.93 ,  6.96 ,  6.96 ,  6.97 ,  6.98 ,\n",
              "        6.98 ,  6.985,  6.99 ,  7.01 ,  7.02 ,  7.02 ,  7.03 ,  7.04 ,\n",
              "        7.06 ,  7.07 ,  7.08 ,  7.09 ,  7.1  ,  7.11 ,  7.115,  7.12 ,\n",
              "        7.12 ,  7.13 ,  7.16 ,  7.17 ,  7.18 ,  7.19 ,  7.195,  7.21 ,\n",
              "        7.22 ,  7.23 ,  7.23 ,  7.24 ,  7.24 ,  7.26 ,  7.26 ,  7.265,\n",
              "        7.27 ,  7.28 ,  7.28 ,  7.285,  7.29 ,  7.295,  7.3  ,  7.3  ,\n",
              "        7.305,  7.31 ,  7.31 ,  7.32 ,  7.32 ,  7.325,  7.335,  7.34 ,\n",
              "        7.34 ,  7.35 ,  7.36 ,  7.36 ,  7.37 ,  7.37 ,  7.375,  7.38 ,\n",
              "        7.38 ,  7.385,  7.39 ,  7.39 ,  7.4  ,  7.4  ,  7.41 ,  7.41 ,\n",
              "        7.415,  7.42 ,  7.43 ,  7.44 ,  7.44 ,  7.45 ,  7.45 ,  7.455,\n",
              "        7.46 ,  7.46 ,  7.47 ,  7.47 ,  7.48 ,  7.48 ,  7.49 ,  7.49 ,\n",
              "        7.495,  7.5  ,  7.505,  7.51 ,  7.53 ,  7.53 ,  7.535,  7.54 ,\n",
              "        7.55 ,  7.555,  7.56 ,  7.56 ,  7.57 ,  7.57 ,  7.575,  7.58 ,\n",
              "        7.585,  7.585,  7.59 ,  7.6  ,  7.605,  7.61 ,  7.61 ,  7.615,\n",
              "        7.62 ,  7.62 ,  7.63 ,  7.64 ,  7.64 ,  7.65 ,  7.65 ,  7.655,\n",
              "        7.66 ,  7.665,  7.68 ,  7.685,  7.69 ,  7.69 ,  7.7  ,  7.7  ,\n",
              "        7.71 ,  7.715,  7.72 ,  7.72 ,  7.73 ,  7.73 ,  7.735,  7.74 ,\n",
              "        7.745,  7.75 ,  7.76 ,  7.76 ,  7.77 ,  7.77 ,  7.78 ,  7.78 ,\n",
              "        7.785,  7.79 ,  7.79 ,  7.8  ,  7.805,  7.81 ,  7.81 ,  7.815,\n",
              "        7.82 ,  7.82 ,  7.83 ,  7.835,  7.845,  7.85 ,  7.85 ,  7.855,\n",
              "        7.855,  7.86 ,  7.87 ,  7.88 ,  7.885,  7.89 ,  7.89 ,  7.895,\n",
              "        7.9  ,  7.9  ,  7.91 ,  7.91 ,  7.92 ,  7.925,  7.93 ,  7.93 ,\n",
              "        7.94 ,  7.95 ,  7.95 ,  7.96 ,  7.97 ,  7.97 ,  7.975,  7.98 ,\n",
              "        7.99 ,  7.99 ,  7.995,  8.   ,  8.01 ,  8.02 ,  8.03 ,  8.03 ,\n",
              "        8.035,  8.04 ,  8.04 ,  8.05 ,  8.06 ,  8.07 ,  8.08 ,  8.09 ,\n",
              "        8.1  ,  8.11 ,  8.12 ,  8.13 ,  8.135,  8.14 ,  8.15 ,  8.18 ,\n",
              "        8.185,  8.19 ,  8.2  ,  8.2  ,  8.205,  8.21 ,  8.21 ,  8.22 ,\n",
              "        8.22 ,  8.225,  8.23 ,  8.24 ,  8.245,  8.25 ,  8.255,  8.26 ,\n",
              "        8.265,  8.27 ,  8.28 ,  8.285,  8.3  ,  8.31 ,  8.315,  8.32 ,\n",
              "        8.33 ,  8.335,  8.34 ,  8.345,  8.35 ,  8.36 ,  8.365,  8.37 ,\n",
              "        8.37 ,  8.38 ,  8.38 ,  8.39 ,  8.39 ,  8.4  ,  8.4  ,  8.405,\n",
              "        8.41 ,  8.415,  8.42 ,  8.43 ,  8.44 ,  8.44 ,  8.445,  8.45 ,\n",
              "        8.46 ,  8.47 ,  8.475,  8.48 ,  8.48 ,  8.5  ,  8.51 ,  8.52 ,\n",
              "        8.53 ,  8.535,  8.54 ,  8.55 ,  8.55 ,  8.56 ,  8.57 ,  8.58 ,\n",
              "        8.585,  8.59 ,  8.6  ,  8.6  ,  8.61 ,  8.615,  8.62 ,  8.62 ,\n",
              "        8.63 ,  8.63 ,  8.635,  8.64 ,  8.64 ,  8.645,  8.65 ,  8.66 ,\n",
              "        8.665,  8.67 ,  8.675,  8.68 ,  8.69 ,  8.7  ,  8.705,  8.71 ,\n",
              "        8.71 ,  8.715,  8.72 ,  8.725,  8.73 ,  8.74 ,  8.745,  8.76 ,\n",
              "        8.77 ,  8.78 ,  8.785,  8.79 ,  8.79 ,  8.8  ,  8.81 ,  8.82 ,\n",
              "        8.825,  8.83 ,  8.835,  8.84 ,  8.86 ,  8.87 ,  8.88 ,  8.88 ,\n",
              "        8.885,  8.9  ,  8.9  ,  8.91 ,  8.915,  8.915,  8.92 ,  8.925,\n",
              "        8.925,  8.93 ,  8.94 ,  8.94 ,  8.95 ,  8.955,  8.96 ,  8.97 ,\n",
              "        8.97 ,  8.975,  8.98 ,  8.98 ,  8.99 ,  8.99 ,  9.   ,  9.005,\n",
              "        9.01 ,  9.015,  9.02 ,  9.03 ,  9.035,  9.04 ,  9.05 ,  9.05 ,\n",
              "        9.06 ,  9.065,  9.07 ,  9.08 ,  9.085,  9.085,  9.09 ,  9.1  ,\n",
              "        9.11 ,  9.11 ,  9.115,  9.115,  9.12 ,  9.12 ,  9.13 ,  9.13 ,\n",
              "        9.14 ,  9.145,  9.145,  9.15 ,  9.155,  9.16 ,  9.17 ,  9.18 ,\n",
              "        9.19 ,  9.2  ,  9.2  ,  9.21 ,  9.22 ,  9.22 ,  9.23 ,  9.235,\n",
              "        9.24 ,  9.24 ,  9.245,  9.25 ,  9.26 ,  9.27 ,  9.28 ,  9.285,\n",
              "        9.3  ,  9.31 ,  9.32 ,  9.325,  9.33 ,  9.35 ,  9.35 ,  9.36 ,\n",
              "        9.375,  9.38 ,  9.38 ,  9.39 ,  9.39 ,  9.4  ,  9.4  ,  9.41 ,\n",
              "        9.43 ,  9.435,  9.44 ,  9.44 ,  9.45 ,  9.46 ,  9.46 ,  9.465,\n",
              "        9.47 ,  9.47 ,  9.48 ,  9.48 ,  9.485,  9.49 ,  9.495,  9.5  ,\n",
              "        9.51 ,  9.52 ,  9.53 ,  9.535,  9.54 ,  9.55 ,  9.56 ,  9.57 ,\n",
              "        9.58 ,  9.6  ,  9.61 ,  9.62 ,  9.62 ,  9.63 ,  9.63 ,  9.64 ,\n",
              "        9.645,  9.65 ,  9.66 ,  9.67 ,  9.68 ,  9.69 ,  9.69 ,  9.7  ,\n",
              "        9.7  ,  9.71 ,  9.72 ,  9.73 ,  9.73 ,  9.74 ,  9.74 ,  9.755,\n",
              "        9.76 ,  9.775,  9.78 ,  9.78 ,  9.785,  9.79 ,  9.79 ,  9.795,\n",
              "        9.8  ,  9.81 ,  9.82 ,  9.83 ,  9.86 ,  9.865,  9.87 ,  9.875,\n",
              "        9.885,  9.89 ,  9.895,  9.9  ,  9.91 ,  9.92 ,  9.93 ,  9.955,\n",
              "        9.96 ,  9.98 ,  9.99 ,  9.995, 10.01 , 10.015, 10.02 , 10.05 ,\n",
              "       10.06 , 10.07 , 10.075, 10.085, 10.09 , 10.1  , 10.1  , 10.12 ,\n",
              "       10.14 , 10.15 , 10.16 , 10.17 , 10.19 , 10.2  , 10.22 , 10.23 ,\n",
              "       10.235, 10.24 , 10.25 , 10.26 , 10.28 , 10.29 , 10.3  , 10.31 ,\n",
              "       10.32 , 10.34 , 10.35 , 10.36 , 10.37 , 10.38 , 10.38 , 10.385,\n",
              "       10.39 , 10.39 , 10.4  , 10.41 , 10.42 , 10.43 , 10.44 , 10.44 ,\n",
              "       10.46 , 10.47 , 10.47 , 10.48 , 10.49 , 10.49 , 10.53 , 10.53 ,\n",
              "       10.54 , 10.55 , 10.56 , 10.56 , 10.57 , 10.58 , 10.59 , 10.6  ,\n",
              "       10.61 , 10.62 , 10.62 , 10.64 , 10.64 , 10.66 , 10.68 , 10.68 ,\n",
              "       10.69 , 10.71 , 10.73 , 10.74 , 10.74 , 10.75 , 10.76 , 10.78 ,\n",
              "       10.78 , 10.8  , 10.81 , 10.83 , 10.84 , 10.845, 10.86 , 10.87 ,\n",
              "       10.88 , 10.89 , 10.91 , 10.92 , 10.93 , 10.94 , 10.95 , 10.96 ,\n",
              "       10.975, 11.01 , 11.02 , 11.035, 11.04 , 11.04 , 11.05 , 11.06 ,\n",
              "       11.08 , 11.09 , 11.1  , 11.11 , 11.12 , 11.13 , 11.16 , 11.2  ,\n",
              "       11.2  , 11.22 , 11.22 , 11.25 , 11.26 , 11.27 , 11.27 , 11.28 ,\n",
              "       11.29 , 11.3  , 11.37 , 11.41 , 11.43 , 11.45 , 11.48 , 11.49 ,\n",
              "       11.52 , 11.54 , 11.55 , 11.6  , 11.62 , 11.625, 11.64 , 11.66 ,\n",
              "       11.67 , 11.68 , 11.69 , 11.7  , 11.76 , 11.8  , 11.81 , 11.815,\n",
              "       11.83 , 11.85 , 11.86 , 11.86 , 11.87 , 11.91 , 11.92 , 11.95 ,\n",
              "       11.98 , 12.   , 12.01 , 12.02 , 12.025, 12.04 , 12.06 , 12.07 ,\n",
              "       12.075, 12.09 , 12.13 , 12.13 , 12.15 , 12.18 , 12.18 , 12.19 ,\n",
              "       12.27 , 12.28 , 12.28 , 12.29 , 12.3  , 12.33 , 12.37 , 12.38 ,\n",
              "       12.39 , 12.45 , 12.47 , 12.48 , 12.5  , 12.54 , 12.57 , 12.595,\n",
              "       12.63 , 12.65 , 12.68 , 12.69 , 12.75 , 12.78 , 12.8  , 12.82 ,\n",
              "       12.87 , 12.88 , 12.89 , 12.91 , 12.96 , 12.98 , 12.99 , 13.01 ,\n",
              "       13.06 , 13.1  , 13.1  , 13.25 , 13.29 , 13.3  , 13.32 , 13.4  ,\n",
              "       13.415, 13.47 , 13.58 , 13.59 , 13.64 , 13.66 , 13.67 , 13.73 ,\n",
              "       14.03 , 14.115, 14.29 , 14.41 , 14.61 , 15.21 , 16.145, 16.245,\n",
              "       16.26 , 16.285])"
            ]
          },
          "metadata": {},
          "execution_count": 115
        }
      ]
    },
    {
      "cell_type": "code",
      "source": [
        "np.argsort(sum[:,-1][:5])"
      ],
      "metadata": {
        "id": "6NZt0H5XbNMr",
        "outputId": "7ec3b977-6132-4df2-ce1e-cab9b014cd0c",
        "colab": {
          "base_uri": "https://localhost:8080/"
        }
      },
      "execution_count": 116,
      "outputs": [
        {
          "output_type": "execute_result",
          "data": {
            "text/plain": [
              "array([0, 4, 2, 1, 3])"
            ]
          },
          "metadata": {},
          "execution_count": 116
        }
      ]
    },
    {
      "cell_type": "markdown",
      "source": [
        "###16. Compute the Pearson correlation coefficient between alcohol content and quality. (Use NumPy to see if higher alcohol correlates with higher quality. A positive correlation would indicate that as alcohol increases, quality tends to increase.)\n",
        "\n",
        "\n",
        "\n",
        "- The Pearson correlation coefficient measures the linear relationship between two variables, ranging from -1 (perfect negative correlation) to +1 (perfect positive correlation). A value close to 0 indicates no linear correlation.\n",
        "\n"
      ],
      "metadata": {
        "id": "y7Kb4d_JTnqK"
      }
    },
    {
      "cell_type": "code",
      "source": [
        "alcohol = wine_data[:,-2]\n",
        "quality = wine_data[:,-1]\n",
        "\n",
        "# Compute the Pearson correlation coefficient\n",
        "correlation_matrix = np.corrcoef(alcohol, quality)\n",
        "correlation_matrix\n",
        "\n",
        "# pearson correlation\n",
        "pearson_correlation = correlation_matrix[0, 1]\n",
        "print(\"Pearson correlation coefficient:\", pearson_correlation)\n"
      ],
      "metadata": {
        "id": "T7eNgJW3uxQA",
        "outputId": "92a92d23-ede9-49e8-be18-ecf1c1748dd7",
        "colab": {
          "base_uri": "https://localhost:8080/"
        }
      },
      "execution_count": 118,
      "outputs": [
        {
          "output_type": "stream",
          "name": "stdout",
          "text": [
            "Pearson correlation coefficient: 0.47616632400113584\n"
          ]
        }
      ]
    },
    {
      "cell_type": "markdown",
      "source": [
        "###17. How many wines have quality >= 7 and alcohol > 10%? (In other words, count the wines that are high quality and also have relatively high alcohol. Use a boolean condition combining both criteria.)\n",
        "###18.Which feature exhibits the greatest variability among all the wines? (Calculate the standard deviation of each feature column (consider the 11 physicochemical features) and identify which feature has the highest standard deviation.)\n",
        "###19. Compare the mean volatile acidity of high-quality wines versus lower-quality wines. (Consider wines with quality ≥ 7 as \"high quality\" and those with quality ≤ 6 as \"lower quality\". Compute the average volatile acidity in each group. Do high-quality wines have lower volatile acidity on average?)\n",
        "###20. What is the highest quality score attained by any red wine in the dataset, and how many samples achieved that score? (Find the maximum value in the quality column, and count how many wines have that maximum quality.)"
      ],
      "metadata": {
        "id": "yLk-cTi4w1dd"
      }
    },
    {
      "cell_type": "code",
      "source": [],
      "metadata": {
        "id": "I5YCCnhhw2E0"
      },
      "execution_count": null,
      "outputs": []
    }
  ]
}