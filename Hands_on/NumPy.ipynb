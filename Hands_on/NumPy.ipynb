{
  "nbformat": 4,
  "nbformat_minor": 0,
  "metadata": {
    "colab": {
      "provenance": [],
      "include_colab_link": true
    },
    "kernelspec": {
      "name": "python3",
      "display_name": "Python 3"
    },
    "language_info": {
      "name": "python"
    }
  },
  "cells": [
    {
      "cell_type": "markdown",
      "metadata": {
        "id": "view-in-github",
        "colab_type": "text"
      },
      "source": [
        "<a href=\"https://colab.research.google.com/github/SANGRAMLEMBE/Hands_on_ML/blob/main/Hands_on/NumPy.ipynb\" target=\"_parent\"><img src=\"https://colab.research.google.com/assets/colab-badge.svg\" alt=\"Open In Colab\"/></a>"
      ]
    },
    {
      "cell_type": "markdown",
      "source": [
        "### What is NumPy?\n",
        "\n",
        "NumPy (short for Numerical Python) is a fundamental package in Python used for scientific computing. It provides support for:\n",
        "\n",
        "#### Key Features:\n",
        "- Works with 1D, 2D, and higher-dimensional arrays\n",
        "- Fast math operations (like sum, mean, etc.)\n",
        "- Supports matrix and linear algebra\n",
        "\n"
      ],
      "metadata": {
        "id": "rH0xy0dDYupb"
      }
    },
    {
      "cell_type": "markdown",
      "source": [
        "# Using NumPy for Smart Fitness Score Calculation\n",
        "\n",
        "## 🏋️ Scenario: Fitness Performance Scoring\n",
        "\n",
        "You run a fitness platform that evaluates daily performance using three metrics:\n",
        "- Minutes of exercise\n",
        "- Liters of water consumed\n",
        "- Hours of sleep\n",
        "\n",
        "You want to assign a **daily fitness score** based on how well a user balances these metrics.\n",
        "---\n",
        "\n",
        "##Fitness Score Formula\n",
        "\n",
        "We will use a simple linear formula:\n",
        "\n",
        "score = w1 * exercise + w2 * water + w3 * sleep"
      ],
      "metadata": {
        "id": "XkhXxMt44UWl"
      }
    },
    {
      "cell_type": "markdown",
      "source": [
        "\n",
        "Where `w1`, `w2`, and `w3` reflect the importance of each metric.\n",
        "\n",
        "---\n",
        "\n",
        "##Define the Weights and Sample Data\n"
      ],
      "metadata": {
        "id": "du1SrG844o7U"
      }
    },
    {
      "cell_type": "code",
      "source": [
        "# Assigning importance to each factor\n",
        "weights = [0.5, 0.2, 0.3]  # More emphasis on exercise\n",
        "\n",
        "# Sample user data: [exercise_minutes, water_liters, sleep_hours]\n",
        "day1 = [45, 2.0, 6.5]\n",
        "day2 = [30, 1.5, 8.0]\n",
        "day3 = [60, 3.0, 7.0]"
      ],
      "metadata": {
        "id": "5kRj-Lgn40V8"
      },
      "execution_count": 74,
      "outputs": []
    },
    {
      "cell_type": "code",
      "execution_count": 75,
      "metadata": {
        "colab": {
          "base_uri": "https://localhost:8080/"
        },
        "id": "AWBwb-984HbM",
        "outputId": "f6853623-9c7c-41ae-8b72-6bfc3fac49a8"
      },
      "outputs": [
        {
          "output_type": "stream",
          "name": "stdout",
          "text": [
            "24.849999999999998\n",
            "17.7\n",
            "32.7\n"
          ]
        }
      ],
      "source": [
        "def compute_score(day_data, weights):\n",
        "    result = 0\n",
        "    for i in range(len(day_data)):\n",
        "        result += day_data[i] * weights[i]\n",
        "    return result\n",
        "\n",
        "# Example usage\n",
        "print(compute_score(day1, weights))  # Output: Fitness score for day1\n",
        "print(compute_score(day2, weights))\n",
        "print(compute_score(day3, weights))\n"
      ]
    },
    {
      "cell_type": "code",
      "source": [
        "weight = [0.4,0.6,0.3]\n",
        "\n",
        "# sample student data = [\"college_lecture\", \"self_study\" , \"Hack_a_thon\" ]\n",
        "stud_1 = [40,15,2]\n",
        "stud_2 = [35,20,3]\n",
        "stud_3 = [45,10,1]\n",
        "\n",
        "def chances_of_placement(stud_data , weight):\n",
        "  result = 0\n",
        "  for i in range(len(stud_data)):\n",
        "    result += stud_data[i]*weight[i]\n",
        "  return result\n",
        "\n",
        "print(chances_of_placement(stud_1,weight))\n",
        "print(chances_of_placement(stud_2,weight))\n",
        "print(chances_of_placement(stud_3,weight))"
      ],
      "metadata": {
        "colab": {
          "base_uri": "https://localhost:8080/"
        },
        "id": "I29ZnfZ23JDq",
        "outputId": "28edcb1c-1469-4c95-9724-23d10cda64e6"
      },
      "execution_count": 76,
      "outputs": [
        {
          "output_type": "stream",
          "name": "stdout",
          "text": [
            "25.6\n",
            "26.9\n",
            "24.3\n"
          ]
        }
      ]
    },
    {
      "cell_type": "markdown",
      "source": [
        "### using Zip function\n",
        "The zip() function in Python is a built-in function used to combine multiple iterables (like lists, tuples, or strings) element-wise into a single iterable of tuples. It pairs corresponding elements from each input iterable."
      ],
      "metadata": {
        "id": "d_X37afuCkON"
      }
    },
    {
      "cell_type": "code",
      "source": [
        "list1 = [1, 2, 3]\n",
        "list2 = ['a', 'b', 'c']\n",
        "zipped_result = zip(list1, list2)\n",
        "\n",
        "# Convert the zip object to a list to view the contents\n",
        "print(list(zipped_result))"
      ],
      "metadata": {
        "colab": {
          "base_uri": "https://localhost:8080/"
        },
        "id": "t27MZYDcCwaz",
        "outputId": "b704ad1d-c406-450e-985b-a0f1c67d54fe"
      },
      "execution_count": 77,
      "outputs": [
        {
          "output_type": "stream",
          "name": "stdout",
          "text": [
            "[(1, 'a'), (2, 'b'), (3, 'c')]\n"
          ]
        }
      ]
    },
    {
      "cell_type": "code",
      "source": [
        "list1 = [\"sangram\",\"Jeevan\",\"Himanshu\",\"Divyanshu\"]\n",
        "list2 = [80,85,65,30]\n",
        "zipped_list = zip(list1,list2)\n",
        "print(list(zipped_list))\n",
        "print(zipped_list)"
      ],
      "metadata": {
        "colab": {
          "base_uri": "https://localhost:8080/"
        },
        "id": "Mxuh82Nu57eR",
        "outputId": "cdd32d8b-28f1-4c5f-f287-72efe31e109b"
      },
      "execution_count": 78,
      "outputs": [
        {
          "output_type": "stream",
          "name": "stdout",
          "text": [
            "[('sangram', 80), ('Jeevan', 85), ('Himanshu', 65), ('Divyanshu', 30)]\n",
            "<zip object at 0x7dc3c4a03a00>\n"
          ]
        }
      ]
    },
    {
      "cell_type": "code",
      "source": [
        "print(list(zip(day1,weights)))"
      ],
      "metadata": {
        "colab": {
          "base_uri": "https://localhost:8080/"
        },
        "id": "gOmJ3CqD7Hsv",
        "outputId": "a66afeae-42c1-4842-8ddb-9d801dc586ef"
      },
      "execution_count": 79,
      "outputs": [
        {
          "output_type": "stream",
          "name": "stdout",
          "text": [
            "[(45, 0.5), (2.0, 0.2), (6.5, 0.3)]\n"
          ]
        }
      ]
    },
    {
      "cell_type": "code",
      "source": [
        "print(list(zip(stud_2,weight)))"
      ],
      "metadata": {
        "colab": {
          "base_uri": "https://localhost:8080/"
        },
        "id": "4Buh_2rD6pA5",
        "outputId": "31252c6c-0bef-496d-a10b-7323c70cb31d"
      },
      "execution_count": 80,
      "outputs": [
        {
          "output_type": "stream",
          "name": "stdout",
          "text": [
            "[(35, 0.4), (20, 0.6), (3, 0.3)]\n"
          ]
        }
      ]
    },
    {
      "cell_type": "code",
      "source": [
        "def compute_score(day_data, weights):\n",
        "    result = 0\n",
        "    for data,w in zip(day_data,weights):\n",
        "        result += data*w\n",
        "\n",
        "    return result\n",
        "\n",
        "# Example usage\n",
        "print(compute_score(day1, weights))\n",
        "print(compute_score(day2, weights))\n",
        "print(compute_score(day3, weights))"
      ],
      "metadata": {
        "colab": {
          "base_uri": "https://localhost:8080/"
        },
        "id": "4AnOhoxyC3wm",
        "outputId": "f460cbdf-023e-4ef6-e799-7d0afc992baf"
      },
      "execution_count": 81,
      "outputs": [
        {
          "output_type": "stream",
          "name": "stdout",
          "text": [
            "24.849999999999998\n",
            "17.7\n",
            "32.7\n"
          ]
        }
      ]
    },
    {
      "cell_type": "code",
      "source": [
        "def chances_of_placement(stud_data,weight):\n",
        "  result = 0\n",
        "  for data,w in zip(stud_data,weight):\n",
        "    result += data*w\n",
        "  return result\n",
        "\n",
        "print(chances_of_placement(stud_1,weight))\n",
        "print(chances_of_placement(stud_2,weight))\n",
        "print(chances_of_placement(stud_3,weight))"
      ],
      "metadata": {
        "colab": {
          "base_uri": "https://localhost:8080/"
        },
        "id": "oV9n8IVH7KSS",
        "outputId": "f9df8dfb-8a9f-48fd-cf6c-60c8be568de3"
      },
      "execution_count": 82,
      "outputs": [
        {
          "output_type": "stream",
          "name": "stdout",
          "text": [
            "25.6\n",
            "26.9\n",
            "24.3\n"
          ]
        }
      ]
    },
    {
      "cell_type": "markdown",
      "source": [
        " ## Now Use NumPy"
      ],
      "metadata": {
        "id": "dDKWo6gf5t5H"
      }
    },
    {
      "cell_type": "code",
      "source": [
        "import numpy as np\n"
      ],
      "metadata": {
        "id": "cqZ18SGG5yMV"
      },
      "execution_count": 83,
      "outputs": []
    },
    {
      "cell_type": "markdown",
      "source": [
        "###Convert Lists to Arrays"
      ],
      "metadata": {
        "id": "RyAR3M1N51_r"
      }
    },
    {
      "cell_type": "code",
      "source": [
        "day1 = np.array([45, 2.0, 6.5])\n",
        "weights = np.array([0.5, 0.2, 0.3])\n"
      ],
      "metadata": {
        "id": "928RSwjP5zTv"
      },
      "execution_count": 84,
      "outputs": []
    },
    {
      "cell_type": "code",
      "source": [
        "type(day1)\n",
        "type(weights)"
      ],
      "metadata": {
        "colab": {
          "base_uri": "https://localhost:8080/"
        },
        "id": "CxeQOZXcdMyK",
        "outputId": "1caaac53-e2c3-4b77-fcda-98ac84a4a0bf"
      },
      "execution_count": 85,
      "outputs": [
        {
          "output_type": "execute_result",
          "data": {
            "text/plain": [
              "numpy.ndarray"
            ]
          },
          "metadata": {},
          "execution_count": 85
        }
      ]
    },
    {
      "cell_type": "code",
      "source": [
        "day1[0]"
      ],
      "metadata": {
        "colab": {
          "base_uri": "https://localhost:8080/"
        },
        "id": "mWPsGmwvdZFc",
        "outputId": "9906e93c-c301-4c53-fb0b-5bef35201bcd"
      },
      "execution_count": 86,
      "outputs": [
        {
          "output_type": "execute_result",
          "data": {
            "text/plain": [
              "np.float64(45.0)"
            ]
          },
          "metadata": {},
          "execution_count": 86
        }
      ]
    },
    {
      "cell_type": "code",
      "source": [
        "weights[1]"
      ],
      "metadata": {
        "colab": {
          "base_uri": "https://localhost:8080/"
        },
        "id": "_d5-VYDB8viO",
        "outputId": "e0a02bbf-226f-4e28-b957-d46d66ed30f8"
      },
      "execution_count": 87,
      "outputs": [
        {
          "output_type": "execute_result",
          "data": {
            "text/plain": [
              "np.float64(0.2)"
            ]
          },
          "metadata": {},
          "execution_count": 87
        }
      ]
    },
    {
      "cell_type": "code",
      "source": [
        "a = 5.0\n",
        "print(type(a))"
      ],
      "metadata": {
        "colab": {
          "base_uri": "https://localhost:8080/"
        },
        "id": "T8RLQezVDfPy",
        "outputId": "03a7e892-9577-4250-d8f0-d9dc6296b7de"
      },
      "execution_count": 88,
      "outputs": [
        {
          "output_type": "stream",
          "name": "stdout",
          "text": [
            "<class 'float'>\n"
          ]
        }
      ]
    },
    {
      "cell_type": "markdown",
      "source": [
        "# Dot method\n"
      ],
      "metadata": {
        "id": "4_M7ytcY9ChY"
      }
    },
    {
      "cell_type": "code",
      "source": [
        "score = np.dot(day1, weights)\n",
        "print(\"Fitness Score:\", score)\n"
      ],
      "metadata": {
        "colab": {
          "base_uri": "https://localhost:8080/"
        },
        "id": "y3x8wSr0588O",
        "outputId": "7602dec2-7d2f-406c-f2cc-98542c1760fa"
      },
      "execution_count": 89,
      "outputs": [
        {
          "output_type": "stream",
          "name": "stdout",
          "text": [
            "Fitness Score: 24.849999999999998\n"
          ]
        }
      ]
    },
    {
      "cell_type": "code",
      "source": [
        "placement_chance = np.dot(stud_2,weight)\n",
        "print(\"Student 2 Placement Chances score is \",placement_chance)"
      ],
      "metadata": {
        "colab": {
          "base_uri": "https://localhost:8080/"
        },
        "id": "ZLLzvxNp9HrF",
        "outputId": "d0bccf73-6f32-4954-f5f3-95941397a89e"
      },
      "execution_count": 90,
      "outputs": [
        {
          "output_type": "stream",
          "name": "stdout",
          "text": [
            "Student 2 Placement Chances score is  26.9\n"
          ]
        }
      ]
    },
    {
      "cell_type": "markdown",
      "source": [
        "### Or:"
      ],
      "metadata": {
        "id": "uf7YCVr_6BJ2"
      }
    },
    {
      "cell_type": "code",
      "source": [
        "print(day1*weights)"
      ],
      "metadata": {
        "colab": {
          "base_uri": "https://localhost:8080/"
        },
        "id": "XlJ7uPC8Eujm",
        "outputId": "7c8a7e1c-51f2-4c55-b3f2-2089b518c5b2"
      },
      "execution_count": 91,
      "outputs": [
        {
          "output_type": "stream",
          "name": "stdout",
          "text": [
            "[22.5   0.4   1.95]\n"
          ]
        }
      ]
    },
    {
      "cell_type": "code",
      "source": [
        "(day1 * weights).sum()\n"
      ],
      "metadata": {
        "colab": {
          "base_uri": "https://localhost:8080/"
        },
        "id": "R5LClXWt6DR0",
        "outputId": "69c72dab-ac1e-4115-9144-27aaa107af5f"
      },
      "execution_count": 92,
      "outputs": [
        {
          "output_type": "execute_result",
          "data": {
            "text/plain": [
              "np.float64(24.849999999999998)"
            ]
          },
          "metadata": {},
          "execution_count": 92
        }
      ]
    },
    {
      "cell_type": "code",
      "source": [
        "print(stud_2,weight)\n",
        "print(type(stud_2))\n",
        "\n",
        "# convert list into numpy array\n",
        "\n",
        "stud_2 = np.array(stud_2)\n",
        "weight = np.array(weight)\n",
        "\n",
        "\n",
        "print(stud_2 * weight)\n",
        "print(type(stud_2))\n",
        "\n",
        "(stud_2 * weight).sum()"
      ],
      "metadata": {
        "colab": {
          "base_uri": "https://localhost:8080/"
        },
        "id": "O9DzTSbP9reC",
        "outputId": "2f5c8e2f-e877-44ec-aae4-07cbf85c9fae"
      },
      "execution_count": 93,
      "outputs": [
        {
          "output_type": "stream",
          "name": "stdout",
          "text": [
            "[35, 20, 3] [0.4, 0.6, 0.3]\n",
            "<class 'list'>\n",
            "[14.  12.   0.9]\n",
            "<class 'numpy.ndarray'>\n"
          ]
        },
        {
          "output_type": "execute_result",
          "data": {
            "text/plain": [
              "np.float64(26.9)"
            ]
          },
          "metadata": {},
          "execution_count": 93
        }
      ]
    },
    {
      "cell_type": "markdown",
      "source": [
        "### Compare performance of Python loop vs NumPy dot product"
      ],
      "metadata": {
        "id": "yqwz8mHjFGhh"
      }
    },
    {
      "cell_type": "code",
      "source": [
        "\n",
        "workout_minutes = list(range(30, 1000000))\n",
        "calories_burned = list(range(30, 1000000))\n",
        "\n",
        "# Convert to NumPy arrays\n",
        "workout_np = np.array(workout_minutes)\n",
        "calories_np = np.array(calories_burned)\n",
        "\n",
        "# Compare performance of Python loop vs NumPy dot product\n"
      ],
      "metadata": {
        "id": "3ydBrZhbf7YL"
      },
      "execution_count": 94,
      "outputs": []
    },
    {
      "cell_type": "code",
      "source": [
        "%%time\n",
        "energy_score_loop = 0\n",
        "for w, c in zip(workout_minutes, calories_burned):\n",
        "    energy_score_loop += w * c\n",
        "print(energy_score_loop)"
      ],
      "metadata": {
        "colab": {
          "base_uri": "https://localhost:8080/"
        },
        "id": "LKL7LGA5glIt",
        "outputId": "9dc74440-a724-47c0-be55-b5b15b743f71"
      },
      "execution_count": 95,
      "outputs": [
        {
          "output_type": "stream",
          "name": "stdout",
          "text": [
            "333332833333491445\n",
            "CPU times: user 201 ms, sys: 0 ns, total: 201 ms\n",
            "Wall time: 205 ms\n"
          ]
        }
      ]
    },
    {
      "cell_type": "markdown",
      "source": [
        "### Using NumPy vectorized dot product"
      ],
      "metadata": {
        "id": "1_De4sM-goYM"
      }
    },
    {
      "cell_type": "code",
      "source": [
        "%%time\n",
        "energy_score_np = np.dot(workout_np, calories_np)\n",
        "print(energy_score_np)"
      ],
      "metadata": {
        "colab": {
          "base_uri": "https://localhost:8080/"
        },
        "id": "mul4mSQ3gp4M",
        "outputId": "6ee3fbec-5d0f-45d9-e71c-5ec399c1eed4"
      },
      "execution_count": 96,
      "outputs": [
        {
          "output_type": "stream",
          "name": "stdout",
          "text": [
            "333332833333491445\n",
            "CPU times: user 2.24 ms, sys: 17 µs, total: 2.26 ms\n",
            "Wall time: 2.15 ms\n"
          ]
        }
      ]
    },
    {
      "cell_type": "code",
      "source": [
        "%%time\n",
        "energy_score_loop = 0\n",
        "for s, w in zip(stud_1, weight):\n",
        "    energy_score_loop += s * w\n",
        "print(energy_score_loop)"
      ],
      "metadata": {
        "colab": {
          "base_uri": "https://localhost:8080/"
        },
        "id": "FxGf15vpBBvM",
        "outputId": "f42fb710-160b-419b-aab1-45f6b41e854e"
      },
      "execution_count": 97,
      "outputs": [
        {
          "output_type": "stream",
          "name": "stdout",
          "text": [
            "25.6\n",
            "CPU times: user 84 µs, sys: 5 µs, total: 89 µs\n",
            "Wall time: 93.2 µs\n"
          ]
        }
      ]
    },
    {
      "cell_type": "code",
      "source": [
        "%%time\n",
        "energy_score_np = np.dot(stud_1,weight)\n",
        "print(energy_score_np)"
      ],
      "metadata": {
        "colab": {
          "base_uri": "https://localhost:8080/"
        },
        "id": "GLeqQhxwA8gl",
        "outputId": "78b4bb8b-62bf-4888-8964-be9d04c70562"
      },
      "execution_count": 98,
      "outputs": [
        {
          "output_type": "stream",
          "name": "stdout",
          "text": [
            "25.6\n",
            "CPU times: user 369 µs, sys: 0 ns, total: 369 µs\n",
            "Wall time: 375 µs\n"
          ]
        }
      ]
    },
    {
      "cell_type": "markdown",
      "source": [
        "###Evaluate a Week at Once"
      ],
      "metadata": {
        "id": "cXmh9Pr96K0p"
      }
    },
    {
      "cell_type": "code",
      "source": [
        "week_data = np.array([\n",
        "    [45, 2.0, 6.5],\n",
        "    [30, 1.5, 8.0],\n",
        "    [60, 3.0, 7.0],\n",
        "    [50, 2.5, 7.5],\n",
        "    [40, 1.8, 6.0],\n",
        "    [55, 2.2, 6.8],\n",
        "    [35, 1.6, 7.2]\n",
        "])\n",
        "#2d array\n",
        "print(week_data.shape)"
      ],
      "metadata": {
        "id": "gdrh-kTj6OVt",
        "colab": {
          "base_uri": "https://localhost:8080/"
        },
        "outputId": "dc8fce8d-aee3-4720-8b2a-5a15b08637a5"
      },
      "execution_count": 99,
      "outputs": [
        {
          "output_type": "stream",
          "name": "stdout",
          "text": [
            "(7, 3)\n"
          ]
        }
      ]
    },
    {
      "cell_type": "code",
      "source": [
        "# print(week_data)\n",
        "print(week_data.shape)"
      ],
      "metadata": {
        "colab": {
          "base_uri": "https://localhost:8080/"
        },
        "id": "7VBsWQnujOHC",
        "outputId": "bc4e93e7-5649-496d-ba14-69e6ffbbb13b"
      },
      "execution_count": 100,
      "outputs": [
        {
          "output_type": "stream",
          "name": "stdout",
          "text": [
            "(7, 3)\n"
          ]
        }
      ]
    },
    {
      "cell_type": "code",
      "source": [
        "x=np.array([1,2,3])\n",
        "print(x.shape)"
      ],
      "metadata": {
        "colab": {
          "base_uri": "https://localhost:8080/"
        },
        "id": "AoMm_69ujbvB",
        "outputId": "72fb8d37-ca35-415e-b3dc-289731b19d23"
      },
      "execution_count": 101,
      "outputs": [
        {
          "output_type": "stream",
          "name": "stdout",
          "text": [
            "(3,)\n"
          ]
        }
      ]
    },
    {
      "cell_type": "code",
      "source": [
        "y = np.array([[3,4,5],\n",
        " [3,7,9]])\n",
        "print(y.shape)"
      ],
      "metadata": {
        "colab": {
          "base_uri": "https://localhost:8080/"
        },
        "id": "ChVQqTcJCa9v",
        "outputId": "eb681cf1-c4a1-447d-cc04-204be7fc430d"
      },
      "execution_count": 102,
      "outputs": [
        {
          "output_type": "stream",
          "name": "stdout",
          "text": [
            "(2, 3)\n"
          ]
        }
      ]
    },
    {
      "cell_type": "code",
      "source": [
        "weights = np.array([0.5, 0.2, 0.3])\n",
        "#1d array"
      ],
      "metadata": {
        "id": "dQjEk23gjzpN"
      },
      "execution_count": 103,
      "outputs": []
    },
    {
      "cell_type": "code",
      "source": [
        "\n",
        "arr = np.array([[[1, 2, 3], [4, 5, 6]],\n",
        "\n",
        "                 [[1, 2, 3], [4, 5, 6]]])\n",
        "\n",
        "print(arr.shape)"
      ],
      "metadata": {
        "colab": {
          "base_uri": "https://localhost:8080/"
        },
        "id": "aVnrjMlSln6g",
        "outputId": "e76e00b8-d63e-44a5-994b-b46fda6fa1b6"
      },
      "execution_count": 104,
      "outputs": [
        {
          "output_type": "stream",
          "name": "stdout",
          "text": [
            "(2, 2, 3)\n"
          ]
        }
      ]
    },
    {
      "cell_type": "code",
      "source": [
        "arr = np.array([\n",
        "    [[[1,2,3],[2,4,6],[5,6,7]],[[2,3,4],[4,4,5],[6,7,8]]],\n",
        "    [[[1,8,3],[3,5,6],[3,9,7]],[[2,3,5],[4,4,5],[6,7,8]]]\n",
        "])\n",
        "\n",
        "print(arr.shape)"
      ],
      "metadata": {
        "colab": {
          "base_uri": "https://localhost:8080/"
        },
        "id": "rz19X77rC3qL",
        "outputId": "62f57197-e543-473d-fb04-4debe828d641"
      },
      "execution_count": 105,
      "outputs": [
        {
          "output_type": "stream",
          "name": "stdout",
          "text": [
            "(2, 2, 3, 3)\n"
          ]
        }
      ]
    },
    {
      "cell_type": "markdown",
      "source": [
        "All elements in a NumPy array must have the same data type. You can inspect the type using .dtype."
      ],
      "metadata": {
        "id": "edWMHNsgn3IW"
      }
    },
    {
      "cell_type": "code",
      "source": [
        "arr = np.array([\n",
        "    [8, 2, 1],\n",
        "    [9, 3, 2],\n",
        "    [7, 1, 2]\n",
        "])\n",
        "print(\"arr dtype:\", arr.dtype)"
      ],
      "metadata": {
        "colab": {
          "base_uri": "https://localhost:8080/"
        },
        "id": "QLnryhSrnxQJ",
        "outputId": "e2f13aa5-cede-4673-f7c8-855bd641c501"
      },
      "execution_count": 106,
      "outputs": [
        {
          "output_type": "stream",
          "name": "stdout",
          "text": [
            "arr dtype: int64\n"
          ]
        }
      ]
    },
    {
      "cell_type": "code",
      "source": [
        "arr = np.array([[2,3],[4,7],[1,5]])\n",
        "print(arr.dtype)"
      ],
      "metadata": {
        "colab": {
          "base_uri": "https://localhost:8080/"
        },
        "id": "FRTGhqbnEJxb",
        "outputId": "82324564-3ff2-4f51-f96f-93e18062645d"
      },
      "execution_count": 107,
      "outputs": [
        {
          "output_type": "stream",
          "name": "stdout",
          "text": [
            "int64\n"
          ]
        }
      ]
    },
    {
      "cell_type": "markdown",
      "source": [
        "Add Floating Point to One Entry"
      ],
      "metadata": {
        "id": "1IqcOuhhn7uM"
      }
    },
    {
      "cell_type": "code",
      "source": [
        "# Introduce one float into the array\n",
        "arr2 = np.array([\n",
        "    [8.0, 2, 1],\n",
        "    [9, 3, 2],\n",
        "    [7, 1, 2]\n",
        "])\n",
        "print(\"arr2 dtype:\",arr2.dtype)  # datatype will changes to float64\n"
      ],
      "metadata": {
        "colab": {
          "base_uri": "https://localhost:8080/"
        },
        "id": "XyVo-FjWn6Kw",
        "outputId": "325eb722-32e8-4b2f-9f64-cf11248b3327"
      },
      "execution_count": 108,
      "outputs": [
        {
          "output_type": "stream",
          "name": "stdout",
          "text": [
            "arr2 dtype: float64\n"
          ]
        }
      ]
    },
    {
      "cell_type": "markdown",
      "source": [
        "- np.dot will work same as @"
      ],
      "metadata": {
        "id": "UvhR6BQSFU4K"
      }
    },
    {
      "cell_type": "code",
      "source": [
        "weekly_scores = np.dot(week_data, weights)\n",
        "print(\"Weekly Scores:\", weekly_scores)\n"
      ],
      "metadata": {
        "colab": {
          "base_uri": "https://localhost:8080/"
        },
        "id": "ZrZIYPIYh3rf",
        "outputId": "dd954605-c42a-4b15-ee80-9722a7fa8fb5"
      },
      "execution_count": 109,
      "outputs": [
        {
          "output_type": "stream",
          "name": "stdout",
          "text": [
            "Weekly Scores: [24.85 17.7  32.7  27.75 22.16 29.98 19.98]\n"
          ]
        }
      ]
    },
    {
      "cell_type": "code",
      "source": [
        "weekly_scores1=week_data @ weights\n",
        "print(\"Weekly Scores1:\", weekly_scores1)"
      ],
      "metadata": {
        "colab": {
          "base_uri": "https://localhost:8080/"
        },
        "id": "0oXCuqJJj7ra",
        "outputId": "87d6cb34-ee5d-46a1-fd0e-cecfc19d86ce"
      },
      "execution_count": 110,
      "outputs": [
        {
          "output_type": "stream",
          "name": "stdout",
          "text": [
            "Weekly Scores1: [24.85 17.7  32.7  27.75 22.16 29.98 19.98]\n"
          ]
        }
      ]
    },
    {
      "cell_type": "code",
      "source": [
        "weekly_scores = np.dot(week_data, weight)\n",
        "print(\"weekly score :\",weekly_scores)\n",
        "\n",
        "weekly_scores = week_data @ weight\n",
        "print(\"weekly score :\",weekly_scores)"
      ],
      "metadata": {
        "colab": {
          "base_uri": "https://localhost:8080/"
        },
        "id": "gB9fw9bwFk4Z",
        "outputId": "78b65993-5059-4abf-8ed8-da33c0cdecc9"
      },
      "execution_count": 111,
      "outputs": [
        {
          "output_type": "stream",
          "name": "stdout",
          "text": [
            "weekly score : [21.15 15.3  27.9  23.75 18.88 25.36 17.12]\n",
            "weekly score : [21.15 15.3  27.9  23.75 18.88 25.36 17.12]\n"
          ]
        }
      ]
    },
    {
      "cell_type": "markdown",
      "source": [
        "# NumPy Analysis on Wine Quality Dataset\n",
        "\n",
        "We will use NumPy to explore the [Wine Quality dataset](https://archive.ics.uci.edu/ml/datasets/wine+quality), which contains physicochemical and quality-related properties of red and white wine samples.\n",
        "\n",
        "---\n",
        "\n",
        "## Step 1: Load CSV Data using NumPy\n"
      ],
      "metadata": {
        "id": "sbw87PPCHJWP"
      }
    },
    {
      "cell_type": "code",
      "source": [
        "# Load data from UCI Wine Quality Dataset (hosted on GitHub)\n",
        "url = 'https://archive.ics.uci.edu/ml/machine-learning-databases/wine-quality/winequality-red.csv'\n"
      ],
      "metadata": {
        "id": "TJRFZE9jvOb6"
      },
      "execution_count": 112,
      "outputs": []
    },
    {
      "cell_type": "markdown",
      "source": [
        "- **genfromtext**  --> It will convert url into numpy array\n",
        "- **delimiter**  --> It will seprates the value by (,      ;     \" \")"
      ],
      "metadata": {
        "id": "OqvYlm_mGn9Q"
      }
    },
    {
      "cell_type": "code",
      "source": [
        "wine_data = np.loadtxt(\"/content/winequality-white.csv\", delimiter=\";\", skiprows=1)   # headings are string , can't take with numerical\n",
        "print(wine_data.shape)\n",
        "print(wine_data)\n"
      ],
      "metadata": {
        "colab": {
          "base_uri": "https://localhost:8080/"
        },
        "id": "B11BtRDYICFt",
        "outputId": "fbcd85d4-1ded-4f16-9534-f7cc0d77571b"
      },
      "execution_count": 113,
      "outputs": [
        {
          "output_type": "stream",
          "name": "stdout",
          "text": [
            "(4898, 12)\n",
            "[[ 7.    0.27  0.36 ...  0.45  8.8   6.  ]\n",
            " [ 6.3   0.3   0.34 ...  0.49  9.5   6.  ]\n",
            " [ 8.1   0.28  0.4  ...  0.44 10.1   6.  ]\n",
            " ...\n",
            " [ 6.5   0.24  0.19 ...  0.46  9.4   6.  ]\n",
            " [ 5.5   0.29  0.3  ...  0.38 12.8   7.  ]\n",
            " [ 6.    0.21  0.38 ...  0.32 11.8   6.  ]]\n"
          ]
        }
      ]
    },
    {
      "cell_type": "code",
      "source": [
        "# Use genfromtxt with proper delimiter and header skip\n",
        "wine_data = np.genfromtxt(url, delimiter=';', skip_header=1)\n",
        "print(\"Shape of dataset:\", wine_data.shape)\n"
      ],
      "metadata": {
        "colab": {
          "base_uri": "https://localhost:8080/"
        },
        "id": "L-HdnwrpvCZ_",
        "outputId": "dbb1927c-e1a3-4d17-bdf2-732cb2863f6e"
      },
      "execution_count": 114,
      "outputs": [
        {
          "output_type": "stream",
          "name": "stdout",
          "text": [
            "Shape of dataset: (1599, 12)\n"
          ]
        }
      ]
    },
    {
      "cell_type": "code",
      "source": [
        "\n",
        "print(wine_data)"
      ],
      "metadata": {
        "colab": {
          "base_uri": "https://localhost:8080/"
        },
        "id": "jLPRSlsc_fsq",
        "outputId": "0cb90f7e-6055-48bf-fd1b-00ee53d687b8"
      },
      "execution_count": 115,
      "outputs": [
        {
          "output_type": "stream",
          "name": "stdout",
          "text": [
            "[[ 7.4    0.7    0.    ...  0.56   9.4    5.   ]\n",
            " [ 7.8    0.88   0.    ...  0.68   9.8    5.   ]\n",
            " [ 7.8    0.76   0.04  ...  0.65   9.8    5.   ]\n",
            " ...\n",
            " [ 6.3    0.51   0.13  ...  0.75  11.     6.   ]\n",
            " [ 5.9    0.645  0.12  ...  0.71  10.2    5.   ]\n",
            " [ 6.     0.31   0.47  ...  0.66  11.     6.   ]]\n"
          ]
        }
      ]
    },
    {
      "cell_type": "markdown",
      "source": [
        "Download and Save the CSV File:"
      ],
      "metadata": {
        "id": "w0jpqBJ_4fAg"
      }
    },
    {
      "cell_type": "code",
      "source": [
        "import urllib.request\n",
        "\n",
        "# URL of the dataset\n",
        "url = 'https://archive.ics.uci.edu/ml/machine-learning-databases/wine-quality/winequality-red.csv'\n",
        "\n",
        "# Local filename to save as\n",
        "filename = 'wine-quality-red.csv'\n",
        "\n",
        "# Download the file from `url` and save it locally under `filename`\n",
        "urllib.request.urlretrieve(url, filename)\n",
        "\n",
        "print(f\"File saved as: {filename}\")\n"
      ],
      "metadata": {
        "colab": {
          "base_uri": "https://localhost:8080/"
        },
        "id": "M2-1cHM_4cQR",
        "outputId": "8cc9d101-9633-4d2e-fa84-b361b46d11d1"
      },
      "execution_count": 116,
      "outputs": [
        {
          "output_type": "stream",
          "name": "stdout",
          "text": [
            "File saved as: wine-quality-red.csv\n"
          ]
        }
      ]
    },
    {
      "cell_type": "code",
      "source": [
        "\n",
        "wine_data = np.genfromtxt('winequality-red.csv', delimiter=';', skip_header=1)\n",
        "print(wine_data.shape)"
      ],
      "metadata": {
        "colab": {
          "base_uri": "https://localhost:8080/"
        },
        "id": "2U9pp4QC4uND",
        "outputId": "ea13fbc0-2bd8-4ce9-fb9e-c3353ae7d8fb"
      },
      "execution_count": 117,
      "outputs": [
        {
          "output_type": "stream",
          "name": "stdout",
          "text": [
            "(1599, 12)\n"
          ]
        }
      ]
    },
    {
      "cell_type": "code",
      "source": [
        "wine_data"
      ],
      "metadata": {
        "colab": {
          "base_uri": "https://localhost:8080/"
        },
        "id": "58e57toBvzoX",
        "outputId": "88ce5951-fd22-40a6-f090-0f07e43414ec"
      },
      "execution_count": 118,
      "outputs": [
        {
          "output_type": "execute_result",
          "data": {
            "text/plain": [
              "array([[ 7.4  ,  0.7  ,  0.   , ...,  0.56 ,  9.4  ,  5.   ],\n",
              "       [ 7.8  ,  0.88 ,  0.   , ...,  0.68 ,  9.8  ,  5.   ],\n",
              "       [ 7.8  ,  0.76 ,  0.04 , ...,  0.65 ,  9.8  ,  5.   ],\n",
              "       ...,\n",
              "       [ 6.3  ,  0.51 ,  0.13 , ...,  0.75 , 11.   ,  6.   ],\n",
              "       [ 5.9  ,  0.645,  0.12 , ...,  0.71 , 10.2  ,  5.   ],\n",
              "       [ 6.   ,  0.31 ,  0.47 , ...,  0.66 , 11.   ,  6.   ]])"
            ]
          },
          "metadata": {},
          "execution_count": 118
        }
      ]
    },
    {
      "cell_type": "markdown",
      "source": [
        "Check Column-wise Statistics"
      ],
      "metadata": {
        "id": "_mq8PRJhyzMQ"
      }
    },
    {
      "cell_type": "code",
      "source": [
        "# COLUMN WISE --> axis = 0\n",
        "\n",
        "mean_vals = np.mean(wine_data, axis=0)\n",
        "std_vals = np.std(wine_data, axis=0)\n",
        "print(\"Means:\\n\", mean_vals)\n",
        "print(\"Standard Deviations:\\n\", std_vals)\n"
      ],
      "metadata": {
        "colab": {
          "base_uri": "https://localhost:8080/"
        },
        "id": "tEn86KTCy2GX",
        "outputId": "1b93b56d-dbb9-4db2-e9b7-b4bf760ab6a3"
      },
      "execution_count": 119,
      "outputs": [
        {
          "output_type": "stream",
          "name": "stdout",
          "text": [
            "Means:\n",
            " [ 8.31963727  0.52782051  0.27097561  2.5388055   0.08746654 15.87492183\n",
            " 46.46779237  0.99674668  3.3111132   0.65814884 10.42298311  5.63602251]\n",
            "Standard Deviations:\n",
            " [1.74055180e+00 1.79003704e-01 1.94740214e-01 1.40948711e+00\n",
            " 4.70505826e-02 1.04568856e+01 3.28850367e+01 1.88674370e-03\n",
            " 1.54338181e-01 1.69453967e-01 1.06533430e+00 8.07316877e-01]\n"
          ]
        }
      ]
    },
    {
      "cell_type": "code",
      "source": [
        "# ROW WISE --> axis = 1\n",
        "\n",
        "mean_vals = np.mean(wine_data, axis=1)\n",
        "std_vals = np.std(wine_data, axis=1)\n",
        "print(\"Means:\\n\", mean_vals)\n",
        "print(\"Standard Deviations:\\n\", std_vals)"
      ],
      "metadata": {
        "id": "HxQcQH-0VosR",
        "outputId": "48069bcd-a6d4-42cf-b29b-fa51c576e621",
        "colab": {
          "base_uri": "https://localhost:8080/"
        }
      },
      "execution_count": 120,
      "outputs": [
        {
          "output_type": "stream",
          "name": "stdout",
          "text": [
            "Means:\n",
            " [ 6.21198333 10.25456667  8.30825    ...  8.37347833  8.76795583\n",
            "  7.7077075 ]\n",
            "Standard Deviations:\n",
            " [ 9.12775181 18.3785345  14.4697315  ... 12.29881939 13.60147485\n",
            " 11.52640133]\n"
          ]
        }
      ]
    },
    {
      "cell_type": "code",
      "source": [
        "x = np.array([[1, 2, 3],\n",
        "                      [4, 5, 6],\n",
        "                      [7, 8, 9]])\n",
        "mean_vals = np.mean(x, axis=1)\n",
        "print(mean_vals)\n"
      ],
      "metadata": {
        "colab": {
          "base_uri": "https://localhost:8080/"
        },
        "id": "Zyo3_af2KaTK",
        "outputId": "4e4b2870-7dd2-4502-f284-20da31f191fa"
      },
      "execution_count": 121,
      "outputs": [
        {
          "output_type": "stream",
          "name": "stdout",
          "text": [
            "[2. 5. 8.]\n"
          ]
        }
      ]
    },
    {
      "cell_type": "code",
      "source": [
        "x = np.array([ [2,3,6,7],\n",
        "                              [1,2,9,4],\n",
        "               [5,8,3,6]])\n",
        "print(x)"
      ],
      "metadata": {
        "id": "gIY7GozUWK-_",
        "outputId": "8a41fde5-4519-4ea1-85e0-d96a7fef34a1",
        "colab": {
          "base_uri": "https://localhost:8080/"
        }
      },
      "execution_count": 122,
      "outputs": [
        {
          "output_type": "stream",
          "name": "stdout",
          "text": [
            "[[2 3 6 7]\n",
            " [1 2 9 4]\n",
            " [5 8 3 6]]\n"
          ]
        }
      ]
    },
    {
      "cell_type": "code",
      "source": [
        "mean_value = np.mean(x, axis = 0)\n",
        "print(mean_value)"
      ],
      "metadata": {
        "id": "6TXhuhn9Wclz",
        "outputId": "ea11dd8a-63d5-4d5c-948a-4aa7d35b1d37",
        "colab": {
          "base_uri": "https://localhost:8080/"
        }
      },
      "execution_count": 123,
      "outputs": [
        {
          "output_type": "stream",
          "name": "stdout",
          "text": [
            "[2.66666667 4.33333333 6.         5.66666667]\n"
          ]
        }
      ]
    },
    {
      "cell_type": "code",
      "source": [
        "mean_value = np.mean(x, axis = 1)\n",
        "print(mean_value)"
      ],
      "metadata": {
        "id": "RZXWqRMMWlWO",
        "outputId": "774084cb-a983-49b7-87bc-f156cf98f9f1",
        "colab": {
          "base_uri": "https://localhost:8080/"
        }
      },
      "execution_count": 124,
      "outputs": [
        {
          "output_type": "stream",
          "name": "stdout",
          "text": [
            "[4.5 4.  5.5]\n"
          ]
        }
      ]
    },
    {
      "cell_type": "markdown",
      "source": [
        "###Indexing and Filtering Examples"
      ],
      "metadata": {
        "id": "LT3GRoq8zM75"
      }
    },
    {
      "cell_type": "markdown",
      "source": [
        "Filter wines with alcohol > 10\n",
        "\n",
        "- wine_data is a 2D NumPy array (typically representing a dataset with rows for samples and columns for features, e.g., “wine” characteristics).\n",
        "\n",
        "* wine_data[:, 10] selects all rows (you could think of this as every wine sample) but only the 11th column (Python uses zero-based indexing, so column index 10 is the 11th column).\n",
        "\n",
        ">10 creates a boolean mask: For every value in that column, it checks if the value is greater than 10. The result is a 1D NumPy array of True/False values, one for each row."
      ],
      "metadata": {
        "id": "9ogDBvRWzO1u"
      }
    },
    {
      "cell_type": "code",
      "source": [
        "wine_data[:,10]>10"
      ],
      "metadata": {
        "colab": {
          "base_uri": "https://localhost:8080/"
        },
        "id": "Ptfie8WcLUs9",
        "outputId": "11cd66cd-96c0-457d-d7a4-01dc4394dece"
      },
      "execution_count": 125,
      "outputs": [
        {
          "output_type": "execute_result",
          "data": {
            "text/plain": [
              "array([False, False, False, ...,  True,  True,  True])"
            ]
          },
          "metadata": {},
          "execution_count": 125
        }
      ]
    },
    {
      "cell_type": "markdown",
      "source": [
        "How the Code Works\n",
        "wine_data[:, 10] > 10\n",
        "This part creates a boolean mask: a 1D array of True/False values, one for each row in wine_data.\n",
        "It checks whether the value in the 11th column (index 10) for each row is greater than 10.\n",
        "\n",
        "wine_data[ ... ]\n",
        "Here, wine_data is the original 2D array (your dataset).\n",
        "Inside the square brackets, the boolean mask is used to select rows.\n",
        "Only rows where the mask is True (i.e., where the 11th column > 10) are kept.\n",
        "\n",
        "high_alcohol = wine_data[wine_data[:, 10] > 10]\n",
        "This line creates a new array containing only the rows of wine_data where the alcohol content (column 10) is greater than 10.\n",
        "\n",
        "The rest of the code just prints information about this new array, including the number of such “high alcohol” wines (high_alcohol.shape).\n",
        "\n",
        "Why Does wine_data Appear Twice?\n",
        "The first use (wine_data[:, 10] > 10) generates a filter: it checks a condition on every row, producing the mask.\n",
        "\n",
        "The second use (wine_data[ ... ]) applies that filter: it uses the mask to extract the subset of rows that meet the condition.\n",
        "\n",
        "This is a common and efficient NumPy pattern:\n",
        "You do not copy the whole dataset. Instead, the first reference is used to quickly create a filter, and the second applies that filter to select data directly.\n",
        "\n",
        "\n",
        "\n"
      ],
      "metadata": {
        "id": "a8Di0UBdbyP4"
      }
    },
    {
      "cell_type": "code",
      "source": [
        "high_alcohol = wine_data[wine_data[:, 10] > 10]\n",
        "print(high_alcohol)\n",
        "high_alcohol.shape\n",
        "print(\"High alcohol wines:\", high_alcohol.shape[0])\n"
      ],
      "metadata": {
        "colab": {
          "base_uri": "https://localhost:8080/"
        },
        "id": "f4hUtZOSzMul",
        "outputId": "743f8982-3729-4ce2-a3da-81ed90cfb40f"
      },
      "execution_count": 126,
      "outputs": [
        {
          "output_type": "stream",
          "name": "stdout",
          "text": [
            "[[ 7.5    0.5    0.36  ...  0.8   10.5    5.   ]\n",
            " [ 7.5    0.5    0.36  ...  0.8   10.5    5.   ]\n",
            " [ 8.5    0.28   0.56  ...  0.75  10.5    7.   ]\n",
            " ...\n",
            " [ 6.3    0.51   0.13  ...  0.75  11.     6.   ]\n",
            " [ 5.9    0.645  0.12  ...  0.71  10.2    5.   ]\n",
            " [ 6.     0.31   0.47  ...  0.66  11.     6.   ]]\n",
            "High alcohol wines: 852\n"
          ]
        }
      ]
    },
    {
      "cell_type": "markdown",
      "source": [
        "Filter wines with quality (last column) ≥ 7"
      ],
      "metadata": {
        "id": "qG4nUYG8zW9w"
      }
    },
    {
      "cell_type": "code",
      "source": [
        "good_wines = wine_data[wine_data[:, -1] >= 7]\n",
        "print(\"Good quality wines:\", good_wines.shape[0])\n"
      ],
      "metadata": {
        "colab": {
          "base_uri": "https://localhost:8080/"
        },
        "id": "oo6T8JU3zYEM",
        "outputId": "be1b76e3-b3fe-4856-f359-150133b81209"
      },
      "execution_count": 127,
      "outputs": [
        {
          "output_type": "stream",
          "name": "stdout",
          "text": [
            "Good quality wines: 217\n"
          ]
        }
      ]
    },
    {
      "cell_type": "code",
      "source": [
        "lst=[1,2,3,4,5,6]\n",
        "print(lst[:5])"
      ],
      "metadata": {
        "colab": {
          "base_uri": "https://localhost:8080/"
        },
        "id": "25qAEW3jB1Li",
        "outputId": "59f077d2-c08c-4305-d3a5-c6eb8a286c5c"
      },
      "execution_count": 128,
      "outputs": [
        {
          "output_type": "stream",
          "name": "stdout",
          "text": [
            "[1, 2, 3, 4, 5]\n"
          ]
        }
      ]
    },
    {
      "cell_type": "markdown",
      "source": [
        "Slice first 5 rows and columns"
      ],
      "metadata": {
        "id": "9HHiuCCHzcDz"
      }
    },
    {
      "cell_type": "code",
      "source": [
        "print(wine_data[:5, :5])\n"
      ],
      "metadata": {
        "id": "zCnFH6w_zc83",
        "colab": {
          "base_uri": "https://localhost:8080/"
        },
        "outputId": "4f714f98-cf5e-4d0f-cf96-c1e7d2ee9e50"
      },
      "execution_count": 129,
      "outputs": [
        {
          "output_type": "stream",
          "name": "stdout",
          "text": [
            "[[ 7.4    0.7    0.     1.9    0.076]\n",
            " [ 7.8    0.88   0.     2.6    0.098]\n",
            " [ 7.8    0.76   0.04   2.3    0.092]\n",
            " [11.2    0.28   0.56   1.9    0.075]\n",
            " [ 7.4    0.7    0.     1.9    0.076]]\n"
          ]
        }
      ]
    },
    {
      "cell_type": "markdown",
      "source": [
        "Compute average alcohol content per quality level"
      ],
      "metadata": {
        "id": "hSSr_xwNzez3"
      }
    },
    {
      "cell_type": "code",
      "source": [
        "np.unique(wine_data[:, -1])"
      ],
      "metadata": {
        "colab": {
          "base_uri": "https://localhost:8080/"
        },
        "id": "G25_66YOMzmu",
        "outputId": "64cbf50c-0036-4a8a-af75-be7edddd4ab8"
      },
      "execution_count": 130,
      "outputs": [
        {
          "output_type": "execute_result",
          "data": {
            "text/plain": [
              "array([3., 4., 5., 6., 7., 8.])"
            ]
          },
          "metadata": {},
          "execution_count": 130
        }
      ]
    },
    {
      "cell_type": "code",
      "source": [
        "wine_data[:, -1] == 5"
      ],
      "metadata": {
        "colab": {
          "base_uri": "https://localhost:8080/"
        },
        "id": "Lb3BHg8tC42y",
        "outputId": "b0260934-6219-4225-eaac-936eb704e9b4"
      },
      "execution_count": 131,
      "outputs": [
        {
          "output_type": "execute_result",
          "data": {
            "text/plain": [
              "array([ True,  True,  True, ..., False,  True, False])"
            ]
          },
          "metadata": {},
          "execution_count": 131
        }
      ]
    },
    {
      "cell_type": "code",
      "source": [
        "np.mean(wine_data[wine_data[:, -1] == 5][:,10])"
      ],
      "metadata": {
        "colab": {
          "base_uri": "https://localhost:8080/"
        },
        "id": "fz9hT7eQCl08",
        "outputId": "da1664de-33dd-4576-867f-5b53fd1dbb64"
      },
      "execution_count": 132,
      "outputs": [
        {
          "output_type": "execute_result",
          "data": {
            "text/plain": [
              "np.float64(9.899706314243758)"
            ]
          },
          "metadata": {},
          "execution_count": 132
        }
      ]
    },
    {
      "cell_type": "code",
      "source": [
        "for quality in np.unique(wine_data[:, -1]):\n",
        "    avg_alcohol = np.mean(wine_data[wine_data[:, -1] == quality][:, 10])\n",
        "    print(f\"Quality {int(quality)}: Avg Alcohol = {avg_alcohol:.2f}\")\n"
      ],
      "metadata": {
        "colab": {
          "base_uri": "https://localhost:8080/"
        },
        "id": "XRE5TehBzg0w",
        "outputId": "3b287c72-6912-4484-b70e-350f43798e07"
      },
      "execution_count": 133,
      "outputs": [
        {
          "output_type": "stream",
          "name": "stdout",
          "text": [
            "Quality 3: Avg Alcohol = 9.96\n",
            "Quality 4: Avg Alcohol = 10.27\n",
            "Quality 5: Avg Alcohol = 9.90\n",
            "Quality 6: Avg Alcohol = 10.63\n",
            "Quality 7: Avg Alcohol = 11.47\n",
            "Quality 8: Avg Alcohol = 12.09\n"
          ]
        }
      ]
    },
    {
      "cell_type": "markdown",
      "source": [
        "Compute correlation between alcohol and quality"
      ],
      "metadata": {
        "id": "flEm2lplzlp6"
      }
    },
    {
      "cell_type": "code",
      "source": [
        "alcohol = wine_data[:, 10]\n",
        "quality = wine_data[:, -1]\n",
        "correlation = np.corrcoef(alcohol, quality)[0, 1]\n",
        "print(\"Correlation between alcohol and quality:\", correlation)\n"
      ],
      "metadata": {
        "colab": {
          "base_uri": "https://localhost:8080/"
        },
        "id": "Lpwm7iRczmk8",
        "outputId": "21117757-c494-44b4-b206-445324f01974"
      },
      "execution_count": 134,
      "outputs": [
        {
          "output_type": "stream",
          "name": "stdout",
          "text": [
            "Correlation between alcohol and quality: 0.47616632400113584\n"
          ]
        }
      ]
    },
    {
      "cell_type": "markdown",
      "source": [
        "###Compute Weighted Wine Score\n",
        "Let’s say you care about three columns:\n",
        "\n",
        "Alcohol (index 10)\n",
        "\n",
        "Sulphates (index 9)\n",
        "\n",
        "Volatile acidity (index 1)"
      ],
      "metadata": {
        "id": "47AyF6uXv-BI"
      }
    },
    {
      "cell_type": "code",
      "source": [
        "# Select relevant columns\n",
        "features = wine_data[:, [10, 9, 1]]\n",
        "\n",
        "# Assign weights: high alcohol is good, low volatile acidity is good\n",
        "weights = np.array([0.4, 0.3, -0.3])\n",
        "\n",
        "# Compute custom wine score\n",
        "scores = features @ weights\n",
        "print(\"Wine scores (first 5):\", scores[:5])\n"
      ],
      "metadata": {
        "colab": {
          "base_uri": "https://localhost:8080/"
        },
        "id": "guxIfGmZwBoc",
        "outputId": "d1557afa-666d-40b8-84e9-d67ca64b59f8"
      },
      "execution_count": 135,
      "outputs": [
        {
          "output_type": "stream",
          "name": "stdout",
          "text": [
            "Wine scores (first 5): [3.718 3.86  3.887 4.01  3.718]\n"
          ]
        }
      ]
    },
    {
      "cell_type": "markdown",
      "source": [
        "##  Broadcasting\n",
        "\n",
        "NumPy lets you perform mathematical operations with operators like `+`, `-`, `*`, `/` on arrays.\n",
        "You can use these with either a single number (scalar) or another array of the same shape.\n",
        "Here are some useful examples:\n"
      ],
      "metadata": {
        "id": "KppuHWRl8aZx"
      }
    },
    {
      "cell_type": "code",
      "source": [
        "import numpy as np\n",
        "\n",
        "# Example arrays\n",
        "matrixA = np.array([[4, 7, 2, 5],\n",
        "                    [6, 3, 8, 1],\n",
        "                    [0, 9, 2, 6]])\n",
        "\n",
        "matrixB = np.array([[14, 11, 16, 12],\n",
        "                    [13, 19, 10, 15],\n",
        "                    [21, 14, 18, 13]])\n",
        "\n",
        "# matrix sum\n",
        "print(\"# maatrix sum\\n\", matrixA + matrixB)\n",
        "\n",
        "# Subtract arrays\n",
        "print(\"\\n# Subtract arrays\\n\", matrixB - matrixA)\n",
        "\n",
        "# Add a scalar\n",
        "print(\"# Add a scalar\\n\", matrixA + 2)\n",
        "\n",
        "\n",
        "# Divide by scalar\n",
        "print(\"\\n# Divide by scalar\\n\", matrixA / 2)\n",
        "\n",
        "# Elementwise multiplication\n",
        "print(\"\\n# Elementwise multiplication\\n\", matrixA * matrixB)\n",
        "\n",
        "# Modulus with scalar\n",
        "print(\"\\n# Modulus with scalar\\n\", matrixA % 3)\n"
      ],
      "metadata": {
        "colab": {
          "base_uri": "https://localhost:8080/"
        },
        "id": "i7usnXEG8ldC",
        "outputId": "af0bcc37-6500-435f-e492-7d2e4af2df5f"
      },
      "execution_count": 136,
      "outputs": [
        {
          "output_type": "stream",
          "name": "stdout",
          "text": [
            "# maatrix sum\n",
            " [[18 18 18 17]\n",
            " [19 22 18 16]\n",
            " [21 23 20 19]]\n",
            "\n",
            "# Subtract arrays\n",
            " [[10  4 14  7]\n",
            " [ 7 16  2 14]\n",
            " [21  5 16  7]]\n",
            "# Add a scalar\n",
            " [[ 6  9  4  7]\n",
            " [ 8  5 10  3]\n",
            " [ 2 11  4  8]]\n",
            "\n",
            "# Divide by scalar\n",
            " [[2.  3.5 1.  2.5]\n",
            " [3.  1.5 4.  0.5]\n",
            " [0.  4.5 1.  3. ]]\n",
            "\n",
            "# Elementwise multiplication\n",
            " [[ 56  77  32  60]\n",
            " [ 78  57  80  15]\n",
            " [  0 126  36  78]]\n",
            "\n",
            "# Modulus with scalar\n",
            " [[1 1 2 2]\n",
            " [0 0 2 1]\n",
            " [0 0 2 0]]\n"
          ]
        }
      ]
    },
    {
      "cell_type": "markdown",
      "source": [
        "## Array Broadcasting\n",
        "\n",
        "Broadcasting describes how NumPy handles operations between arrays of different shapes. Instead of forcing you to create arrays with the exact same dimensions, NumPy automatically \"broadcasts\" the smaller array across the larger one so that their shapes match."
      ],
      "metadata": {
        "id": "hrHVzcqV8u3L"
      }
    },
    {
      "cell_type": "markdown",
      "source": [
        "When operating on two arrays, NumPy compares their shapes element-wise. It starts with the trailing (i.e. rightmost) dimension and works its way left. Two dimensions are compatible when they are equal, or one of them is 1."
      ],
      "metadata": {
        "id": "CP6sCnSWXgZp"
      }
    },
    {
      "cell_type": "markdown",
      "source": [],
      "metadata": {
        "id": "4X6IYUqeHaw7"
      }
    },
    {
      "cell_type": "code",
      "source": [
        "a = np.array([1, 2, 3])\n",
        "b = 10\n",
        "print(a + b)"
      ],
      "metadata": {
        "colab": {
          "base_uri": "https://localhost:8080/"
        },
        "id": "q8YmDgnUPT3p",
        "outputId": "15e948fb-e635-4688-8d1f-1d4d1a0bcb0e"
      },
      "execution_count": 137,
      "outputs": [
        {
          "output_type": "stream",
          "name": "stdout",
          "text": [
            "[11 12 13]\n"
          ]
        }
      ]
    },
    {
      "cell_type": "markdown",
      "source": [
        "2D array and 1D array\n"
      ],
      "metadata": {
        "id": "9ZFmDEfhPa8s"
      }
    },
    {
      "cell_type": "code",
      "source": [
        "A = np.array([[1, 2, 3],\n",
        "\n",
        "              [4, 5, 6]])\n",
        "\n",
        "B = np.array([10, 20, 30])\n",
        "print(A + B)\n",
        "#Here, B is broadcasted over each row of A"
      ],
      "metadata": {
        "colab": {
          "base_uri": "https://localhost:8080/"
        },
        "id": "AcdlSaXBPcnm",
        "outputId": "c72ced06-6a85-42b4-ade5-4724c4fa4d3d"
      },
      "execution_count": 138,
      "outputs": [
        {
          "output_type": "stream",
          "name": "stdout",
          "text": [
            "[[11 22 33]\n",
            " [14 25 36]]\n"
          ]
        }
      ]
    },
    {
      "cell_type": "markdown",
      "source": [],
      "metadata": {
        "id": "w2GnWlEMPxEw"
      }
    },
    {
      "cell_type": "code",
      "source": [
        "matrixA = np.array([[4, 7, 2, 5],\n",
        "                    [6, 3, 8, 1],\n",
        "                    [0, 9, 2, 6]])\n",
        "vectorC = np.array([2, 4, 6, 8])\n",
        "\n",
        "print(\"matrixA.shape:\", matrixA.shape)\n",
        "print(\"vectorC.shape:\", vectorC.shape)\n",
        "print(\"\\n# Broadcasting add\\n\", matrixA + vectorC)\n",
        "\n",
        "vectorD = np.array([5, 7])\n",
        "# This will error:\n",
        "try:\n",
        "    matrixA + vectorD\n",
        "except Exception as e:\n",
        "    print(\"\\n# Broadcasting error:\", e)\n"
      ],
      "metadata": {
        "colab": {
          "base_uri": "https://localhost:8080/"
        },
        "id": "dvFGV5QF8zED",
        "outputId": "2f79e7b5-3acc-4695-cbf8-233cf5951958"
      },
      "execution_count": 139,
      "outputs": [
        {
          "output_type": "stream",
          "name": "stdout",
          "text": [
            "matrixA.shape: (3, 4)\n",
            "vectorC.shape: (4,)\n",
            "\n",
            "# Broadcasting add\n",
            " [[ 6 11  8 13]\n",
            " [ 8  7 14  9]\n",
            " [ 2 13  8 14]]\n",
            "\n",
            "# Broadcasting error: operands could not be broadcast together with shapes (3,4) (2,) \n"
          ]
        }
      ]
    },
    {
      "cell_type": "code",
      "source": [
        "A = np.array([[1, 2, 3],\n",
        "\n",
        "              [4, 5, 6]])\n",
        "\n",
        "B = np.array([[10],\n",
        "\n",
        "              [20]])\n",
        "print(A + B)\n"
      ],
      "metadata": {
        "colab": {
          "base_uri": "https://localhost:8080/"
        },
        "id": "fMlq9U2xSK6X",
        "outputId": "129b5720-0946-476b-8650-749f7719ac76"
      },
      "execution_count": 140,
      "outputs": [
        {
          "output_type": "stream",
          "name": "stdout",
          "text": [
            "[[11 12 13]\n",
            " [24 25 26]]\n"
          ]
        }
      ]
    },
    {
      "cell_type": "code",
      "source": [
        "a = np.array([1, 2, 3])\n",
        "b = np.array([1, 2])\n",
        "a + b  # This will raise an error because their shapes are not compatible!"
      ],
      "metadata": {
        "colab": {
          "base_uri": "https://localhost:8080/",
          "height": 176
        },
        "id": "8aIbhAY0Sj3a",
        "outputId": "619b81c7-273f-4f27-e241-b39b358c97d7"
      },
      "execution_count": 141,
      "outputs": [
        {
          "output_type": "error",
          "ename": "ValueError",
          "evalue": "operands could not be broadcast together with shapes (3,) (2,) ",
          "traceback": [
            "\u001b[0;31m---------------------------------------------------------------------------\u001b[0m",
            "\u001b[0;31mValueError\u001b[0m                                Traceback (most recent call last)",
            "\u001b[0;32m/tmp/ipython-input-3226033446.py\u001b[0m in \u001b[0;36m<cell line: 0>\u001b[0;34m()\u001b[0m\n\u001b[1;32m      1\u001b[0m \u001b[0ma\u001b[0m \u001b[0;34m=\u001b[0m \u001b[0mnp\u001b[0m\u001b[0;34m.\u001b[0m\u001b[0marray\u001b[0m\u001b[0;34m(\u001b[0m\u001b[0;34m[\u001b[0m\u001b[0;36m1\u001b[0m\u001b[0;34m,\u001b[0m \u001b[0;36m2\u001b[0m\u001b[0;34m,\u001b[0m \u001b[0;36m3\u001b[0m\u001b[0;34m]\u001b[0m\u001b[0;34m)\u001b[0m\u001b[0;34m\u001b[0m\u001b[0;34m\u001b[0m\u001b[0m\n\u001b[1;32m      2\u001b[0m \u001b[0mb\u001b[0m \u001b[0;34m=\u001b[0m \u001b[0mnp\u001b[0m\u001b[0;34m.\u001b[0m\u001b[0marray\u001b[0m\u001b[0;34m(\u001b[0m\u001b[0;34m[\u001b[0m\u001b[0;36m1\u001b[0m\u001b[0;34m,\u001b[0m \u001b[0;36m2\u001b[0m\u001b[0;34m]\u001b[0m\u001b[0;34m)\u001b[0m\u001b[0;34m\u001b[0m\u001b[0;34m\u001b[0m\u001b[0m\n\u001b[0;32m----> 3\u001b[0;31m \u001b[0ma\u001b[0m \u001b[0;34m+\u001b[0m \u001b[0mb\u001b[0m  \u001b[0;31m# This will raise an error because their shapes are not compatible!\u001b[0m\u001b[0;34m\u001b[0m\u001b[0;34m\u001b[0m\u001b[0m\n\u001b[0m",
            "\u001b[0;31mValueError\u001b[0m: operands could not be broadcast together with shapes (3,) (2,) "
          ]
        }
      ]
    },
    {
      "cell_type": "code",
      "source": [
        "A = np.array([[1],\n",
        "\n",
        "              [2],\n",
        "\n",
        "               [3]])   # Shape (3,1)\n",
        "B = np.array([10, 20, 30])      # Shape (3,)\n",
        "print(A.shape)\n",
        "print(B.shape)"
      ],
      "metadata": {
        "id": "2Yz4zXWhSyKO",
        "outputId": "5c310104-e63e-4220-f32a-1cdbc13a76b3",
        "colab": {
          "base_uri": "https://localhost:8080/"
        }
      },
      "execution_count": 142,
      "outputs": [
        {
          "output_type": "stream",
          "name": "stdout",
          "text": [
            "(3, 1)\n",
            "(3,)\n"
          ]
        }
      ]
    },
    {
      "cell_type": "code",
      "source": [
        "a = np.array([1, 2, 3])\n",
        "b = np.array([4, 5])\n",
        "print(a.shape,b.shape)\n",
        "a+b"
      ],
      "metadata": {
        "id": "IFQUqufXVy0x",
        "outputId": "036c14a8-06ec-49c6-b5f0-81dd93527b80",
        "colab": {
          "base_uri": "https://localhost:8080/",
          "height": 193
        }
      },
      "execution_count": 143,
      "outputs": [
        {
          "output_type": "stream",
          "name": "stdout",
          "text": [
            "(3,) (2,)\n"
          ]
        },
        {
          "output_type": "error",
          "ename": "ValueError",
          "evalue": "operands could not be broadcast together with shapes (3,) (2,) ",
          "traceback": [
            "\u001b[0;31m---------------------------------------------------------------------------\u001b[0m",
            "\u001b[0;31mValueError\u001b[0m                                Traceback (most recent call last)",
            "\u001b[0;32m/tmp/ipython-input-922007874.py\u001b[0m in \u001b[0;36m<cell line: 0>\u001b[0;34m()\u001b[0m\n\u001b[1;32m      2\u001b[0m \u001b[0mb\u001b[0m \u001b[0;34m=\u001b[0m \u001b[0mnp\u001b[0m\u001b[0;34m.\u001b[0m\u001b[0marray\u001b[0m\u001b[0;34m(\u001b[0m\u001b[0;34m[\u001b[0m\u001b[0;36m4\u001b[0m\u001b[0;34m,\u001b[0m \u001b[0;36m5\u001b[0m\u001b[0;34m]\u001b[0m\u001b[0;34m)\u001b[0m\u001b[0;34m\u001b[0m\u001b[0;34m\u001b[0m\u001b[0m\n\u001b[1;32m      3\u001b[0m \u001b[0mprint\u001b[0m\u001b[0;34m(\u001b[0m\u001b[0ma\u001b[0m\u001b[0;34m.\u001b[0m\u001b[0mshape\u001b[0m\u001b[0;34m,\u001b[0m\u001b[0mb\u001b[0m\u001b[0;34m.\u001b[0m\u001b[0mshape\u001b[0m\u001b[0;34m)\u001b[0m\u001b[0;34m\u001b[0m\u001b[0;34m\u001b[0m\u001b[0m\n\u001b[0;32m----> 4\u001b[0;31m \u001b[0ma\u001b[0m\u001b[0;34m+\u001b[0m\u001b[0mb\u001b[0m\u001b[0;34m\u001b[0m\u001b[0;34m\u001b[0m\u001b[0m\n\u001b[0m",
            "\u001b[0;31mValueError\u001b[0m: operands could not be broadcast together with shapes (3,) (2,) "
          ]
        }
      ]
    },
    {
      "cell_type": "code",
      "source": [
        " np.ones((4, 3, 5))"
      ],
      "metadata": {
        "id": "zwQcfsbZHokQ",
        "outputId": "a3b9d33c-1293-4556-960e-ba8f2dca4876",
        "colab": {
          "base_uri": "https://localhost:8080/"
        }
      },
      "execution_count": 144,
      "outputs": [
        {
          "output_type": "execute_result",
          "data": {
            "text/plain": [
              "array([[[1., 1., 1., 1., 1.],\n",
              "        [1., 1., 1., 1., 1.],\n",
              "        [1., 1., 1., 1., 1.]],\n",
              "\n",
              "       [[1., 1., 1., 1., 1.],\n",
              "        [1., 1., 1., 1., 1.],\n",
              "        [1., 1., 1., 1., 1.]],\n",
              "\n",
              "       [[1., 1., 1., 1., 1.],\n",
              "        [1., 1., 1., 1., 1.],\n",
              "        [1., 1., 1., 1., 1.]],\n",
              "\n",
              "       [[1., 1., 1., 1., 1.],\n",
              "        [1., 1., 1., 1., 1.],\n",
              "        [1., 1., 1., 1., 1.]]])"
            ]
          },
          "metadata": {},
          "execution_count": 144
        }
      ]
    },
    {
      "cell_type": "code",
      "source": [
        "a = np.ones((1, 3, 5))\n",
        "b = np.ones((4,3,1))\n",
        "print(a.shape)\n",
        "print(b.shape)\n",
        "# Error!\n",
        "c=a + b\n",
        "\n",
        "print(c.shape)"
      ],
      "metadata": {
        "id": "QT8_0zeAWIW9",
        "outputId": "29b13905-f0d6-41e5-fc5e-05d59b0cad85",
        "colab": {
          "base_uri": "https://localhost:8080/"
        }
      },
      "execution_count": 145,
      "outputs": [
        {
          "output_type": "stream",
          "name": "stdout",
          "text": [
            "(1, 3, 5)\n",
            "(4, 3, 1)\n",
            "(4, 3, 5)\n"
          ]
        }
      ]
    },
    {
      "cell_type": "markdown",
      "source": [
        "## Array Comparison\n",
        "\n",
        "Elementwise comparisons in NumPy return boolean arrays.\n",
        "You can use operations like `==`, `!=`, `>`, `<`, `>=`, `<=`.\n",
        "\n",
        "Example:\n"
      ],
      "metadata": {
        "id": "sbVmhlea82G7"
      }
    },
    {
      "cell_type": "code",
      "source": [
        "X = np.array([[5, 1, 8], [2, 4, 7]])\n",
        "Y = np.array([[3, 1, 8], [2, 9, 6]])\n",
        "\n",
        "print(\"# X == Y\\n\", X == Y)\n",
        "print(\"\\n# X >= Y\\n\", X >= Y)\n",
        "print(\"\\n# Count not equal:\", (X != Y).sum())\n"
      ],
      "metadata": {
        "id": "oTmt23F-84AE",
        "outputId": "e2f9c811-c9f2-4261-a2e1-706277a7e10d",
        "colab": {
          "base_uri": "https://localhost:8080/"
        }
      },
      "execution_count": 146,
      "outputs": [
        {
          "output_type": "stream",
          "name": "stdout",
          "text": [
            "# X == Y\n",
            " [[False  True  True]\n",
            " [ True False False]]\n",
            "\n",
            "# X >= Y\n",
            " [[ True  True  True]\n",
            " [ True False  True]]\n",
            "\n",
            "# Count not equal: 3\n"
          ]
        }
      ]
    },
    {
      "cell_type": "markdown",
      "source": [
        "## Array Indexing and Slicing\n",
        "\n",
        "You can select single elements, slices, or subarrays in NumPy arrays using indices and ranges.\n",
        "Here are a few examples:\n"
      ],
      "metadata": {
        "id": "kzU0ujEG86AI"
      }
    },
    {
      "cell_type": "code",
      "source": [
        "cube = np.array([\n",
        "    [[ 3,  5,  7], [ 8, 10, 12]],\n",
        "    [[13, 15, 17], [18, 20, 22]],\n",
        "    [[23, 25, 27], [28, 30, 32]]\n",
        "])\n",
        "\n",
        "# print(\"# Shape:\", cube.shape)\n",
        "\n",
        "# Single element\n",
        "print(\"\\n# cube[2, 1, 0]:\", cube[2, 1, 0])\n",
        "\n",
        "# Subarray using ranges\n",
        "print(\"\\n# cube[1:, :, 1]:\\n\", cube[1:, :, 1])\n",
        "\n",
        "# Mixing indices and ranges\n",
        "print(\"\\n# cube[1, :, 1:]:\\n\", cube[1, :, 1:])\n",
        "\n",
        "# Fewer indices (returns 2D slice)\n",
        "print(\"\\n# cube[2]:\\n\", cube[2])\n"
      ],
      "metadata": {
        "id": "qjkHTiHp87XL",
        "outputId": "ae22d168-64c8-4a0b-dc96-68f998b8739b",
        "colab": {
          "base_uri": "https://localhost:8080/"
        }
      },
      "execution_count": 147,
      "outputs": [
        {
          "output_type": "stream",
          "name": "stdout",
          "text": [
            "\n",
            "# cube[2, 1, 0]: 28\n",
            "\n",
            "# cube[1:, :, 1]:\n",
            " [[15 20]\n",
            " [25 30]]\n",
            "\n",
            "# cube[1, :, 1:]:\n",
            " [[15 17]\n",
            " [20 22]]\n",
            "\n",
            "# cube[2]:\n",
            " [[23 25 27]\n",
            " [28 30 32]]\n"
          ]
        }
      ]
    },
    {
      "cell_type": "markdown",
      "source": [
        "## Different Ways to Initialize Numpy Arrays\n",
        "\n",
        "Numpy offers many built-in methods to create arrays with preset or random values.  \n",
        "Here are some useful examples with different shapes and values.  \n",
        "Check the [official docs](https://numpy.org/doc/stable/reference/routines.array-creation.html) for more options!\n"
      ],
      "metadata": {
        "id": "g6rHnIDy9Tcj"
      }
    },
    {
      "cell_type": "code",
      "source": [
        "import numpy as np\n",
        "\n",
        "# All zeros array\n",
        "zero_grid = np.zeros((4, 2))\n",
        "print(\"# All zeros array\\n\", zero_grid)\n",
        "\n",
        "# All ones, higher dimension\n",
        "ones_cube = np.ones((2, 3, 2))\n",
        "print(\"\\n# All ones (3D)\\n\", ones_cube)\n",
        "\n",
        "# Identity matrix\n",
        "identity = np.eye(4)\n",
        "print(\"\\n# Identity matrix\\n\", identity)\n",
        "\n",
        "# Random vector (0 to 1)\n",
        "rand_vec = np.random.rand(6)\n",
        "print(\"\\n# Random vector\\n\", rand_vec)\n",
        "\n",
        "# Random matrix, standard normal distribution\n",
        "rand_matrix = np.random.randn(3, 4)\n",
        "print(\"\\n# Random matrix (normal dist)\\n\", rand_matrix)\n",
        "\n",
        "# Array with all entries set to a fixed value\n",
        "fixed_arr = np.full((3, 2), 77)\n",
        "print(\"\\n# All 77s\\n\", fixed_arr)\n",
        "\n",
        "# Array with range and step\n",
        "range_arr = np.arange(5, 50, 7)\n",
        "print(\"\\n# Range with step\\n\", range_arr)\n",
        "\n",
        "# Equally spaced points in an interval\n",
        "eq_space = np.linspace(2, 18, 9)\n",
        "print(\"\\n# Evenly spaced in [2,18]\\n\", eq_space)\n"
      ],
      "metadata": {
        "id": "GKyv-Ktx9YEG",
        "outputId": "0467125a-e500-4794-8e1a-72c938eff739",
        "colab": {
          "base_uri": "https://localhost:8080/"
        }
      },
      "execution_count": 148,
      "outputs": [
        {
          "output_type": "stream",
          "name": "stdout",
          "text": [
            "# All zeros array\n",
            " [[0. 0.]\n",
            " [0. 0.]\n",
            " [0. 0.]\n",
            " [0. 0.]]\n",
            "\n",
            "# All ones (3D)\n",
            " [[[1. 1.]\n",
            "  [1. 1.]\n",
            "  [1. 1.]]\n",
            "\n",
            " [[1. 1.]\n",
            "  [1. 1.]\n",
            "  [1. 1.]]]\n",
            "\n",
            "# Identity matrix\n",
            " [[1. 0. 0. 0.]\n",
            " [0. 1. 0. 0.]\n",
            " [0. 0. 1. 0.]\n",
            " [0. 0. 0. 1.]]\n",
            "\n",
            "# Random vector\n",
            " [0.81878989 0.16840614 0.74328102 0.94839193 0.41205184 0.82001948]\n",
            "\n",
            "# Random matrix (normal dist)\n",
            " [[-0.71590958  0.2179961   0.47347277  0.24455604]\n",
            " [-1.27047592 -1.12494579  0.60133461 -0.59582007]\n",
            " [ 1.42556994 -1.1386799   0.88698228 -0.29099321]]\n",
            "\n",
            "# All 77s\n",
            " [[77 77]\n",
            " [77 77]\n",
            " [77 77]]\n",
            "\n",
            "# Range with step\n",
            " [ 5 12 19 26 33 40 47]\n",
            "\n",
            "# Evenly spaced in [2,18]\n",
            " [ 2.  4.  6.  8. 10. 12. 14. 16. 18.]\n"
          ]
        }
      ]
    },
    {
      "cell_type": "markdown",
      "source": [
        "#Assignment"
      ],
      "metadata": {
        "id": "3-vLkTk-mYLv"
      }
    },
    {
      "cell_type": "markdown",
      "source": [
        "\n",
        "Use the [Wine Quality Red dataset](https://archive.ics.uci.edu/ml/machine-learning-databases/wine-quality/winequality-red.csv) from UCI.\n",
        "\n",
        "**Rules:**\n",
        "- Use only NumPy (not Pandas, not scikit-learn, not SciPy)\n",
        "- Download, load, and manipulate the data with NumPy only\n",
        "\n",
        "###1. What is the shape of the data array? (How many wine samples and how many columns of features does it have?)\n"
      ],
      "metadata": {
        "id": "p6zScPZ_nCu9"
      }
    },
    {
      "cell_type": "code",
      "source": [
        "print (\"shape of wine Data :\" , wine_data.shape)"
      ],
      "metadata": {
        "id": "4_BuzplO7XXN",
        "outputId": "e14c17ec-5930-4f1f-8672-f90f0ad8801c",
        "colab": {
          "base_uri": "https://localhost:8080/"
        }
      },
      "execution_count": 149,
      "outputs": [
        {
          "output_type": "stream",
          "name": "stdout",
          "text": [
            "shape of wine Data : (1599, 12)\n"
          ]
        }
      ]
    },
    {
      "cell_type": "markdown",
      "source": [
        "\n",
        "###2. Calculate the average (mean) quality score of the red wines. (Hint: this is the mean of the last column in the data array.)\n",
        "\n"
      ],
      "metadata": {
        "id": "tWsQj_RU7d_6"
      }
    },
    {
      "cell_type": "code",
      "source": [
        "# It explicitly selects all rows but only the last column ([:, -1]) and then computes the mean of that slice.\n",
        "\n",
        "mean_quality = wine_data[:,-1].mean()\n",
        "print(\"Average quality score of red Wine:\",mean_quality)"
      ],
      "metadata": {
        "id": "SlOvQ0ml-ohW",
        "outputId": "8bb8a64e-288a-431f-e3c4-062aa3170f75",
        "colab": {
          "base_uri": "https://localhost:8080/"
        }
      },
      "execution_count": 150,
      "outputs": [
        {
          "output_type": "stream",
          "name": "stdout",
          "text": [
            "Average quality score of red Wine: 5.6360225140712945\n"
          ]
        }
      ]
    },
    {
      "cell_type": "code",
      "source": [
        "mean_quality = np.mean(wine_data[:,-1])\n",
        "print(\"Average quality score of red Wine:\",mean_quality)"
      ],
      "metadata": {
        "id": "KfJcUKGo_Qqi",
        "outputId": "51572e3f-f161-46ec-bc97-2ee666916532",
        "colab": {
          "base_uri": "https://localhost:8080/"
        }
      },
      "execution_count": 151,
      "outputs": [
        {
          "output_type": "stream",
          "name": "stdout",
          "text": [
            "Average quality score of red Wine: 5.6360225140712945\n"
          ]
        }
      ]
    },
    {
      "cell_type": "code",
      "source": [
        "#This calculates the mean over the entire array except the last row\n",
        "# The slice wine_data[:-1] means all rows except the last one, but across all columns\n",
        "\n",
        "\n",
        "mean_quality = wine_data[:-1].mean()    # If we romove , from above code it will consider all columns\n",
        "print(\"Average quality score of red Wine:\",mean_quality)"
      ],
      "metadata": {
        "id": "zWSJ_f-jAMDN",
        "outputId": "f7e04807-05f5-4861-8fa0-45c94851cf04",
        "colab": {
          "base_uri": "https://localhost:8080/"
        }
      },
      "execution_count": 152,
      "outputs": [
        {
          "output_type": "stream",
          "name": "stdout",
          "text": [
            "Average quality score of red Wine: 7.92617279151022\n"
          ]
        }
      ]
    },
    {
      "cell_type": "markdown",
      "source": [
        "\n",
        "###3. What are the minimum and maximum pH values observed in the dataset? (Use NumPy to find the smallest and largest pH.)\n",
        "\n",
        "\n",
        "\n",
        "\n",
        "\n"
      ],
      "metadata": {
        "id": "i70z9r_S-gGg"
      }
    },
    {
      "cell_type": "code",
      "source": [
        "min_ph = np.min(wine_data[:,-4])\n",
        "max_ph = np.max(wine_data[:,-4])\n",
        "print(\"Minimum pH value:\", min_ph)\n",
        "print(\"Maximum pH value:\", max_ph)"
      ],
      "metadata": {
        "id": "VIe8AmFb7eiY",
        "outputId": "3b6e9c3a-c06c-419c-ebb5-548cd3311d4f",
        "colab": {
          "base_uri": "https://localhost:8080/"
        }
      },
      "execution_count": 153,
      "outputs": [
        {
          "output_type": "stream",
          "name": "stdout",
          "text": [
            "Minimum pH value: 2.74\n",
            "Maximum pH value: 4.01\n"
          ]
        }
      ]
    },
    {
      "cell_type": "code",
      "source": [
        "ph_column = 8\n",
        "min_ph = np.min(wine_data[:,ph_column])\n",
        "max_ph = np.max(wine_data[:,ph_column])\n",
        "print(\"Minimum pH value:\", min_ph)\n",
        "print(\"Maximum pH value:\", max_ph)"
      ],
      "metadata": {
        "id": "dtxaLV74CLOz",
        "outputId": "3f6a0e25-abde-4b70-e4c3-24ad4a6f52c9",
        "colab": {
          "base_uri": "https://localhost:8080/"
        }
      },
      "execution_count": 154,
      "outputs": [
        {
          "output_type": "stream",
          "name": "stdout",
          "text": [
            "Minimum pH value: 2.74\n",
            "Maximum pH value: 4.01\n"
          ]
        }
      ]
    },
    {
      "cell_type": "markdown",
      "source": [
        "###4. Determine the mean and standard deviation of the alcohol content in these wines. (Calculate the average alcohol percentage and how much it varies.)\n"
      ],
      "metadata": {
        "id": "ev71CauIA3N3"
      }
    },
    {
      "cell_type": "code",
      "source": [
        "alcohol_column = 10\n",
        "mean_alcohol = np.mean(wine_data[:,alcohol_column])\n",
        "std_alcohol = np.std(wine_data[:,alcohol_column])\n",
        "print(\"Mean alcohol content:\", mean_alcohol)\n",
        "print(\"Standard deviation of alcohol content:\", std_alcohol)"
      ],
      "metadata": {
        "id": "43i2qk-YA3q_",
        "outputId": "f8c38d7d-8792-485b-c194-5fc5841bc01d",
        "colab": {
          "base_uri": "https://localhost:8080/"
        }
      },
      "execution_count": 155,
      "outputs": [
        {
          "output_type": "stream",
          "name": "stdout",
          "text": [
            "Mean alcohol content: 10.422983114446529\n",
            "Standard deviation of alcohol content: 1.0653343003437483\n"
          ]
        }
      ]
    },
    {
      "cell_type": "markdown",
      "source": [
        "###5. List all the unique quality ratings present in the dataset. (What distinct quality values appear? Use np.unique on the quality column.)\n"
      ],
      "metadata": {
        "id": "JDj9r7d_DWOq"
      }
    },
    {
      "cell_type": "code",
      "source": [
        "unique_ratings = np.unique(wine_data[:,-1])\n",
        "print(\"Unique quality ratings:\", unique_ratings)"
      ],
      "metadata": {
        "id": "NFIVjs36DWz-",
        "outputId": "2891d8a8-ba71-4f3a-b124-0c2ed4154d86",
        "colab": {
          "base_uri": "https://localhost:8080/"
        }
      },
      "execution_count": 156,
      "outputs": [
        {
          "output_type": "stream",
          "name": "stdout",
          "text": [
            "Unique quality ratings: [3. 4. 5. 6. 7. 8.]\n"
          ]
        }
      ]
    },
    {
      "cell_type": "markdown",
      "source": [
        "###6. How many wine samples have a quality rating of 7? (Count the number of entries where the quality column is exactly 7.)\n"
      ],
      "metadata": {
        "id": "xO02Vv32E9z0"
      }
    },
    {
      "cell_type": "code",
      "source": [
        "number = np.count_nonzero(wine_data[:,-1] == 7)\n",
        "print(\"Total Number of times Number Repitated:\",number)\n",
        "\n",
        "number = np.count_nonzero(wine_data[:,-1] == 5)\n",
        "print(\"Total Number of times Number Repitated:\",number)\n",
        "\n",
        "number = np.count_nonzero(wine_data[:,-1] == 6)\n",
        "print(\"Total Number of times Number Repitated:\",number)"
      ],
      "metadata": {
        "id": "OI7dOyOPE-Yo",
        "outputId": "691b0c3c-c190-457a-dff5-40975d92ccb6",
        "colab": {
          "base_uri": "https://localhost:8080/"
        }
      },
      "execution_count": 157,
      "outputs": [
        {
          "output_type": "stream",
          "name": "stdout",
          "text": [
            "Total Number of times Number Repitated: 199\n",
            "Total Number of times Number Repitated: 681\n",
            "Total Number of times Number Repitated: 638\n"
          ]
        }
      ]
    },
    {
      "cell_type": "code",
      "source": [
        "(wine_data[:,-1]== 7).sum()"
      ],
      "metadata": {
        "id": "KnOlbPcnA3ja",
        "outputId": "98bad3bc-7563-4ea7-e316-0ae710a81b13",
        "colab": {
          "base_uri": "https://localhost:8080/"
        }
      },
      "execution_count": 158,
      "outputs": [
        {
          "output_type": "execute_result",
          "data": {
            "text/plain": [
              "np.int64(199)"
            ]
          },
          "metadata": {},
          "execution_count": 158
        }
      ]
    },
    {
      "cell_type": "code",
      "source": [
        "np.sum(wine_data[:,],-1)"
      ],
      "metadata": {
        "id": "n-3Lq2-_BhuX",
        "outputId": "895e74fa-4946-4a0b-9d95-fb30c73dc2f5",
        "colab": {
          "base_uri": "https://localhost:8080/"
        }
      },
      "execution_count": 159,
      "outputs": [
        {
          "output_type": "execute_result",
          "data": {
            "text/plain": [
              "array([ 74.5438 , 123.0548 ,  99.699  , ..., 100.48174, 105.21547,\n",
              "        92.49249])"
            ]
          },
          "metadata": {},
          "execution_count": 159
        }
      ]
    },
    {
      "cell_type": "code",
      "source": [
        "i =0\n",
        "for q in np.unique(wine_data[:,-1]):\n",
        "  i = max(i,(wine_data[:,-1]==q).sum())\n",
        "print(i)"
      ],
      "metadata": {
        "id": "SYdDXe6OjaUo",
        "outputId": "84c29f2b-00a9-4042-d9af-f5c0d71bfbf7",
        "colab": {
          "base_uri": "https://localhost:8080/"
        }
      },
      "execution_count": 160,
      "outputs": [
        {
          "output_type": "stream",
          "name": "stdout",
          "text": [
            "681\n"
          ]
        }
      ]
    },
    {
      "cell_type": "code",
      "source": [
        "## count wines for each quality rating  and return output as list\n",
        "op = []\n",
        "for q in np.unique(wine_data[:,-1]):\n",
        "  op.append((wine_data[:,-1]==q).sum())\n",
        "print(op)"
      ],
      "metadata": {
        "id": "Tfj7nbZKiRVl",
        "outputId": "23aca7ee-be59-45ef-e32e-7ed8fbd69bce",
        "colab": {
          "base_uri": "https://localhost:8080/"
        }
      },
      "execution_count": 161,
      "outputs": [
        {
          "output_type": "stream",
          "name": "stdout",
          "text": [
            "[np.int64(10), np.int64(53), np.int64(681), np.int64(638), np.int64(199), np.int64(18)]\n"
          ]
        }
      ]
    },
    {
      "cell_type": "code",
      "source": [
        "## count wines for each quality rating  and return output as dictionary\n",
        "\n",
        "op = {}\n",
        "\n",
        "for i in np.unique(wine_data[:,-1]):\n",
        "  op[i] = np.sum(wine_data[:,-1]==i)\n",
        "print(op)"
      ],
      "metadata": {
        "id": "G0HAzGWJl-Qb",
        "outputId": "e6f4783b-17e9-46d6-f3a8-df4295debdcd",
        "colab": {
          "base_uri": "https://localhost:8080/"
        }
      },
      "execution_count": 162,
      "outputs": [
        {
          "output_type": "stream",
          "name": "stdout",
          "text": [
            "{np.float64(3.0): np.int64(10), np.float64(4.0): np.int64(53), np.float64(5.0): np.int64(681), np.float64(6.0): np.int64(638), np.float64(7.0): np.int64(199), np.float64(8.0): np.int64(18)}\n"
          ]
        }
      ]
    },
    {
      "cell_type": "code",
      "source": [
        "print(op.keys())"
      ],
      "metadata": {
        "id": "TQy4cDU4muAb",
        "outputId": "2fa51433-995c-4a2c-d721-cff8a9c85f2d",
        "colab": {
          "base_uri": "https://localhost:8080/"
        }
      },
      "execution_count": 163,
      "outputs": [
        {
          "output_type": "stream",
          "name": "stdout",
          "text": [
            "dict_keys([np.float64(3.0), np.float64(4.0), np.float64(5.0), np.float64(6.0), np.float64(7.0), np.float64(8.0)])\n"
          ]
        }
      ]
    },
    {
      "cell_type": "code",
      "source": [
        "unique , counts = np.unique(wine_data[:,-1],return_counts=True)\n",
        "print(unique)\n",
        "print(counts)"
      ],
      "metadata": {
        "id": "MED_3EmgnSsL",
        "outputId": "5f2eeeae-f36a-4b0f-976a-6d1dcda51571",
        "colab": {
          "base_uri": "https://localhost:8080/"
        }
      },
      "execution_count": 164,
      "outputs": [
        {
          "output_type": "stream",
          "name": "stdout",
          "text": [
            "[3. 4. 5. 6. 7. 8.]\n",
            "[ 10  53 681 638 199  18]\n"
          ]
        }
      ]
    },
    {
      "cell_type": "markdown",
      "source": [
        "###7. How many wines have an alcohol content greater than 10%? (Hint: create a boolean mask for alcohol > 10 and sum it or use np.where.)\n",
        "\n"
      ],
      "metadata": {
        "id": "_TWugu-tF1WU"
      }
    },
    {
      "cell_type": "code",
      "source": [
        "alcohol_column = 10\n",
        "alcohol_greater_than_10 = wine_data[:,alcohol_column] > 10\n",
        "num_wines = np.sum(alcohol_greater_than_10)\n",
        "print(\"Number of wines with alcohol content > 10%:\", num_wines)"
      ],
      "metadata": {
        "id": "484aoLk1F17q",
        "outputId": "2d779350-164c-4036-c68b-113b57710a71",
        "colab": {
          "base_uri": "https://localhost:8080/"
        }
      },
      "execution_count": 165,
      "outputs": [
        {
          "output_type": "stream",
          "name": "stdout",
          "text": [
            "Number of wines with alcohol content > 10%: 852\n"
          ]
        }
      ]
    },
    {
      "cell_type": "code",
      "source": [
        "alcohol_greater_than_10 = wine_data[:,-2] > 10\n",
        "num_wines = np.sum(alcohol_greater_than_10)\n",
        "print(\"Number of wines with alcohol content > 10%:\", num_wines)"
      ],
      "metadata": {
        "id": "gJn-rEmoHrJa",
        "outputId": "fc5632c2-4b38-49fd-c065-4df18408608f",
        "colab": {
          "base_uri": "https://localhost:8080/"
        }
      },
      "execution_count": 166,
      "outputs": [
        {
          "output_type": "stream",
          "name": "stdout",
          "text": [
            "Number of wines with alcohol content > 10%: 852\n"
          ]
        }
      ]
    },
    {
      "cell_type": "markdown",
      "source": [
        "###8. What is the average citric acid concentration across all red wines? (Compute the mean of the citric acid column.)\n"
      ],
      "metadata": {
        "id": "UXxo5aQpGldh"
      }
    },
    {
      "cell_type": "code",
      "source": [
        "average_citric_acid = np.mean(wine_data[:,2])\n",
        "print(\"Average citric acid concentration:\", average_citric_acid)"
      ],
      "metadata": {
        "id": "fAiNLA_cGl_w",
        "outputId": "e42327b4-8850-4c83-8d57-ec7032ce3c18",
        "colab": {
          "base_uri": "https://localhost:8080/"
        }
      },
      "execution_count": 167,
      "outputs": [
        {
          "output_type": "stream",
          "name": "stdout",
          "text": [
            "Average citric acid concentration: 0.2709756097560976\n"
          ]
        }
      ]
    },
    {
      "cell_type": "code",
      "source": [
        "average_citric_acid = wine_data[:,2].mean()\n",
        "print(\"Average citric acid concentration:\", average_citric_acid)"
      ],
      "metadata": {
        "id": "kFJduYlvJFFZ",
        "outputId": "64cc368f-23f2-471a-8c1d-c6f5627e0209",
        "colab": {
          "base_uri": "https://localhost:8080/"
        }
      },
      "execution_count": 168,
      "outputs": [
        {
          "output_type": "stream",
          "name": "stdout",
          "text": [
            "Average citric acid concentration: 0.2709756097560976\n"
          ]
        }
      ]
    },
    {
      "cell_type": "markdown",
      "source": [
        "###9. Determine the median residual sugar content in the dataset. (Hint: you can use np.median or np.percentile with 50th percentile to find the median residual sugar.)\n"
      ],
      "metadata": {
        "id": "omQ28roaIFY7"
      }
    },
    {
      "cell_type": "code",
      "source": [
        "median_residual_sugar = np.median(wine_data[:,3])\n",
        "print(\"Median residual sugar content:\", median_residual_sugar)"
      ],
      "metadata": {
        "id": "bM15nKEUIGPI",
        "outputId": "5c6d064d-e433-4247-faee-c1d5992b28fa",
        "colab": {
          "base_uri": "https://localhost:8080/"
        }
      },
      "execution_count": 169,
      "outputs": [
        {
          "output_type": "stream",
          "name": "stdout",
          "text": [
            "Median residual sugar content: 2.2\n"
          ]
        }
      ]
    },
    {
      "cell_type": "code",
      "source": [
        "median_residual_sugar = np.percentile(wine_data[:,3],50)\n",
        "print(\"Median residual sugar content:\", median_residual_sugar)"
      ],
      "metadata": {
        "id": "1YJpUhaGeOpH",
        "outputId": "c74434d3-55cf-43e8-bea1-4d8466dacb51",
        "colab": {
          "base_uri": "https://localhost:8080/"
        }
      },
      "execution_count": 170,
      "outputs": [
        {
          "output_type": "stream",
          "name": "stdout",
          "text": [
            "Median residual sugar content: 2.2\n"
          ]
        }
      ]
    },
    {
      "cell_type": "markdown",
      "source": [
        "###10. What is the 75th percentile (upper quartile) of the alcohol content? (In other words, 25% of the wines have an alcohol content above what value?)\n"
      ],
      "metadata": {
        "id": "tpxlHXFIJU6a"
      }
    },
    {
      "cell_type": "code",
      "source": [
        "alcohol_content = np.percentile(wine_data[:,10],75)\n",
        "print(\"75th percentile of alcohol content:\", alcohol_content)"
      ],
      "metadata": {
        "id": "IA3Y03ZdJVfN",
        "outputId": "e0fb3be0-12e1-425e-d8ae-7f7cff24825c",
        "colab": {
          "base_uri": "https://localhost:8080/"
        }
      },
      "execution_count": 171,
      "outputs": [
        {
          "output_type": "stream",
          "name": "stdout",
          "text": [
            "75th percentile of alcohol content: 11.1\n"
          ]
        }
      ]
    },
    {
      "cell_type": "code",
      "source": [
        "# which quality have Highest number of wines\n",
        "\n",
        "a = 0\n",
        "for i in np.unique(wine_data[:,-1]):\n",
        "  a = max(a, np.sum(wine_data[:,-1]==i))\n",
        "\n",
        "print(a)"
      ],
      "metadata": {
        "id": "1FfNP-dto5RP",
        "outputId": "55814e5a-6302-442d-ed38-ed9af9456ca0",
        "colab": {
          "base_uri": "https://localhost:8080/"
        }
      },
      "execution_count": 172,
      "outputs": [
        {
          "output_type": "stream",
          "name": "stdout",
          "text": [
            "681\n"
          ]
        }
      ]
    },
    {
      "cell_type": "markdown",
      "source": [
        "\n",
        "###11. determine how many wines fall into each quality score category. (Find the count of samples for each unique quality value.) Which quality rating is most common in the red wine dataset?\n",
        "\n"
      ],
      "metadata": {
        "id": "Y-REadwJeI6N"
      }
    },
    {
      "cell_type": "code",
      "source": [
        "quality_scores = wine_data[:, -1]\n",
        "unique_qualities, counts = np.unique(quality_scores, return_counts=True)\n",
        "\n",
        "print(\"Quality scores:\", unique_qualities)\n",
        "print(\"Counts:\", counts)\n",
        "\n",
        "total_unique_qualities = len(unique_qualities)\n",
        "print(\"Total unique quality scores:\", total_unique_qualities)"
      ],
      "metadata": {
        "id": "ILNfb6oMkayd",
        "outputId": "cf1ace0d-6c9a-43bf-fa81-f903bab2598b",
        "colab": {
          "base_uri": "https://localhost:8080/"
        }
      },
      "execution_count": 173,
      "outputs": [
        {
          "output_type": "stream",
          "name": "stdout",
          "text": [
            "Quality scores: [3. 4. 5. 6. 7. 8.]\n",
            "Counts: [ 10  53 681 638 199  18]\n",
            "Total unique quality scores: 6\n"
          ]
        }
      ]
    },
    {
      "cell_type": "markdown",
      "source": [
        "\n",
        "###12. Which five wine samples have the highest alcohol content? Identify their alcohol values and corresponding quality scores. (Hint: use np.argsort to sort by the alcohol column and pick the top 5 entries.)\n"
      ],
      "metadata": {
        "id": "CkCq8v13g-pn"
      }
    },
    {
      "cell_type": "code",
      "source": [
        "help(np.argsort)"
      ],
      "metadata": {
        "id": "KUBV4i2rqhGm",
        "outputId": "da0c019a-db9c-42d7-89b8-03e911f087a6",
        "colab": {
          "base_uri": "https://localhost:8080/"
        }
      },
      "execution_count": 174,
      "outputs": [
        {
          "output_type": "stream",
          "name": "stdout",
          "text": [
            "Help on _ArrayFunctionDispatcher in module numpy:\n",
            "\n",
            "argsort(a, axis=-1, kind=None, order=None, *, stable=None)\n",
            "    Returns the indices that would sort an array.\n",
            "\n",
            "    Perform an indirect sort along the given axis using the algorithm specified\n",
            "    by the `kind` keyword. It returns an array of indices of the same shape as\n",
            "    `a` that index data along the given axis in sorted order.\n",
            "\n",
            "    Parameters\n",
            "    ----------\n",
            "    a : array_like\n",
            "        Array to sort.\n",
            "    axis : int or None, optional\n",
            "        Axis along which to sort.  The default is -1 (the last axis). If None,\n",
            "        the flattened array is used.\n",
            "    kind : {'quicksort', 'mergesort', 'heapsort', 'stable'}, optional\n",
            "        Sorting algorithm. The default is 'quicksort'. Note that both 'stable'\n",
            "        and 'mergesort' use timsort under the covers and, in general, the\n",
            "        actual implementation will vary with data type. The 'mergesort' option\n",
            "        is retained for backwards compatibility.\n",
            "\n",
            "        .. versionchanged:: 1.15.0.\n",
            "           The 'stable' option was added.\n",
            "    order : str or list of str, optional\n",
            "        When `a` is an array with fields defined, this argument specifies\n",
            "        which fields to compare first, second, etc.  A single field can\n",
            "        be specified as a string, and not all fields need be specified,\n",
            "        but unspecified fields will still be used, in the order in which\n",
            "        they come up in the dtype, to break ties.\n",
            "    stable : bool, optional\n",
            "        Sort stability. If ``True``, the returned array will maintain\n",
            "        the relative order of ``a`` values which compare as equal.\n",
            "        If ``False`` or ``None``, this is not guaranteed. Internally,\n",
            "        this option selects ``kind='stable'``. Default: ``None``.\n",
            "\n",
            "        .. versionadded:: 2.0.0\n",
            "\n",
            "    Returns\n",
            "    -------\n",
            "    index_array : ndarray, int\n",
            "        Array of indices that sort `a` along the specified `axis`.\n",
            "        If `a` is one-dimensional, ``a[index_array]`` yields a sorted `a`.\n",
            "        More generally, ``np.take_along_axis(a, index_array, axis=axis)``\n",
            "        always yields the sorted `a`, irrespective of dimensionality.\n",
            "\n",
            "    See Also\n",
            "    --------\n",
            "    sort : Describes sorting algorithms used.\n",
            "    lexsort : Indirect stable sort with multiple keys.\n",
            "    ndarray.sort : Inplace sort.\n",
            "    argpartition : Indirect partial sort.\n",
            "    take_along_axis : Apply ``index_array`` from argsort\n",
            "                      to an array as if by calling sort.\n",
            "\n",
            "    Notes\n",
            "    -----\n",
            "    See `sort` for notes on the different sorting algorithms.\n",
            "\n",
            "    As of NumPy 1.4.0 `argsort` works with real/complex arrays containing\n",
            "    nan values. The enhanced sort order is documented in `sort`.\n",
            "\n",
            "    Examples\n",
            "    --------\n",
            "    One dimensional array:\n",
            "\n",
            "    >>> x = np.array([3, 1, 2])\n",
            "    >>> np.argsort(x)\n",
            "    array([1, 2, 0])\n",
            "\n",
            "    Two-dimensional array:\n",
            "\n",
            "    >>> x = np.array([[0, 3], [2, 2]])\n",
            "    >>> x\n",
            "    array([[0, 3],\n",
            "           [2, 2]])\n",
            "\n",
            "    >>> ind = np.argsort(x, axis=0)  # sorts along first axis (down)\n",
            "    >>> ind\n",
            "    array([[0, 1],\n",
            "           [1, 0]])\n",
            "    >>> np.take_along_axis(x, ind, axis=0)  # same as np.sort(x, axis=0)\n",
            "    array([[0, 2],\n",
            "           [2, 3]])\n",
            "\n",
            "    >>> ind = np.argsort(x, axis=1)  # sorts along last axis (across)\n",
            "    >>> ind\n",
            "    array([[0, 1],\n",
            "           [0, 1]])\n",
            "    >>> np.take_along_axis(x, ind, axis=1)  # same as np.sort(x, axis=1)\n",
            "    array([[0, 3],\n",
            "           [2, 2]])\n",
            "\n",
            "    Indices of the sorted elements of a N-dimensional array:\n",
            "\n",
            "    >>> ind = np.unravel_index(np.argsort(x, axis=None), x.shape)\n",
            "    >>> ind\n",
            "    (array([0, 1, 1, 0]), array([0, 0, 1, 1]))\n",
            "    >>> x[ind]  # same as np.sort(x, axis=None)\n",
            "    array([0, 2, 2, 3])\n",
            "\n",
            "    Sorting with keys:\n",
            "\n",
            "    >>> x = np.array([(1, 0), (0, 1)], dtype=[('x', '<i4'), ('y', '<i4')])\n",
            "    >>> x\n",
            "    array([(1, 0), (0, 1)],\n",
            "          dtype=[('x', '<i4'), ('y', '<i4')])\n",
            "\n",
            "    >>> np.argsort(x, order=('x','y'))\n",
            "    array([1, 0])\n",
            "\n",
            "    >>> np.argsort(x, order=('y','x'))\n",
            "    array([0, 1])\n",
            "\n"
          ]
        }
      ]
    },
    {
      "cell_type": "code",
      "source": [
        "import numpy as np\n",
        "\n",
        "# Assuming wine_data is already loaded as a NumPy array\n",
        "\n",
        "# Specify the alcohol column index\n",
        "alcohol_col_index = -2\n",
        "quality_col_index = -1  # last column\n",
        "\n",
        "# Get indices that would sort the alcohol column in ascending order\n",
        "sorted_indices = np.argsort(wine_data[:, alcohol_col_index])\n",
        "\n",
        "# Pick the indices of the top 5 samples with highest alcohol, reverse for descending\n",
        "top5_indices = sorted_indices[-5:][::-1]\n",
        "\n",
        "# Extract the alcohol and quality values for these samples\n",
        "top5_alcohol = wine_data[top5_indices, alcohol_col_index]\n",
        "top5_quality = wine_data[top5_indices, quality_col_index]\n",
        "\n",
        "# Print results\n",
        "for i, idx in enumerate(top5_indices):\n",
        "    print(f\"Sample index {idx}: Alcohol = {top5_alcohol[i]}, Quality = {int(top5_quality[i])}\")\n"
      ],
      "metadata": {
        "id": "XYD56SYTnnVk",
        "outputId": "89a96216-18f5-4b06-e4c1-4a22d85c64f2",
        "colab": {
          "base_uri": "https://localhost:8080/"
        }
      },
      "execution_count": 175,
      "outputs": [
        {
          "output_type": "stream",
          "name": "stdout",
          "text": [
            "Sample index 652: Alcohol = 14.9, Quality = 5\n",
            "Sample index 144: Alcohol = 14.0, Quality = 6\n",
            "Sample index 142: Alcohol = 14.0, Quality = 6\n",
            "Sample index 1270: Alcohol = 14.0, Quality = 6\n",
            "Sample index 821: Alcohol = 14.0, Quality = 7\n"
          ]
        }
      ]
    },
    {
      "cell_type": "code",
      "source": [
        "for i in np.argsort(-wine_data[:,-2])[:5]:     # it will give us last 5 index\n",
        "  print(wine_data[i,:])                        # ith row , all columns"
      ],
      "metadata": {
        "id": "Kc6y5bhnuXj2",
        "outputId": "1ed4bdac-24e9-4168-a112-b5f2d42e505e",
        "colab": {
          "base_uri": "https://localhost:8080/"
        }
      },
      "execution_count": 176,
      "outputs": [
        {
          "output_type": "stream",
          "name": "stdout",
          "text": [
            "[15.9     0.36    0.65    7.5     0.096  22.     71.      0.9976  2.98\n",
            "  0.84   14.9     5.    ]\n",
            "[ 8.8     0.46    0.45    2.6     0.065   7.     18.      0.9947  3.32\n",
            "  0.79   14.      6.    ]\n",
            "[ 4.9      0.42     0.       2.1      0.048   16.      42.       0.99154\n",
            "  3.71     0.74    14.       7.     ]\n",
            "[5.200e+00 3.400e-01 0.000e+00 1.800e+00 5.000e-02 2.700e+01 6.300e+01\n",
            " 9.916e-01 3.680e+00 7.900e-01 1.400e+01 6.000e+00]\n",
            "[5.500e+00 4.900e-01 3.000e-02 1.800e+00 4.400e-02 2.800e+01 8.700e+01\n",
            " 9.908e-01 3.500e+00 8.200e-01 1.400e+01 8.000e+00]\n"
          ]
        }
      ]
    },
    {
      "cell_type": "code",
      "source": [],
      "metadata": {
        "id": "cEnXORB9vXIS"
      },
      "execution_count": 176,
      "outputs": []
    },
    {
      "cell_type": "markdown",
      "source": [
        "###13. Do wines with higher alcohol content tend to have higher quality? To investigate, compare the average quality of wines with above-average alcohol to those with below-average alcohol. (Calculate the mean quality for wines where alcohol is above the overall average, and compare it to the mean quality for wines where alcohol is below the average.)\n",
        "###14. Compute the average alcohol percentage for each quality score in the dataset. (Group the data by the quality column and calculate the mean alcohol content for each quality value. Which quality level has the highest average alcohol content?)\n",
        "###15. Define total acidity as the sum of fixed acidity and volatile acidity for each wine. First, calculate the total acidity for every sample. Next, add this as a new column to the dataset (so the array now has 13 columns). Which wine has the highest total acidity, and what is its quality rating? (Find the index of the max total acidity and check the quality at that index.)\n",
        "###16. Compute the Pearson correlation coefficient between alcohol content and quality. (Use NumPy to see if higher alcohol correlates with higher quality. A positive correlation would indicate that as alcohol increases, quality tends to increase.)\n",
        "###17. How many wines have quality >= 7 and alcohol > 10%? (In other words, count the wines that are high quality and also have relatively high alcohol. Use a boolean condition combining both criteria.)\n",
        "###18.Which feature exhibits the greatest variability among all the wines? (Calculate the standard deviation of each feature column (consider the 11 physicochemical features) and identify which feature has the highest standard deviation.)\n",
        "###19. Compare the mean volatile acidity of high-quality wines versus lower-quality wines. (Consider wines with quality ≥ 7 as \"high quality\" and those with quality ≤ 6 as \"lower quality\". Compute the average volatile acidity in each group. Do high-quality wines have lower volatile acidity on average?)\n",
        "###20. What is the highest quality score attained by any red wine in the dataset, and how many samples achieved that score? (Find the maximum value in the quality column, and count how many wines have that maximum quality.)"
      ],
      "metadata": {
        "id": "xV57jDdtnoZW"
      }
    },
    {
      "cell_type": "code",
      "source": [],
      "metadata": {
        "id": "wX4Fqybono70"
      },
      "execution_count": 176,
      "outputs": []
    }
  ]
}