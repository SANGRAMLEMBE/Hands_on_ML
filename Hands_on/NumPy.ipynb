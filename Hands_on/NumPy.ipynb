{
  "nbformat": 4,
  "nbformat_minor": 0,
  "metadata": {
    "colab": {
      "provenance": [],
      "include_colab_link": true
    },
    "kernelspec": {
      "name": "python3",
      "display_name": "Python 3"
    },
    "language_info": {
      "name": "python"
    }
  },
  "cells": [
    {
      "cell_type": "markdown",
      "metadata": {
        "id": "view-in-github",
        "colab_type": "text"
      },
      "source": [
        "<a href=\"https://colab.research.google.com/github/SANGRAMLEMBE/Hands_on_ML/blob/main/Hands_on/NumPy.ipynb\" target=\"_parent\"><img src=\"https://colab.research.google.com/assets/colab-badge.svg\" alt=\"Open In Colab\"/></a>"
      ]
    },
    {
      "cell_type": "markdown",
      "source": [
        "### What is NumPy?\n",
        "\n",
        "NumPy (short for Numerical Python) is a fundamental package in Python used for scientific computing. It provides support for:\n",
        "\n",
        "#### Key Features:\n",
        "- Works with 1D, 2D, and higher-dimensional arrays\n",
        "- Fast math operations (like sum, mean, etc.)\n",
        "- Supports matrix and linear algebra\n",
        "\n"
      ],
      "metadata": {
        "id": "rH0xy0dDYupb"
      }
    },
    {
      "cell_type": "markdown",
      "source": [
        "# Using NumPy for Smart Fitness Score Calculation\n",
        "\n",
        "## 🏋️ Scenario: Fitness Performance Scoring\n",
        "\n",
        "You run a fitness platform that evaluates daily performance using three metrics:\n",
        "- Minutes of exercise\n",
        "- Liters of water consumed\n",
        "- Hours of sleep\n",
        "\n",
        "You want to assign a **daily fitness score** based on how well a user balances these metrics.\n",
        "---\n",
        "\n",
        "##Fitness Score Formula\n",
        "\n",
        "We will use a simple linear formula:\n",
        "\n",
        "score = w1 * exercise + w2 * water + w3 * sleep"
      ],
      "metadata": {
        "id": "XkhXxMt44UWl"
      }
    },
    {
      "cell_type": "markdown",
      "source": [
        "\n",
        "Where `w1`, `w2`, and `w3` reflect the importance of each metric.\n",
        "\n",
        "---\n",
        "\n",
        "##Define the Weights and Sample Data\n"
      ],
      "metadata": {
        "id": "du1SrG844o7U"
      }
    },
    {
      "cell_type": "code",
      "source": [
        "# Assigning importance to each factor\n",
        "weights = [0.5, 0.2, 0.3]  # More emphasis on exercise\n",
        "\n",
        "# Sample user data: [exercise_minutes, water_liters, sleep_hours]\n",
        "day1 = [45, 2.0, 6.5]\n",
        "day2 = [30, 1.5, 8.0]\n",
        "day3 = [60, 3.0, 7.0]"
      ],
      "metadata": {
        "id": "5kRj-Lgn40V8"
      },
      "execution_count": 1,
      "outputs": []
    },
    {
      "cell_type": "code",
      "execution_count": 2,
      "metadata": {
        "colab": {
          "base_uri": "https://localhost:8080/"
        },
        "id": "AWBwb-984HbM",
        "outputId": "60f17657-b3bd-4c81-cdb8-a1fb051cb630"
      },
      "outputs": [
        {
          "output_type": "stream",
          "name": "stdout",
          "text": [
            "24.849999999999998\n",
            "17.7\n",
            "32.7\n"
          ]
        }
      ],
      "source": [
        "def compute_score(day_data, weights):\n",
        "    result = 0\n",
        "    for i in range(len(day_data)):\n",
        "        result += day_data[i] * weights[i]\n",
        "    return result\n",
        "\n",
        "# Example usage\n",
        "print(compute_score(day1, weights))  # Output: Fitness score for day1\n",
        "print(compute_score(day2, weights))\n",
        "print(compute_score(day3, weights))\n"
      ]
    },
    {
      "cell_type": "code",
      "source": [
        "weight = [0.4,0.6,0.3]\n",
        "\n",
        "# sample student data = [\"college_lecture\", \"self_study\" , \"Hack_a_thon\" ]\n",
        "stud_1 = [40,15,2]\n",
        "stud_2 = [35,20,3]\n",
        "stud_3 = [45,10,1]\n",
        "\n",
        "def chances_of_placement(stud_data , weight):\n",
        "  result = 0\n",
        "  for i in range(len(stud_data)):\n",
        "    result += stud_data[i]*weight[i]\n",
        "  return result\n",
        "\n",
        "print(chances_of_placement(stud_1,weight))\n",
        "print(chances_of_placement(stud_2,weight))\n",
        "print(chances_of_placement(stud_3,weight))"
      ],
      "metadata": {
        "colab": {
          "base_uri": "https://localhost:8080/"
        },
        "id": "I29ZnfZ23JDq",
        "outputId": "8927ec00-811e-4cf9-9cac-90ca3cedbd06"
      },
      "execution_count": 3,
      "outputs": [
        {
          "output_type": "stream",
          "name": "stdout",
          "text": [
            "25.6\n",
            "26.9\n",
            "24.3\n"
          ]
        }
      ]
    },
    {
      "cell_type": "markdown",
      "source": [
        "### using Zip function\n",
        "The zip() function in Python is a built-in function used to combine multiple iterables (like lists, tuples, or strings) element-wise into a single iterable of tuples. It pairs corresponding elements from each input iterable."
      ],
      "metadata": {
        "id": "d_X37afuCkON"
      }
    },
    {
      "cell_type": "code",
      "source": [
        "list1 = [1, 2, 3]\n",
        "list2 = ['a', 'b', 'c']\n",
        "zipped_result = zip(list1, list2)\n",
        "\n",
        "# Convert the zip object to a list to view the contents\n",
        "print(list(zipped_result))"
      ],
      "metadata": {
        "colab": {
          "base_uri": "https://localhost:8080/"
        },
        "id": "t27MZYDcCwaz",
        "outputId": "1fbc8446-f82d-4a52-a029-4e46adbb98fb"
      },
      "execution_count": 4,
      "outputs": [
        {
          "output_type": "stream",
          "name": "stdout",
          "text": [
            "[(1, 'a'), (2, 'b'), (3, 'c')]\n"
          ]
        }
      ]
    },
    {
      "cell_type": "code",
      "source": [
        "list1 = [\"sangram\",\"Jeevan\",\"Himanshu\",\"Divyanshu\"]\n",
        "list2 = [80,85,65,30]\n",
        "zipped_list = zip(list1,list2)\n",
        "print(list(zipped_list))\n",
        "print(zipped_list)"
      ],
      "metadata": {
        "colab": {
          "base_uri": "https://localhost:8080/"
        },
        "id": "Mxuh82Nu57eR",
        "outputId": "1453d5fb-03e4-4f3d-c2f8-9936a12bde34"
      },
      "execution_count": 5,
      "outputs": [
        {
          "output_type": "stream",
          "name": "stdout",
          "text": [
            "[('sangram', 80), ('Jeevan', 85), ('Himanshu', 65), ('Divyanshu', 30)]\n",
            "<zip object at 0x7a5b1dc8cac0>\n"
          ]
        }
      ]
    },
    {
      "cell_type": "code",
      "source": [
        "print(list(zip(day1,weights)))"
      ],
      "metadata": {
        "colab": {
          "base_uri": "https://localhost:8080/"
        },
        "id": "gOmJ3CqD7Hsv",
        "outputId": "e929f6a9-dc79-4c03-8efb-e160e2c9d7c2"
      },
      "execution_count": 6,
      "outputs": [
        {
          "output_type": "stream",
          "name": "stdout",
          "text": [
            "[(45, 0.5), (2.0, 0.2), (6.5, 0.3)]\n"
          ]
        }
      ]
    },
    {
      "cell_type": "code",
      "source": [
        "print(list(zip(stud_2,weight)))"
      ],
      "metadata": {
        "colab": {
          "base_uri": "https://localhost:8080/"
        },
        "id": "4Buh_2rD6pA5",
        "outputId": "e06969f0-b944-4a56-c078-e0f87bb7ec5f"
      },
      "execution_count": 7,
      "outputs": [
        {
          "output_type": "stream",
          "name": "stdout",
          "text": [
            "[(35, 0.4), (20, 0.6), (3, 0.3)]\n"
          ]
        }
      ]
    },
    {
      "cell_type": "code",
      "source": [
        "def compute_score(day_data, weights):\n",
        "    result = 0\n",
        "    for data,w in zip(day_data,weights):\n",
        "        result += data*w\n",
        "\n",
        "    return result\n",
        "\n",
        "# Example usage\n",
        "print(compute_score(day1, weights))\n",
        "print(compute_score(day2, weights))\n",
        "print(compute_score(day3, weights))"
      ],
      "metadata": {
        "colab": {
          "base_uri": "https://localhost:8080/"
        },
        "id": "4AnOhoxyC3wm",
        "outputId": "e2b7b2f8-905a-45d1-b3dd-0e98c9cb397e"
      },
      "execution_count": 8,
      "outputs": [
        {
          "output_type": "stream",
          "name": "stdout",
          "text": [
            "24.849999999999998\n",
            "17.7\n",
            "32.7\n"
          ]
        }
      ]
    },
    {
      "cell_type": "code",
      "source": [
        "def chances_of_placement(stud_data,weight):\n",
        "  result = 0\n",
        "  for data,w in zip(stud_data,weight):\n",
        "    result += data*w\n",
        "  return result\n",
        "\n",
        "print(chances_of_placement(stud_1,weight))\n",
        "print(chances_of_placement(stud_2,weight))\n",
        "print(chances_of_placement(stud_3,weight))"
      ],
      "metadata": {
        "colab": {
          "base_uri": "https://localhost:8080/"
        },
        "id": "oV9n8IVH7KSS",
        "outputId": "e18625e6-2171-462a-9499-b13c80cc5bb3"
      },
      "execution_count": 9,
      "outputs": [
        {
          "output_type": "stream",
          "name": "stdout",
          "text": [
            "25.6\n",
            "26.9\n",
            "24.3\n"
          ]
        }
      ]
    },
    {
      "cell_type": "markdown",
      "source": [
        " ## Now Use NumPy"
      ],
      "metadata": {
        "id": "dDKWo6gf5t5H"
      }
    },
    {
      "cell_type": "code",
      "source": [
        "import numpy as np\n"
      ],
      "metadata": {
        "id": "cqZ18SGG5yMV"
      },
      "execution_count": 10,
      "outputs": []
    },
    {
      "cell_type": "markdown",
      "source": [
        "###Convert Lists to Arrays"
      ],
      "metadata": {
        "id": "RyAR3M1N51_r"
      }
    },
    {
      "cell_type": "code",
      "source": [
        "day1 = np.array([45, 2.0, 6.5])\n",
        "weights = np.array([0.5, 0.2, 0.3])\n"
      ],
      "metadata": {
        "id": "928RSwjP5zTv"
      },
      "execution_count": 11,
      "outputs": []
    },
    {
      "cell_type": "code",
      "source": [
        "type(day1)\n",
        "type(weights)"
      ],
      "metadata": {
        "colab": {
          "base_uri": "https://localhost:8080/"
        },
        "id": "CxeQOZXcdMyK",
        "outputId": "ab02de17-5af1-42d5-f52f-59389f52e1b3"
      },
      "execution_count": 12,
      "outputs": [
        {
          "output_type": "execute_result",
          "data": {
            "text/plain": [
              "numpy.ndarray"
            ]
          },
          "metadata": {},
          "execution_count": 12
        }
      ]
    },
    {
      "cell_type": "code",
      "source": [
        "day1[0]"
      ],
      "metadata": {
        "colab": {
          "base_uri": "https://localhost:8080/"
        },
        "id": "mWPsGmwvdZFc",
        "outputId": "0d5af153-8e09-4caa-f69c-925397ea6b3c"
      },
      "execution_count": 13,
      "outputs": [
        {
          "output_type": "execute_result",
          "data": {
            "text/plain": [
              "np.float64(45.0)"
            ]
          },
          "metadata": {},
          "execution_count": 13
        }
      ]
    },
    {
      "cell_type": "code",
      "source": [
        "weights[1]"
      ],
      "metadata": {
        "colab": {
          "base_uri": "https://localhost:8080/"
        },
        "id": "_d5-VYDB8viO",
        "outputId": "97a41e19-a715-4bf8-b26e-8f569009b3bc"
      },
      "execution_count": 14,
      "outputs": [
        {
          "output_type": "execute_result",
          "data": {
            "text/plain": [
              "np.float64(0.2)"
            ]
          },
          "metadata": {},
          "execution_count": 14
        }
      ]
    },
    {
      "cell_type": "code",
      "source": [
        "a = 5.0\n",
        "print(type(a))"
      ],
      "metadata": {
        "colab": {
          "base_uri": "https://localhost:8080/"
        },
        "id": "T8RLQezVDfPy",
        "outputId": "bb3b56a9-c0b2-400b-f8d7-ac86bbfa9071"
      },
      "execution_count": 15,
      "outputs": [
        {
          "output_type": "stream",
          "name": "stdout",
          "text": [
            "<class 'float'>\n"
          ]
        }
      ]
    },
    {
      "cell_type": "markdown",
      "source": [
        "# Dot method\n"
      ],
      "metadata": {
        "id": "4_M7ytcY9ChY"
      }
    },
    {
      "cell_type": "code",
      "source": [
        "score = np.dot(day1, weights)\n",
        "print(\"Fitness Score:\", score)\n"
      ],
      "metadata": {
        "colab": {
          "base_uri": "https://localhost:8080/"
        },
        "id": "y3x8wSr0588O",
        "outputId": "a91b369a-5251-403c-c3a9-9a5dad4d2680"
      },
      "execution_count": 16,
      "outputs": [
        {
          "output_type": "stream",
          "name": "stdout",
          "text": [
            "Fitness Score: 24.849999999999998\n"
          ]
        }
      ]
    },
    {
      "cell_type": "code",
      "source": [
        "placement_chance = np.dot(stud_2,weight)\n",
        "print(\"Student 2 Placement Chances score is \",placement_chance)"
      ],
      "metadata": {
        "colab": {
          "base_uri": "https://localhost:8080/"
        },
        "id": "ZLLzvxNp9HrF",
        "outputId": "4a3243d1-989b-432f-94dc-685722986a74"
      },
      "execution_count": 17,
      "outputs": [
        {
          "output_type": "stream",
          "name": "stdout",
          "text": [
            "Student 2 Placement Chances score is  26.9\n"
          ]
        }
      ]
    },
    {
      "cell_type": "markdown",
      "source": [
        "### Or:"
      ],
      "metadata": {
        "id": "uf7YCVr_6BJ2"
      }
    },
    {
      "cell_type": "code",
      "source": [
        "print(day1*weights)"
      ],
      "metadata": {
        "colab": {
          "base_uri": "https://localhost:8080/"
        },
        "id": "XlJ7uPC8Eujm",
        "outputId": "cabfb00e-4b1e-4632-8edd-7fb37a3805d6"
      },
      "execution_count": 18,
      "outputs": [
        {
          "output_type": "stream",
          "name": "stdout",
          "text": [
            "[22.5   0.4   1.95]\n"
          ]
        }
      ]
    },
    {
      "cell_type": "code",
      "source": [
        "(day1 * weights).sum()\n"
      ],
      "metadata": {
        "colab": {
          "base_uri": "https://localhost:8080/"
        },
        "id": "R5LClXWt6DR0",
        "outputId": "11f595a9-2be8-43b1-c469-dbe7cf65615c"
      },
      "execution_count": 19,
      "outputs": [
        {
          "output_type": "execute_result",
          "data": {
            "text/plain": [
              "np.float64(24.849999999999998)"
            ]
          },
          "metadata": {},
          "execution_count": 19
        }
      ]
    },
    {
      "cell_type": "code",
      "source": [
        "print(stud_2,weight)\n",
        "print(type(stud_2))\n",
        "\n",
        "# convert list into numpy array\n",
        "\n",
        "stud_2 = np.array(stud_2)\n",
        "weight = np.array(weight)\n",
        "\n",
        "\n",
        "print(stud_2 * weight)\n",
        "print(type(stud_2))\n",
        "\n",
        "(stud_2 * weight).sum()"
      ],
      "metadata": {
        "colab": {
          "base_uri": "https://localhost:8080/"
        },
        "id": "O9DzTSbP9reC",
        "outputId": "15093bcd-18cf-4c28-95e9-6189d0b7132a"
      },
      "execution_count": 20,
      "outputs": [
        {
          "output_type": "stream",
          "name": "stdout",
          "text": [
            "[35, 20, 3] [0.4, 0.6, 0.3]\n",
            "<class 'list'>\n",
            "[14.  12.   0.9]\n",
            "<class 'numpy.ndarray'>\n"
          ]
        },
        {
          "output_type": "execute_result",
          "data": {
            "text/plain": [
              "np.float64(26.9)"
            ]
          },
          "metadata": {},
          "execution_count": 20
        }
      ]
    },
    {
      "cell_type": "markdown",
      "source": [
        "### Compare performance of Python loop vs NumPy dot product"
      ],
      "metadata": {
        "id": "yqwz8mHjFGhh"
      }
    },
    {
      "cell_type": "code",
      "source": [
        "\n",
        "workout_minutes = list(range(30, 1000000))\n",
        "calories_burned = list(range(30, 1000000))\n",
        "\n",
        "# Convert to NumPy arrays\n",
        "workout_np = np.array(workout_minutes)\n",
        "calories_np = np.array(calories_burned)\n",
        "\n",
        "# Compare performance of Python loop vs NumPy dot product\n"
      ],
      "metadata": {
        "id": "3ydBrZhbf7YL"
      },
      "execution_count": 21,
      "outputs": []
    },
    {
      "cell_type": "code",
      "source": [
        "%%time\n",
        "energy_score_loop = 0\n",
        "for w, c in zip(workout_minutes, calories_burned):\n",
        "    energy_score_loop += w * c\n",
        "print(energy_score_loop)"
      ],
      "metadata": {
        "colab": {
          "base_uri": "https://localhost:8080/"
        },
        "id": "LKL7LGA5glIt",
        "outputId": "21414715-9d3e-4756-ab71-0197dd7ca8f5"
      },
      "execution_count": 22,
      "outputs": [
        {
          "output_type": "stream",
          "name": "stdout",
          "text": [
            "333332833333491445\n",
            "CPU times: user 194 ms, sys: 0 ns, total: 194 ms\n",
            "Wall time: 209 ms\n"
          ]
        }
      ]
    },
    {
      "cell_type": "markdown",
      "source": [
        "### Using NumPy vectorized dot product"
      ],
      "metadata": {
        "id": "1_De4sM-goYM"
      }
    },
    {
      "cell_type": "code",
      "source": [
        "%%time\n",
        "energy_score_np = np.dot(workout_np, calories_np)\n",
        "print(energy_score_np)"
      ],
      "metadata": {
        "colab": {
          "base_uri": "https://localhost:8080/"
        },
        "id": "mul4mSQ3gp4M",
        "outputId": "907a8014-1aa3-4b6b-8ddb-45f570757cd0"
      },
      "execution_count": 23,
      "outputs": [
        {
          "output_type": "stream",
          "name": "stdout",
          "text": [
            "333332833333491445\n",
            "CPU times: user 1.18 ms, sys: 16 µs, total: 1.2 ms\n",
            "Wall time: 1.22 ms\n"
          ]
        }
      ]
    },
    {
      "cell_type": "code",
      "source": [
        "%%time\n",
        "energy_score_loop = 0\n",
        "for s, w in zip(stud_1, weight):\n",
        "    energy_score_loop += s * w\n",
        "print(energy_score_loop)"
      ],
      "metadata": {
        "colab": {
          "base_uri": "https://localhost:8080/"
        },
        "id": "FxGf15vpBBvM",
        "outputId": "7cf0d326-6040-4f27-840a-64db744e699a"
      },
      "execution_count": 24,
      "outputs": [
        {
          "output_type": "stream",
          "name": "stdout",
          "text": [
            "25.6\n",
            "CPU times: user 198 µs, sys: 18 µs, total: 216 µs\n",
            "Wall time: 210 µs\n"
          ]
        }
      ]
    },
    {
      "cell_type": "code",
      "source": [
        "%%time\n",
        "energy_score_np = np.dot(stud_1,weight)\n",
        "print(energy_score_np)"
      ],
      "metadata": {
        "colab": {
          "base_uri": "https://localhost:8080/"
        },
        "id": "GLeqQhxwA8gl",
        "outputId": "2fef38b4-57ed-41d1-c866-57300d025a5b"
      },
      "execution_count": 25,
      "outputs": [
        {
          "output_type": "stream",
          "name": "stdout",
          "text": [
            "25.6\n",
            "CPU times: user 234 µs, sys: 21 µs, total: 255 µs\n",
            "Wall time: 287 µs\n"
          ]
        }
      ]
    },
    {
      "cell_type": "markdown",
      "source": [
        "###Evaluate a Week at Once"
      ],
      "metadata": {
        "id": "cXmh9Pr96K0p"
      }
    },
    {
      "cell_type": "code",
      "source": [
        "week_data = np.array([\n",
        "    [45, 2.0, 6.5],\n",
        "    [30, 1.5, 8.0],\n",
        "    [60, 3.0, 7.0],\n",
        "    [50, 2.5, 7.5],\n",
        "    [40, 1.8, 6.0],\n",
        "    [55, 2.2, 6.8],\n",
        "    [35, 1.6, 7.2]\n",
        "])\n",
        "#2d array\n",
        "print(week_data.shape)"
      ],
      "metadata": {
        "id": "gdrh-kTj6OVt",
        "colab": {
          "base_uri": "https://localhost:8080/"
        },
        "outputId": "edae873d-63ae-4221-ae65-c6ad178a3ea2"
      },
      "execution_count": 26,
      "outputs": [
        {
          "output_type": "stream",
          "name": "stdout",
          "text": [
            "(7, 3)\n"
          ]
        }
      ]
    },
    {
      "cell_type": "code",
      "source": [
        "# print(week_data)\n",
        "print(week_data.shape)"
      ],
      "metadata": {
        "colab": {
          "base_uri": "https://localhost:8080/"
        },
        "id": "7VBsWQnujOHC",
        "outputId": "cf7513a7-19f3-4396-d35b-294351430b1f"
      },
      "execution_count": 27,
      "outputs": [
        {
          "output_type": "stream",
          "name": "stdout",
          "text": [
            "(7, 3)\n"
          ]
        }
      ]
    },
    {
      "cell_type": "code",
      "source": [
        "x=np.array([1,2,3])\n",
        "print(x.shape)"
      ],
      "metadata": {
        "colab": {
          "base_uri": "https://localhost:8080/"
        },
        "id": "AoMm_69ujbvB",
        "outputId": "c19926f5-2714-44e6-bfa9-2a788dfd18f1"
      },
      "execution_count": 28,
      "outputs": [
        {
          "output_type": "stream",
          "name": "stdout",
          "text": [
            "(3,)\n"
          ]
        }
      ]
    },
    {
      "cell_type": "code",
      "source": [
        "y = np.array([[3,4,5],\n",
        " [3,7,9]])\n",
        "print(y.shape)"
      ],
      "metadata": {
        "colab": {
          "base_uri": "https://localhost:8080/"
        },
        "id": "ChVQqTcJCa9v",
        "outputId": "94d24156-3c52-4854-fc7c-1ecf79378410"
      },
      "execution_count": 29,
      "outputs": [
        {
          "output_type": "stream",
          "name": "stdout",
          "text": [
            "(2, 3)\n"
          ]
        }
      ]
    },
    {
      "cell_type": "code",
      "source": [
        "weights = np.array([0.5, 0.2, 0.3])\n",
        "#1d array"
      ],
      "metadata": {
        "id": "dQjEk23gjzpN"
      },
      "execution_count": 30,
      "outputs": []
    },
    {
      "cell_type": "code",
      "source": [
        "\n",
        "arr = np.array([[[1, 2, 3], [4, 5, 6]],\n",
        "\n",
        "                 [[1, 2, 3], [4, 5, 6]]])\n",
        "\n",
        "print(arr.shape)"
      ],
      "metadata": {
        "colab": {
          "base_uri": "https://localhost:8080/"
        },
        "id": "aVnrjMlSln6g",
        "outputId": "fb9e2bb0-9be5-42d5-914b-536aefdd76eb"
      },
      "execution_count": 31,
      "outputs": [
        {
          "output_type": "stream",
          "name": "stdout",
          "text": [
            "(2, 2, 3)\n"
          ]
        }
      ]
    },
    {
      "cell_type": "code",
      "source": [
        "arr = np.array([\n",
        "    [[[1,2,3],[2,4,6],[5,6,7]],[[2,3,4],[4,4,5],[6,7,8]]],\n",
        "    [[[1,8,3],[3,5,6],[3,9,7]],[[2,3,5],[4,4,5],[6,7,8]]]\n",
        "])\n",
        "\n",
        "print(arr.shape)"
      ],
      "metadata": {
        "colab": {
          "base_uri": "https://localhost:8080/"
        },
        "id": "rz19X77rC3qL",
        "outputId": "cccba9e9-1aee-4adf-e23e-c059e9f14865"
      },
      "execution_count": 32,
      "outputs": [
        {
          "output_type": "stream",
          "name": "stdout",
          "text": [
            "(2, 2, 3, 3)\n"
          ]
        }
      ]
    },
    {
      "cell_type": "markdown",
      "source": [
        "All elements in a NumPy array must have the same data type. You can inspect the type using .dtype."
      ],
      "metadata": {
        "id": "edWMHNsgn3IW"
      }
    },
    {
      "cell_type": "code",
      "source": [
        "arr = np.array([\n",
        "    [8, 2, 1],\n",
        "    [9, 3, 2],\n",
        "    [7, 1, 2]\n",
        "])\n",
        "print(\"arr dtype:\", arr.dtype)"
      ],
      "metadata": {
        "colab": {
          "base_uri": "https://localhost:8080/"
        },
        "id": "QLnryhSrnxQJ",
        "outputId": "aa3e22c1-1351-41cb-b471-488e8ef6cdd9"
      },
      "execution_count": 33,
      "outputs": [
        {
          "output_type": "stream",
          "name": "stdout",
          "text": [
            "arr dtype: int64\n"
          ]
        }
      ]
    },
    {
      "cell_type": "code",
      "source": [
        "arr = np.array([[2,3],[4,7],[1,5]])\n",
        "print(arr.dtype)"
      ],
      "metadata": {
        "colab": {
          "base_uri": "https://localhost:8080/"
        },
        "id": "FRTGhqbnEJxb",
        "outputId": "90e1420a-a9da-435e-9d24-8c7ffa5f44fe"
      },
      "execution_count": 34,
      "outputs": [
        {
          "output_type": "stream",
          "name": "stdout",
          "text": [
            "int64\n"
          ]
        }
      ]
    },
    {
      "cell_type": "markdown",
      "source": [
        "Add Floating Point to One Entry"
      ],
      "metadata": {
        "id": "1IqcOuhhn7uM"
      }
    },
    {
      "cell_type": "code",
      "source": [
        "# Introduce one float into the array\n",
        "arr2 = np.array([\n",
        "    [8.0, 2, 1],\n",
        "    [9, 3, 2],\n",
        "    [7, 1, 2]\n",
        "])\n",
        "print(\"arr2 dtype:\",arr2.dtype)  # datatype will changes to float64\n"
      ],
      "metadata": {
        "colab": {
          "base_uri": "https://localhost:8080/"
        },
        "id": "XyVo-FjWn6Kw",
        "outputId": "3c52839d-5269-4ef5-daee-61f1a7470050"
      },
      "execution_count": 35,
      "outputs": [
        {
          "output_type": "stream",
          "name": "stdout",
          "text": [
            "arr2 dtype: float64\n"
          ]
        }
      ]
    },
    {
      "cell_type": "markdown",
      "source": [
        "- np.dot will work same as @"
      ],
      "metadata": {
        "id": "UvhR6BQSFU4K"
      }
    },
    {
      "cell_type": "code",
      "source": [
        "weekly_scores = np.dot(week_data, weights)\n",
        "print(\"Weekly Scores:\", weekly_scores)\n"
      ],
      "metadata": {
        "colab": {
          "base_uri": "https://localhost:8080/"
        },
        "id": "ZrZIYPIYh3rf",
        "outputId": "32a66c37-8ae7-49ac-dfa3-c58f3f4899b1"
      },
      "execution_count": 36,
      "outputs": [
        {
          "output_type": "stream",
          "name": "stdout",
          "text": [
            "Weekly Scores: [24.85 17.7  32.7  27.75 22.16 29.98 19.98]\n"
          ]
        }
      ]
    },
    {
      "cell_type": "code",
      "source": [
        "weekly_scores1=week_data @ weights\n",
        "print(\"Weekly Scores1:\", weekly_scores1)"
      ],
      "metadata": {
        "colab": {
          "base_uri": "https://localhost:8080/"
        },
        "id": "0oXCuqJJj7ra",
        "outputId": "d61ae500-8243-4aa9-a96f-4dbfdc81f77f"
      },
      "execution_count": 37,
      "outputs": [
        {
          "output_type": "stream",
          "name": "stdout",
          "text": [
            "Weekly Scores1: [24.85 17.7  32.7  27.75 22.16 29.98 19.98]\n"
          ]
        }
      ]
    },
    {
      "cell_type": "code",
      "source": [
        "weekly_scores = np.dot(week_data, weight)\n",
        "print(\"weekly score :\",weekly_scores)\n",
        "\n",
        "weekly_scores = week_data @ weight\n",
        "print(\"weekly score :\",weekly_scores)"
      ],
      "metadata": {
        "colab": {
          "base_uri": "https://localhost:8080/"
        },
        "id": "gB9fw9bwFk4Z",
        "outputId": "8005cb18-066d-4bcc-bb23-533fa6fc3f2e"
      },
      "execution_count": 38,
      "outputs": [
        {
          "output_type": "stream",
          "name": "stdout",
          "text": [
            "weekly score : [21.15 15.3  27.9  23.75 18.88 25.36 17.12]\n",
            "weekly score : [21.15 15.3  27.9  23.75 18.88 25.36 17.12]\n"
          ]
        }
      ]
    },
    {
      "cell_type": "markdown",
      "source": [
        "# NumPy Analysis on Wine Quality Dataset\n",
        "\n",
        "We will use NumPy to explore the [Wine Quality dataset](https://archive.ics.uci.edu/ml/datasets/wine+quality), which contains physicochemical and quality-related properties of red and white wine samples.\n",
        "\n",
        "---\n",
        "\n",
        "## Step 1: Load CSV Data using NumPy\n"
      ],
      "metadata": {
        "id": "sbw87PPCHJWP"
      }
    },
    {
      "cell_type": "code",
      "source": [
        "# Load data from UCI Wine Quality Dataset (hosted on GitHub)\n",
        "url = 'https://archive.ics.uci.edu/ml/machine-learning-databases/wine-quality/winequality-red.csv'\n"
      ],
      "metadata": {
        "id": "TJRFZE9jvOb6"
      },
      "execution_count": 39,
      "outputs": []
    },
    {
      "cell_type": "markdown",
      "source": [
        "- **genfromtext**  --> It will convert url into numpy array\n",
        "- **delimiter**  --> It will seprates the value by (,      ;     \" \")"
      ],
      "metadata": {
        "id": "OqvYlm_mGn9Q"
      }
    },
    {
      "cell_type": "code",
      "source": [
        "wine_data = np.loadtxt(\"/content/winequality-white.csv\", delimiter=\";\", skiprows=1)   # headings are string , can't take with numerical\n",
        "print(wine_data.shape)\n",
        "print(wine_data)\n"
      ],
      "metadata": {
        "colab": {
          "base_uri": "https://localhost:8080/"
        },
        "id": "B11BtRDYICFt",
        "outputId": "e3dc755f-0ca9-4371-db6b-6a12336f3756"
      },
      "execution_count": 41,
      "outputs": [
        {
          "output_type": "stream",
          "name": "stdout",
          "text": [
            "(4898, 12)\n",
            "[[ 7.    0.27  0.36 ...  0.45  8.8   6.  ]\n",
            " [ 6.3   0.3   0.34 ...  0.49  9.5   6.  ]\n",
            " [ 8.1   0.28  0.4  ...  0.44 10.1   6.  ]\n",
            " ...\n",
            " [ 6.5   0.24  0.19 ...  0.46  9.4   6.  ]\n",
            " [ 5.5   0.29  0.3  ...  0.38 12.8   7.  ]\n",
            " [ 6.    0.21  0.38 ...  0.32 11.8   6.  ]]\n"
          ]
        }
      ]
    },
    {
      "cell_type": "code",
      "source": [
        "# Use genfromtxt with proper delimiter and header skip\n",
        "wine_data = np.genfromtxt(url, delimiter=';', skip_header=1)\n",
        "print(\"Shape of dataset:\", wine_data.shape)\n"
      ],
      "metadata": {
        "colab": {
          "base_uri": "https://localhost:8080/"
        },
        "id": "L-HdnwrpvCZ_",
        "outputId": "e9eb609c-a92e-48f0-b212-c0413cd99941"
      },
      "execution_count": 42,
      "outputs": [
        {
          "output_type": "stream",
          "name": "stdout",
          "text": [
            "Shape of dataset: (1599, 12)\n"
          ]
        }
      ]
    },
    {
      "cell_type": "code",
      "source": [
        "\n",
        "print(wine_data)"
      ],
      "metadata": {
        "colab": {
          "base_uri": "https://localhost:8080/"
        },
        "id": "jLPRSlsc_fsq",
        "outputId": "f72776ba-962a-4861-fe49-9e39dac2f66d"
      },
      "execution_count": 43,
      "outputs": [
        {
          "output_type": "stream",
          "name": "stdout",
          "text": [
            "[[ 7.4    0.7    0.    ...  0.56   9.4    5.   ]\n",
            " [ 7.8    0.88   0.    ...  0.68   9.8    5.   ]\n",
            " [ 7.8    0.76   0.04  ...  0.65   9.8    5.   ]\n",
            " ...\n",
            " [ 6.3    0.51   0.13  ...  0.75  11.     6.   ]\n",
            " [ 5.9    0.645  0.12  ...  0.71  10.2    5.   ]\n",
            " [ 6.     0.31   0.47  ...  0.66  11.     6.   ]]\n"
          ]
        }
      ]
    },
    {
      "cell_type": "markdown",
      "source": [
        "Download and Save the CSV File:"
      ],
      "metadata": {
        "id": "w0jpqBJ_4fAg"
      }
    },
    {
      "cell_type": "code",
      "source": [
        "import urllib.request\n",
        "\n",
        "# URL of the dataset\n",
        "url = 'https://archive.ics.uci.edu/ml/machine-learning-databases/wine-quality/winequality-red.csv'\n",
        "\n",
        "# Local filename to save as\n",
        "filename = 'wine-quality-red.csv'\n",
        "\n",
        "# Download the file from `url` and save it locally under `filename`\n",
        "urllib.request.urlretrieve(url, filename)\n",
        "\n",
        "print(f\"File saved as: {filename}\")\n"
      ],
      "metadata": {
        "colab": {
          "base_uri": "https://localhost:8080/"
        },
        "id": "M2-1cHM_4cQR",
        "outputId": "e0389f79-48f5-4821-d45a-1aec83c737a1"
      },
      "execution_count": 44,
      "outputs": [
        {
          "output_type": "stream",
          "name": "stdout",
          "text": [
            "File saved as: wine-quality-red.csv\n"
          ]
        }
      ]
    },
    {
      "cell_type": "code",
      "source": [
        "\n",
        "wine_data = np.genfromtxt('winequality-red.csv', delimiter=';', skip_header=1)\n",
        "print(wine_data.shape)"
      ],
      "metadata": {
        "colab": {
          "base_uri": "https://localhost:8080/"
        },
        "id": "2U9pp4QC4uND",
        "outputId": "1659c88b-f7a3-4575-f789-b6b479c5458e"
      },
      "execution_count": 45,
      "outputs": [
        {
          "output_type": "stream",
          "name": "stdout",
          "text": [
            "(1599, 12)\n"
          ]
        }
      ]
    },
    {
      "cell_type": "code",
      "source": [
        "wine_data"
      ],
      "metadata": {
        "colab": {
          "base_uri": "https://localhost:8080/"
        },
        "id": "58e57toBvzoX",
        "outputId": "4124498d-365b-4814-8ec1-c24c39260bfd"
      },
      "execution_count": 46,
      "outputs": [
        {
          "output_type": "execute_result",
          "data": {
            "text/plain": [
              "array([[ 7.4  ,  0.7  ,  0.   , ...,  0.56 ,  9.4  ,  5.   ],\n",
              "       [ 7.8  ,  0.88 ,  0.   , ...,  0.68 ,  9.8  ,  5.   ],\n",
              "       [ 7.8  ,  0.76 ,  0.04 , ...,  0.65 ,  9.8  ,  5.   ],\n",
              "       ...,\n",
              "       [ 6.3  ,  0.51 ,  0.13 , ...,  0.75 , 11.   ,  6.   ],\n",
              "       [ 5.9  ,  0.645,  0.12 , ...,  0.71 , 10.2  ,  5.   ],\n",
              "       [ 6.   ,  0.31 ,  0.47 , ...,  0.66 , 11.   ,  6.   ]])"
            ]
          },
          "metadata": {},
          "execution_count": 46
        }
      ]
    },
    {
      "cell_type": "markdown",
      "source": [
        "Check Column-wise Statistics"
      ],
      "metadata": {
        "id": "_mq8PRJhyzMQ"
      }
    },
    {
      "cell_type": "code",
      "source": [
        "# COLUMN WISE --> axis = 0\n",
        "\n",
        "mean_vals = np.mean(wine_data, axis=0)\n",
        "std_vals = np.std(wine_data, axis=0)\n",
        "print(\"Means:\\n\", mean_vals)\n",
        "print(\"Standard Deviations:\\n\", std_vals)\n"
      ],
      "metadata": {
        "colab": {
          "base_uri": "https://localhost:8080/"
        },
        "id": "tEn86KTCy2GX",
        "outputId": "504ec933-3730-4988-fd19-0483428c9878"
      },
      "execution_count": 47,
      "outputs": [
        {
          "output_type": "stream",
          "name": "stdout",
          "text": [
            "Means:\n",
            " [ 8.31963727  0.52782051  0.27097561  2.5388055   0.08746654 15.87492183\n",
            " 46.46779237  0.99674668  3.3111132   0.65814884 10.42298311  5.63602251]\n",
            "Standard Deviations:\n",
            " [1.74055180e+00 1.79003704e-01 1.94740214e-01 1.40948711e+00\n",
            " 4.70505826e-02 1.04568856e+01 3.28850367e+01 1.88674370e-03\n",
            " 1.54338181e-01 1.69453967e-01 1.06533430e+00 8.07316877e-01]\n"
          ]
        }
      ]
    },
    {
      "cell_type": "code",
      "source": [
        "# ROW WISE --> axis = 1\n",
        "\n",
        "mean_vals = np.mean(wine_data, axis=1)\n",
        "std_vals = np.std(wine_data, axis=1)\n",
        "print(\"Means:\\n\", mean_vals)\n",
        "print(\"Standard Deviations:\\n\", std_vals)"
      ],
      "metadata": {
        "id": "HxQcQH-0VosR",
        "outputId": "77b63d89-9b95-4eea-9afa-b7b9c9b5b0e1",
        "colab": {
          "base_uri": "https://localhost:8080/"
        }
      },
      "execution_count": 48,
      "outputs": [
        {
          "output_type": "stream",
          "name": "stdout",
          "text": [
            "Means:\n",
            " [ 6.21198333 10.25456667  8.30825    ...  8.37347833  8.76795583\n",
            "  7.7077075 ]\n",
            "Standard Deviations:\n",
            " [ 9.12775181 18.3785345  14.4697315  ... 12.29881939 13.60147485\n",
            " 11.52640133]\n"
          ]
        }
      ]
    },
    {
      "cell_type": "code",
      "source": [
        "x = np.array([[1, 2, 3],\n",
        "                      [4, 5, 6],\n",
        "                      [7, 8, 9]])\n",
        "mean_vals = np.mean(x, axis=1)\n",
        "print(mean_vals)\n"
      ],
      "metadata": {
        "colab": {
          "base_uri": "https://localhost:8080/"
        },
        "id": "Zyo3_af2KaTK",
        "outputId": "2351bbbd-0242-49f3-a973-7eceec72a4eb"
      },
      "execution_count": 49,
      "outputs": [
        {
          "output_type": "stream",
          "name": "stdout",
          "text": [
            "[2. 5. 8.]\n"
          ]
        }
      ]
    },
    {
      "cell_type": "code",
      "source": [
        "x = np.array([ [2,3,6,7],\n",
        "                              [1,2,9,4],\n",
        "               [5,8,3,6]])\n",
        "print(x)"
      ],
      "metadata": {
        "id": "gIY7GozUWK-_",
        "outputId": "114cf0d2-d3ab-4d1c-d873-83959148ba92",
        "colab": {
          "base_uri": "https://localhost:8080/"
        }
      },
      "execution_count": 50,
      "outputs": [
        {
          "output_type": "stream",
          "name": "stdout",
          "text": [
            "[[2 3 6 7]\n",
            " [1 2 9 4]\n",
            " [5 8 3 6]]\n"
          ]
        }
      ]
    },
    {
      "cell_type": "code",
      "source": [
        "mean_value = np.mean(x, axis = 0)\n",
        "print(mean_value)"
      ],
      "metadata": {
        "id": "6TXhuhn9Wclz",
        "outputId": "e50c5e48-d6e2-4abc-8a69-4f160fcc6e7a",
        "colab": {
          "base_uri": "https://localhost:8080/"
        }
      },
      "execution_count": 51,
      "outputs": [
        {
          "output_type": "stream",
          "name": "stdout",
          "text": [
            "[2.66666667 4.33333333 6.         5.66666667]\n"
          ]
        }
      ]
    },
    {
      "cell_type": "code",
      "source": [
        "mean_value = np.mean(x, axis = 1)\n",
        "print(mean_value)"
      ],
      "metadata": {
        "id": "RZXWqRMMWlWO",
        "outputId": "12c34e13-d31d-4a22-8f99-b578b96d1072",
        "colab": {
          "base_uri": "https://localhost:8080/"
        }
      },
      "execution_count": 52,
      "outputs": [
        {
          "output_type": "stream",
          "name": "stdout",
          "text": [
            "[4.5 4.  5.5]\n"
          ]
        }
      ]
    },
    {
      "cell_type": "markdown",
      "source": [
        "###Indexing and Filtering Examples"
      ],
      "metadata": {
        "id": "LT3GRoq8zM75"
      }
    },
    {
      "cell_type": "markdown",
      "source": [
        "Filter wines with alcohol > 10\n",
        "\n",
        "- wine_data is a 2D NumPy array (typically representing a dataset with rows for samples and columns for features, e.g., “wine” characteristics).\n",
        "\n",
        "* wine_data[:, 10] selects all rows (you could think of this as every wine sample) but only the 11th column (Python uses zero-based indexing, so column index 10 is the 11th column).\n",
        "\n",
        ">10 creates a boolean mask: For every value in that column, it checks if the value is greater than 10. The result is a 1D NumPy array of True/False values, one for each row."
      ],
      "metadata": {
        "id": "9ogDBvRWzO1u"
      }
    },
    {
      "cell_type": "code",
      "source": [
        "wine_data[:,10]>10"
      ],
      "metadata": {
        "colab": {
          "base_uri": "https://localhost:8080/"
        },
        "id": "Ptfie8WcLUs9",
        "outputId": "65fd1b14-b23e-44b2-d2f9-346af68a749f"
      },
      "execution_count": 53,
      "outputs": [
        {
          "output_type": "execute_result",
          "data": {
            "text/plain": [
              "array([False, False, False, ...,  True,  True,  True])"
            ]
          },
          "metadata": {},
          "execution_count": 53
        }
      ]
    },
    {
      "cell_type": "markdown",
      "source": [
        "How the Code Works\n",
        "wine_data[:, 10] > 10\n",
        "This part creates a boolean mask: a 1D array of True/False values, one for each row in wine_data.\n",
        "It checks whether the value in the 11th column (index 10) for each row is greater than 10.\n",
        "\n",
        "wine_data[ ... ]\n",
        "Here, wine_data is the original 2D array (your dataset).\n",
        "Inside the square brackets, the boolean mask is used to select rows.\n",
        "Only rows where the mask is True (i.e., where the 11th column > 10) are kept.\n",
        "\n",
        "high_alcohol = wine_data[wine_data[:, 10] > 10]\n",
        "This line creates a new array containing only the rows of wine_data where the alcohol content (column 10) is greater than 10.\n",
        "\n",
        "The rest of the code just prints information about this new array, including the number of such “high alcohol” wines (high_alcohol.shape).\n",
        "\n",
        "Why Does wine_data Appear Twice?\n",
        "The first use (wine_data[:, 10] > 10) generates a filter: it checks a condition on every row, producing the mask.\n",
        "\n",
        "The second use (wine_data[ ... ]) applies that filter: it uses the mask to extract the subset of rows that meet the condition.\n",
        "\n",
        "This is a common and efficient NumPy pattern:\n",
        "You do not copy the whole dataset. Instead, the first reference is used to quickly create a filter, and the second applies that filter to select data directly.\n",
        "\n",
        "\n",
        "\n"
      ],
      "metadata": {
        "id": "a8Di0UBdbyP4"
      }
    },
    {
      "cell_type": "code",
      "source": [
        "high_alcohol = wine_data[wine_data[:, 10] > 10]\n",
        "print(high_alcohol)\n",
        "high_alcohol.shape\n",
        "print(\"High alcohol wines:\", high_alcohol.shape[0])\n"
      ],
      "metadata": {
        "colab": {
          "base_uri": "https://localhost:8080/"
        },
        "id": "f4hUtZOSzMul",
        "outputId": "95b30bc2-0034-4902-9782-274259576b43"
      },
      "execution_count": 54,
      "outputs": [
        {
          "output_type": "stream",
          "name": "stdout",
          "text": [
            "[[ 7.5    0.5    0.36  ...  0.8   10.5    5.   ]\n",
            " [ 7.5    0.5    0.36  ...  0.8   10.5    5.   ]\n",
            " [ 8.5    0.28   0.56  ...  0.75  10.5    7.   ]\n",
            " ...\n",
            " [ 6.3    0.51   0.13  ...  0.75  11.     6.   ]\n",
            " [ 5.9    0.645  0.12  ...  0.71  10.2    5.   ]\n",
            " [ 6.     0.31   0.47  ...  0.66  11.     6.   ]]\n",
            "High alcohol wines: 852\n"
          ]
        }
      ]
    },
    {
      "cell_type": "markdown",
      "source": [
        "Filter wines with quality (last column) ≥ 7"
      ],
      "metadata": {
        "id": "qG4nUYG8zW9w"
      }
    },
    {
      "cell_type": "code",
      "source": [
        "good_wines = wine_data[wine_data[:, -1] >= 7]\n",
        "print(\"Good quality wines:\", good_wines.shape[0])\n"
      ],
      "metadata": {
        "colab": {
          "base_uri": "https://localhost:8080/"
        },
        "id": "oo6T8JU3zYEM",
        "outputId": "d0b40215-1de7-4c61-fe95-4f294609b9dc"
      },
      "execution_count": 55,
      "outputs": [
        {
          "output_type": "stream",
          "name": "stdout",
          "text": [
            "Good quality wines: 217\n"
          ]
        }
      ]
    },
    {
      "cell_type": "code",
      "source": [
        "lst=[1,2,3,4,5,6]\n",
        "print(lst[:5])"
      ],
      "metadata": {
        "colab": {
          "base_uri": "https://localhost:8080/"
        },
        "id": "25qAEW3jB1Li",
        "outputId": "cab7d968-7438-4690-d63c-0e1d0f4ece97"
      },
      "execution_count": 56,
      "outputs": [
        {
          "output_type": "stream",
          "name": "stdout",
          "text": [
            "[1, 2, 3, 4, 5]\n"
          ]
        }
      ]
    },
    {
      "cell_type": "markdown",
      "source": [
        "Slice first 5 rows and columns"
      ],
      "metadata": {
        "id": "9HHiuCCHzcDz"
      }
    },
    {
      "cell_type": "code",
      "source": [
        "print(wine_data[:5, :5])\n"
      ],
      "metadata": {
        "id": "zCnFH6w_zc83",
        "colab": {
          "base_uri": "https://localhost:8080/"
        },
        "outputId": "fdb680cd-b321-4e9a-84a8-77e03d204403"
      },
      "execution_count": 57,
      "outputs": [
        {
          "output_type": "stream",
          "name": "stdout",
          "text": [
            "[[ 7.4    0.7    0.     1.9    0.076]\n",
            " [ 7.8    0.88   0.     2.6    0.098]\n",
            " [ 7.8    0.76   0.04   2.3    0.092]\n",
            " [11.2    0.28   0.56   1.9    0.075]\n",
            " [ 7.4    0.7    0.     1.9    0.076]]\n"
          ]
        }
      ]
    },
    {
      "cell_type": "markdown",
      "source": [
        "Compute average alcohol content per quality level"
      ],
      "metadata": {
        "id": "hSSr_xwNzez3"
      }
    },
    {
      "cell_type": "code",
      "source": [
        "np.unique(wine_data[:, -1])"
      ],
      "metadata": {
        "colab": {
          "base_uri": "https://localhost:8080/"
        },
        "id": "G25_66YOMzmu",
        "outputId": "a6f6f6dd-f7c3-4d08-e653-679a3e93efe1"
      },
      "execution_count": 58,
      "outputs": [
        {
          "output_type": "execute_result",
          "data": {
            "text/plain": [
              "array([3., 4., 5., 6., 7., 8.])"
            ]
          },
          "metadata": {},
          "execution_count": 58
        }
      ]
    },
    {
      "cell_type": "code",
      "source": [
        "wine_data[:, -1] == 5"
      ],
      "metadata": {
        "colab": {
          "base_uri": "https://localhost:8080/"
        },
        "id": "Lb3BHg8tC42y",
        "outputId": "36938b2c-0493-4b32-ef24-d30cf3528799"
      },
      "execution_count": 59,
      "outputs": [
        {
          "output_type": "execute_result",
          "data": {
            "text/plain": [
              "array([ True,  True,  True, ..., False,  True, False])"
            ]
          },
          "metadata": {},
          "execution_count": 59
        }
      ]
    },
    {
      "cell_type": "code",
      "source": [
        "np.mean(wine_data[wine_data[:, -1] == 5][:,10])"
      ],
      "metadata": {
        "colab": {
          "base_uri": "https://localhost:8080/"
        },
        "id": "fz9hT7eQCl08",
        "outputId": "ac93a95f-a494-410b-9c18-7002d53c9425"
      },
      "execution_count": 60,
      "outputs": [
        {
          "output_type": "execute_result",
          "data": {
            "text/plain": [
              "np.float64(9.899706314243758)"
            ]
          },
          "metadata": {},
          "execution_count": 60
        }
      ]
    },
    {
      "cell_type": "code",
      "source": [
        "for quality in np.unique(wine_data[:, -1]):\n",
        "    avg_alcohol = np.mean(wine_data[wine_data[:, -1] == quality][:, 10])\n",
        "    print(f\"Quality {int(quality)}: Avg Alcohol = {avg_alcohol:.2f}\")\n"
      ],
      "metadata": {
        "colab": {
          "base_uri": "https://localhost:8080/"
        },
        "id": "XRE5TehBzg0w",
        "outputId": "0e9da82f-d672-4e75-8808-3333185d26c1"
      },
      "execution_count": 61,
      "outputs": [
        {
          "output_type": "stream",
          "name": "stdout",
          "text": [
            "Quality 3: Avg Alcohol = 9.96\n",
            "Quality 4: Avg Alcohol = 10.27\n",
            "Quality 5: Avg Alcohol = 9.90\n",
            "Quality 6: Avg Alcohol = 10.63\n",
            "Quality 7: Avg Alcohol = 11.47\n",
            "Quality 8: Avg Alcohol = 12.09\n"
          ]
        }
      ]
    },
    {
      "cell_type": "markdown",
      "source": [
        "Compute correlation between alcohol and quality"
      ],
      "metadata": {
        "id": "flEm2lplzlp6"
      }
    },
    {
      "cell_type": "code",
      "source": [
        "alcohol = wine_data[:, 10]\n",
        "quality = wine_data[:, -1]\n",
        "correlation = np.corrcoef(alcohol, quality)[0, 1]\n",
        "print(\"Correlation between alcohol and quality:\", correlation)\n"
      ],
      "metadata": {
        "colab": {
          "base_uri": "https://localhost:8080/"
        },
        "id": "Lpwm7iRczmk8",
        "outputId": "b63c9085-c2ec-4c03-a808-fda78e91fd9b"
      },
      "execution_count": 62,
      "outputs": [
        {
          "output_type": "stream",
          "name": "stdout",
          "text": [
            "Correlation between alcohol and quality: 0.47616632400113584\n"
          ]
        }
      ]
    },
    {
      "cell_type": "markdown",
      "source": [
        "###Compute Weighted Wine Score\n",
        "Let’s say you care about three columns:\n",
        "\n",
        "Alcohol (index 10)\n",
        "\n",
        "Sulphates (index 9)\n",
        "\n",
        "Volatile acidity (index 1)"
      ],
      "metadata": {
        "id": "47AyF6uXv-BI"
      }
    },
    {
      "cell_type": "code",
      "source": [
        "# Select relevant columns\n",
        "features = wine_data[:, [10, 9, 1]]\n",
        "\n",
        "# Assign weights: high alcohol is good, low volatile acidity is good\n",
        "weights = np.array([0.4, 0.3, -0.3])\n",
        "\n",
        "# Compute custom wine score\n",
        "scores = features @ weights\n",
        "print(\"Wine scores (first 5):\", scores[:5])\n"
      ],
      "metadata": {
        "colab": {
          "base_uri": "https://localhost:8080/"
        },
        "id": "guxIfGmZwBoc",
        "outputId": "ec7a1ed5-3ca4-42be-ce51-4c1d6dcb935d"
      },
      "execution_count": 63,
      "outputs": [
        {
          "output_type": "stream",
          "name": "stdout",
          "text": [
            "Wine scores (first 5): [3.718 3.86  3.887 4.01  3.718]\n"
          ]
        }
      ]
    },
    {
      "cell_type": "markdown",
      "source": [
        "##  Broadcasting\n",
        "\n",
        "NumPy lets you perform mathematical operations with operators like `+`, `-`, `*`, `/` on arrays.\n",
        "You can use these with either a single number (scalar) or another array of the same shape.\n",
        "Here are some useful examples:\n"
      ],
      "metadata": {
        "id": "KppuHWRl8aZx"
      }
    },
    {
      "cell_type": "code",
      "source": [
        "import numpy as np\n",
        "\n",
        "# Example arrays\n",
        "matrixA = np.array([[4, 7, 2, 5],\n",
        "                    [6, 3, 8, 1],\n",
        "                    [0, 9, 2, 6]])\n",
        "\n",
        "matrixB = np.array([[14, 11, 16, 12],\n",
        "                    [13, 19, 10, 15],\n",
        "                    [21, 14, 18, 13]])\n",
        "\n",
        "# matrix sum\n",
        "print(\"# maatrix sum\\n\", matrixA + matrixB)\n",
        "\n",
        "# Subtract arrays\n",
        "print(\"\\n# Subtract arrays\\n\", matrixB - matrixA)\n",
        "\n",
        "# Add a scalar\n",
        "print(\"# Add a scalar\\n\", matrixA + 2)\n",
        "\n",
        "\n",
        "# Divide by scalar\n",
        "print(\"\\n# Divide by scalar\\n\", matrixA / 2)\n",
        "\n",
        "# Elementwise multiplication\n",
        "print(\"\\n# Elementwise multiplication\\n\", matrixA * matrixB)\n",
        "\n",
        "# Modulus with scalar\n",
        "print(\"\\n# Modulus with scalar\\n\", matrixA % 3)\n"
      ],
      "metadata": {
        "colab": {
          "base_uri": "https://localhost:8080/"
        },
        "id": "i7usnXEG8ldC",
        "outputId": "f8c659cc-7477-41bb-dbd8-33b34152a8e8"
      },
      "execution_count": 64,
      "outputs": [
        {
          "output_type": "stream",
          "name": "stdout",
          "text": [
            "# maatrix sum\n",
            " [[18 18 18 17]\n",
            " [19 22 18 16]\n",
            " [21 23 20 19]]\n",
            "\n",
            "# Subtract arrays\n",
            " [[10  4 14  7]\n",
            " [ 7 16  2 14]\n",
            " [21  5 16  7]]\n",
            "# Add a scalar\n",
            " [[ 6  9  4  7]\n",
            " [ 8  5 10  3]\n",
            " [ 2 11  4  8]]\n",
            "\n",
            "# Divide by scalar\n",
            " [[2.  3.5 1.  2.5]\n",
            " [3.  1.5 4.  0.5]\n",
            " [0.  4.5 1.  3. ]]\n",
            "\n",
            "# Elementwise multiplication\n",
            " [[ 56  77  32  60]\n",
            " [ 78  57  80  15]\n",
            " [  0 126  36  78]]\n",
            "\n",
            "# Modulus with scalar\n",
            " [[1 1 2 2]\n",
            " [0 0 2 1]\n",
            " [0 0 2 0]]\n"
          ]
        }
      ]
    },
    {
      "cell_type": "markdown",
      "source": [
        "## Array Broadcasting\n",
        "\n",
        "Broadcasting describes how NumPy handles operations between arrays of different shapes. Instead of forcing you to create arrays with the exact same dimensions, NumPy automatically \"broadcasts\" the smaller array across the larger one so that their shapes match."
      ],
      "metadata": {
        "id": "hrHVzcqV8u3L"
      }
    },
    {
      "cell_type": "markdown",
      "source": [
        "When operating on two arrays, NumPy compares their shapes element-wise. It starts with the trailing (i.e. rightmost) dimension and works its way left. Two dimensions are compatible when they are equal, or one of them is 1."
      ],
      "metadata": {
        "id": "CP6sCnSWXgZp"
      }
    },
    {
      "cell_type": "markdown",
      "source": [],
      "metadata": {
        "id": "4X6IYUqeHaw7"
      }
    },
    {
      "cell_type": "code",
      "source": [
        "a = np.array([1, 2, 3])\n",
        "b = 10\n",
        "print(a + b)"
      ],
      "metadata": {
        "colab": {
          "base_uri": "https://localhost:8080/"
        },
        "id": "q8YmDgnUPT3p",
        "outputId": "042c6b8e-fb2f-48e3-f5d4-39420a69f859"
      },
      "execution_count": 65,
      "outputs": [
        {
          "output_type": "stream",
          "name": "stdout",
          "text": [
            "[11 12 13]\n"
          ]
        }
      ]
    },
    {
      "cell_type": "markdown",
      "source": [
        "2D array and 1D array\n"
      ],
      "metadata": {
        "id": "9ZFmDEfhPa8s"
      }
    },
    {
      "cell_type": "code",
      "source": [
        "A = np.array([[1, 2, 3],\n",
        "\n",
        "              [4, 5, 6]])\n",
        "\n",
        "B = np.array([10, 20, 30])\n",
        "print(A + B)\n",
        "#Here, B is broadcasted over each row of A"
      ],
      "metadata": {
        "colab": {
          "base_uri": "https://localhost:8080/"
        },
        "id": "AcdlSaXBPcnm",
        "outputId": "3127175c-4483-4a80-d8e4-ce8bdfb7941c"
      },
      "execution_count": 66,
      "outputs": [
        {
          "output_type": "stream",
          "name": "stdout",
          "text": [
            "[[11 22 33]\n",
            " [14 25 36]]\n"
          ]
        }
      ]
    },
    {
      "cell_type": "markdown",
      "source": [],
      "metadata": {
        "id": "w2GnWlEMPxEw"
      }
    },
    {
      "cell_type": "code",
      "source": [
        "matrixA = np.array([[4, 7, 2, 5],\n",
        "                    [6, 3, 8, 1],\n",
        "                    [0, 9, 2, 6]])\n",
        "vectorC = np.array([2, 4, 6, 8])\n",
        "\n",
        "print(\"matrixA.shape:\", matrixA.shape)\n",
        "print(\"vectorC.shape:\", vectorC.shape)\n",
        "print(\"\\n# Broadcasting add\\n\", matrixA + vectorC)\n",
        "\n",
        "vectorD = np.array([5, 7])\n",
        "# This will error:\n",
        "try:\n",
        "    matrixA + vectorD\n",
        "except Exception as e:\n",
        "    print(\"\\n# Broadcasting error:\", e)\n"
      ],
      "metadata": {
        "colab": {
          "base_uri": "https://localhost:8080/"
        },
        "id": "dvFGV5QF8zED",
        "outputId": "f5ad0a71-b89c-441d-cbf9-47ac94fd384d"
      },
      "execution_count": 67,
      "outputs": [
        {
          "output_type": "stream",
          "name": "stdout",
          "text": [
            "matrixA.shape: (3, 4)\n",
            "vectorC.shape: (4,)\n",
            "\n",
            "# Broadcasting add\n",
            " [[ 6 11  8 13]\n",
            " [ 8  7 14  9]\n",
            " [ 2 13  8 14]]\n",
            "\n",
            "# Broadcasting error: operands could not be broadcast together with shapes (3,4) (2,) \n"
          ]
        }
      ]
    },
    {
      "cell_type": "code",
      "source": [
        "A = np.array([[1, 2, 3],\n",
        "\n",
        "              [4, 5, 6]])\n",
        "\n",
        "B = np.array([[10],\n",
        "\n",
        "              [20]])\n",
        "print(A + B)\n"
      ],
      "metadata": {
        "colab": {
          "base_uri": "https://localhost:8080/"
        },
        "id": "fMlq9U2xSK6X",
        "outputId": "6315aeb3-06c7-401e-ea31-83c6ead3530c"
      },
      "execution_count": 68,
      "outputs": [
        {
          "output_type": "stream",
          "name": "stdout",
          "text": [
            "[[11 12 13]\n",
            " [24 25 26]]\n"
          ]
        }
      ]
    },
    {
      "cell_type": "code",
      "source": [
        "a = np.array([1, 2, 3])\n",
        "b = np.array([1, 2])\n",
        "a + b  # This will raise an error because their shapes are not compatible!"
      ],
      "metadata": {
        "colab": {
          "base_uri": "https://localhost:8080/",
          "height": 176
        },
        "id": "8aIbhAY0Sj3a",
        "outputId": "d536f96d-d5f2-483c-ee8d-46478b84e4ad"
      },
      "execution_count": 69,
      "outputs": [
        {
          "output_type": "error",
          "ename": "ValueError",
          "evalue": "operands could not be broadcast together with shapes (3,) (2,) ",
          "traceback": [
            "\u001b[0;31m---------------------------------------------------------------------------\u001b[0m",
            "\u001b[0;31mValueError\u001b[0m                                Traceback (most recent call last)",
            "\u001b[0;32m/tmp/ipython-input-3226033446.py\u001b[0m in \u001b[0;36m<cell line: 0>\u001b[0;34m()\u001b[0m\n\u001b[1;32m      1\u001b[0m \u001b[0ma\u001b[0m \u001b[0;34m=\u001b[0m \u001b[0mnp\u001b[0m\u001b[0;34m.\u001b[0m\u001b[0marray\u001b[0m\u001b[0;34m(\u001b[0m\u001b[0;34m[\u001b[0m\u001b[0;36m1\u001b[0m\u001b[0;34m,\u001b[0m \u001b[0;36m2\u001b[0m\u001b[0;34m,\u001b[0m \u001b[0;36m3\u001b[0m\u001b[0;34m]\u001b[0m\u001b[0;34m)\u001b[0m\u001b[0;34m\u001b[0m\u001b[0;34m\u001b[0m\u001b[0m\n\u001b[1;32m      2\u001b[0m \u001b[0mb\u001b[0m \u001b[0;34m=\u001b[0m \u001b[0mnp\u001b[0m\u001b[0;34m.\u001b[0m\u001b[0marray\u001b[0m\u001b[0;34m(\u001b[0m\u001b[0;34m[\u001b[0m\u001b[0;36m1\u001b[0m\u001b[0;34m,\u001b[0m \u001b[0;36m2\u001b[0m\u001b[0;34m]\u001b[0m\u001b[0;34m)\u001b[0m\u001b[0;34m\u001b[0m\u001b[0;34m\u001b[0m\u001b[0m\n\u001b[0;32m----> 3\u001b[0;31m \u001b[0ma\u001b[0m \u001b[0;34m+\u001b[0m \u001b[0mb\u001b[0m  \u001b[0;31m# This will raise an error because their shapes are not compatible!\u001b[0m\u001b[0;34m\u001b[0m\u001b[0;34m\u001b[0m\u001b[0m\n\u001b[0m",
            "\u001b[0;31mValueError\u001b[0m: operands could not be broadcast together with shapes (3,) (2,) "
          ]
        }
      ]
    },
    {
      "cell_type": "code",
      "source": [
        "A = np.array([[1],\n",
        "\n",
        "              [2],\n",
        "\n",
        "               [3]])   # Shape (3,1)\n",
        "B = np.array([10, 20, 30])      # Shape (3,)\n",
        "print(A.shape)\n",
        "print(B.shape)"
      ],
      "metadata": {
        "id": "2Yz4zXWhSyKO",
        "outputId": "76845a30-2b66-4616-e1b1-3d74577ae316",
        "colab": {
          "base_uri": "https://localhost:8080/"
        }
      },
      "execution_count": 70,
      "outputs": [
        {
          "output_type": "stream",
          "name": "stdout",
          "text": [
            "(3, 1)\n",
            "(3,)\n"
          ]
        }
      ]
    },
    {
      "cell_type": "code",
      "source": [
        "a = np.array([1, 2, 3])\n",
        "b = np.array([4, 5])\n",
        "print(a.shape,b.shape)\n",
        "a+b"
      ],
      "metadata": {
        "id": "IFQUqufXVy0x",
        "outputId": "487bb630-718e-42c6-88f7-7f219b69c073",
        "colab": {
          "base_uri": "https://localhost:8080/",
          "height": 193
        }
      },
      "execution_count": 71,
      "outputs": [
        {
          "output_type": "stream",
          "name": "stdout",
          "text": [
            "(3,) (2,)\n"
          ]
        },
        {
          "output_type": "error",
          "ename": "ValueError",
          "evalue": "operands could not be broadcast together with shapes (3,) (2,) ",
          "traceback": [
            "\u001b[0;31m---------------------------------------------------------------------------\u001b[0m",
            "\u001b[0;31mValueError\u001b[0m                                Traceback (most recent call last)",
            "\u001b[0;32m/tmp/ipython-input-922007874.py\u001b[0m in \u001b[0;36m<cell line: 0>\u001b[0;34m()\u001b[0m\n\u001b[1;32m      2\u001b[0m \u001b[0mb\u001b[0m \u001b[0;34m=\u001b[0m \u001b[0mnp\u001b[0m\u001b[0;34m.\u001b[0m\u001b[0marray\u001b[0m\u001b[0;34m(\u001b[0m\u001b[0;34m[\u001b[0m\u001b[0;36m4\u001b[0m\u001b[0;34m,\u001b[0m \u001b[0;36m5\u001b[0m\u001b[0;34m]\u001b[0m\u001b[0;34m)\u001b[0m\u001b[0;34m\u001b[0m\u001b[0;34m\u001b[0m\u001b[0m\n\u001b[1;32m      3\u001b[0m \u001b[0mprint\u001b[0m\u001b[0;34m(\u001b[0m\u001b[0ma\u001b[0m\u001b[0;34m.\u001b[0m\u001b[0mshape\u001b[0m\u001b[0;34m,\u001b[0m\u001b[0mb\u001b[0m\u001b[0;34m.\u001b[0m\u001b[0mshape\u001b[0m\u001b[0;34m)\u001b[0m\u001b[0;34m\u001b[0m\u001b[0;34m\u001b[0m\u001b[0m\n\u001b[0;32m----> 4\u001b[0;31m \u001b[0ma\u001b[0m\u001b[0;34m+\u001b[0m\u001b[0mb\u001b[0m\u001b[0;34m\u001b[0m\u001b[0;34m\u001b[0m\u001b[0m\n\u001b[0m",
            "\u001b[0;31mValueError\u001b[0m: operands could not be broadcast together with shapes (3,) (2,) "
          ]
        }
      ]
    },
    {
      "cell_type": "code",
      "source": [
        " np.ones((4, 3, 5))"
      ],
      "metadata": {
        "id": "zwQcfsbZHokQ",
        "outputId": "d32cbe90-51f2-49c6-9880-bd1990cc3c8f",
        "colab": {
          "base_uri": "https://localhost:8080/"
        }
      },
      "execution_count": 72,
      "outputs": [
        {
          "output_type": "execute_result",
          "data": {
            "text/plain": [
              "array([[[1., 1., 1., 1., 1.],\n",
              "        [1., 1., 1., 1., 1.],\n",
              "        [1., 1., 1., 1., 1.]],\n",
              "\n",
              "       [[1., 1., 1., 1., 1.],\n",
              "        [1., 1., 1., 1., 1.],\n",
              "        [1., 1., 1., 1., 1.]],\n",
              "\n",
              "       [[1., 1., 1., 1., 1.],\n",
              "        [1., 1., 1., 1., 1.],\n",
              "        [1., 1., 1., 1., 1.]],\n",
              "\n",
              "       [[1., 1., 1., 1., 1.],\n",
              "        [1., 1., 1., 1., 1.],\n",
              "        [1., 1., 1., 1., 1.]]])"
            ]
          },
          "metadata": {},
          "execution_count": 72
        }
      ]
    },
    {
      "cell_type": "code",
      "source": [
        "a = np.ones((1, 3, 5))\n",
        "b = np.ones((4,3,1))\n",
        "print(a.shape)\n",
        "print(b.shape)\n",
        "# Error!\n",
        "c=a + b\n",
        "\n",
        "print(c.shape)"
      ],
      "metadata": {
        "id": "QT8_0zeAWIW9",
        "outputId": "7a1d2f2e-bad8-4edd-8fc4-67452e2740f8",
        "colab": {
          "base_uri": "https://localhost:8080/"
        }
      },
      "execution_count": 73,
      "outputs": [
        {
          "output_type": "stream",
          "name": "stdout",
          "text": [
            "(1, 3, 5)\n",
            "(4, 3, 1)\n",
            "(4, 3, 5)\n"
          ]
        }
      ]
    },
    {
      "cell_type": "markdown",
      "source": [
        "## Array Comparison\n",
        "\n",
        "Elementwise comparisons in NumPy return boolean arrays.\n",
        "You can use operations like `==`, `!=`, `>`, `<`, `>=`, `<=`.\n",
        "\n",
        "Example:\n"
      ],
      "metadata": {
        "id": "sbVmhlea82G7"
      }
    },
    {
      "cell_type": "code",
      "source": [
        "X = np.array([[5, 1, 8], [2, 4, 7]])\n",
        "Y = np.array([[3, 1, 8], [2, 9, 6]])\n",
        "\n",
        "print(\"# X == Y\\n\", X == Y)\n",
        "print(\"\\n# X >= Y\\n\", X >= Y)\n",
        "print(\"\\n# Count not equal:\", (X != Y).sum())\n"
      ],
      "metadata": {
        "id": "oTmt23F-84AE",
        "outputId": "b95a3a5f-20e9-4179-893a-3b11699c6eac",
        "colab": {
          "base_uri": "https://localhost:8080/"
        }
      },
      "execution_count": 74,
      "outputs": [
        {
          "output_type": "stream",
          "name": "stdout",
          "text": [
            "# X == Y\n",
            " [[False  True  True]\n",
            " [ True False False]]\n",
            "\n",
            "# X >= Y\n",
            " [[ True  True  True]\n",
            " [ True False  True]]\n",
            "\n",
            "# Count not equal: 3\n"
          ]
        }
      ]
    },
    {
      "cell_type": "markdown",
      "source": [
        "## Array Indexing and Slicing\n",
        "\n",
        "You can select single elements, slices, or subarrays in NumPy arrays using indices and ranges.\n",
        "Here are a few examples:\n"
      ],
      "metadata": {
        "id": "kzU0ujEG86AI"
      }
    },
    {
      "cell_type": "code",
      "source": [
        "cube = np.array([\n",
        "    [[ 3,  5,  7], [ 8, 10, 12]],\n",
        "    [[13, 15, 17], [18, 20, 22]],\n",
        "    [[23, 25, 27], [28, 30, 32]]\n",
        "])\n",
        "\n",
        "# print(\"# Shape:\", cube.shape)\n",
        "\n",
        "# Single element\n",
        "print(\"\\n# cube[2, 1, 0]:\", cube[2, 1, 0])\n",
        "\n",
        "# Subarray using ranges\n",
        "print(\"\\n# cube[1:, :, 1]:\\n\", cube[1:, :, 1])\n",
        "\n",
        "# Mixing indices and ranges\n",
        "print(\"\\n# cube[1, :, 1:]:\\n\", cube[1, :, 1:])\n",
        "\n",
        "# Fewer indices (returns 2D slice)\n",
        "print(\"\\n# cube[2]:\\n\", cube[2])\n"
      ],
      "metadata": {
        "id": "qjkHTiHp87XL",
        "outputId": "448eb259-7434-42f7-8482-c055ebcf4971",
        "colab": {
          "base_uri": "https://localhost:8080/"
        }
      },
      "execution_count": 75,
      "outputs": [
        {
          "output_type": "stream",
          "name": "stdout",
          "text": [
            "\n",
            "# cube[2, 1, 0]: 28\n",
            "\n",
            "# cube[1:, :, 1]:\n",
            " [[15 20]\n",
            " [25 30]]\n",
            "\n",
            "# cube[1, :, 1:]:\n",
            " [[15 17]\n",
            " [20 22]]\n",
            "\n",
            "# cube[2]:\n",
            " [[23 25 27]\n",
            " [28 30 32]]\n"
          ]
        }
      ]
    },
    {
      "cell_type": "markdown",
      "source": [
        "## Different Ways to Initialize Numpy Arrays\n",
        "\n",
        "Numpy offers many built-in methods to create arrays with preset or random values.  \n",
        "Here are some useful examples with different shapes and values.  \n",
        "Check the [official docs](https://numpy.org/doc/stable/reference/routines.array-creation.html) for more options!\n"
      ],
      "metadata": {
        "id": "g6rHnIDy9Tcj"
      }
    },
    {
      "cell_type": "code",
      "source": [
        "import numpy as np\n",
        "\n",
        "# All zeros array\n",
        "zero_grid = np.zeros((4, 2))\n",
        "print(\"# All zeros array\\n\", zero_grid)\n",
        "\n",
        "# All ones, higher dimension\n",
        "ones_cube = np.ones((2, 3, 2))\n",
        "print(\"\\n# All ones (3D)\\n\", ones_cube)\n",
        "\n",
        "# Identity matrix\n",
        "identity = np.eye(4)\n",
        "print(\"\\n# Identity matrix\\n\", identity)\n",
        "\n",
        "# Random vector (0 to 1)\n",
        "rand_vec = np.random.rand(6)\n",
        "print(\"\\n# Random vector\\n\", rand_vec)\n",
        "\n",
        "# Random matrix, standard normal distribution\n",
        "rand_matrix = np.random.randn(3, 4)\n",
        "print(\"\\n# Random matrix (normal dist)\\n\", rand_matrix)\n",
        "\n",
        "# Array with all entries set to a fixed value\n",
        "fixed_arr = np.full((3, 2), 77)\n",
        "print(\"\\n# All 77s\\n\", fixed_arr)\n",
        "\n",
        "# Array with range and step\n",
        "range_arr = np.arange(5, 50, 7)\n",
        "print(\"\\n# Range with step\\n\", range_arr)\n",
        "\n",
        "# Equally spaced points in an interval\n",
        "eq_space = np.linspace(2, 18, 9)\n",
        "print(\"\\n# Evenly spaced in [2,18]\\n\", eq_space)\n"
      ],
      "metadata": {
        "id": "GKyv-Ktx9YEG",
        "outputId": "687972b7-1e78-4304-b201-f67aa0773487",
        "colab": {
          "base_uri": "https://localhost:8080/"
        }
      },
      "execution_count": 76,
      "outputs": [
        {
          "output_type": "stream",
          "name": "stdout",
          "text": [
            "# All zeros array\n",
            " [[0. 0.]\n",
            " [0. 0.]\n",
            " [0. 0.]\n",
            " [0. 0.]]\n",
            "\n",
            "# All ones (3D)\n",
            " [[[1. 1.]\n",
            "  [1. 1.]\n",
            "  [1. 1.]]\n",
            "\n",
            " [[1. 1.]\n",
            "  [1. 1.]\n",
            "  [1. 1.]]]\n",
            "\n",
            "# Identity matrix\n",
            " [[1. 0. 0. 0.]\n",
            " [0. 1. 0. 0.]\n",
            " [0. 0. 1. 0.]\n",
            " [0. 0. 0. 1.]]\n",
            "\n",
            "# Random vector\n",
            " [0.61116147 0.0350984  0.54276213 0.33572781 0.11679828 0.33963811]\n",
            "\n",
            "# Random matrix (normal dist)\n",
            " [[ 0.75615384 -0.06962746 -0.25701641 -0.86881178]\n",
            " [ 0.0941608  -0.53423472 -0.60742136 -0.81028379]\n",
            " [-0.63150594 -1.76946157 -1.30928709 -0.30406479]]\n",
            "\n",
            "# All 77s\n",
            " [[77 77]\n",
            " [77 77]\n",
            " [77 77]]\n",
            "\n",
            "# Range with step\n",
            " [ 5 12 19 26 33 40 47]\n",
            "\n",
            "# Evenly spaced in [2,18]\n",
            " [ 2.  4.  6.  8. 10. 12. 14. 16. 18.]\n"
          ]
        }
      ]
    },
    {
      "cell_type": "markdown",
      "source": [
        "#Assignment"
      ],
      "metadata": {
        "id": "3-vLkTk-mYLv"
      }
    },
    {
      "cell_type": "markdown",
      "source": [
        "\n",
        "Use the [Wine Quality Red dataset](https://archive.ics.uci.edu/ml/machine-learning-databases/wine-quality/winequality-red.csv) from UCI.\n",
        "\n",
        "**Rules:**\n",
        "- Use only NumPy (not Pandas, not scikit-learn, not SciPy)\n",
        "- Download, load, and manipulate the data with NumPy only\n",
        "\n",
        "###1. What is the shape of the data array? (How many wine samples and how many columns of features does it have?)\n"
      ],
      "metadata": {
        "id": "p6zScPZ_nCu9"
      }
    },
    {
      "cell_type": "code",
      "source": [
        "print (\"shape of wine Data :\" , wine_data.shape)"
      ],
      "metadata": {
        "id": "4_BuzplO7XXN",
        "outputId": "6bf45749-6d5c-4760-db85-47d9569de627",
        "colab": {
          "base_uri": "https://localhost:8080/"
        }
      },
      "execution_count": 77,
      "outputs": [
        {
          "output_type": "stream",
          "name": "stdout",
          "text": [
            "shape of wine Data : (1599, 12)\n"
          ]
        }
      ]
    },
    {
      "cell_type": "markdown",
      "source": [
        "\n",
        "###2. Calculate the average (mean) quality score of the red wines. (Hint: this is the mean of the last column in the data array.)\n",
        "\n"
      ],
      "metadata": {
        "id": "tWsQj_RU7d_6"
      }
    },
    {
      "cell_type": "code",
      "source": [
        "# It explicitly selects all rows but only the last column ([:, -1]) and then computes the mean of that slice.\n",
        "\n",
        "mean_quality = wine_data[:,-1].mean()\n",
        "print(\"Average quality score of red Wine:\",mean_quality)"
      ],
      "metadata": {
        "id": "SlOvQ0ml-ohW",
        "outputId": "4537f97a-cae0-4004-a465-ac6c6edb06a9",
        "colab": {
          "base_uri": "https://localhost:8080/"
        }
      },
      "execution_count": 82,
      "outputs": [
        {
          "output_type": "stream",
          "name": "stdout",
          "text": [
            "Average quality score of red Wine: 5.6360225140712945\n"
          ]
        }
      ]
    },
    {
      "cell_type": "code",
      "source": [
        "mean_quality = np.mean(wine_data[:,-1])\n",
        "print(\"Average quality score of red Wine:\",mean_quality)"
      ],
      "metadata": {
        "id": "KfJcUKGo_Qqi",
        "outputId": "cb0aa004-7aea-4942-e120-2380befd01ef",
        "colab": {
          "base_uri": "https://localhost:8080/"
        }
      },
      "execution_count": 80,
      "outputs": [
        {
          "output_type": "stream",
          "name": "stdout",
          "text": [
            "Average quality score of red Wine: 5.6360225140712945\n"
          ]
        }
      ]
    },
    {
      "cell_type": "code",
      "source": [
        "#This calculates the mean over the entire array except the last row\n",
        "# The slice wine_data[:-1] means all rows except the last one, but across all columns\n",
        "\n",
        "\n",
        "mean_quality = wine_data[:-1].mean()    # If we romove , from above code it will consider all columns\n",
        "print(\"Average quality score of red Wine:\",mean_quality)"
      ],
      "metadata": {
        "id": "zWSJ_f-jAMDN",
        "outputId": "3e674488-2699-4f05-e0dd-58ed19a87712",
        "colab": {
          "base_uri": "https://localhost:8080/"
        }
      },
      "execution_count": 91,
      "outputs": [
        {
          "output_type": "stream",
          "name": "stdout",
          "text": [
            "Average quality score of red Wine: 7.92617279151022\n"
          ]
        }
      ]
    },
    {
      "cell_type": "markdown",
      "source": [
        "\n",
        "###3. What are the minimum and maximum pH values observed in the dataset? (Use NumPy to find the smallest and largest pH.)\n",
        "\n",
        "\n",
        "\n",
        "\n",
        "\n"
      ],
      "metadata": {
        "id": "i70z9r_S-gGg"
      }
    },
    {
      "cell_type": "code",
      "source": [
        "min_ph = np.min(wine_data[:,-4])\n",
        "max_ph = np.max(wine_data[:,-4])\n",
        "print(\"Minimum pH value:\", min_ph)\n",
        "print(\"Maximum pH value:\", max_ph)"
      ],
      "metadata": {
        "id": "VIe8AmFb7eiY",
        "outputId": "7b5065f4-1e9d-40b2-a4f5-1cea27c60c91",
        "colab": {
          "base_uri": "https://localhost:8080/"
        }
      },
      "execution_count": 86,
      "outputs": [
        {
          "output_type": "stream",
          "name": "stdout",
          "text": [
            "Minimum pH value: 2.74\n",
            "Maximum pH value: 4.01\n"
          ]
        }
      ]
    },
    {
      "cell_type": "code",
      "source": [
        "ph_column = 8\n",
        "min_ph = np.min(wine_data[:,ph_column])\n",
        "max_ph = np.max(wine_data[:,ph_column])\n",
        "print(\"Minimum pH value:\", min_ph)\n",
        "print(\"Maximum pH value:\", max_ph)"
      ],
      "metadata": {
        "id": "dtxaLV74CLOz",
        "outputId": "10a3ce5d-4edd-4a08-e5f3-de891a12a2b9",
        "colab": {
          "base_uri": "https://localhost:8080/"
        }
      },
      "execution_count": 90,
      "outputs": [
        {
          "output_type": "stream",
          "name": "stdout",
          "text": [
            "Minimum pH value: 2.74\n",
            "Maximum pH value: 4.01\n"
          ]
        }
      ]
    },
    {
      "cell_type": "markdown",
      "source": [
        "###4. Determine the mean and standard deviation of the alcohol content in these wines. (Calculate the average alcohol percentage and how much it varies.)\n"
      ],
      "metadata": {
        "id": "ev71CauIA3N3"
      }
    },
    {
      "cell_type": "code",
      "source": [
        "alcohol_column = 10\n",
        "mean_alcohol = np.mean(wine_data[:,alcohol_column])\n",
        "std_alcohol = np.std(wine_data[:,alcohol_column])\n",
        "print(\"Mean alcohol content:\", mean_alcohol)\n",
        "print(\"Standard deviation of alcohol content:\", std_alcohol)"
      ],
      "metadata": {
        "id": "43i2qk-YA3q_",
        "outputId": "a3f43c80-42db-4d6f-dc0e-ed17258571fe",
        "colab": {
          "base_uri": "https://localhost:8080/"
        }
      },
      "execution_count": 92,
      "outputs": [
        {
          "output_type": "stream",
          "name": "stdout",
          "text": [
            "Mean alcohol content: 10.422983114446529\n",
            "Standard deviation of alcohol content: 1.0653343003437483\n"
          ]
        }
      ]
    },
    {
      "cell_type": "markdown",
      "source": [
        "###5. List all the unique quality ratings present in the dataset. (What distinct quality values appear? Use np.unique on the quality column.)\n"
      ],
      "metadata": {
        "id": "JDj9r7d_DWOq"
      }
    },
    {
      "cell_type": "code",
      "source": [
        "unique_ratings = np.unique(wine_data[:,-1])\n",
        "print(\"Unique quality ratings:\", unique_ratings)"
      ],
      "metadata": {
        "id": "NFIVjs36DWz-",
        "outputId": "98efef5b-35f4-444b-fca4-abe455ae3250",
        "colab": {
          "base_uri": "https://localhost:8080/"
        }
      },
      "execution_count": 94,
      "outputs": [
        {
          "output_type": "stream",
          "name": "stdout",
          "text": [
            "Unique quality ratings: [3. 4. 5. 6. 7. 8.]\n"
          ]
        }
      ]
    },
    {
      "cell_type": "markdown",
      "source": [
        "###6. How many wine samples have a quality rating of 7? (Count the number of entries where the quality column is exactly 7.)\n"
      ],
      "metadata": {
        "id": "xO02Vv32E9z0"
      }
    },
    {
      "cell_type": "code",
      "source": [
        "number = np.count_nonzero(wine_data[:,-1] == 7)\n",
        "print(\"Total Number of times Number Repitated:\",number)\n",
        "\n",
        "number = np.count_nonzero(wine_data[:,-1] == 5)\n",
        "print(\"Total Number of times Number Repitated:\",number)\n",
        "\n",
        "number = np.count_nonzero(wine_data[:,-1] == 6)\n",
        "print(\"Total Number of times Number Repitated:\",number)"
      ],
      "metadata": {
        "id": "OI7dOyOPE-Yo",
        "outputId": "398cf269-9703-42c2-f4b5-b401f2725db9",
        "colab": {
          "base_uri": "https://localhost:8080/"
        }
      },
      "execution_count": 97,
      "outputs": [
        {
          "output_type": "stream",
          "name": "stdout",
          "text": [
            "Total Number of times Number Repitated: 199\n",
            "Total Number of times Number Repitated: 681\n",
            "Total Number of times Number Repitated: 638\n"
          ]
        }
      ]
    },
    {
      "cell_type": "markdown",
      "source": [
        "###7. How many wines have an alcohol content greater than 10%? (Hint: create a boolean mask for alcohol > 10 and sum it or use np.where.)\n",
        "\n"
      ],
      "metadata": {
        "id": "_TWugu-tF1WU"
      }
    },
    {
      "cell_type": "code",
      "source": [
        "alcohol_column = 10\n",
        "alcohol_greater_than_10 = wine_data[:,alcohol_column] > 10\n",
        "num_wines = np.sum(alcohol_greater_than_10)\n",
        "print(\"Number of wines with alcohol content > 10%:\", num_wines)"
      ],
      "metadata": {
        "id": "484aoLk1F17q",
        "outputId": "d7d7d14a-2189-4115-98f9-8429c28945f4",
        "colab": {
          "base_uri": "https://localhost:8080/"
        }
      },
      "execution_count": 100,
      "outputs": [
        {
          "output_type": "stream",
          "name": "stdout",
          "text": [
            "Number of wines with alcohol content > 10%: 852\n"
          ]
        }
      ]
    },
    {
      "cell_type": "code",
      "source": [
        "alcohol_greater_than_10 = wine_data[:,-2] > 10\n",
        "num_wines = np.sum(alcohol_greater_than_10)\n",
        "print(\"Number of wines with alcohol content > 10%:\", num_wines)"
      ],
      "metadata": {
        "id": "gJn-rEmoHrJa",
        "outputId": "d258f55f-6867-4893-8ef7-c8c44b3acb08",
        "colab": {
          "base_uri": "https://localhost:8080/"
        }
      },
      "execution_count": 101,
      "outputs": [
        {
          "output_type": "stream",
          "name": "stdout",
          "text": [
            "Number of wines with alcohol content > 10%: 852\n"
          ]
        }
      ]
    },
    {
      "cell_type": "markdown",
      "source": [
        "###8. What is the average citric acid concentration across all red wines? (Compute the mean of the citric acid column.)\n"
      ],
      "metadata": {
        "id": "UXxo5aQpGldh"
      }
    },
    {
      "cell_type": "code",
      "source": [
        "average_citric_acid = np.mean(wine_data[:,2])\n",
        "print(\"Average citric acid concentration:\", average_citric_acid)"
      ],
      "metadata": {
        "id": "fAiNLA_cGl_w",
        "outputId": "55974a30-6b08-42fc-a406-8c2561b2b478",
        "colab": {
          "base_uri": "https://localhost:8080/"
        }
      },
      "execution_count": 103,
      "outputs": [
        {
          "output_type": "stream",
          "name": "stdout",
          "text": [
            "Average citric acid concentration: 0.2709756097560976\n"
          ]
        }
      ]
    },
    {
      "cell_type": "code",
      "source": [
        "average_citric_acid = wine_data[:,2].mean()\n",
        "print(\"Average citric acid concentration:\", average_citric_acid)"
      ],
      "metadata": {
        "id": "kFJduYlvJFFZ",
        "outputId": "aa4bc8a1-adc3-44df-e6e1-f08afdfa7516",
        "colab": {
          "base_uri": "https://localhost:8080/"
        }
      },
      "execution_count": 105,
      "outputs": [
        {
          "output_type": "stream",
          "name": "stdout",
          "text": [
            "Average citric acid concentration: 0.2709756097560976\n"
          ]
        }
      ]
    },
    {
      "cell_type": "markdown",
      "source": [
        "###9. Determine the median residual sugar content in the dataset. (Hint: you can use np.median or np.percentile with 50th percentile to find the median residual sugar.)\n"
      ],
      "metadata": {
        "id": "omQ28roaIFY7"
      }
    },
    {
      "cell_type": "code",
      "source": [
        "median_residual_sugar = np.median(wine_data[:,3])\n",
        "print(\"Median residual sugar content:\", median_residual_sugar)"
      ],
      "metadata": {
        "id": "bM15nKEUIGPI",
        "outputId": "ee7e1928-814a-4fbc-b830-bfe1f7662487",
        "colab": {
          "base_uri": "https://localhost:8080/"
        }
      },
      "execution_count": 106,
      "outputs": [
        {
          "output_type": "stream",
          "name": "stdout",
          "text": [
            "Median residual sugar content: 2.2\n"
          ]
        }
      ]
    },
    {
      "cell_type": "markdown",
      "source": [
        "###10. What is the 75th percentile (upper quartile) of the alcohol content? (In other words, 25% of the wines have an alcohol content above what value?)\n",
        "\n",
        "###11. determine how many wines fall into each quality score category. (Find the count of samples for each unique quality value.) Which quality rating is most common in the red wine dataset?\n",
        "\n",
        "###12. Which five wine samples have the highest alcohol content? Identify their alcohol values and corresponding quality scores. (Hint: use np.argsort to sort by the alcohol column and pick the top 5 entries.)\n",
        "###13. Do wines with higher alcohol content tend to have higher quality? To investigate, compare the average quality of wines with above-average alcohol to those with below-average alcohol. (Calculate the mean quality for wines where alcohol is above the overall average, and compare it to the mean quality for wines where alcohol is below the average.)\n",
        "###14. Compute the average alcohol percentage for each quality score in the dataset. (Group the data by the quality column and calculate the mean alcohol content for each quality value. Which quality level has the highest average alcohol content?)\n",
        "###15. Define total acidity as the sum of fixed acidity and volatile acidity for each wine. First, calculate the total acidity for every sample. Next, add this as a new column to the dataset (so the array now has 13 columns). Which wine has the highest total acidity, and what is its quality rating? (Find the index of the max total acidity and check the quality at that index.)\n",
        "###16. Compute the Pearson correlation coefficient between alcohol content and quality. (Use NumPy to see if higher alcohol correlates with higher quality. A positive correlation would indicate that as alcohol increases, quality tends to increase.)\n",
        "###17. How many wines have quality >= 7 and alcohol > 10%? (In other words, count the wines that are high quality and also have relatively high alcohol. Use a boolean condition combining both criteria.)\n",
        "###18.Which feature exhibits the greatest variability among all the wines? (Calculate the standard deviation of each feature column (consider the 11 physicochemical features) and identify which feature has the highest standard deviation.)\n",
        "###19. Compare the mean volatile acidity of high-quality wines versus lower-quality wines. (Consider wines with quality ≥ 7 as \"high quality\" and those with quality ≤ 6 as \"lower quality\". Compute the average volatile acidity in each group. Do high-quality wines have lower volatile acidity on average?)\n",
        "###20. What is the highest quality score attained by any red wine in the dataset, and how many samples achieved that score? (Find the maximum value in the quality column, and count how many wines have that maximum quality.)"
      ],
      "metadata": {
        "id": "tpxlHXFIJU6a"
      }
    },
    {
      "cell_type": "code",
      "source": [],
      "metadata": {
        "id": "IA3Y03ZdJVfN"
      },
      "execution_count": null,
      "outputs": []
    }
  ]
}