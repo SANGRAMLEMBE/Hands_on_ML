{
  "nbformat": 4,
  "nbformat_minor": 0,
  "metadata": {
    "colab": {
      "provenance": []
    },
    "kernelspec": {
      "name": "python3",
      "display_name": "Python 3"
    },
    "language_info": {
      "name": "python"
    }
  },
  "cells": [
    {
      "cell_type": "markdown",
      "source": [
        "#TAAI Machine Learning Hands on Course\n",
        "[Course Link](https://www.taai.live/learn/ML-Hands-on-Course)\n",
        "\n",
        "##Instructor - Manoj Kumar\n",
        "\n",
        "[Linkdin](https://www.linkedin.com/in/manoj-choudhary-4bb89a214/)"
      ],
      "metadata": {
        "id": "_AFDCpQvWNIQ"
      }
    },
    {
      "cell_type": "markdown",
      "source": [
        "**The Python Interpreter**\n",
        "\n",
        "Python is an interpreted language. The Python interpreter runs a program by executing one statement at a time.\n",
        "\n",
        "**C++**:\n",
        "\n",
        "Compiled Language: C++ code is compiled into machine-executable code before execution,resulting in high performance and direct hardware interaction.\n",
        "\n",
        "Statically Typed:\n",
        "Variable types must be explicitly declared and are checked at compile-time, leading to fewer runtime type errors but requiring more verbose code."
      ],
      "metadata": {
        "id": "bA2qtGoUpM1S"
      }
    },
    {
      "cell_type": "code",
      "source": [
        "print('hello world')"
      ],
      "metadata": {
        "colab": {
          "base_uri": "https://localhost:8080/"
        },
        "id": "t63ldnjVpRrd",
        "outputId": "165c181d-6d29-4e6f-efda-4126e86ee46d"
      },
      "execution_count": null,
      "outputs": [
        {
          "output_type": "stream",
          "name": "stdout",
          "text": [
            "hello world\n"
          ]
        }
      ]
    },
    {
      "cell_type": "code",
      "source": [
        "print(\"Hello world\",2,sep=',')"
      ],
      "metadata": {
        "colab": {
          "base_uri": "https://localhost:8080/"
        },
        "id": "3Xhve1SFF7OL",
        "outputId": "6c31c460-46e6-4bd8-bec8-639a9cf0a302"
      },
      "execution_count": null,
      "outputs": [
        {
          "output_type": "stream",
          "name": "stdout",
          "text": [
            "Hello world,2\n"
          ]
        }
      ]
    },
    {
      "cell_type": "code",
      "source": [
        "help(print)"
      ],
      "metadata": {
        "colab": {
          "base_uri": "https://localhost:8080/"
        },
        "id": "eWG53QdbjTHR",
        "outputId": "0cff847e-b5a1-4421-9a9d-46ebcca1236c"
      },
      "execution_count": null,
      "outputs": [
        {
          "output_type": "stream",
          "name": "stdout",
          "text": [
            "Help on built-in function print in module builtins:\n",
            "\n",
            "print(*args, sep=' ', end='\\n', file=None, flush=False)\n",
            "    Prints the values to a stream, or to sys.stdout by default.\n",
            "    \n",
            "    sep\n",
            "      string inserted between values, default a space.\n",
            "    end\n",
            "      string appended after the last value, default a newline.\n",
            "    file\n",
            "      a file-like object (stream); defaults to the current sys.stdout.\n",
            "    flush\n",
            "      whether to forcibly flush the stream.\n",
            "\n"
          ]
        }
      ]
    },
    {
      "cell_type": "markdown",
      "source": [
        "Arithmetic Operations\n",
        "\n",
        "| Operator | Description         | Example   | Result |\n",
        "| -------- | ------------------- | --------- | ------ |\n",
        "| `+`      | Addition            | `7 + 8`   | `15`   |\n",
        "| `-`      | Subtraction         | `20 - 6`  | `14`   |\n",
        "| `*`      | Multiplication      | `9 * 3`   | `27`   |\n",
        "| `/`      | Division (float)    | `45 / 6`  | `7.5`  |\n",
        "| `//`     | Floor Division      | `45 // 6` | `7`    |\n",
        "| `%`      | Modulus (Remainder) | `45 % 6`  | `3`    |\n",
        "| `**`     | Exponentiation      | `3 ** 4`  | `81`   |"
      ],
      "metadata": {
        "id": "r5SeB9EKcD0b"
      }
    },
    {
      "cell_type": "code",
      "source": [
        "# Addition\n",
        "print(7 + 8)       # Output: 15\n",
        "\n",
        "# Subtraction\n",
        "print(20 - 6)      # Output: 14\n",
        "\n",
        "# Multiplication\n",
        "print(9 * 3)       # Output: 27\n",
        "\n",
        "# Division (returns float)\n",
        "print(45 / 6)      # Output: 7.5\n",
        "\n",
        "# Floor Division (removes decimal part)\n",
        "print(45 // 6)     # Output: 7\n",
        "\n",
        "# Modulus (gives remainder)\n",
        "print(45 % 6)      # Output: 3\n",
        "\n",
        "# Exponentiation (power)\n",
        "print(3 ** 4)      # Output: 81\n"
      ],
      "metadata": {
        "colab": {
          "base_uri": "https://localhost:8080/"
        },
        "id": "YMdZ5K7ecF1g",
        "outputId": "c98977f5-1ca5-4573-aecb-5ad7be4ed80f"
      },
      "execution_count": null,
      "outputs": [
        {
          "output_type": "stream",
          "name": "stdout",
          "text": [
            "15\n",
            "14\n",
            "27\n",
            "7.5\n",
            "7\n",
            "3\n",
            "81\n"
          ]
        }
      ]
    },
    {
      "cell_type": "markdown",
      "source": [
        "Operator Precedence in Python\n",
        "\n",
        "Python follows standard mathematical precedence rules. Operations inside parentheses () are performed first, followed by ** (exponentiation), then *, /, //, %, and finally + and -."
      ],
      "metadata": {
        "id": "BtUyAAQ5jivx"
      }
    },
    {
      "cell_type": "code",
      "source": [
        "result = ((4 + 2) * (10 - 5)) / (2 ** 2)\n",
        "\n",
        "\n",
        "print(result)      # Output: 7.5\n"
      ],
      "metadata": {
        "colab": {
          "base_uri": "https://localhost:8080/"
        },
        "id": "bjhZuGF0kCTc",
        "outputId": "f8fb28bd-c6cc-4d43-f879-8444ba8e5234"
      },
      "execution_count": null,
      "outputs": [
        {
          "output_type": "stream",
          "name": "stdout",
          "text": [
            "7.5\n"
          ]
        }
      ]
    },
    {
      "cell_type": "markdown",
      "source": [
        "result= 13**2//6-7*3\n",
        "result=169//6-7*3\n",
        "result =28-21=7"
      ],
      "metadata": {
        "id": "M1FammBGHBP6"
      }
    },
    {
      "cell_type": "code",
      "source": [
        "result = (3 + 5 * 2) ** 2 // (4 + 6 % 4) - 7 * (2 ** 3 % 5)\n",
        "print(result)\n"
      ],
      "metadata": {
        "colab": {
          "base_uri": "https://localhost:8080/"
        },
        "id": "lHa7C5CJkfpv",
        "outputId": "f1fc5ce3-7a76-4c55-c639-e199a1f862f8"
      },
      "execution_count": null,
      "outputs": [
        {
          "output_type": "stream",
          "name": "stdout",
          "text": [
            "7\n"
          ]
        }
      ]
    },
    {
      "cell_type": "markdown",
      "source": [
        "\n",
        "\n",
        "> Add blockquote\n",
        "\n"
      ],
      "metadata": {
        "id": "qAV28fCBWkTq"
      }
    },
    {
      "cell_type": "markdown",
      "source": [
        "🍕 New Example:Tackling Multi-Step Variable Problems Using Python\n"
      ],
      "metadata": {
        "id": "p9nQ9xqhlnTH"
      }
    },
    {
      "cell_type": "markdown",
      "source": [
        "🧾 Problem Statement\n",
        "\n",
        "A pizza shop sells each pizza for 15rs The cost to make one pizza is 9rs. If they sell 350 pizzas, how much total profit do they earn?"
      ],
      "metadata": {
        "id": "_K3tVltjl3vy"
      }
    },
    {
      "cell_type": "code",
      "source": [
        "net_profit=6*350"
      ],
      "metadata": {
        "id": "6cIIOEIcH9lq"
      },
      "execution_count": null,
      "outputs": []
    },
    {
      "cell_type": "code",
      "source": [
        "# Store known data\n",
        "selling_price = 15       # Price at which one pizza is sold\n",
        "cost_price = 9           # Cost to make one pizza\n",
        "pizzas_sold = 350        # Total pizzas sold\n",
        "\n",
        "\n",
        "# Calculate profit per pizza\n",
        "profit_per_pizza =  selling_price - cost_price\n",
        "\n",
        "\n",
        "# Calculate total profit\n",
        "total_profit = profit_per_pizza * pizzas_sold\n",
        "\n",
        "\n",
        "print(\"The pizza shop makes a total profit of rs\", total_profit)\n"
      ],
      "metadata": {
        "id": "9cYsLUwGl_VZ",
        "colab": {
          "base_uri": "https://localhost:8080/"
        },
        "outputId": "206cdc3a-8abe-45cb-e11f-3f9ad76c948c"
      },
      "execution_count": null,
      "outputs": [
        {
          "output_type": "stream",
          "name": "stdout",
          "text": [
            "The pizza shop makes a total profit of rs 2100\n"
          ]
        }
      ]
    },
    {
      "cell_type": "markdown",
      "source": [
        "💬 Why Use Variables?\n",
        "\n",
        "Variables help us:\n",
        "\n",
        " Avoid repeating numbers.\n",
        "\n",
        " Make the code readable and self-explanatory.\n",
        "\n",
        " Easily update values if the situation changes.\n",
        "\n"
      ],
      "metadata": {
        "id": "H6QGlpqlmqlj"
      }
    },
    {
      "cell_type": "markdown",
      "source": [
        "🧠 Extra Tip: What if a Variable Isn't Defined?\n",
        "\n",
        "Trying to access a variable before defining it will raise an error:"
      ],
      "metadata": {
        "id": "sdy1_-FDo1va"
      }
    },
    {
      "cell_type": "code",
      "source": [
        "print(profit)  # ❌ Error: net_profit is not defined\n"
      ],
      "metadata": {
        "colab": {
          "base_uri": "https://localhost:8080/",
          "height": 145
        },
        "id": "duhREuw1o6ck",
        "outputId": "f16d917a-d40c-4973-fa54-3aff492cfb21"
      },
      "execution_count": null,
      "outputs": [
        {
          "output_type": "error",
          "ename": "NameError",
          "evalue": "name 'profit' is not defined",
          "traceback": [
            "\u001b[0;31m---------------------------------------------------------------------------\u001b[0m",
            "\u001b[0;31mNameError\u001b[0m                                 Traceback (most recent call last)",
            "\u001b[0;32m/tmp/ipython-input-3090957069.py\u001b[0m in \u001b[0;36m<cell line: 0>\u001b[0;34m()\u001b[0m\n\u001b[0;32m----> 1\u001b[0;31m \u001b[0mprint\u001b[0m\u001b[0;34m(\u001b[0m\u001b[0mprofit\u001b[0m\u001b[0;34m)\u001b[0m  \u001b[0;31m# ❌ Error: net_profit is not defined\u001b[0m\u001b[0;34m\u001b[0m\u001b[0;34m\u001b[0m\u001b[0m\n\u001b[0m",
            "\u001b[0;31mNameError\u001b[0m: name 'profit' is not defined"
          ]
        }
      ]
    },
    {
      "cell_type": "markdown",
      "source": [
        "**Challenge #1**\n",
        "\n",
        "Modify the code for a coffee shop that sells each cup for 45 rs and spends 27.5 rs per cup. They sold 620 cups. What’s the total profit?"
      ],
      "metadata": {
        "id": "XNxZAs8qpBGb"
      }
    },
    {
      "cell_type": "markdown",
      "source": [
        "Comments, blank lines, and spaces:\n",
        "\n",
        "Comments explain code but are ignored during execution.\n",
        "Blank lines and spaces improve readability and structure but have no effect on code execution."
      ],
      "metadata": {
        "id": "5ZXNofSKp0jb"
      }
    },
    {
      "cell_type": "code",
      "source": [
        "# This function adds two numbers\n",
        "def add(a, b):     # Inline comment\n",
        "    result = a + b  # Add the numbers\n",
        "\n",
        "    return result   # Return the result\n",
        "\n",
        "\n",
        "# Call the function\n",
        "sum = add(5, 3)\n",
        "\n",
        "print(sum)  # Output: 8\n"
      ],
      "metadata": {
        "id": "pDirwMjypDBA"
      },
      "execution_count": null,
      "outputs": []
    },
    {
      "cell_type": "markdown",
      "source": [
        "Types of Comments in Python\n",
        "\n",
        "1. Single-line Comments\n",
        "\n",
        "    Use the # symbol.Python ignores everything after # on that line.\n",
        "\n",
        "2. Multi-line Comments (using multiple #)\n",
        "\n",
        "    you can use several # lines\n",
        "\n",
        "3. Multi-line Strings as Comments\n",
        "\n",
        "    Using triple quotes (' ' ' or \" \" \") can create a string that’s not assigned to any variable.\n",
        "\n",
        "    Technically, it's a string, not a comment but it’s often used for multi-line notes or docstrings."
      ],
      "metadata": {
        "id": "RpfaVhBtqGmj"
      }
    },
    {
      "cell_type": "code",
      "source": [
        "# This is a single-line comment\n",
        "x = 5  # This is an inline comment\n"
      ],
      "metadata": {
        "id": "V7vTfCIFrQ37"
      },
      "execution_count": null,
      "outputs": []
    },
    {
      "cell_type": "code",
      "source": [
        "# This is a comment\n",
        "# that spans multiple\n",
        "# lines\n"
      ],
      "metadata": {
        "id": "kaL9f-t0rTx2"
      },
      "execution_count": null,
      "outputs": []
    },
    {
      "cell_type": "code",
      "source": [
        "'''\n",
        "This is not a real comment,\n",
        "but Python ignores it if it's not assigned to a variable.\n",
        "\n",
        "'''\n"
      ],
      "metadata": {
        "id": "FaDklBj3rXTJ"
      },
      "execution_count": null,
      "outputs": []
    },
    {
      "cell_type": "markdown",
      "source": [
        "#Formatting Text with Markdown in Google Colab\n",
        "\n",
        "Markdown lets you add **formatted text**, bullet lists, headers, links, images, and more inside your notebook. This helps make your work more understandable and presentable.\n",
        "\n",
        "---\n",
        "\n",
        "## Headers\n",
        "\n",
        "Use the `#` symbol at the beginning of a line (with a space) to create different levels of headers:\n",
        "\n",
        "# Header 1 (H1)\n",
        "## Header 2 (H2)\n",
        "### Header 3 (H3)\n",
        "#### Header 4 (H4)\n",
        "\n",
        "---\n",
        "\n",
        "\n",
        "### Unordered (Bullet) List:\n",
        "* Python\n",
        "* Java\n",
        "* C++\n",
        "\n",
        "### Ordered (Numbered) List:\n",
        "1. Step 1: Import data\n",
        "2. Step 2: Preprocess\n",
        "3. Step 3: Train model\n",
        "\n",
        "---\n",
        "\n",
        "## ✍️ Emphasis\n",
        "\n",
        "- **Bold text**: `**This is bold**` → **This is bold**\n",
        "- *Italic text*: `*This is italic*` → *This is italic*\n",
        "\n",
        "---\n",
        "\n",
        "## 🔗 Links\n",
        "\n",
        "click here :\n",
        "[Google](https://www.google.com)\n",
        "\n",
        "---\n",
        "\n",
        "## 🖼️ Images\n",
        "\n",
        "Use this syntax:\n",
        "![Text](Image_URL)\n",
        "\n",
        "Example:\n",
        "![Pandas Logo](https://pandas.pydata.org/static/img/pandas_white.svg)\n"
      ],
      "metadata": {
        "id": "7K6PPf3ZtWCR"
      }
    },
    {
      "cell_type": "markdown",
      "source": [
        "# Working with Conditions and Logic in Python\n",
        "\n",
        "Python allows us to compare values using **comparison operators** and build more advanced expressions using **logical operators**. These help control the flow of your program based on conditions.\n",
        "\n",
        "---\n",
        "\n",
        "## ⚖️ Comparison Operators\n",
        "\n",
        "| Operator | Meaning                        |\n",
        "|----------|--------------------------------|\n",
        "| `==`     | Equal to                       |\n",
        "| `!=`     | Not equal to                   |\n",
        "| `>`      | Greater than                   |\n",
        "| `<`      | Less than                      |\n",
        "| `>=`     | Greater than or equal to       |\n",
        "| `<=`     | Less than or equal to          |\n",
        "\n",
        "---\n",
        "\n",
        "## Let's Define Some Variables\n",
        "\n",
        "```python\n",
        "speed_limit = 80\n",
        "current_speed = 72\n",
        "default_speed = 60\n"
      ],
      "metadata": {
        "id": "ZZA0MdMcuf6z"
      }
    },
    {
      "cell_type": "markdown",
      "source": [
        "✅ Equality & Inequality Checks"
      ],
      "metadata": {
        "id": "2Mxb625zuovk"
      }
    },
    {
      "cell_type": "code",
      "source": [
        "speed_limit = 80\n",
        "current_speed = 72\n",
        "default_speed = 60\n",
        "\n",
        "\n",
        "# True\n",
        "print(current_speed == 72)\n",
        "\n",
        "# False\n",
        "print(current_speed == speed_limit)\n",
        "\n",
        "# True\n",
        "print(current_speed != default_speed)\n",
        "\n",
        "# False\n",
        "print(default_speed != 60)\n"
      ],
      "metadata": {
        "colab": {
          "base_uri": "https://localhost:8080/"
        },
        "id": "C9ozwBdZt7Dg",
        "outputId": "43777262-fce2-4a34-ad39-4cc3c5704a00"
      },
      "execution_count": null,
      "outputs": [
        {
          "output_type": "stream",
          "name": "stdout",
          "text": [
            "True\n",
            "False\n",
            "True\n",
            "False\n"
          ]
        }
      ]
    },
    {
      "cell_type": "markdown",
      "source": [
        "🔼 Greater / 🔽 Less Than Comparisons\n"
      ],
      "metadata": {
        "id": "RzJHaHJmu33Q"
      }
    },
    {
      "cell_type": "code",
      "source": [
        "# True\n",
        "speed_limit > default_speed\n",
        "\n",
        "# False\n",
        "default_speed > speed_limit\n",
        "\n",
        "# True\n",
        "current_speed < 100\n",
        "\n",
        "# False\n",
        "speed_limit < default_speed\n"
      ],
      "metadata": {
        "colab": {
          "base_uri": "https://localhost:8080/"
        },
        "id": "674pTdIFu6-o",
        "outputId": "767b11d1-f01e-4ba7-ff1a-6bbda7fa0b68"
      },
      "execution_count": null,
      "outputs": [
        {
          "output_type": "execute_result",
          "data": {
            "text/plain": [
              "False"
            ]
          },
          "metadata": {},
          "execution_count": 216
        }
      ]
    },
    {
      "cell_type": "code",
      "source": [
        "# True\n",
        "current_speed >= 60\n",
        "\n",
        "# False\n",
        "default_speed >= 90\n",
        "\n",
        "# True\n",
        "40 + 20 <= 100\n",
        "\n",
        "# False\n",
        "speed_limit + default_speed <= 100\n"
      ],
      "metadata": {
        "colab": {
          "base_uri": "https://localhost:8080/"
        },
        "id": "rWN_jxPJu_Ee",
        "outputId": "e85b6369-9ba4-45af-de85-695e40fe92fe"
      },
      "execution_count": null,
      "outputs": [
        {
          "output_type": "execute_result",
          "data": {
            "text/plain": [
              "False"
            ]
          },
          "metadata": {},
          "execution_count": 217
        }
      ]
    },
    {
      "cell_type": "markdown",
      "source": [
        "#Storing the Result of a Condition"
      ],
      "metadata": {
        "id": "S2L3UUcMvE5T"
      }
    },
    {
      "cell_type": "code",
      "source": [
        "bag_weight = 7.5\n",
        "is_overweight = bag_weight > 23\n",
        "print(\"Is the bag too heavy?\", is_overweight)\n",
        "# Output: False\n"
      ],
      "metadata": {
        "colab": {
          "base_uri": "https://localhost:8080/"
        },
        "id": "vKu2WHf-vFkq",
        "outputId": "fcbd57a9-2df0-4dce-b34b-4874c1894516"
      },
      "execution_count": null,
      "outputs": [
        {
          "output_type": "stream",
          "name": "stdout",
          "text": [
            "Is the bag too heavy? False\n"
          ]
        }
      ]
    },
    {
      "cell_type": "markdown",
      "source": [
        "###Logical Operators: and, or, not\n",
        "\n",
        "and Operator → True if both conditions are True"
      ],
      "metadata": {
        "id": "D5HSIy09vIpB"
      }
    },
    {
      "cell_type": "code",
      "source": [
        "current_speed > 60 and current_speed <= 80   # True\n",
        "default_speed > 80 and current_speed < 60    # False\n",
        "current_speed < 90 and speed_limit > 100     # False\n",
        "\n",
        "True and False   # False\n",
        "True and True    # True\n"
      ],
      "metadata": {
        "colab": {
          "base_uri": "https://localhost:8080/"
        },
        "id": "MPXOF0zBvLCV",
        "outputId": "5e02c62a-a86f-455d-bae3-893c609d7339"
      },
      "execution_count": null,
      "outputs": [
        {
          "output_type": "execute_result",
          "data": {
            "text/plain": [
              "True"
            ]
          },
          "metadata": {},
          "execution_count": 219
        }
      ]
    },
    {
      "cell_type": "markdown",
      "source": [
        "or Operator → True if at least one condition is True"
      ],
      "metadata": {
        "id": "aylOwEj7vNun"
      }
    },
    {
      "cell_type": "code",
      "source": [
        "speed_limit == 80 or default_speed > 90     # True\n",
        "default_speed != 60 or speed_limit < 40     # False\n",
        "current_speed > 100 or True                 # True\n",
        "\n",
        "False or False   # False\n"
      ],
      "metadata": {
        "id": "fBlOyYdkvOg_",
        "colab": {
          "base_uri": "https://localhost:8080/"
        },
        "outputId": "80a41946-1340-4de7-d44f-ccb6dc27ddf9"
      },
      "execution_count": null,
      "outputs": [
        {
          "output_type": "execute_result",
          "data": {
            "text/plain": [
              "False"
            ]
          },
          "metadata": {},
          "execution_count": 220
        }
      ]
    },
    {
      "cell_type": "markdown",
      "source": [
        "❌ not Operator → Reverses the Boolean value"
      ],
      "metadata": {
        "id": "iAriO1HjvQDL"
      }
    },
    {
      "cell_type": "code",
      "source": [
        "not speed_limit == 80   # False\n",
        "not default_speed < 40  # True\n",
        "not False               # True\n",
        "not True                # False\n"
      ],
      "metadata": {
        "colab": {
          "base_uri": "https://localhost:8080/"
        },
        "id": "G19uF4ojvR-G",
        "outputId": "4603423f-260f-419f-a6ee-6b0f2def3d21"
      },
      "execution_count": null,
      "outputs": [
        {
          "output_type": "execute_result",
          "data": {
            "text/plain": [
              "False"
            ]
          },
          "metadata": {},
          "execution_count": 221
        }
      ]
    },
    {
      "cell_type": "markdown",
      "source": [
        "Combine Conditions Using Parentheses"
      ],
      "metadata": {
        "id": "tYWN5IG_vV_C"
      }
    },
    {
      "cell_type": "code",
      "source": [
        "(3 > 1 and 5 < 10) or not (default_speed > 100 and True)  # True\n",
        "\n",
        "not (False and 1 < 2) or (True and False)                 # True\n",
        "\n",
        "# Without grouping, Python uses left-to-right evaluation\n",
        "not True and 1 < 2 or False and True                     # False"
      ],
      "metadata": {
        "id": "pLn-Zp3vwY3e"
      },
      "execution_count": null,
      "outputs": []
    },
    {
      "cell_type": "markdown",
      "source": [
        "# Python Basics: Variables and Data Types\n",
        "\n",
        "In Python, variables are like containers that store data. The type of data stored can vary, and Python automatically assigns a **data type** to the value.\n",
        "\n",
        "---\n",
        "\n",
        "## 🧬 Python Data Types Overview\n",
        "\n",
        "Python data types can be grouped as:\n",
        "\n",
        "### 🔹 Primitive Types\n",
        "- `int`: Whole numbers (e.g. 5, -2)\n",
        "- `float`: Decimal numbers (e.g. 3.14)\n",
        "- `bool`: Boolean values (`True`, `False`)\n",
        "- `str`: Text (e.g. \"hello\")\n",
        "- `NoneType`: Special type representing 'nothing'\n",
        "\n",
        "### 🔹 Container Types\n",
        "- `list`: Ordered, changeable collection (e.g. `[1, 2, 3]`)\n",
        "- `tuple`: Ordered, **unchangeable** collection (e.g. `(1, 2, 3)`)\n",
        "- `dict`: Key-value pairs (e.g. `{\"name\": \"Tom\"}`)\n",
        "\n",
        "---\n",
        "\n",
        "## Declaring and Using Variables\n",
        "\n",
        "```python\n",
        "player_score = 120\n",
        "is_online = True\n",
        "nickname = \"AceHunter\"\n"
      ],
      "metadata": {
        "id": "RdgD9fyp04p3"
      }
    },
    {
      "cell_type": "code",
      "source": [
        "player_score = 120\n",
        "is_online = True\n",
        "nickname = \"AceHunter\"\n",
        "\n",
        "print(nickname)  # Output: AceHunter"
      ],
      "metadata": {
        "colab": {
          "base_uri": "https://localhost:8080/"
        },
        "id": "ulRBEwUH09vr",
        "outputId": "db25da1d-938a-4433-f43b-f930abc21310"
      },
      "execution_count": null,
      "outputs": [
        {
          "output_type": "stream",
          "name": "stdout",
          "text": [
            "AceHunter\n"
          ]
        }
      ]
    },
    {
      "cell_type": "markdown",
      "source": [
        "Multiple Assignments\n",
        "\n",
        "Assign multiple values in one line:"
      ],
      "metadata": {
        "id": "jqwHZ6RK1WiX"
      }
    },
    {
      "cell_type": "code",
      "source": [
        "x, y, z = 5, 10, 15\n"
      ],
      "metadata": {
        "id": "afeo01Un1X_D"
      },
      "execution_count": null,
      "outputs": []
    },
    {
      "cell_type": "code",
      "source": [
        "print(x,y,z)"
      ],
      "metadata": {
        "colab": {
          "base_uri": "https://localhost:8080/"
        },
        "id": "lwwFRGTZMjal",
        "outputId": "abd3f181-cb81-4464-a378-12028c0b51b3"
      },
      "execution_count": null,
      "outputs": [
        {
          "output_type": "stream",
          "name": "stdout",
          "text": [
            "5 10 15\n"
          ]
        }
      ]
    },
    {
      "cell_type": "markdown",
      "source": [
        "You can also assign the same value to several variables:"
      ],
      "metadata": {
        "id": "5AbutdDp1cjr"
      }
    },
    {
      "cell_type": "code",
      "source": [
        "a = b = c = \"Python\"\n"
      ],
      "metadata": {
        "id": "faY1ax521dzP"
      },
      "execution_count": null,
      "outputs": []
    },
    {
      "cell_type": "markdown",
      "source": [
        "🔁 Updating Variable Values\n",
        "\n",
        "You can change a variable’s value anytime:\n",
        "old value is lost"
      ],
      "metadata": {
        "id": "PE2IHTxS1wfR"
      }
    },
    {
      "cell_type": "code",
      "source": [
        "nickname = \"SniperPro\"\n",
        "print(nickname)  # Output: SniperPro\n"
      ],
      "metadata": {
        "colab": {
          "base_uri": "https://localhost:8080/"
        },
        "id": "4jseM64K1yf9",
        "outputId": "b0e36623-1381-4a0e-d2cb-44aabe8977bd"
      },
      "execution_count": null,
      "outputs": [
        {
          "output_type": "stream",
          "name": "stdout",
          "text": [
            "SniperPro\n"
          ]
        }
      ]
    },
    {
      "cell_type": "markdown",
      "source": [
        "➕ Using Current Value to Update"
      ],
      "metadata": {
        "id": "bqfVDKcH11ov"
      }
    },
    {
      "cell_type": "code",
      "source": [
        "points = 50\n",
        "points = points + 10  # Now points is 60\n"
      ],
      "metadata": {
        "id": "pD2fOGBC1207"
      },
      "execution_count": null,
      "outputs": []
    },
    {
      "cell_type": "markdown",
      "source": [
        "Or use shorthand:"
      ],
      "metadata": {
        "id": "uRIAUPvk151I"
      }
    },
    {
      "cell_type": "code",
      "source": [
        "points += 5  # Same as points = points + 5\n"
      ],
      "metadata": {
        "id": "HGQcMKSu1464"
      },
      "execution_count": null,
      "outputs": []
    },
    {
      "cell_type": "markdown",
      "source": [
        "### Rules for Naming Variables in Python\n",
        "\n",
        "When creating variables in Python, you can use short names like `x`, `y`, or `z`, or more descriptive ones such as `total_sales`, `user_age`, or `employee_3_record`.\n",
        "\n",
        "However, Python has specific rules for how variables must be named:\n",
        "\n",
        "- Variable names must begin with a **letter (A–Z or a–z)** or an **underscore (`_`)**.  \n",
        "  ➤ They **cannot** begin with a number.\n",
        "\n",
        "- After the first character, variable names can include:\n",
        "  - Letters (uppercase or lowercase)\n",
        "  - Numbers (0–9)\n",
        "  - Underscores (`_`)\n",
        "\n",
        "\n",
        "\n",
        "✅ Valid:"
      ],
      "metadata": {
        "id": "U0wjKLqu2AEF"
      }
    },
    {
      "cell_type": "code",
      "source": [
        "user_age = 30\n",
        "_city = \"London\"\n",
        "has_passed = True\n"
      ],
      "metadata": {
        "id": "z8cNXrot2Dlz"
      },
      "execution_count": null,
      "outputs": []
    },
    {
      "cell_type": "markdown",
      "source": [
        "🚫 Invalid (causes SyntaxError):"
      ],
      "metadata": {
        "id": "uCd2hAiC2HOC"
      }
    },
    {
      "cell_type": "code",
      "source": [
        "2nd_place = \"Silver\"       # Cannot start with a digit\n",
        "user-name = \"Alex\"         # Hyphens not allowed\n",
        "total$cost = 100           # Special characters disallowed\n"
      ],
      "metadata": {
        "colab": {
          "base_uri": "https://localhost:8080/",
          "height": 109
        },
        "id": "hIeOewoA2IAj",
        "outputId": "7a0f1f12-ff30-4b0d-ac8b-62bd754dd2b4"
      },
      "execution_count": null,
      "outputs": [
        {
          "output_type": "error",
          "ename": "SyntaxError",
          "evalue": "invalid decimal literal (ipython-input-1332184321.py, line 1)",
          "traceback": [
            "\u001b[0;36m  File \u001b[0;32m\"/tmp/ipython-input-1332184321.py\"\u001b[0;36m, line \u001b[0;32m1\u001b[0m\n\u001b[0;31m    2nd_place = \"Silver\"       # Cannot start with a digit\u001b[0m\n\u001b[0m    ^\u001b[0m\n\u001b[0;31mSyntaxError\u001b[0m\u001b[0;31m:\u001b[0m invalid decimal literal\n"
          ]
        }
      ]
    },
    {
      "cell_type": "code",
      "source": [
        "abcd=5\n",
        "print(Abcd)"
      ],
      "metadata": {
        "colab": {
          "base_uri": "https://localhost:8080/",
          "height": 163
        },
        "id": "JWIK-wRBNeS5",
        "outputId": "4f0de4ad-6d67-482d-ac8b-0e87751f13e9"
      },
      "execution_count": null,
      "outputs": [
        {
          "output_type": "error",
          "ename": "NameError",
          "evalue": "name 'Abcd' is not defined",
          "traceback": [
            "\u001b[0;31m---------------------------------------------------------------------------\u001b[0m",
            "\u001b[0;31mNameError\u001b[0m                                 Traceback (most recent call last)",
            "\u001b[0;32m/tmp/ipython-input-2717649160.py\u001b[0m in \u001b[0;36m<cell line: 0>\u001b[0;34m()\u001b[0m\n\u001b[1;32m      1\u001b[0m \u001b[0mabcd\u001b[0m\u001b[0;34m=\u001b[0m\u001b[0;36m5\u001b[0m\u001b[0;34m\u001b[0m\u001b[0;34m\u001b[0m\u001b[0m\n\u001b[0;32m----> 2\u001b[0;31m \u001b[0mprint\u001b[0m\u001b[0;34m(\u001b[0m\u001b[0mAbcd\u001b[0m\u001b[0;34m)\u001b[0m\u001b[0;34m\u001b[0m\u001b[0;34m\u001b[0m\u001b[0m\n\u001b[0m",
            "\u001b[0;31mNameError\u001b[0m: name 'Abcd' is not defined"
          ]
        }
      ]
    },
    {
      "cell_type": "markdown",
      "source": [
        "🔑 Notes:\n",
        "\n",
        "Variable names are case-sensitive (Score ≠ score)\n",
        "\n",
        "Use underscores _ instead of spaces\n",
        "\n",
        "Start with a letter or underscore, not a number"
      ],
      "metadata": {
        "id": "CSgKQrvQ2L2P"
      }
    },
    {
      "cell_type": "markdown",
      "source": [
        "# Built-in Data Types in Python\n",
        "\n",
        "Every value in Python has a **data type**. You can check the type of any variable using the `type()` function.\n",
        "\n",
        "---\n",
        "\n",
        "## Examples of Common Data Types\n",
        "\n",
        "```python\n",
        "city_name = \"Paris\"\n",
        "type(city_name)     # str (string)\n",
        "\n",
        "day_is_sunday = False\n",
        "type(day_is_sunday) # bool (boolean)\n",
        "\n",
        "age = 27\n",
        "type(age)           # int (integer)\n",
        "\n",
        "temperature = 22.5\n",
        "type(temperature)   # float (decimal)\n",
        "\n",
        "primes = [2, 3, 5, 7]\n",
        "type(primes)        # list\n",
        "\n",
        "location = {\"lat\": 48.8, \"lon\": 2.3}\n",
        "type(location)      # dict\n"
      ],
      "metadata": {
        "id": "j3dpnS3InOki"
      }
    },
    {
      "cell_type": "markdown",
      "source": [
        "\n",
        "# Python Data Types\n",
        "\n",
        "## 🔸 1. Primitive Types\n",
        "- **Integer**  \n",
        "- **Float**  \n",
        "- **Boolean**  \n",
        "- **String**  \n",
        "- **NoneType**\n",
        "\n",
        "## 🔸 2. Container Types\n",
        "- **List**  \n",
        "- **Tuple**  \n",
        "- **Dictionary**\n",
        "\n",
        "\n"
      ],
      "metadata": {
        "id": "1VvKGAIrw78E"
      }
    },
    {
      "cell_type": "code",
      "source": [
        "books_sold = 150\n",
        "type(books_sold)  # int\n",
        "\n",
        "huge_value = -982347982347983478923\n",
        "type(huge_value)  # int (Python handles big integers by default)\n"
      ],
      "metadata": {
        "id": "0bfT0bBWxEvo",
        "colab": {
          "base_uri": "https://localhost:8080/"
        },
        "outputId": "9aa67c6a-b5eb-4934-9e8a-98c191aa2b97"
      },
      "execution_count": null,
      "outputs": [
        {
          "output_type": "execute_result",
          "data": {
            "text/plain": [
              "int"
            ]
          },
          "metadata": {},
          "execution_count": 233
        }
      ]
    },
    {
      "cell_type": "markdown",
      "source": [
        "Float (float)\n",
        "Floats are numbers with decimal points."
      ],
      "metadata": {
        "id": "zgj8FcXuxIpu"
      }
    },
    {
      "cell_type": "code",
      "source": [
        "price = 19.99\n",
        "type(price)  # float\n",
        "p1=20.0\n",
        "print(type(p1))\n",
        "\n",
        "g = 9.8\n",
        "weight = 70\n",
        "force = g * weight\n",
        "type(force)  # float\n"
      ],
      "metadata": {
        "id": "sPclH38RxH6y",
        "colab": {
          "base_uri": "https://localhost:8080/"
        },
        "outputId": "8c2d5a72-9ae6-467f-c9ab-dc5a0664ce11"
      },
      "execution_count": null,
      "outputs": [
        {
          "output_type": "stream",
          "name": "stdout",
          "text": [
            "<class 'float'>\n"
          ]
        },
        {
          "output_type": "execute_result",
          "data": {
            "text/plain": [
              "float"
            ]
          },
          "metadata": {},
          "execution_count": 235
        }
      ]
    },
    {
      "cell_type": "markdown",
      "source": [
        "Floats also support scientific notation:"
      ],
      "metadata": {
        "id": "koG-wJ2sxMTv"
      }
    },
    {
      "cell_type": "code",
      "source": [
        "tiny_value = 1e-5     # 0.00001\n",
        "massive_value = 6.02e23  # Avogadro's number\n",
        "\n",
        "type(tiny_value)      # float\n",
        "type(massive_value)   # float\n"
      ],
      "metadata": {
        "id": "e0yP73p5xNw3"
      },
      "execution_count": null,
      "outputs": []
    },
    {
      "cell_type": "markdown",
      "source": [
        "🔁 Type Conversion (Casting)\n",
        "You can convert between types:"
      ],
      "metadata": {
        "id": "xD7MjeUHxVPL"
      }
    },
    {
      "cell_type": "code",
      "source": [
        "# int to float\n",
        "float(20)     # 20.0\n",
        "\n",
        "# float to int (truncates decimal)\n",
        "int(5.9)      # 5\n",
        "\n",
        "# string to int\n",
        "int(\"42\")     # 42\n",
        "\n",
        "# float to string\n",
        "str(3.14)     # '3.14'\n"
      ],
      "metadata": {
        "id": "FsNSZ49pxWfm",
        "colab": {
          "base_uri": "https://localhost:8080/",
          "height": 36
        },
        "outputId": "6b2952fa-4fb7-4f1d-83e6-d1ccccc11f89"
      },
      "execution_count": null,
      "outputs": [
        {
          "output_type": "execute_result",
          "data": {
            "text/plain": [
              "'3.14'"
            ],
            "application/vnd.google.colaboratory.intrinsic+json": {
              "type": "string"
            }
          },
          "metadata": {},
          "execution_count": 236
        }
      ]
    },
    {
      "cell_type": "markdown",
      "source": [
        "➗ Division & Data Type Behavior"
      ],
      "metadata": {
        "id": "wxHONH7sxXdo"
      }
    },
    {
      "cell_type": "code",
      "source": [
        "# When one operand is float → result is float\n",
        "type(30 * 2.0)  # float\n",
        "\n",
        "# Integer division\n",
        "type(30 * 2)    # int\n",
        "\n",
        "# Regular division always returns float\n",
        "type(9 / 3)     # float\n",
        "\n",
        "# Floor division returns int (discards remainder)\n",
        "type(9 // 3)    # int\n"
      ],
      "metadata": {
        "id": "_DVWvpU3xddb",
        "colab": {
          "base_uri": "https://localhost:8080/"
        },
        "outputId": "9557c2e6-d652-44fe-af4a-33603f982a4c"
      },
      "execution_count": null,
      "outputs": [
        {
          "output_type": "execute_result",
          "data": {
            "text/plain": [
              "int"
            ]
          },
          "metadata": {},
          "execution_count": 237
        }
      ]
    },
    {
      "cell_type": "markdown",
      "source": [],
      "metadata": {
        "id": "PLTIkMAoF9K_"
      }
    },
    {
      "cell_type": "markdown",
      "source": [
        "# 🔘 Boolean & NoneType in Python\n",
        "\n",
        "---\n",
        "\n",
        "## ✅ Boolean Basics (`bool`)\n",
        "\n",
        "Booleans are a data type that can hold one of two values:\n",
        "- `True`\n",
        "- `False`\n",
        "\n",
        "They are used for logical decisions, conditions, and flow control.\n",
        "\n",
        "```python\n",
        "is_weekend = True\n",
        "type(is_weekend)  # bool\n",
        "\n",
        "is_holiday = False\n"
      ],
      "metadata": {
        "id": "6Co7UPJBx652"
      }
    },
    {
      "cell_type": "markdown",
      "source": [
        "Booleans from Comparisons\n",
        "Booleans often come from comparison expressions:"
      ],
      "metadata": {
        "id": "DNgDLE7qyA0C"
      }
    },
    {
      "cell_type": "code",
      "source": [
        "temperature = 24\n",
        "is_hot = temperature > 30\n",
        "print(is_hot)  # False\n",
        "type(is_hot)   # bool\n"
      ],
      "metadata": {
        "id": "yRwPShWnyBU8",
        "colab": {
          "base_uri": "https://localhost:8080/"
        },
        "outputId": "d158428c-a2b7-444d-d559-f8c09a24bb52"
      },
      "execution_count": null,
      "outputs": [
        {
          "output_type": "stream",
          "name": "stdout",
          "text": [
            "False\n"
          ]
        },
        {
          "output_type": "execute_result",
          "data": {
            "text/plain": [
              "bool"
            ]
          },
          "metadata": {},
          "execution_count": 239
        }
      ]
    },
    {
      "cell_type": "markdown",
      "source": [
        "➕ Booleans in Arithmetic\n",
        "\n",
        "In Python:\n",
        "\n",
        "True behaves like 1\n",
        "\n",
        "False behaves like 0"
      ],
      "metadata": {
        "id": "t9TgOL5yyC-R"
      }
    },
    {
      "cell_type": "code",
      "source": [
        "5 + False   # 5\n",
        "3.0 + True  # 4.0\n"
      ],
      "metadata": {
        "id": "_IL_PRFeyEvd",
        "colab": {
          "base_uri": "https://localhost:8080/"
        },
        "outputId": "985f37fd-6764-4075-9d7a-980ae4606708"
      },
      "execution_count": null,
      "outputs": [
        {
          "output_type": "execute_result",
          "data": {
            "text/plain": [
              "4.0"
            ]
          },
          "metadata": {},
          "execution_count": 126
        }
      ]
    },
    {
      "cell_type": "markdown",
      "source": [
        "Convert Anything to Boolean using bool()\n",
        "Python treats some values as False, others as True.\n",
        "\n",
        "🔻 Values Evaluating to False:"
      ],
      "metadata": {
        "id": "eyFrRIHByOXd"
      }
    },
    {
      "cell_type": "code",
      "source": [
        "bool(False)\n",
        "bool(0)\n",
        "bool(0.0)\n",
        "bool(None)\n",
        "bool(\"\")\n",
        "bool([])\n",
        "bool(())\n",
        "bool({})\n",
        "bool(set())\n",
        "bool(range(0))\n"
      ],
      "metadata": {
        "id": "aLyHu8psyQRQ",
        "colab": {
          "base_uri": "https://localhost:8080/"
        },
        "outputId": "a2e9667f-ea41-4611-f1f7-5e63859533b8"
      },
      "execution_count": null,
      "outputs": [
        {
          "output_type": "execute_result",
          "data": {
            "text/plain": [
              "False"
            ]
          },
          "metadata": {},
          "execution_count": 127
        }
      ]
    },
    {
      "cell_type": "markdown",
      "source": [
        "✅ Values Evaluating to True:"
      ],
      "metadata": {
        "id": "bQ2Y0F7eyS3e"
      }
    },
    {
      "cell_type": "code",
      "source": [
        "bool(True)\n",
        "bool(42)\n",
        "bool(3.14)\n",
        "bool(\"Python\")\n",
        "bool([1, 2])\n",
        "bool((3, 4))\n",
        "bool({1: \"a\"})\n",
        "bool(range(5))\n"
      ],
      "metadata": {
        "id": "iZRBcwc8yTb5",
        "colab": {
          "base_uri": "https://localhost:8080/"
        },
        "outputId": "a9bcde13-8f2e-47cb-c3a5-7f199dcc5592"
      },
      "execution_count": null,
      "outputs": [
        {
          "output_type": "execute_result",
          "data": {
            "text/plain": [
              "True"
            ]
          },
          "metadata": {},
          "execution_count": 128
        }
      ]
    },
    {
      "cell_type": "markdown",
      "source": [
        "🛑 NoneType (None)\n",
        "The special value None is used to represent \"no value\" or \"nothing assigned yet\"."
      ],
      "metadata": {
        "id": "6ihPRRI9yXHv"
      }
    },
    {
      "cell_type": "code",
      "source": [
        "response = None\n",
        "type(response)  # NoneType\n"
      ],
      "metadata": {
        "id": "uvd6g3cYyXsd",
        "colab": {
          "base_uri": "https://localhost:8080/"
        },
        "outputId": "844ef071-5fde-4124-9f13-607131862a45"
      },
      "execution_count": null,
      "outputs": [
        {
          "output_type": "execute_result",
          "data": {
            "text/plain": [
              "NoneType"
            ]
          },
          "metadata": {},
          "execution_count": 238
        }
      ]
    },
    {
      "cell_type": "markdown",
      "source": [
        "# Working with Strings in Python\n",
        "\n",
        "Strings are used to represent text in Python and are enclosed in either single (`'`) or double (`\"`) quotes.\n",
        "\n",
        "---\n",
        "\n",
        "##  Declaring a String\n",
        "\n",
        "```python\n",
        "day = \"Monday\"\n",
        "print(day)            # Output: Monday\n",
        "type(day)             # str\n"
      ],
      "metadata": {
        "id": "xgySk44rbQvT"
      }
    },
    {
      "cell_type": "markdown",
      "source": [
        "You can also use single quotes:"
      ],
      "metadata": {
        "id": "poGbxv8LbgV-"
      }
    },
    {
      "cell_type": "code",
      "source": [
        "quote = 'Be the change you wish to see in the world.'\n",
        "print(quote)\n",
        "type(quote)"
      ],
      "metadata": {
        "id": "Yv5uZFDacKQG",
        "colab": {
          "base_uri": "https://localhost:8080/"
        },
        "outputId": "8378fb97-a554-424f-8b47-5a3456e132a8"
      },
      "execution_count": null,
      "outputs": [
        {
          "output_type": "stream",
          "name": "stdout",
          "text": [
            "Be the change you wish to see in the world.\n"
          ]
        },
        {
          "output_type": "execute_result",
          "data": {
            "text/plain": [
              "str"
            ]
          },
          "metadata": {},
          "execution_count": 242
        }
      ]
    },
    {
      "cell_type": "markdown",
      "source": [
        "msg=it's a beautiful day"
      ],
      "metadata": {
        "id": "LmDbPBf3Pwta"
      }
    },
    {
      "cell_type": "code",
      "source": [
        "msg= \"it's a beautiful day\""
      ],
      "metadata": {
        "id": "d4lnJON6P0Le"
      },
      "execution_count": null,
      "outputs": []
    },
    {
      "cell_type": "code",
      "source": [
        "message = \"It's a beautiful day!\"\n",
        "joke = 'He said, \"I am Batman.\"'\n",
        "print(message,joke)"
      ],
      "metadata": {
        "colab": {
          "base_uri": "https://localhost:8080/"
        },
        "id": "tweTJC1mcNIX",
        "outputId": "17feeb86-30e3-409a-98df-48e78af4dfd6"
      },
      "execution_count": null,
      "outputs": [
        {
          "output_type": "stream",
          "name": "stdout",
          "text": [
            "It's a beautiful day! He said, \"I am Batman.\"\n"
          ]
        }
      ]
    },
    {
      "cell_type": "markdown",
      "source": [
        "To use the same quote inside a string, escape it using a backslash \\:"
      ],
      "metadata": {
        "id": "yUqdPMQ5cR2b"
      }
    },
    {
      "cell_type": "code",
      "source": [
        "escaped = \"She replied, \\\"Sure, why not?\\\"\"\n",
        "print(escaped)\n"
      ],
      "metadata": {
        "colab": {
          "base_uri": "https://localhost:8080/"
        },
        "id": "R4f5cCTfcSxC",
        "outputId": "f660b7c9-b6de-4aca-b4f2-542efab48147"
      },
      "execution_count": null,
      "outputs": [
        {
          "output_type": "stream",
          "name": "stdout",
          "text": [
            "She replied, \"Sure, why not?\"\n"
          ]
        }
      ]
    },
    {
      "cell_type": "markdown",
      "source": [
        "Multiline Strings\n",
        "Use triple quotes (''' or \"\"\") for strings that span multiple lines.\n"
      ],
      "metadata": {
        "id": "o0aYDVfic1m6"
      }
    },
    {
      "cell_type": "code",
      "source": [
        "story = '''Once upon a time,\n",
        "there was a brave knight,\n",
        "who saved the realm.'''\n",
        "print(story)\n",
        "x='''a ,b\n",
        "'''"
      ],
      "metadata": {
        "colab": {
          "base_uri": "https://localhost:8080/"
        },
        "id": "Pz_TYaiWc6WN",
        "outputId": "795065b1-d9e5-4d4f-83a7-6faf4d2a420d"
      },
      "execution_count": null,
      "outputs": [
        {
          "output_type": "stream",
          "name": "stdout",
          "text": [
            "Once upon a time,\n",
            "there was a brave knight,\n",
            "who saved the realm.\n"
          ]
        }
      ]
    },
    {
      "cell_type": "markdown",
      "source": [
        "##String Length\n",
        "Use len() to count the number of characters:\n"
      ],
      "metadata": {
        "id": "-efWwNfDdNM7"
      }
    },
    {
      "cell_type": "code",
      "source": [
        "len(story)\n",
        "len(x)"
      ],
      "metadata": {
        "colab": {
          "base_uri": "https://localhost:8080/"
        },
        "id": "-wD5qZIFdPIP",
        "outputId": "f30080f9-55aa-42c4-c15c-35ad9e803b42"
      },
      "execution_count": null,
      "outputs": [
        {
          "output_type": "execute_result",
          "data": {
            "text/plain": [
              "5"
            ]
          },
          "metadata": {},
          "execution_count": 252
        }
      ]
    },
    {
      "cell_type": "markdown",
      "source": [
        "##String Indexing\n",
        "Access individual characters by index:"
      ],
      "metadata": {
        "id": "o_5u81AQeyIm"
      }
    },
    {
      "cell_type": "code",
      "source": [
        "language = \"Python\"\n",
        "print(language[0])     # 'P'\n",
        "print(language[2])   # 't'\n",
        "print(language[-3])   # 'n' (last character)\n"
      ],
      "metadata": {
        "colab": {
          "base_uri": "https://localhost:8080/"
        },
        "id": "yIFUhMWoe2Ve",
        "outputId": "a23a9f09-08b4-4d75-f0bd-d73828f0ff2e"
      },
      "execution_count": null,
      "outputs": [
        {
          "output_type": "stream",
          "name": "stdout",
          "text": [
            "P\n",
            "t\n",
            "h\n"
          ]
        }
      ]
    },
    {
      "cell_type": "markdown",
      "source": [
        "##String Slicing\n",
        "Extract a part of a string:"
      ],
      "metadata": {
        "id": "u0U4lOoye5ga"
      }
    },
    {
      "cell_type": "code",
      "source": [
        "language[1:4]   # 'yth'\n",
        "language[:3]    # 'Pyt'\n",
        "language[3:]    # 'hon'\n"
      ],
      "metadata": {
        "colab": {
          "base_uri": "https://localhost:8080/",
          "height": 36
        },
        "id": "2mSXYm4Oe7i5",
        "outputId": "652cfed0-6d37-40c8-bb6d-878ca08f8938"
      },
      "execution_count": null,
      "outputs": [
        {
          "output_type": "execute_result",
          "data": {
            "text/plain": [
              "'hon'"
            ],
            "application/vnd.google.colaboratory.intrinsic+json": {
              "type": "string"
            }
          },
          "metadata": {},
          "execution_count": 256
        }
      ]
    },
    {
      "cell_type": "markdown",
      "source": [
        "##Search in String\n",
        "\n"
      ],
      "metadata": {
        "id": "gFYxZuOGfGeo"
      }
    },
    {
      "cell_type": "code",
      "source": [
        "print(\"thon\" in language)     # True\n",
        "print(\"Java\" in language)     # False\n"
      ],
      "metadata": {
        "id": "1Frw7_AGfIAK",
        "colab": {
          "base_uri": "https://localhost:8080/"
        },
        "outputId": "b0ea56ce-dcc0-43d4-967b-8e318e95b25a"
      },
      "execution_count": null,
      "outputs": [
        {
          "output_type": "stream",
          "name": "stdout",
          "text": [
            "True\n",
            "False\n"
          ]
        }
      ]
    },
    {
      "cell_type": "markdown",
      "source": [
        "##String Concatenation\n",
        "Join strings using +:"
      ],
      "metadata": {
        "id": "_JwNBCsvfSd5"
      }
    },
    {
      "cell_type": "code",
      "source": [
        "first = \"Good\"\n",
        "second = \"Morning\"\n",
        "print(first+second)\n",
        "greeting = first + \" \" + second\n",
        "print(greeting)"
      ],
      "metadata": {
        "colab": {
          "base_uri": "https://localhost:8080/"
        },
        "id": "Im31WhXqfWPS",
        "outputId": "f1a662c6-9896-427e-e275-bcff770096f4"
      },
      "execution_count": null,
      "outputs": [
        {
          "output_type": "stream",
          "name": "stdout",
          "text": [
            "GoodMorning\n",
            "Good Morning\n"
          ]
        }
      ]
    },
    {
      "cell_type": "markdown",
      "source": [
        "#String Methods\n",
        "Some useful built-in methods:"
      ],
      "metadata": {
        "id": "4Fcb3tDLfg-B"
      }
    },
    {
      "cell_type": "code",
      "source": [
        "text = \"  Hello Python  \"\n",
        "\n",
        "text1=text.lower()     # '  hello python  '\n",
        "print(text.upper())        # '  HELLO PYTHON  '\n",
        "print(text.strip())      # 'Hello Python'\n",
        "print(text.replace(\"Python\", \"World\"))  # '  Hello World  '\n"
      ],
      "metadata": {
        "colab": {
          "base_uri": "https://localhost:8080/"
        },
        "id": "ULZ64e8kflT-",
        "outputId": "8057e040-d0e8-4825-96ee-8cc4372fa50a"
      },
      "execution_count": null,
      "outputs": [
        {
          "output_type": "stream",
          "name": "stdout",
          "text": [
            "  HELLO PYTHON  \n",
            "Hello Python\n",
            "  Hello World  \n"
          ]
        }
      ]
    },
    {
      "cell_type": "code",
      "source": [],
      "metadata": {
        "id": "kzXi-Qy6S-Zp"
      },
      "execution_count": null,
      "outputs": []
    },
    {
      "cell_type": "code",
      "source": [
        "print(text)\n",
        "print(text1)"
      ],
      "metadata": {
        "colab": {
          "base_uri": "https://localhost:8080/"
        },
        "id": "yBSqXIn3iDpy",
        "outputId": "18377575-7808-46d4-851f-9adac5e9f552"
      },
      "execution_count": null,
      "outputs": [
        {
          "output_type": "stream",
          "name": "stdout",
          "text": [
            "  Hello Python  \n",
            "  hello python  \n"
          ]
        }
      ]
    },
    {
      "cell_type": "markdown",
      "source": [
        "##More String Tools"
      ],
      "metadata": {
        "id": "_IEMqiI4fpM-"
      }
    },
    {
      "cell_type": "code",
      "source": [
        "\"python\".capitalize()       # 'Python'\n",
        "\"sun,moon,stars\".split(\",\") # ['sun', 'moon', 'stars']\n"
      ],
      "metadata": {
        "colab": {
          "base_uri": "https://localhost:8080/"
        },
        "id": "ybTanuDUfqA-",
        "outputId": "9be5c223-9ecf-4dc8-e0be-283786e5d72f"
      },
      "execution_count": null,
      "outputs": [
        {
          "output_type": "execute_result",
          "data": {
            "text/plain": [
              "['sun', 'moon', 'stars']"
            ]
          },
          "metadata": {},
          "execution_count": 265
        }
      ]
    },
    {
      "cell_type": "markdown",
      "source": [
        "##Convert to List of Characters"
      ],
      "metadata": {
        "id": "Rl1i7y-Tfti7"
      }
    },
    {
      "cell_type": "code",
      "source": [
        "list(\"Hi!\")   # ['H', 'i', '!']\n"
      ],
      "metadata": {
        "colab": {
          "base_uri": "https://localhost:8080/"
        },
        "id": "UlCEMg42f3QQ",
        "outputId": "0190e108-5fb4-472f-dfa8-8c37053fc349"
      },
      "execution_count": null,
      "outputs": [
        {
          "output_type": "execute_result",
          "data": {
            "text/plain": [
              "['H', 'i', '!']"
            ]
          },
          "metadata": {},
          "execution_count": 266
        }
      ]
    },
    {
      "cell_type": "markdown",
      "source": [
        "##Using .format()"
      ],
      "metadata": {
        "id": "uRwJDIQFf8YN"
      }
    },
    {
      "cell_type": "code",
      "source": [
        "item = \"pen\"\n",
        "cost = 2.5\n",
        "msg = \"The price of a {} is ${}.\".format(item, cost)\n",
        "print(msg)\n"
      ],
      "metadata": {
        "colab": {
          "base_uri": "https://localhost:8080/"
        },
        "id": "D9FgOHV2gEli",
        "outputId": "91f74d4e-c9e3-4f40-cba6-2f541762104a"
      },
      "execution_count": null,
      "outputs": [
        {
          "output_type": "stream",
          "name": "stdout",
          "text": [
            "The price of a pen is $2.5.\n"
          ]
        }
      ]
    },
    {
      "cell_type": "markdown",
      "source": [
        "##Convert to String\n"
      ],
      "metadata": {
        "id": "3y_oeLeEgJ-N"
      }
    },
    {
      "cell_type": "code",
      "source": [
        "str(42)           # '42'\n",
        "str(3.14)         # '3.14'\n",
        "str([1, 2, 3])    # '[1, 2, 3]'\n"
      ],
      "metadata": {
        "colab": {
          "base_uri": "https://localhost:8080/",
          "height": 36
        },
        "id": "rJCTwUgigQhB",
        "outputId": "659470e0-9745-4144-81d0-363b8c30c057"
      },
      "execution_count": null,
      "outputs": [
        {
          "output_type": "execute_result",
          "data": {
            "text/plain": [
              "'[1, 2, 3]'"
            ],
            "application/vnd.google.colaboratory.intrinsic+json": {
              "type": "string"
            }
          },
          "metadata": {},
          "execution_count": 144
        }
      ]
    },
    {
      "cell_type": "markdown",
      "source": [
        "#String Practice –\n",
        "1. Combine the strings `'Learn'`, `'Python'`, `'With'`, and `'Projects'` into a single sentence with spaces in between.\n",
        "\n",
        "2. Assign the value `'ML Course'` to a variable and demonstrate how to display the text in uppercase, lowercase, and in title case using string methods.\n",
        "\n",
        "3. Determine the character located at position 7 in the string `'Machine Learning'`, and also print the last character by using its index.\n",
        "\n",
        "4. Replace the term `'Data'` with `'AI'` in the string `'Data Analysis Tools'` and print the updated sentence.\n",
        "\n",
        "5. Extract the first word from `'Deep Learning Model'` using slicing, and check if the word `'Learning'` exists within the same string.\n",
        "\n",
        "6. Generate an acronym using the phrase `'Natural Language Processing'`, such that it returns something like `'NLP'`.\n",
        "\n",
        "7. Given the sentence `'This is important because because because it explains the rule'`, find where the word `'because'` appears first and last using the appropriate search methods.\n",
        "\n",
        "8. Test whether the following names are valid Python identifiers: `'firstName'` and `'123variable'`. Use the correct method to verify and display the result.\n",
        "\n",
        "9. Calculate the area of a rectangle with a width of 12 and height of 20, and display the result using formatted text like:\n",
        "   `The area of a rectangle with width 12 and height 20 is 240 square units.`\n",
        "\n",
        "10. Display results of multiple arithmetic operations between 15 and 4 using string formatting. Include:\n",
        "    addition, subtraction, multiplication, division, modulus, floor division, and exponentiation. Present each result on a separate line clearly.\n",
        "\n"
      ],
      "metadata": {
        "id": "4z_N5I0npcpl"
      }
    },
    {
      "cell_type": "markdown",
      "source": [
        "#  Lists in Python\n",
        "\n",
        "A **list** is an ordered, mutable collection in Python. It can store items of any data type, even a mix of types. Lists are defined using square brackets `[]`.\n",
        "\n",
        "---\n",
        "\n",
        "## 🔹 Creating Lists\n"
      ],
      "metadata": {
        "id": "Q8tAJsPzrzkL"
      }
    },
    {
      "cell_type": "code",
      "source": [
        "fruits = [\"apple\", \"banana\", \"cherry\"]"
      ],
      "metadata": {
        "id": "b8rkf9tyspCh"
      },
      "execution_count": null,
      "outputs": []
    },
    {
      "cell_type": "code",
      "source": [
        "fruits[0]"
      ],
      "metadata": {
        "colab": {
          "base_uri": "https://localhost:8080/",
          "height": 36
        },
        "id": "cwQUg0IzZeVb",
        "outputId": "89a23e0f-68b2-424d-cdd0-a567fd4caa5e"
      },
      "execution_count": null,
      "outputs": [
        {
          "output_type": "execute_result",
          "data": {
            "text/plain": [
              "'apple'"
            ],
            "application/vnd.google.colaboratory.intrinsic+json": {
              "type": "string"
            }
          },
          "metadata": {},
          "execution_count": 269
        }
      ]
    },
    {
      "cell_type": "code",
      "source": [
        "s=\"abcd\"\n",
        "s[0]='A'"
      ],
      "metadata": {
        "colab": {
          "base_uri": "https://localhost:8080/",
          "height": 163
        },
        "id": "99HTB0o9Zmzy",
        "outputId": "9eff5566-df97-4a2d-962b-b9bd4b94e797"
      },
      "execution_count": null,
      "outputs": [
        {
          "output_type": "error",
          "ename": "TypeError",
          "evalue": "'str' object does not support item assignment",
          "traceback": [
            "\u001b[0;31m---------------------------------------------------------------------------\u001b[0m",
            "\u001b[0;31mTypeError\u001b[0m                                 Traceback (most recent call last)",
            "\u001b[0;32m/tmp/ipython-input-285448273.py\u001b[0m in \u001b[0;36m<cell line: 0>\u001b[0;34m()\u001b[0m\n\u001b[1;32m      1\u001b[0m \u001b[0ms\u001b[0m\u001b[0;34m=\u001b[0m\u001b[0;34m\"abcd\"\u001b[0m\u001b[0;34m\u001b[0m\u001b[0;34m\u001b[0m\u001b[0m\n\u001b[0;32m----> 2\u001b[0;31m \u001b[0ms\u001b[0m\u001b[0;34m[\u001b[0m\u001b[0;36m0\u001b[0m\u001b[0;34m]\u001b[0m\u001b[0;34m=\u001b[0m\u001b[0;34m'A'\u001b[0m\u001b[0;34m\u001b[0m\u001b[0;34m\u001b[0m\u001b[0m\n\u001b[0m",
            "\u001b[0;31mTypeError\u001b[0m: 'str' object does not support item assignment"
          ]
        }
      ]
    },
    {
      "cell_type": "code",
      "source": [
        "fruits[0]='orange'"
      ],
      "metadata": {
        "id": "HUt1uCBFhcrP"
      },
      "execution_count": null,
      "outputs": []
    },
    {
      "cell_type": "code",
      "source": [
        "print(fruits)"
      ],
      "metadata": {
        "colab": {
          "base_uri": "https://localhost:8080/"
        },
        "id": "zJ2i7VnAhiUu",
        "outputId": "1f6fbd6d-576e-4cb6-9f69-f1ddec120fef"
      },
      "execution_count": null,
      "outputs": [
        {
          "output_type": "stream",
          "name": "stdout",
          "text": [
            "['orange', 'banana', 'cherry']\n"
          ]
        }
      ]
    },
    {
      "cell_type": "markdown",
      "source": [
        "You can also store mixed types:"
      ],
      "metadata": {
        "id": "NkOcQ_jVshDw"
      }
    },
    {
      "cell_type": "code",
      "source": [
        "mixed = [42, \"hello\", None, 3.14, fruits, 5 > 2]\n",
        "print(mixed)\n"
      ],
      "metadata": {
        "colab": {
          "base_uri": "https://localhost:8080/"
        },
        "id": "m0XGaxZwshp_",
        "outputId": "42584bce-7837-4e22-fee0-54069744a8aa"
      },
      "execution_count": null,
      "outputs": [
        {
          "output_type": "stream",
          "name": "stdout",
          "text": [
            "[42, 'hello', None, 3.14, ['apple', 'banana', 'cherry'], True]\n"
          ]
        }
      ]
    },
    {
      "cell_type": "markdown",
      "source": [
        "##Length of a List\n",
        "Use the len() function:"
      ],
      "metadata": {
        "id": "Y1A8tEG5sxWJ"
      }
    },
    {
      "cell_type": "code",
      "source": [
        "len(fruits)      # 3\n",
        "len(mixed)       # 6\n"
      ],
      "metadata": {
        "colab": {
          "base_uri": "https://localhost:8080/"
        },
        "id": "IKfL5tr4s0x7",
        "outputId": "bb7d4578-b9cb-4c54-9919-09003d80c1c5"
      },
      "execution_count": null,
      "outputs": [
        {
          "output_type": "execute_result",
          "data": {
            "text/plain": [
              "6"
            ]
          },
          "metadata": {},
          "execution_count": 149
        }
      ]
    },
    {
      "cell_type": "markdown",
      "source": [
        "##Accessing List Elements\n",
        "Lists are zero-indexed. Use list[index]:"
      ],
      "metadata": {
        "id": "jBJMtiVUs6T8"
      }
    },
    {
      "cell_type": "code",
      "source": [
        "fruits[0]   # \"apple\"\n",
        "fruits[2]   # \"cherry\"\n"
      ],
      "metadata": {
        "colab": {
          "base_uri": "https://localhost:8080/",
          "height": 36
        },
        "id": "qgax2fsws9Oy",
        "outputId": "e7f1d1a1-91f7-4d2b-a8fd-8fb22b7423aa"
      },
      "execution_count": null,
      "outputs": [
        {
          "output_type": "execute_result",
          "data": {
            "text/plain": [
              "'cherry'"
            ],
            "application/vnd.google.colaboratory.intrinsic+json": {
              "type": "string"
            }
          },
          "metadata": {},
          "execution_count": 150
        }
      ]
    },
    {
      "cell_type": "markdown",
      "source": [
        "###Negative indices count from the end:"
      ],
      "metadata": {
        "id": "-RePBCvutE6n"
      }
    },
    {
      "cell_type": "code",
      "source": [
        "fruits[-1]  # \"cherry\"\n",
        "fruits[-2]  # \"banana\"\n"
      ],
      "metadata": {
        "colab": {
          "base_uri": "https://localhost:8080/",
          "height": 36
        },
        "id": "5UrEGXQitHJw",
        "outputId": "95b766f6-f1f2-4d4e-c04b-def7a8e1500f"
      },
      "execution_count": null,
      "outputs": [
        {
          "output_type": "execute_result",
          "data": {
            "text/plain": [
              "'banana'"
            ],
            "application/vnd.google.colaboratory.intrinsic+json": {
              "type": "string"
            }
          },
          "metadata": {},
          "execution_count": 151
        }
      ]
    },
    {
      "cell_type": "markdown",
      "source": [
        "###Accessing an invalid index raises IndexError:"
      ],
      "metadata": {
        "id": "j8kqVLuPtUfH"
      }
    },
    {
      "cell_type": "code",
      "source": [
        "fruits[5]   # ❌ IndexError\n"
      ],
      "metadata": {
        "colab": {
          "base_uri": "https://localhost:8080/",
          "height": 145
        },
        "id": "nAtyMQoWtb9x",
        "outputId": "d34504be-30dd-4fe3-daf2-33a1ddf26443"
      },
      "execution_count": null,
      "outputs": [
        {
          "output_type": "error",
          "ename": "IndexError",
          "evalue": "list index out of range",
          "traceback": [
            "\u001b[0;31m---------------------------------------------------------------------------\u001b[0m",
            "\u001b[0;31mIndexError\u001b[0m                                Traceback (most recent call last)",
            "\u001b[0;32m/tmp/ipython-input-4007752822.py\u001b[0m in \u001b[0;36m<cell line: 0>\u001b[0;34m()\u001b[0m\n\u001b[0;32m----> 1\u001b[0;31m \u001b[0mfruits\u001b[0m\u001b[0;34m[\u001b[0m\u001b[0;36m5\u001b[0m\u001b[0;34m]\u001b[0m   \u001b[0;31m# ❌ IndexError\u001b[0m\u001b[0;34m\u001b[0m\u001b[0;34m\u001b[0m\u001b[0m\n\u001b[0m",
            "\u001b[0;31mIndexError\u001b[0m: list index out of range"
          ]
        }
      ]
    },
    {
      "cell_type": "markdown",
      "source": [
        "##Slicing Lists"
      ],
      "metadata": {
        "id": "5XzdAbl6tiCc"
      }
    },
    {
      "cell_type": "code",
      "source": [
        "lst = [23, \"hi\", None, 3.14, fruits, True]\n",
        "lst[2:5]  # [None, 3.14, ['apple', 'banana', 'cherry']]\n"
      ],
      "metadata": {
        "colab": {
          "base_uri": "https://localhost:8080/"
        },
        "id": "z45Pgrsuto9y",
        "outputId": "1624c1d5-3216-4616-df75-208707c34ea6"
      },
      "execution_count": null,
      "outputs": [
        {
          "output_type": "execute_result",
          "data": {
            "text/plain": [
              "[None, 3.14, ['apple', 'banana', 'cherry']]"
            ]
          },
          "metadata": {},
          "execution_count": 277
        }
      ]
    },
    {
      "cell_type": "code",
      "source": [
        "lst[:3]   # First 3 items\n",
        "lst[3:]   # From 4th to end\n"
      ],
      "metadata": {
        "id": "7YlINSA7tymD"
      },
      "execution_count": null,
      "outputs": []
    },
    {
      "cell_type": "code",
      "source": [
        "lst[-3:-1]  # Third last to second last\n"
      ],
      "metadata": {
        "id": "oe_4uvZtt8gh"
      },
      "execution_count": null,
      "outputs": []
    },
    {
      "cell_type": "markdown",
      "source": [
        "##Modifying Lists\n",
        "Reassign a value"
      ],
      "metadata": {
        "id": "ViBdynNxuYUB"
      }
    },
    {
      "cell_type": "code",
      "source": [
        "fruits[1] = \"blueberry\"\n"
      ],
      "metadata": {
        "id": "8_zzhta1uUJb"
      },
      "execution_count": null,
      "outputs": []
    },
    {
      "cell_type": "markdown",
      "source": [
        "##Add items"
      ],
      "metadata": {
        "id": "3vXhJmtuufRR"
      }
    },
    {
      "cell_type": "code",
      "source": [
        "print(fruits)"
      ],
      "metadata": {
        "colab": {
          "base_uri": "https://localhost:8080/"
        },
        "id": "zVETRbMIa7BL",
        "outputId": "6d5fafbe-e75a-4eb7-e0d1-97d322771386"
      },
      "execution_count": null,
      "outputs": [
        {
          "output_type": "stream",
          "name": "stdout",
          "text": [
            "['apple', 'blueberry', 'cherry']\n"
          ]
        }
      ]
    },
    {
      "cell_type": "code",
      "source": [
        "fruits.append(\"dates\")        # Adds to end\n",
        "fruits.insert(1, \"banana\")    # Inserts at index 1\n"
      ],
      "metadata": {
        "id": "q7drRdXUugrO"
      },
      "execution_count": null,
      "outputs": []
    },
    {
      "cell_type": "code",
      "source": [
        "print(fruits)"
      ],
      "metadata": {
        "colab": {
          "base_uri": "https://localhost:8080/"
        },
        "id": "IzKhFR9ibVcd",
        "outputId": "fd229aac-6535-44bb-a09a-2154f05be3fc"
      },
      "execution_count": null,
      "outputs": [
        {
          "output_type": "stream",
          "name": "stdout",
          "text": [
            "['apple', 'banana', 'blueberry', 'cherry', 'dates']\n"
          ]
        }
      ]
    },
    {
      "cell_type": "markdown",
      "source": [
        "##Remove items"
      ],
      "metadata": {
        "id": "Xp5ZQi_vtvBE"
      }
    },
    {
      "cell_type": "code",
      "source": [
        "fruits.remove(\"blueberry\")    # Removes by value\n",
        "fruits.pop()                  # Removes last item\n",
        "fruits.pop(1)                 # Removes item at index 1\n"
      ],
      "metadata": {
        "colab": {
          "base_uri": "https://localhost:8080/",
          "height": 36
        },
        "id": "fyToJihkuoGh",
        "outputId": "481bc5f9-e293-487f-a02c-cfeb11685277"
      },
      "execution_count": null,
      "outputs": [
        {
          "output_type": "execute_result",
          "data": {
            "text/plain": [
              "'banana'"
            ],
            "application/vnd.google.colaboratory.intrinsic+json": {
              "type": "string"
            }
          },
          "metadata": {},
          "execution_count": 282
        }
      ]
    },
    {
      "cell_type": "code",
      "source": [
        "print(fruits)"
      ],
      "metadata": {
        "colab": {
          "base_uri": "https://localhost:8080/"
        },
        "id": "s7zyfjDUbrcz",
        "outputId": "155d7aba-523a-469c-e023-8c587e2fdf67"
      },
      "execution_count": null,
      "outputs": [
        {
          "output_type": "stream",
          "name": "stdout",
          "text": [
            "['apple', 'cherry']\n"
          ]
        }
      ]
    },
    {
      "cell_type": "markdown",
      "source": [
        "##Membership Testing"
      ],
      "metadata": {
        "id": "bSY8QhNiuxcm"
      }
    },
    {
      "cell_type": "code",
      "source": [
        "print(\"banana\" in fruits)\n",
        "print(\"kiwi\" in fruits)"
      ],
      "metadata": {
        "colab": {
          "base_uri": "https://localhost:8080/"
        },
        "id": "1xYxEiekuzR9",
        "outputId": "921e886b-4964-4c90-92d6-b355fe8bbd2f"
      },
      "execution_count": null,
      "outputs": [
        {
          "output_type": "stream",
          "name": "stdout",
          "text": [
            "False\n",
            "False\n"
          ]
        }
      ]
    },
    {
      "cell_type": "markdown",
      "source": [
        "##➕ Concatenating Lists"
      ],
      "metadata": {
        "id": "mIJTTO76u5Rr"
      }
    },
    {
      "cell_type": "code",
      "source": [
        "more_fruits = fruits + [\"grape\", \"kiwi\"]\n"
      ],
      "metadata": {
        "id": "glupb7gEu7jF"
      },
      "execution_count": null,
      "outputs": []
    },
    {
      "cell_type": "code",
      "source": [
        "print(more_fruits)"
      ],
      "metadata": {
        "colab": {
          "base_uri": "https://localhost:8080/"
        },
        "id": "eLGqUHIoix9M",
        "outputId": "f90ac4e1-9453-4a99-cf13-aa7bab0bd1b6"
      },
      "execution_count": null,
      "outputs": [
        {
          "output_type": "stream",
          "name": "stdout",
          "text": [
            "['apple', 'cherry', 'grape', 'kiwi']\n"
          ]
        }
      ]
    },
    {
      "cell_type": "markdown",
      "source": [
        "##Copying Lists"
      ],
      "metadata": {
        "id": "YLh3bJJmvC1l"
      }
    },
    {
      "cell_type": "code",
      "source": [
        "copy_fruits = more_fruits.copy()\n"
      ],
      "metadata": {
        "id": "nS0AuZ-LvE5o"
      },
      "execution_count": null,
      "outputs": []
    },
    {
      "cell_type": "code",
      "source": [
        "print(\"copy_fruits\",copy_fruits)\n",
        "print(\"more_fruits\",more_fruits)"
      ],
      "metadata": {
        "colab": {
          "base_uri": "https://localhost:8080/"
        },
        "id": "spqXjSF7cLyO",
        "outputId": "f9f06865-3f20-42c4-e6e4-7c55e352014b"
      },
      "execution_count": null,
      "outputs": [
        {
          "output_type": "stream",
          "name": "stdout",
          "text": [
            "copy_fruits ['apple', 'cherry', 'grape', 'kiwi']\n",
            "more_fruits ['apple', 'cherry', 'grape', 'kiwi']\n"
          ]
        }
      ]
    },
    {
      "cell_type": "code",
      "source": [
        "copy_fruits[0]='b'"
      ],
      "metadata": {
        "id": "XLpHf2ZVjDYK"
      },
      "execution_count": null,
      "outputs": []
    },
    {
      "cell_type": "code",
      "source": [
        "print(more_fruits,copy_fruits)"
      ],
      "metadata": {
        "colab": {
          "base_uri": "https://localhost:8080/"
        },
        "id": "bbts63x7jJVM",
        "outputId": "f48561a7-8a64-412a-947b-fd8e1a927da7"
      },
      "execution_count": null,
      "outputs": [
        {
          "output_type": "stream",
          "name": "stdout",
          "text": [
            "['apple', 'cherry', 'grape', 'kiwi'] ['b', 'cherry', 'grape', 'kiwi']\n"
          ]
        }
      ]
    },
    {
      "cell_type": "code",
      "source": [
        "more_fruits[0]='a'\n",
        "print(copy_fruits)"
      ],
      "metadata": {
        "colab": {
          "base_uri": "https://localhost:8080/"
        },
        "id": "rRNVVbDki26j",
        "outputId": "7ab441a7-8c77-4c80-8697-fce13996e386"
      },
      "execution_count": null,
      "outputs": [
        {
          "output_type": "stream",
          "name": "stdout",
          "text": [
            "['b', 'cherry', 'grape', 'kiwi']\n"
          ]
        }
      ]
    },
    {
      "cell_type": "markdown",
      "source": [
        "Changes to copy_fruits won’t affect more_fruits."
      ],
      "metadata": {
        "id": "KZ7x_D7OvLG7"
      }
    },
    {
      "cell_type": "code",
      "source": [
        "more_fruits = [[\"apple\", \"banana\"], [\"orange\"]]\n",
        "copy_fruits = more_fruits.copy()\n",
        "#deep copy\n",
        "# import copy\n",
        "# copy_fruits = copy.deepcopy(more_fruits)\n",
        "copy_fruits[0][0] = \"grape\"\n",
        "\n",
        "print(more_fruits)   # [['grape', 'banana'], ['orange']]\n",
        "print(copy_fruits)   # [['grape', 'banana'], ['orange']]\n",
        "\n"
      ],
      "metadata": {
        "id": "TxYVhBihvOSd",
        "colab": {
          "base_uri": "https://localhost:8080/"
        },
        "outputId": "4ce2ef9a-5c56-4efc-b91f-7a28ca26df63"
      },
      "execution_count": null,
      "outputs": [
        {
          "output_type": "stream",
          "name": "stdout",
          "text": [
            "[['apple', 'banana'], ['orange']]\n",
            "[['grape', 'banana'], ['orange']]\n"
          ]
        }
      ]
    },
    {
      "cell_type": "markdown",
      "source": [
        "| Method      | Description                        |\n",
        "| ----------- | ---------------------------------- |\n",
        "| `append()`  | Add to end of list                 |\n",
        "| `insert()`  | Insert at specific index           |\n",
        "| `remove()`  | Remove first occurrence of a value |\n",
        "| `pop()`     | Remove and return item             |\n",
        "| `copy()`    | Create a shallow copy              |\n",
        "| `sort()`    | Sort the list in-place             |\n",
        "| `reverse()` | Reverse list in-place              |\n",
        "| `clear()`   | Remove all items from list         |\n"
      ],
      "metadata": {
        "id": "EamEWiqPvSSM"
      }
    },
    {
      "cell_type": "code",
      "source": [
        "lst=[1,13,-5,4]\n",
        "lst.reverse()\n",
        "print(lst)"
      ],
      "metadata": {
        "colab": {
          "base_uri": "https://localhost:8080/"
        },
        "id": "n216Xadxc903",
        "outputId": "4b206b5e-d568-4aa0-9a31-da380d59b04d"
      },
      "execution_count": null,
      "outputs": [
        {
          "output_type": "stream",
          "name": "stdout",
          "text": [
            "[4, -5, 13, 1]\n"
          ]
        }
      ]
    },
    {
      "cell_type": "markdown",
      "source": [
        "#List Practice\n",
        "\n",
        "1. Create an empty list named `books` and print it to confirm it is empty.\n",
        "\n",
        "2. Define a list named `fruits` that contains more than 5 fruit names.\n",
        "\n",
        "3. Display the number of items in the `fruits` list using the appropriate method.\n",
        "\n",
        "4. Retrieve the first, middle, and last elements from a list called `colors = ['red', 'blue', 'green', 'yellow', 'purple', 'orange', 'pink']`.\n",
        "\n",
        "5. Create a list called `profile` and store your name, age, height in cm, marital status, and city.\n",
        "\n",
        "6. Initialize a list named `tech_brands` with values like 'Tesla', 'Samsung', 'Intel', 'Adobe', 'IBM', 'HP', and 'Cisco'.\n",
        "\n",
        "7. Print the entire `tech_brands` list to the screen.\n",
        "\n",
        "8. Display how many companies are present in the `tech_brands` list.\n",
        "\n",
        "9. Show the first, middle, and last company names from the list `tech_brands`.\n",
        "\n",
        "10. Replace the second element in the `tech_brands` list with `'Qualcomm'` and print the updated list.\n",
        "\n",
        "11. Add `'Nvidia'` to the end of the `tech_brands` list and print the new list.\n",
        "\n",
        "12. Insert `'Zoom'` into the middle of the `tech_brands` list without replacing any element.\n",
        "\n",
        "13. Convert all company names in `tech_brands` to uppercase, except `'IBM'`.\n",
        "\n",
        "14. Sort the `tech_brands` list alphabetically and then reverse the order of the sorted list.\n",
        "\n",
        "15. Slice and print the first three and last three companies from the `tech_brands` list, and then remove the first, middle, and last companies one by one."
      ],
      "metadata": {
        "id": "8uN3R96Esapp"
      }
    },
    {
      "cell_type": "markdown",
      "source": [
        "#  Python Tuples – The Immutable Collection\n",
        "\n",
        "A **tuple** is a built-in Python data structure that is:\n",
        "- ✅ Ordered\n",
        "- 🚫 Immutable (cannot be changed after creation)\n",
        "- ✅ Can contain duplicates\n",
        "- ✅ Can hold different data types (like integers, strings, etc.)\n",
        "\n",
        "---\n",
        "\n",
        "##  Creating Tuples\n"
      ],
      "metadata": {
        "id": "6P04TSHBlvEI"
      }
    },
    {
      "cell_type": "code",
      "source": [
        "veggies = ('carrot', 'potato', 'spinach')"
      ],
      "metadata": {
        "id": "wTTogz3Cl-Oq"
      },
      "execution_count": null,
      "outputs": []
    },
    {
      "cell_type": "markdown",
      "source": [
        "##Count Elements"
      ],
      "metadata": {
        "id": "IaRQ2DGjmB-n"
      }
    },
    {
      "cell_type": "code",
      "source": [
        "len(veggies)  # Output: 3\n"
      ],
      "metadata": {
        "colab": {
          "base_uri": "https://localhost:8080/"
        },
        "id": "cgpHuZBcmEBJ",
        "outputId": "4703b0d9-c701-444e-a785-d28ee46faa48"
      },
      "execution_count": null,
      "outputs": [
        {
          "output_type": "execute_result",
          "data": {
            "text/plain": [
              "3"
            ]
          },
          "metadata": {},
          "execution_count": 300
        }
      ]
    },
    {
      "cell_type": "markdown",
      "source": [
        "##Accessing Elements"
      ],
      "metadata": {
        "id": "fvd8S0QYmGLa"
      }
    },
    {
      "cell_type": "code",
      "source": [
        "# Positive Index\n",
        "veggies[0]    # Output: 'carrot'\n",
        "\n",
        "# Negative Index\n",
        "veggies[-2]   # Output: 'potato'\n"
      ],
      "metadata": {
        "colab": {
          "base_uri": "https://localhost:8080/",
          "height": 36
        },
        "id": "PHq7-Gs7mJr7",
        "outputId": "67519f4b-9275-4c8e-dc42-d5fe01f3402d"
      },
      "execution_count": null,
      "outputs": [
        {
          "output_type": "execute_result",
          "data": {
            "text/plain": [
              "'potato'"
            ],
            "application/vnd.google.colaboratory.intrinsic+json": {
              "type": "string"
            }
          },
          "metadata": {},
          "execution_count": 301
        }
      ]
    },
    {
      "cell_type": "markdown",
      "source": [
        "##Membership Test"
      ],
      "metadata": {
        "id": "Ca4KQZbKmPJ4"
      }
    },
    {
      "cell_type": "code",
      "source": [
        "'potato' in veggies   # Output: True\n"
      ],
      "metadata": {
        "colab": {
          "base_uri": "https://localhost:8080/"
        },
        "id": "29vu4z86mQ2s",
        "outputId": "29c4ed2c-593b-4dce-ace1-291c4aa1d715"
      },
      "execution_count": null,
      "outputs": [
        {
          "output_type": "execute_result",
          "data": {
            "text/plain": [
              "True"
            ]
          },
          "metadata": {},
          "execution_count": 302
        }
      ]
    },
    {
      "cell_type": "markdown",
      "source": [
        "##Immutability in Action"
      ],
      "metadata": {
        "id": "RxGOtfwfmT4p"
      }
    },
    {
      "cell_type": "code",
      "source": [
        "# Try changing an item\n",
        "veggies[1] = 'beetroot'\n",
        "# Error: TypeError: 'tuple' object does not support item assignment\n"
      ],
      "metadata": {
        "colab": {
          "base_uri": "https://localhost:8080/",
          "height": 181
        },
        "id": "FzMYWX49maAf",
        "outputId": "c194ab45-0ea6-4336-ba92-58c82e7d2de0"
      },
      "execution_count": null,
      "outputs": [
        {
          "output_type": "error",
          "ename": "TypeError",
          "evalue": "'tuple' object does not support item assignment",
          "traceback": [
            "\u001b[0;31m---------------------------------------------------------------------------\u001b[0m",
            "\u001b[0;31mTypeError\u001b[0m                                 Traceback (most recent call last)",
            "\u001b[0;32m/tmp/ipython-input-585397328.py\u001b[0m in \u001b[0;36m<cell line: 0>\u001b[0;34m()\u001b[0m\n\u001b[1;32m      1\u001b[0m \u001b[0;31m# Try changing an item\u001b[0m\u001b[0;34m\u001b[0m\u001b[0;34m\u001b[0m\u001b[0m\n\u001b[0;32m----> 2\u001b[0;31m \u001b[0mveggies\u001b[0m\u001b[0;34m[\u001b[0m\u001b[0;36m1\u001b[0m\u001b[0;34m]\u001b[0m \u001b[0;34m=\u001b[0m \u001b[0;34m'beetroot'\u001b[0m\u001b[0;34m\u001b[0m\u001b[0;34m\u001b[0m\u001b[0m\n\u001b[0m\u001b[1;32m      3\u001b[0m \u001b[0;31m# Error: TypeError: 'tuple' object does not support item assignment\u001b[0m\u001b[0;34m\u001b[0m\u001b[0;34m\u001b[0m\u001b[0m\n",
            "\u001b[0;31mTypeError\u001b[0m: 'tuple' object does not support item assignment"
          ]
        }
      ]
    },
    {
      "cell_type": "markdown",
      "source": [
        "##Can't Modify Tuples"
      ],
      "metadata": {
        "id": "l2kZ7x6cmfnB"
      }
    },
    {
      "cell_type": "code",
      "source": [],
      "metadata": {
        "id": "-I-4qROdeWWp"
      },
      "execution_count": null,
      "outputs": []
    },
    {
      "cell_type": "code",
      "source": [
        "# Try to add an item\n",
        "veggies.append('peas')\n",
        "# AttributeError: 'tuple' object has no attribute 'append'\n",
        "\n",
        "# Try to remove an item\n",
        "veggies.remove('carrot')\n",
        "# AttributeError: 'tuple' object has no attribute 'remove'\n"
      ],
      "metadata": {
        "id": "qaFWhPUgmjBo"
      },
      "execution_count": null,
      "outputs": []
    },
    {
      "cell_type": "markdown",
      "source": [
        "##Parentheses Are Optional"
      ],
      "metadata": {
        "id": "34JoTiS8mxas"
      }
    },
    {
      "cell_type": "code",
      "source": [
        "city_codes = 'DEL', 'MUM', 'BLR'\n",
        "print(city_codes)   # Output: ('DEL', 'MUM', 'BLR')"
      ],
      "metadata": {
        "colab": {
          "base_uri": "https://localhost:8080/"
        },
        "id": "ysusjVVzmzJe",
        "outputId": "9a86ff3b-a731-4dbe-8741-7219ad0549e6"
      },
      "execution_count": null,
      "outputs": [
        {
          "output_type": "stream",
          "name": "stdout",
          "text": [
            "('DEL', 'MUM', 'BLR')\n"
          ]
        }
      ]
    },
    {
      "cell_type": "markdown",
      "source": [
        "##Single Element Tuple"
      ],
      "metadata": {
        "id": "bgE8JS8jm3D2"
      }
    },
    {
      "cell_type": "code",
      "source": [
        "temp = (5,)\n",
        "print(temp)         # Output: (5,)\n",
        "print(type(temp))\n",
        "\n",
        "not_a_tuple = (5)\n",
        "print(not_a_tuple)  # Output: 5 (an integer, not a tuple!)\n",
        "print(type(not_a_tuple))"
      ],
      "metadata": {
        "colab": {
          "base_uri": "https://localhost:8080/"
        },
        "id": "XHrFG7t8m8pC",
        "outputId": "d1d808a1-df19-436e-9f1e-ad0128c58101"
      },
      "execution_count": null,
      "outputs": [
        {
          "output_type": "stream",
          "name": "stdout",
          "text": [
            "(5,)\n",
            "<class 'tuple'>\n",
            "5\n",
            "<class 'int'>\n"
          ]
        }
      ]
    },
    {
      "cell_type": "markdown",
      "source": [
        "##Tuple Unpacking"
      ],
      "metadata": {
        "id": "9gQiWD-GnCs5"
      }
    },
    {
      "cell_type": "code",
      "source": [
        "coordinates = (10, 20)\n",
        "x_pos, y_pos = coordinates\n",
        "print(x_pos)   # Output: 10\n",
        "print(y_pos)   # Output: 20\n"
      ],
      "metadata": {
        "colab": {
          "base_uri": "https://localhost:8080/"
        },
        "id": "2UhDtj_EnHHe",
        "outputId": "fad797cf-75c8-4c13-b5a0-1484c7a68619"
      },
      "execution_count": null,
      "outputs": [
        {
          "output_type": "stream",
          "name": "stdout",
          "text": [
            "10\n",
            "20\n"
          ]
        }
      ]
    },
    {
      "cell_type": "markdown",
      "source": [
        "##🔄 Convert Between List & Tuple"
      ],
      "metadata": {
        "id": "vBOiBBjCnMaa"
      }
    },
    {
      "cell_type": "code",
      "source": [
        "# List ➡ Tuple\n",
        "names_list = ['Tom', 'Jerry']\n",
        "names_tuple = tuple(names_list)\n",
        "\n",
        "# Tuple ➡ List\n",
        "tools = ('hammer', 'wrench')\n",
        "tools_list = list(tools)\n"
      ],
      "metadata": {
        "id": "WA9N-LgPnOO8"
      },
      "execution_count": null,
      "outputs": []
    },
    {
      "cell_type": "markdown",
      "source": [
        "##Tuple Methods\n",
        "\n",
        "Only two built-in methods: .count() and .index()"
      ],
      "metadata": {
        "id": "X-ISjGEgnU7Q"
      }
    },
    {
      "cell_type": "code",
      "source": [
        "sample_data = ('sun', 'moon', 'sun', 'stars', 'moon', 'sun')\n",
        "\n",
        "# Count how many times 'sun' appears\n",
        "sample_data.count('sun')    # Output: 3\n",
        "\n",
        "# Find first index of 'moon'\n",
        "sample_data.index('moon')   # Output: 1\n"
      ],
      "metadata": {
        "colab": {
          "base_uri": "https://localhost:8080/"
        },
        "id": "9YPi7S3pnaY5",
        "outputId": "0a0d9965-3bfa-431f-c150-0fe9e6a54b8e"
      },
      "execution_count": null,
      "outputs": [
        {
          "output_type": "execute_result",
          "data": {
            "text/plain": [
              "1"
            ]
          },
          "metadata": {},
          "execution_count": 310
        }
      ]
    },
    {
      "cell_type": "markdown",
      "source": [
        "##Use help() for Documentation"
      ],
      "metadata": {
        "id": "1vR9luSEnegH"
      }
    },
    {
      "cell_type": "code",
      "source": [
        "help(sample_data.count)"
      ],
      "metadata": {
        "colab": {
          "base_uri": "https://localhost:8080/"
        },
        "id": "O2XSdKNbngiL",
        "outputId": "1c7cc8be-9910-49f9-b316-e583863c3e9b"
      },
      "execution_count": null,
      "outputs": [
        {
          "output_type": "stream",
          "name": "stdout",
          "text": [
            "Help on built-in function count:\n",
            "\n",
            "count(value, /) method of builtins.tuple instance\n",
            "    Return number of occurrences of value.\n",
            "\n"
          ]
        }
      ]
    },
    {
      "cell_type": "markdown",
      "source": [
        "# Python Dictionary –\n",
        "\n",
        "A **dictionary** in Python is an **unordered collection** of key-value pairs.  \n",
        "Each **key** must be unique and immutable (like string, number, tuple), and is used to access its **associated value**.\n",
        "\n",
        "---\n",
        "\n",
        "##Creating a Dictionary"
      ],
      "metadata": {
        "id": "jtFcVCmTq7Uh"
      }
    },
    {
      "cell_type": "code",
      "source": [
        "employee1 = {\n",
        "    'name': 'Alice Smith',\n",
        "    'role': 'Developer',\n",
        "    'experience': 5,\n",
        "    'remote': True\n",
        "}"
      ],
      "metadata": {
        "id": "_jrlx6dwq_Zi"
      },
      "execution_count": null,
      "outputs": []
    },
    {
      "cell_type": "code",
      "source": [
        "employee1['role']"
      ],
      "metadata": {
        "colab": {
          "base_uri": "https://localhost:8080/",
          "height": 36
        },
        "id": "yymgRrU6faQN",
        "outputId": "fc4b21da-47cb-4b1d-c82a-b40a97041b03"
      },
      "execution_count": null,
      "outputs": [
        {
          "output_type": "execute_result",
          "data": {
            "text/plain": [
              "'Developer'"
            ],
            "application/vnd.google.colaboratory.intrinsic+json": {
              "type": "string"
            }
          },
          "metadata": {},
          "execution_count": 316
        }
      ]
    },
    {
      "cell_type": "code",
      "source": [
        "print(employee1)"
      ],
      "metadata": {
        "colab": {
          "base_uri": "https://localhost:8080/"
        },
        "id": "r-GnH9TvfoFN",
        "outputId": "984db039-5e4d-4cb0-a469-a7595d054fa4"
      },
      "execution_count": null,
      "outputs": [
        {
          "output_type": "stream",
          "name": "stdout",
          "text": [
            "{'name': 'Alice Smith', 'role': 'Developer', 'experience': 5, 'remote': True}\n"
          ]
        }
      ]
    },
    {
      "cell_type": "markdown",
      "source": [
        "###Another Way to Create a Dictionary"
      ],
      "metadata": {
        "id": "fkdWVEBNrIJJ"
      }
    },
    {
      "cell_type": "code",
      "source": [
        "employee2 = dict(name='Bob Lee', role='Designer', experience=3, remote=False)"
      ],
      "metadata": {
        "id": "pgNAuaR8rKBT"
      },
      "execution_count": null,
      "outputs": []
    },
    {
      "cell_type": "code",
      "source": [
        "type(employee2)"
      ],
      "metadata": {
        "colab": {
          "base_uri": "https://localhost:8080/"
        },
        "id": "2KemlrYPrP3a",
        "outputId": "0ae17255-3551-4a50-e8b6-15a9cbde9855"
      },
      "execution_count": null,
      "outputs": [
        {
          "output_type": "execute_result",
          "data": {
            "text/plain": [
              "dict"
            ]
          },
          "metadata": {},
          "execution_count": 320
        }
      ]
    },
    {
      "cell_type": "code",
      "source": [
        "print(employee2)"
      ],
      "metadata": {
        "colab": {
          "base_uri": "https://localhost:8080/"
        },
        "id": "zWs7bCZxfvYS",
        "outputId": "45722942-4bcc-45cf-a557-37f4d6e247ea"
      },
      "execution_count": null,
      "outputs": [
        {
          "output_type": "stream",
          "name": "stdout",
          "text": [
            "{'name': 'Bob Lee', 'role': 'Designer', 'experience': 3, 'remote': False}\n"
          ]
        }
      ]
    },
    {
      "cell_type": "markdown",
      "source": [
        "###Accessing Values Using Keys"
      ],
      "metadata": {
        "id": "imFC29ZDrSLa"
      }
    },
    {
      "cell_type": "code",
      "source": [
        "employee1['remote']      # Output: 'Alice Smith'\n",
        "# employee2['remote']    # Output: False\n"
      ],
      "metadata": {
        "colab": {
          "base_uri": "https://localhost:8080/"
        },
        "id": "MgHw0PrFrVh8",
        "outputId": "145465f2-31e4-4aee-f04c-0245d2e13888"
      },
      "execution_count": null,
      "outputs": [
        {
          "output_type": "execute_result",
          "data": {
            "text/plain": [
              "True"
            ]
          },
          "metadata": {},
          "execution_count": 322
        }
      ]
    },
    {
      "cell_type": "markdown",
      "source": [
        "###Accessing a Missing Key (KeyError)"
      ],
      "metadata": {
        "id": "favGwrZfreRs"
      }
    },
    {
      "cell_type": "code",
      "source": [
        "employee1[\"salar\"]"
      ],
      "metadata": {
        "colab": {
          "base_uri": "https://localhost:8080/",
          "height": 145
        },
        "id": "-XXuW3mvf542",
        "outputId": "3330f8d4-68f2-4585-c7f2-921c92a360fb"
      },
      "execution_count": null,
      "outputs": [
        {
          "output_type": "error",
          "ename": "KeyError",
          "evalue": "'salar'",
          "traceback": [
            "\u001b[0;31m---------------------------------------------------------------------------\u001b[0m",
            "\u001b[0;31mKeyError\u001b[0m                                  Traceback (most recent call last)",
            "\u001b[0;32m/tmp/ipython-input-489871582.py\u001b[0m in \u001b[0;36m<cell line: 0>\u001b[0;34m()\u001b[0m\n\u001b[0;32m----> 1\u001b[0;31m \u001b[0memployee1\u001b[0m\u001b[0;34m[\u001b[0m\u001b[0;34m\"salar\"\u001b[0m\u001b[0;34m]\u001b[0m\u001b[0;34m\u001b[0m\u001b[0;34m\u001b[0m\u001b[0m\n\u001b[0m",
            "\u001b[0;31mKeyError\u001b[0m: 'salar'"
          ]
        }
      ]
    },
    {
      "cell_type": "code",
      "source": [
        "# Using .get() to access a potentially missing key\n",
        "salary = employee1.get('salary')\n",
        "print(f\"Salary: {salary}\") # Output: Salary: None\n",
        "\n",
        "# You can also provide a default value if the key is not found\n",
        "salary_with_default = employee1.get('salary', 0)\n",
        "print(f\"Salary with default: {salary_with_default}\") # Output: Salary with default: 0"
      ],
      "metadata": {
        "colab": {
          "base_uri": "https://localhost:8080/"
        },
        "id": "-FlF6GtDrgZC",
        "outputId": "ef2f8055-d514-4ab9-ddb1-3bf57cfee420"
      },
      "execution_count": null,
      "outputs": [
        {
          "output_type": "stream",
          "name": "stdout",
          "text": [
            "Salary: None\n",
            "Salary with default: 0\n"
          ]
        }
      ]
    },
    {
      "cell_type": "markdown",
      "source": [
        "###Check Key Existence with in"
      ],
      "metadata": {
        "id": "dYIyw_2Brrvg"
      }
    },
    {
      "cell_type": "code",
      "source": [
        "print('name' in employee2)      # Output: True\n",
        "print('salary' in employee2 )    # Output: False\n"
      ],
      "metadata": {
        "colab": {
          "base_uri": "https://localhost:8080/"
        },
        "id": "lNryhWGVrt25",
        "outputId": "411aa62d-652c-48fd-b226-4b09c9f5ad05"
      },
      "execution_count": null,
      "outputs": [
        {
          "output_type": "stream",
          "name": "stdout",
          "text": [
            "True\n",
            "False\n"
          ]
        }
      ]
    },
    {
      "cell_type": "markdown",
      "source": [
        "###Updating and Adding Data"
      ],
      "metadata": {
        "id": "EdpQoRCdrwhu"
      }
    },
    {
      "cell_type": "code",
      "source": [
        "employee2['remote'] = True         # Updates value\n",
        "employee1['salary'] = 75000        # Adds new key-value pair\n"
      ],
      "metadata": {
        "id": "I_Fm9-hBr06O"
      },
      "execution_count": null,
      "outputs": []
    },
    {
      "cell_type": "markdown",
      "source": [
        "###Removing Data"
      ],
      "metadata": {
        "id": "st_1V9t8r7bB"
      }
    },
    {
      "cell_type": "code",
      "source": [
        "employee1.pop('salary')    # Removes 'salary' key and returns its value\n"
      ],
      "metadata": {
        "colab": {
          "base_uri": "https://localhost:8080/"
        },
        "id": "1HwsIIOor4tO",
        "outputId": "3373e5fe-48fd-4dcf-86d0-f737ae89821e"
      },
      "execution_count": null,
      "outputs": [
        {
          "output_type": "execute_result",
          "data": {
            "text/plain": [
              "75000"
            ]
          },
          "metadata": {},
          "execution_count": 157
        }
      ]
    },
    {
      "cell_type": "markdown",
      "source": [
        "###Dictionary Methods\n",
        "keys(), values(), and items()\n"
      ],
      "metadata": {
        "id": "P9YipkMJri-I"
      }
    },
    {
      "cell_type": "code",
      "source": [
        "employee1.keys()     # dict_keys(['name', 'role', 'experience', 'remote'])\n",
        "employee1.values()   # dict_values(['Alice Smith', 'Developer', 5, True])\n",
        "employee1.items()    # dict_items([('name', 'Alice Smith'), ('role', 'Developer'), ...])"
      ],
      "metadata": {
        "colab": {
          "base_uri": "https://localhost:8080/"
        },
        "id": "ergrPPiMsFV1",
        "outputId": "9b9500c3-4863-4db0-c513-25ee821569fe"
      },
      "execution_count": null,
      "outputs": [
        {
          "output_type": "execute_result",
          "data": {
            "text/plain": [
              "dict_items([('name', 'Bob Lee'), ('role', 'Designer'), ('experience', 3), ('remote', False)])"
            ]
          },
          "metadata": {},
          "execution_count": 158
        }
      ]
    },
    {
      "cell_type": "code",
      "source": [
        "list(employee1.keys())[0]"
      ],
      "metadata": {
        "colab": {
          "base_uri": "https://localhost:8080/",
          "height": 36
        },
        "id": "upUdivqjgsqc",
        "outputId": "e17d0272-85a8-49a1-93f1-1c020641281f"
      },
      "execution_count": null,
      "outputs": [
        {
          "output_type": "execute_result",
          "data": {
            "text/plain": [
              "'name'"
            ],
            "application/vnd.google.colaboratory.intrinsic+json": {
              "type": "string"
            }
          },
          "metadata": {},
          "execution_count": 326
        }
      ]
    },
    {
      "cell_type": "code",
      "source": [
        "# list(employee1.keys())[0]"
      ],
      "metadata": {
        "id": "Ft3CqtTgtzxl"
      },
      "execution_count": null,
      "outputs": []
    },
    {
      "cell_type": "markdown",
      "source": [
        "###Cannot Index dict_items"
      ],
      "metadata": {
        "id": "gxeYXOfpsI1h"
      }
    },
    {
      "cell_type": "code",
      "source": [
        "employee1.items()[1]     # ❌ Error: 'dict_items' object is not subscriptable\n"
      ],
      "metadata": {
        "colab": {
          "base_uri": "https://localhost:8080/",
          "height": 145
        },
        "id": "ucXN_jD2sM73",
        "outputId": "66ef2279-0af5-421b-f6f2-4c6ab53e4522"
      },
      "execution_count": null,
      "outputs": [
        {
          "output_type": "error",
          "ename": "TypeError",
          "evalue": "'dict_items' object is not subscriptable",
          "traceback": [
            "\u001b[0;31m---------------------------------------------------------------------------\u001b[0m",
            "\u001b[0;31mTypeError\u001b[0m                                 Traceback (most recent call last)",
            "\u001b[0;32m/tmp/ipython-input-699485052.py\u001b[0m in \u001b[0;36m<cell line: 0>\u001b[0;34m()\u001b[0m\n\u001b[0;32m----> 1\u001b[0;31m \u001b[0memployee1\u001b[0m\u001b[0;34m.\u001b[0m\u001b[0mitems\u001b[0m\u001b[0;34m(\u001b[0m\u001b[0;34m)\u001b[0m\u001b[0;34m[\u001b[0m\u001b[0;36m1\u001b[0m\u001b[0;34m]\u001b[0m     \u001b[0;31m# ❌ Error: 'dict_items' object is not subscriptable\u001b[0m\u001b[0;34m\u001b[0m\u001b[0;34m\u001b[0m\u001b[0m\n\u001b[0m",
            "\u001b[0;31mTypeError\u001b[0m: 'dict_items' object is not subscriptable"
          ]
        }
      ]
    },
    {
      "cell_type": "markdown",
      "source": [
        "#Convert to List First"
      ],
      "metadata": {
        "id": "BWEcVx12seqE"
      }
    },
    {
      "cell_type": "code",
      "source": [
        "list(employee1.items())[1]   # Output: ('role', 'Developer')\n"
      ],
      "metadata": {
        "id": "NDF_DNfosgmr"
      },
      "execution_count": null,
      "outputs": []
    },
    {
      "cell_type": "markdown",
      "source": [
        "###Merge Dictionaries"
      ],
      "metadata": {
        "id": "gO32mcDhsqil"
      }
    },
    {
      "cell_type": "code",
      "source": [
        "employee1.update(employee2)   # Adds/updates all key-value pairs from employee2\n"
      ],
      "metadata": {
        "id": "lU_XAfN2sr7Y"
      },
      "execution_count": null,
      "outputs": []
    },
    {
      "cell_type": "code",
      "source": [
        "print(employee1,employee2)"
      ],
      "metadata": {
        "colab": {
          "base_uri": "https://localhost:8080/"
        },
        "id": "5dHL2BF3uKR-",
        "outputId": "a798af63-32a0-4960-e248-6d36e914bf58"
      },
      "execution_count": null,
      "outputs": [
        {
          "output_type": "stream",
          "name": "stdout",
          "text": [
            "{'name': 'Bob Lee', 'role': 'Designer', 'experience': 3, 'remote': False} {'name': 'Bob Lee', 'role': 'Designer', 'experience': 3, 'remote': False}\n"
          ]
        }
      ]
    },
    {
      "cell_type": "markdown",
      "source": [
        "###❓ More Experiments to Try\n",
        "Can a key be a tuple? A float? A list? Try and see.\n",
        "\n",
        "What happens if the same key is used more than once during creation?\n",
        "\n",
        "How to loop through all keys/values/pairs?\n",
        "\n",
        "What if a value is another dictionary?"
      ],
      "metadata": {
        "id": "y9dDV9Z0su_p"
      }
    },
    {
      "cell_type": "markdown",
      "source": [
        "#Dictionary\n",
        "\n",
        "1. Initialize an empty dictionary named `vehicle` and print it to verify.\n",
        "\n",
        "2. Add the following details to the `vehicle` dictionary: `type`, `brand`, `model`, `year`, and `color`.\n",
        "\n",
        "3. Create a dictionary called `employee` and include keys such as `first_name`, `last_name`, `position`, `salary`, `department`, `skills`, `city`, and `country`.\n",
        "\n",
        "4. Display the number of key-value pairs present in the `employee` dictionary.\n",
        "\n",
        "5. Access the value associated with the `skills` key in the `employee` dictionary and confirm that its data type is a list.\n",
        "\n",
        "6. Update the `skills` list by appending at least two new skills to it.\n",
        "\n",
        "7. Convert the keys of the `employee` dictionary into a list and print it.\n",
        "\n",
        "8. Convert the values of the `employee` dictionary into a list and print the result.\n",
        "\n",
        "9. Convert the `employee` dictionary into a list of tuples using the `items()` method.\n",
        "\n",
        "10. Remove a specific item from the `employee` dictionary using the `pop()` method or `del` statement.\n",
        "\n",
        "11. Completely delete the `vehicle` dictionary from memory.\n"
      ],
      "metadata": {
        "id": "b0ciwj9BtIex"
      }
    },
    {
      "cell_type": "markdown",
      "source": [
        "# Conditional Statements and Branching in Python\n",
        "\n",
        "Python allows you to make decisions in code using **branching statements** like `if`, `elif`, and `else`.\n",
        "\n",
        "---\n",
        "\n",
        "## ✅ The `if` Statement\n"
      ],
      "metadata": {
        "id": "FUJOc6kGwvsw"
      }
    },
    {
      "cell_type": "code",
      "source": [
        "score = 8\n",
        "\n",
        "if score >= 75:\n",
        "  print(\"Excellent performance!\")"
      ],
      "metadata": {
        "colab": {
          "base_uri": "https://localhost:8080/"
        },
        "id": "CmvAS6Zqw6IY",
        "outputId": "7e7b2723-8586-4cdf-e30a-efd84f89dc85"
      },
      "execution_count": null,
      "outputs": [
        {
          "output_type": "stream",
          "name": "stdout",
          "text": [
            "good performance\n"
          ]
        }
      ]
    },
    {
      "cell_type": "markdown",
      "source": [
        "💡 If the condition is True, the indented block runs.\n",
        "\n",
        "Python uses indentation (spaces or tabs) to define blocks."
      ],
      "metadata": {
        "id": "ei7SmoAUxN8h"
      }
    },
    {
      "cell_type": "markdown",
      "source": [
        "###if-else Statement"
      ],
      "metadata": {
        "id": "QFayFdnHxe4k"
      }
    },
    {
      "cell_type": "code",
      "source": [
        "num = 13\n",
        "\n",
        "if num % 2 == 0:\n",
        "    print(\"{} is even.\".format(num))\n",
        "else:\n",
        "    print(f\"{num} is odd.\")\n"
      ],
      "metadata": {
        "colab": {
          "base_uri": "https://localhost:8080/"
        },
        "id": "yf-bqgZ6xjvv",
        "outputId": "22b656bc-f265-4c97-8456-c5191b9d35f9"
      },
      "execution_count": null,
      "outputs": [
        {
          "output_type": "stream",
          "name": "stdout",
          "text": [
            "13 is odd.\n"
          ]
        }
      ]
    },
    {
      "cell_type": "markdown",
      "source": [
        "###Example with Membership and else"
      ],
      "metadata": {
        "id": "SKo63KKrx09k"
      }
    },
    {
      "cell_type": "code",
      "source": [
        "characters = ('Harry', 'Ron', 'Hermione')\n",
        "name = 'Draco'\n",
        "\n",
        "if name in characters:\n",
        "    print(f\"{name} is a main character.\")\n",
        "else:\n",
        "    print(f\"{name} is not a main character.\")\n"
      ],
      "metadata": {
        "colab": {
          "base_uri": "https://localhost:8080/"
        },
        "id": "bwMPu4Xox2fl",
        "outputId": "37e46fbf-bced-4144-9f8b-c4afe66772c9"
      },
      "execution_count": null,
      "outputs": [
        {
          "output_type": "stream",
          "name": "stdout",
          "text": [
            "Draco is not a main character.\n"
          ]
        }
      ]
    },
    {
      "cell_type": "markdown",
      "source": [
        "###The elif Statement (else-if)\n",
        "Use elif to check multiple conditions:"
      ],
      "metadata": {
        "id": "uaOHrwCpyFnJ"
      }
    },
    {
      "cell_type": "code",
      "source": [
        "day = \"wednesday\"\n",
        "\n",
        "if day == \"Monday\":\n",
        "    print(\"Start of work week.\")\n",
        "elif day == \"Wednesday\":\n",
        "    print(\"Midweek vibes.\")\n",
        "elif day == \"Friday\":\n",
        "    print(\"Almost weekend!\")\n",
        "else:\n",
        "    print(\"Just another day.\")\n"
      ],
      "metadata": {
        "colab": {
          "base_uri": "https://localhost:8080/"
        },
        "id": "rlmtC4RKyHkz",
        "outputId": "870000df-163e-4367-b07e-66d1c4e34381"
      },
      "execution_count": null,
      "outputs": [
        {
          "output_type": "stream",
          "name": "stdout",
          "text": [
            "Just another day.\n"
          ]
        }
      ]
    },
    {
      "cell_type": "markdown",
      "source": [
        "📌 Python evaluates conditions top to bottom. The first True block executes and others are skipped."
      ],
      "metadata": {
        "id": "cm-olBAIyQrX"
      }
    },
    {
      "cell_type": "markdown",
      "source": [
        "###Example: Number Divisibility"
      ],
      "metadata": {
        "id": "jWVMpfWAyX5q"
      }
    },
    {
      "cell_type": "code",
      "source": [
        "n = 15\n",
        "\n",
        "if n % 2 == 0:\n",
        "    print(f\"{n} is divisible by 2\")\n",
        "elif n % 3 == 0:\n",
        "    print(f\"{n} is divisible by 3\")\n",
        "elif n % 5 == 0:\n",
        "    print(f\"{n} is divisible by 5\")\n",
        "else:\n",
        "    print(f\"{n} is not divisible by 2, 3, or 5\")\n"
      ],
      "metadata": {
        "colab": {
          "base_uri": "https://localhost:8080/"
        },
        "id": "susYfbe7ySHc",
        "outputId": "4dd3e00e-a481-487e-ba78-c94046ff7a3a"
      },
      "execution_count": null,
      "outputs": [
        {
          "output_type": "stream",
          "name": "stdout",
          "text": [
            "15 is divisible by 3\n"
          ]
        }
      ]
    },
    {
      "cell_type": "markdown",
      "source": [
        "➡️ Only the first True condition prints output."
      ],
      "metadata": {
        "id": "iV_wU8NQydjW"
      }
    },
    {
      "cell_type": "markdown",
      "source": [
        "###if vs Multiple if (All are Checked)"
      ],
      "metadata": {
        "id": "W9Ybr7aAyobw"
      }
    },
    {
      "cell_type": "code",
      "source": [
        "n = 15\n",
        "\n",
        "if n % 2 == 0:\n",
        "    print(f\"{n} is divisible by 2\")\n",
        "if n % 3 == 0:\n",
        "    print(f\"{n} is divisible by 3\")\n",
        "if n % 5 == 0:\n",
        "    print(f\"{n} is divisible by 5\")\n"
      ],
      "metadata": {
        "colab": {
          "base_uri": "https://localhost:8080/"
        },
        "id": "2RtUu5cwyp1p",
        "outputId": "bf9e7d6a-c5ec-4fa6-fb1e-c8d5202b687a"
      },
      "execution_count": null,
      "outputs": [
        {
          "output_type": "stream",
          "name": "stdout",
          "text": [
            "15 is divisible by 3\n",
            "15 is divisible by 5\n"
          ]
        }
      ]
    },
    {
      "cell_type": "markdown",
      "source": [
        "✅ All if blocks are evaluated separately."
      ],
      "metadata": {
        "id": "9-NjMRy6ywnG"
      }
    },
    {
      "cell_type": "markdown",
      "source": [
        "#Using Logical Operators (and, or, not)"
      ],
      "metadata": {
        "id": "EXg5vQ0Iy7BU"
      }
    },
    {
      "cell_type": "code",
      "source": [
        "val = 12\n",
        "\n",
        "if val % 3 == 0 and val % 4 == 0:\n",
        "    print(f\"{val} is divisible by both 3 and 4\")\n",
        "else:\n",
        "    print(f\"{val} is not divisible by both\")\n"
      ],
      "metadata": {
        "colab": {
          "base_uri": "https://localhost:8080/"
        },
        "id": "WpOhCmKxy80o",
        "outputId": "0a5a09f1-0f83-47d0-c677-0570a9a66393"
      },
      "execution_count": null,
      "outputs": [
        {
          "output_type": "stream",
          "name": "stdout",
          "text": [
            "12 is divisible by both 3 and 4\n"
          ]
        }
      ]
    },
    {
      "cell_type": "markdown",
      "source": [
        "##🔗 Summary of Keywords\n",
        "| Keyword | Meaning                          |\n",
        "| ------- | -------------------------------- |\n",
        "| `if`    | Check a condition                |\n",
        "| `elif`  | Additional conditions            |\n",
        "| `else`  | Run when no conditions match     |\n",
        "| `and`   | Both conditions must be `True`   |\n",
        "| `or`    | At least one condition is `True` |\n",
        "| `not`   | Negates a condition              |\n"
      ],
      "metadata": {
        "id": "hWI2UtWnzEpa"
      }
    },
    {
      "cell_type": "code",
      "source": [],
      "metadata": {
        "id": "6h4rrIeTgN2Z"
      },
      "execution_count": null,
      "outputs": []
    },
    {
      "cell_type": "markdown",
      "source": [
        "\n",
        "\n",
        "###In Python, any value used in a condition is **automatically converted to boolean** using `bool()`.\n",
        "\n",
        "### ✅ Truthy and Falsy values\n",
        "\n",
        "- Falsy: `0`, `None`, `''`, `[]`, `{}`, `False`\n",
        "- Truthy: Non-zero numbers, non-empty strings/lists/dicts, etc.\n",
        "\n",
        "```python\n",
        "if '':\n",
        "    print(\"True branch\")\n",
        "else:\n",
        "    print(\"False branch\")   # Output\n",
        "\n",
        "if 'World':\n",
        "    print(\"True branch\")    # Output\n",
        "else:\n",
        "    print(\"False branch\")\n",
        "\n",
        "if {}:\n",
        "    print(\"True\")\n",
        "else:\n",
        "    print(\"False\")          # Output\n",
        "\n",
        "if {'key': 10}:\n",
        "    print(\"True\")           # Output\n",
        "else:\n",
        "    print(\"False\")\n",
        "\n",
        "if None:\n",
        "    print(\"Yes\")\n",
        "else:\n",
        "    print(\"No\")             # Output\n"
      ],
      "metadata": {
        "id": "9KkxIB2Jz033"
      }
    },
    {
      "cell_type": "markdown",
      "source": [
        "###Nested if Statements\n",
        "One if inside another = nested condition. Use with care!"
      ],
      "metadata": {
        "id": "tJbQ2rm-z7kq"
      }
    },
    {
      "cell_type": "code",
      "source": [
        "value = 15\n",
        "\n",
        "if value % 2 == 0:\n",
        "  print(f\"{value} is even\")\n",
        "  if value % 3 == 0:\n",
        "      print(f\"{value} is divisible by 3 also\")\n",
        "  else:\n",
        "      print(f\"{value} is not divisible by 3\")\n",
        "\n",
        "else:\n",
        "    print(f\"{value} is odd\")\n",
        "    if value % 5 == 0:\n",
        "        print(f\"{value} is also divisible by 5\")\n"
      ],
      "metadata": {
        "colab": {
          "base_uri": "https://localhost:8080/"
        },
        "id": "OloXikkF0Aax",
        "outputId": "557a5e27-f289-407f-9ca1-b28fd0ccfa0c"
      },
      "execution_count": null,
      "outputs": [
        {
          "output_type": "stream",
          "name": "stdout",
          "text": [
            "15 is odd\n",
            "15 is also divisible by 5\n"
          ]
        }
      ]
    },
    {
      "cell_type": "markdown",
      "source": [
        "Avoid more than 1–2 levels of nesting for better readability."
      ],
      "metadata": {
        "id": "cv0-2hnC0LNR"
      }
    },
    {
      "cell_type": "markdown",
      "source": [
        "⚡ Shorthand if Expression"
      ],
      "metadata": {
        "id": "DlFPMERC0OtB"
      }
    },
    {
      "cell_type": "code",
      "source": [
        "# Traditional way\n",
        "num = 13\n",
        "if num % 2 == 0:\n",
        "    status = \"even\"\n",
        "else:\n",
        "    status = \"odd\"\n",
        "print(f\"{num} is {status}\")\n"
      ],
      "metadata": {
        "colab": {
          "base_uri": "https://localhost:8080/"
        },
        "id": "AowWPIwq0L82",
        "outputId": "c871dd2b-24e6-42b8-9a1e-33cca4544af2"
      },
      "execution_count": null,
      "outputs": [
        {
          "output_type": "stream",
          "name": "stdout",
          "text": [
            "13 is odd\n"
          ]
        }
      ]
    },
    {
      "cell_type": "code",
      "source": [
        "# One-liner\n",
        "status = \"even\" if num % 2 == 0 else \"odd\"\n",
        "\n",
        "\n",
        "print(f\"{num} is {status}\")\n"
      ],
      "metadata": {
        "colab": {
          "base_uri": "https://localhost:8080/"
        },
        "id": "jol_2gEN0T6Z",
        "outputId": "539cb728-b71e-4d23-e45b-722491096ef4"
      },
      "execution_count": null,
      "outputs": [
        {
          "output_type": "stream",
          "name": "stdout",
          "text": [
            "13 is odd\n"
          ]
        }
      ]
    },
    {
      "cell_type": "markdown",
      "source": [
        "###The pass Statement\n",
        "Sometimes you want to leave an if or elif block empty (temporarily or logically).\n",
        "Python does not allow empty blocks, so use pass as a placeholder."
      ],
      "metadata": {
        "id": "iwyZj5XV0tqO"
      }
    },
    {
      "cell_type": "code",
      "source": [
        "value = 9\n",
        "\n",
        "if value % 2 == 0:\n",
        "    pass   # No action for even numbers\n",
        "elif value % 3 == 0:\n",
        "    print(f\"{value} is divisible by 3 but not 2\")\n"
      ],
      "metadata": {
        "colab": {
          "base_uri": "https://localhost:8080/"
        },
        "id": "rbL1ds4E0vSy",
        "outputId": "d6ce3cfb-9b33-47f2-f0d8-f248ca31ff60"
      },
      "execution_count": null,
      "outputs": [
        {
          "output_type": "stream",
          "name": "stdout",
          "text": [
            "9 is divisible by 3 but not 2\n"
          ]
        }
      ]
    },
    {
      "cell_type": "markdown",
      "source": [
        "Without pass, the above would raise IndentationError."
      ],
      "metadata": {
        "id": "BRGo3eLO00vu"
      }
    },
    {
      "cell_type": "markdown",
      "source": [
        "#Practice\n",
        "\n",
        "1. Prompt the user to input a full sentence. Check whether the sentence:\n",
        "\n",
        "   * starts with a capital letter\n",
        "   * ends with a punctuation mark (., !, or ?)\n",
        "   * contains the word `\"Python\"`\n",
        "     Based on the result, print a sentence quality rating: `\"Well-formed\"`, `\"Needs punctuation\"`, or `\"Needs both improvements\"`.\n",
        "\n",
        "2. Ask the user to enter their birth month (e.g., \"March\") and age.\n",
        "\n",
        "   * Based on the month, classify the **season** (Spring, Summer, Autumn, Winter).\n",
        "   * If the user is younger than 18, print: `\"Enjoy your studies this [season]!\"`\n",
        "   * If 18 or older, print: `\"Hope you're making the most of your [season]!\"`\n",
        "\n",
        "3. Take two strings from the user: `first_word` and `second_word`.\n",
        "\n",
        "   * If both have the same length, compare them alphabetically and print which one comes first.\n",
        "   * If they have different lengths, print the longer one in uppercase and the shorter one in lowercase.\n",
        "   * If both are equal in value and length, print `\"Perfect match!\"`.\n",
        "\n",
        "4. Create a dictionary called `book = {'title': 'Invisible Cities', 'author': 'Italo Calvino', 'year': 1972, 'genres': ['fiction', 'philosophy']}`\n",
        "\n",
        "   * Check if the key `'publisher'` exists. If not, add `'publisher': 'Harcourt'`.\n",
        "   * If `'fiction'` is in the genres list and `'philosophy'` is not, replace `'fiction'` with `'literary fiction'`.\n",
        "   * If the year is before 1980, add a new key `'status': 'classic'`.\n",
        "   * Print the final dictionary.\n",
        "\n",
        "\n"
      ],
      "metadata": {
        "id": "TVtcSJK_xjI9"
      }
    },
    {
      "cell_type": "code",
      "source": [
        "print(\"hello world\")\n",
        "print(\"hello world\")\n",
        "print(\"hello world\")\n",
        "print(\"hello world\")\n",
        "print(\"hello world\")"
      ],
      "metadata": {
        "colab": {
          "base_uri": "https://localhost:8080/"
        },
        "id": "tnjwBXQ7hUV6",
        "outputId": "0aea6996-2884-4fce-adcb-1edf037ced5b"
      },
      "execution_count": null,
      "outputs": [
        {
          "output_type": "stream",
          "name": "stdout",
          "text": [
            "hello world\n",
            "hello world\n",
            "hello world\n",
            "hello world\n",
            "hello world\n"
          ]
        }
      ]
    },
    {
      "cell_type": "code",
      "source": [
        "i=0\n",
        "while i<5:\n",
        "  print(\"hello world\")\n",
        "  i+=1"
      ],
      "metadata": {
        "colab": {
          "base_uri": "https://localhost:8080/"
        },
        "id": "Yaga_9VNhaGt",
        "outputId": "d2e18e58-ed00-45f7-82a9-6b189efd3cdf"
      },
      "execution_count": null,
      "outputs": [
        {
          "output_type": "stream",
          "name": "stdout",
          "text": [
            "hello world\n",
            "hello world\n",
            "hello world\n",
            "hello world\n",
            "hello world\n"
          ]
        }
      ]
    },
    {
      "cell_type": "markdown",
      "source": [
        "# Python Loops – The Complete Guide\n",
        "\n",
        "In programming, **loops** allow you to repeat tasks efficiently. Python supports:\n",
        "\n",
        "1. `while` loops\n",
        "2. `for` loops\n",
        "\n",
        "---\n",
        "\n",
        "## 🌀 `while` Loop\n",
        "\n",
        "Repeats a block **as long as a condition is true**.\n",
        "\n",
        "### 📌 Syntax\n",
        "\n",
        "```python\n",
        "while condition:\n",
        "    # repeated code block\n"
      ],
      "metadata": {
        "id": "iQyOjhk_8QT1"
      }
    },
    {
      "cell_type": "code",
      "source": [
        "counter = 0\n",
        "\n",
        "while counter < 4:\n",
        "    print(\"Count is:\", counter)\n",
        "    counter += 1\n"
      ],
      "metadata": {
        "colab": {
          "base_uri": "https://localhost:8080/"
        },
        "id": "i_cCGmcr8Tug",
        "outputId": "184caaf4-e701-463d-e76b-8a10721e1d35"
      },
      "execution_count": null,
      "outputs": [
        {
          "output_type": "stream",
          "name": "stdout",
          "text": [
            "Count is: 0\n",
            "Count is: 1\n",
            "Count is: 2\n",
            "Count is: 3\n"
          ]
        }
      ]
    },
    {
      "cell_type": "code",
      "source": [
        "i = 0\n",
        "while i < 3:\n",
        "    print(i)\n",
        "    i += 1\n",
        "else:\n",
        "    print(\"Loop ended at:\", i)\n"
      ],
      "metadata": {
        "colab": {
          "base_uri": "https://localhost:8080/"
        },
        "id": "JAuGAgYj8pR8",
        "outputId": "8f21a481-b03c-4f27-9868-7a7700f56d33"
      },
      "execution_count": null,
      "outputs": [
        {
          "output_type": "stream",
          "name": "stdout",
          "text": [
            "0\n",
            "1\n",
            "2\n",
            "Loop ended at: 3\n"
          ]
        }
      ]
    },
    {
      "cell_type": "markdown",
      "source": [
        "Examples"
      ],
      "metadata": {
        "id": "sxSqCcrg84I9"
      }
    },
    {
      "cell_type": "markdown",
      "source": [
        "## break and continue (in while)\n",
        "\n",
        "break: Exit loop early"
      ],
      "metadata": {
        "id": "XoEm7vQa8znr"
      }
    },
    {
      "cell_type": "code",
      "source": [
        "n = 0\n",
        "while n < 5:\n",
        "    print(n)\n",
        "    if n == 2:\n",
        "        break\n",
        "    n += 1\n",
        "print(\"value of n is \",n)"
      ],
      "metadata": {
        "colab": {
          "base_uri": "https://localhost:8080/"
        },
        "id": "CGrMc7mF8-fI",
        "outputId": "ef56b2cb-3110-4712-c2e9-36a952d50ce3"
      },
      "execution_count": null,
      "outputs": [
        {
          "output_type": "stream",
          "name": "stdout",
          "text": [
            "0\n",
            "1\n",
            "2\n",
            "value of n is  2\n"
          ]
        }
      ]
    },
    {
      "cell_type": "markdown",
      "source": [
        "continue: Skip current iteration"
      ],
      "metadata": {
        "id": "UyL2G3N29Dyi"
      }
    },
    {
      "cell_type": "code",
      "source": [
        "x = 0\n",
        "while x < 5:\n",
        "    x += 1\n",
        "    if x == 3:\n",
        "        continue\n",
        "    print(\"x =\", x)\n"
      ],
      "metadata": {
        "colab": {
          "base_uri": "https://localhost:8080/"
        },
        "id": "D2dvKyu-9EkS",
        "outputId": "c0a632a5-da9b-4867-bd86-976918ef1911"
      },
      "execution_count": null,
      "outputs": [
        {
          "output_type": "stream",
          "name": "stdout",
          "text": [
            "x = 1\n",
            "x = 2\n",
            "x = 4\n",
            "x = 5\n"
          ]
        }
      ]
    },
    {
      "cell_type": "markdown",
      "source": [
        "###Sum of First 10 Natural Numbers"
      ],
      "metadata": {
        "id": "3iOD7WvjBJJR"
      }
    },
    {
      "cell_type": "code",
      "source": [
        "# 1+2+3+.....10\n",
        "s=0\n",
        "i=1\n",
        "while i<=10:\n",
        "  s+=i\n",
        "  i+=1\n",
        "print(\"sum is :\",s)"
      ],
      "metadata": {
        "colab": {
          "base_uri": "https://localhost:8080/"
        },
        "id": "HhJpQREtiyLp",
        "outputId": "8465361f-11c2-4a89-a6d0-c799676f8f52"
      },
      "execution_count": null,
      "outputs": [
        {
          "output_type": "stream",
          "name": "stdout",
          "text": [
            "sum is : 55\n"
          ]
        }
      ]
    },
    {
      "cell_type": "markdown",
      "source": [
        "###Factorial Calculator"
      ],
      "metadata": {
        "id": "W_-e_HVyBPtZ"
      }
    },
    {
      "cell_type": "markdown",
      "source": [
        "###Check Prime Number\n"
      ],
      "metadata": {
        "id": "MEhl9HzfBULx"
      }
    },
    {
      "cell_type": "code",
      "source": [
        "num=int(input(\"enter number\"))\n",
        "flag=0\n",
        "if num<=1 :\n",
        "  flag=0\n",
        "i=2\n",
        "while i<num//2:\n",
        "  if num%i==0:\n",
        "    flag=0\n",
        "    break\n",
        "  else:\n",
        "    i+=1\n",
        "    flag=1\n",
        "if flag==1:\n",
        "  print(\"prime number\")\n",
        "else:\n",
        "  print(\"not prime\")\n"
      ],
      "metadata": {
        "colab": {
          "base_uri": "https://localhost:8080/"
        },
        "id": "IpQmMyHrjg7y",
        "outputId": "7600192d-20fc-4019-87b7-95e9caa30b6a"
      },
      "execution_count": null,
      "outputs": [
        {
          "output_type": "stream",
          "name": "stdout",
          "text": [
            "enter number6\n",
            "not prime\n"
          ]
        }
      ]
    },
    {
      "cell_type": "markdown",
      "source": [
        "###for Loop – Iterate over sequences\n",
        "\n",
        "Works with lists, tuples, strings, sets, dictionaries, etc."
      ],
      "metadata": {
        "id": "YOdMUGEI9Nu5"
      }
    },
    {
      "cell_type": "code",
      "source": [
        "cities = [\"Delhi\", \"Tokyo\", \"Paris\"]\n",
        "\n",
        "for city in cities:\n",
        "    print(\"City:\", city)\n"
      ],
      "metadata": {
        "colab": {
          "base_uri": "https://localhost:8080/"
        },
        "id": "Nx7R9Xqy9Q5v",
        "outputId": "2e271e85-4908-47e9-8a13-86e883c9df5a"
      },
      "execution_count": null,
      "outputs": [
        {
          "output_type": "stream",
          "name": "stdout",
          "text": [
            "City: Delhi\n",
            "City: Tokyo\n",
            "City: Paris\n"
          ]
        }
      ]
    },
    {
      "cell_type": "code",
      "source": [
        "word = \"Loop\"\n",
        "\n",
        "for ch in word:\n",
        "    print(ch)\n"
      ],
      "metadata": {
        "colab": {
          "base_uri": "https://localhost:8080/"
        },
        "id": "GitDJWug9U70",
        "outputId": "9f58cf52-7016-4a92-b11a-582dd026b3aa"
      },
      "execution_count": null,
      "outputs": [
        {
          "output_type": "stream",
          "name": "stdout",
          "text": [
            "L\n",
            "o\n",
            "o\n",
            "p\n"
          ]
        }
      ]
    },
    {
      "cell_type": "code",
      "source": [
        "marks = (90, 80, 70)\n",
        "\n",
        "for mark in marks:\n",
        "    print(\"Mark:\", mark)\n"
      ],
      "metadata": {
        "colab": {
          "base_uri": "https://localhost:8080/"
        },
        "id": "MbhiRZkx9Zxz",
        "outputId": "d35134aa-0c40-4443-9c8d-717507fd89e2"
      },
      "execution_count": null,
      "outputs": [
        {
          "output_type": "stream",
          "name": "stdout",
          "text": [
            "Mark: 90\n",
            "Mark: 80\n",
            "Mark: 70\n"
          ]
        }
      ]
    },
    {
      "cell_type": "markdown",
      "source": [
        "Loop Over Dictionary (Keys + Values)"
      ],
      "metadata": {
        "id": "YciOCRIf9kLY"
      }
    },
    {
      "cell_type": "code",
      "source": [
        "user = {\n",
        "    \"username\": \"johndoe\",\n",
        "    \"age\": 30,\n",
        "    \"skills\": [\"Python\", \"SQL\"]\n",
        "}\n",
        "\n",
        "# Looping over keys\n",
        "for x in user:\n",
        "    print(\"Key:\",x)\n",
        "\n",
        "# Looping over items\n",
        "for k, v in user.items():\n",
        "    print(f\"{k} -> {v}\")\n"
      ],
      "metadata": {
        "colab": {
          "base_uri": "https://localhost:8080/"
        },
        "id": "RUsoWABc9k5q",
        "outputId": "8aea9553-80e7-4d0b-dc90-937a0c546202"
      },
      "execution_count": null,
      "outputs": [
        {
          "output_type": "stream",
          "name": "stdout",
          "text": [
            "Key: username\n",
            "Key: age\n",
            "Key: skills\n",
            "username -> johndoe\n",
            "age -> 30\n",
            "skills -> ['Python', 'SQL']\n"
          ]
        }
      ]
    },
    {
      "cell_type": "markdown",
      "source": [
        "break, continue in for Loop"
      ],
      "metadata": {
        "id": "ROjYREYR-JM8"
      }
    },
    {
      "cell_type": "code",
      "source": [
        "for num in range(6):\n",
        "    if num == 4:\n",
        "        break\n",
        "    print(num)\n"
      ],
      "metadata": {
        "colab": {
          "base_uri": "https://localhost:8080/"
        },
        "id": "0qu3Eipt-KK4",
        "outputId": "f0fedc26-e667-4649-e789-5a7461df2d6d"
      },
      "execution_count": null,
      "outputs": [
        {
          "output_type": "stream",
          "name": "stdout",
          "text": [
            "0\n",
            "1\n",
            "2\n",
            "3\n"
          ]
        }
      ]
    },
    {
      "cell_type": "code",
      "source": [
        "for num in range(6):\n",
        "    if num == 2:\n",
        "        continue\n",
        "    print(num)\n"
      ],
      "metadata": {
        "colab": {
          "base_uri": "https://localhost:8080/"
        },
        "id": "6nfk4B_h-VTt",
        "outputId": "26858223-a1ac-43a7-dead-8e94e91238eb"
      },
      "execution_count": null,
      "outputs": [
        {
          "output_type": "stream",
          "name": "stdout",
          "text": [
            "0\n",
            "1\n",
            "3\n",
            "4\n",
            "5\n"
          ]
        }
      ]
    },
    {
      "cell_type": "markdown",
      "source": [
        "#`range()` Function in Loops\n",
        "\n",
        "The `range()` function is used to generate a sequence of numbers, usually for looping.\n",
        "\n",
        "### Syntax\n",
        "\n",
        "```python\n",
        "range(stop)\n",
        "range(start, stop)\n",
        "range(start, stop, step)\n"
      ],
      "metadata": {
        "id": "-r5iIjmc-0It"
      }
    },
    {
      "cell_type": "markdown",
      "source": [
        "start defaults to 0\n",
        "\n",
        "step defaults to 1\n",
        "\n",
        "stop is exclusive"
      ],
      "metadata": {
        "id": "Se1kd03t--Z2"
      }
    },
    {
      "cell_type": "code",
      "source": [
        "print(range(5))"
      ],
      "metadata": {
        "colab": {
          "base_uri": "https://localhost:8080/"
        },
        "id": "OgZCjgBN-3t-",
        "outputId": "c2c3a4cd-36a5-485a-f2ca-963dea41cf18"
      },
      "execution_count": null,
      "outputs": [
        {
          "output_type": "stream",
          "name": "stdout",
          "text": [
            "range(0, 5)\n"
          ]
        }
      ]
    },
    {
      "cell_type": "code",
      "source": [
        "print(list(range(5)))             # [0, 1, 2, 3, 4]\n",
        "print(list(range(1, 6)))          # [1, 2, 3, 4, 5]\n",
        "print(list(range(0, 10, 2)))      # [0, 2, 4, 6, 8]\n"
      ],
      "metadata": {
        "colab": {
          "base_uri": "https://localhost:8080/"
        },
        "id": "Mflcmdpx-6t6",
        "outputId": "806fc6fb-c8ef-4316-9d12-7b4133568ff8"
      },
      "execution_count": null,
      "outputs": [
        {
          "output_type": "stream",
          "name": "stdout",
          "text": [
            "[0, 1, 2, 3, 4]\n",
            "[1, 2, 3, 4, 5]\n",
            "[0, 2, 4, 6, 8]\n"
          ]
        }
      ]
    },
    {
      "cell_type": "markdown",
      "source": [
        "Nested for Loops\n",
        "\n",
        "One loop inside another is called a nested loop."
      ],
      "metadata": {
        "id": "R7iWemB__ICP"
      }
    },
    {
      "cell_type": "code",
      "source": [
        "matrix = [[1, 2], [3, 4], [5, 6]]\n",
        "\n",
        "for row in matrix:\n",
        "  # print(row,end=' ')\n",
        "  s=0\n",
        "  for item in row:\n",
        "    s+=item\n",
        "    print(item ,end=' ')\n",
        "  print(s)\n"
      ],
      "metadata": {
        "colab": {
          "base_uri": "https://localhost:8080/"
        },
        "id": "utXnmL0-_MFw",
        "outputId": "f1886337-2f16-40ae-be51-7941199b531b"
      },
      "execution_count": null,
      "outputs": [
        {
          "output_type": "stream",
          "name": "stdout",
          "text": [
            "1 2 3\n",
            "3 4 7\n",
            "5 6 11\n"
          ]
        }
      ]
    },
    {
      "cell_type": "code",
      "source": [
        "developer = {\n",
        "    \"name\": \"Anya\",\n",
        "    \"skills\": [\"Python\", \"Flask\", \"SQL\"]\n",
        "}\n",
        "\n",
        "for key in developer:\n",
        "    if key == \"skills\":\n",
        "        for tech in developer[key]:\n",
        "            print(tech)\n"
      ],
      "metadata": {
        "colab": {
          "base_uri": "https://localhost:8080/"
        },
        "id": "GtT9ZOF-_dmy",
        "outputId": "db7c86d8-162e-40e6-f56e-95d117f51e74"
      },
      "execution_count": null,
      "outputs": [
        {
          "output_type": "stream",
          "name": "stdout",
          "text": [
            "PythonFlaskSQL"
          ]
        }
      ]
    },
    {
      "cell_type": "markdown",
      "source": [
        "#Loop Practice\n",
        "\n",
        "1. Create a square pattern using nested `for` loops where each row contains exactly 8 `*` characters and there are 8 rows in total.\n",
        "\n",
        "2. Generate a table using a loop where each line prints the cube of numbers from 1 to 10 in the format:\n",
        "   `1 ^ 3 = 1`\n",
        "   `2 ^ 3 = 8`\n",
        "   ...\n",
        "\n",
        "3. Loop through the list `tools = ['Git', 'VSCode', 'Jupyter', 'Colab', 'Docker']` and print each tool followed by the number of characters in its name.\n",
        "\n",
        "4. Use a `for` loop to print all the numbers between 1 and 100 that are divisible by 5.\n",
        "\n",
        "5. Using a loop, print all numbers from 1 to 50 that are not divisible by 3.\n",
        "\n",
        "6. Write a `for` loop that prints this exact pattern:\n",
        "   `A`\n",
        "   `BB`\n",
        "   `CCC`\n",
        "   `DDDD`\n",
        "   `EEEEE`\n",
        "\n",
        "7. Iterate over the string `'DataScience'` using a `for` loop and print each character followed by its position (index).\n",
        "\n",
        "\n"
      ],
      "metadata": {
        "id": "FUOdYv2cGJ7J"
      }
    },
    {
      "cell_type": "markdown",
      "source": [
        "# Python Sentiment Analysis Practice\n",
        "\n",
        "We are given a list of fictional tweets, and we want to analyze their sentiment using simple keyword matching.\n",
        "\n",
        "```python\n",
        "posts = [\n",
        "    \"I absolutely love the new album. #awesome\",\n",
        "    \"Ugh, the traffic today was so bad! #frustrated\",\n",
        "    \"Python makes data science fun and exciting!\",\n",
        "    \"Feeling a bit sad about the weather lately.\",\n",
        "    \"Just finished a great workout session!\",\n",
        "    \"The movie was boring and way too long.\",\n",
        "    \"Happy to see my family after a long time. #grateful\",\n",
        "    \"I hate when plans get canceled at the last minute.\",\n",
        "    \"Had an amazing lunch with friends today!\",\n",
        "    \"Not feeling well. Everything seems off today.\"\n",
        "]\n",
        "```\n",
        "\n",
        "We will also use the following predefined keywords:\n",
        "\n",
        "```python\n",
        "positive_keywords = ['love', 'happy', 'awesome', 'great', 'fun', 'amazing', 'grateful', 'exciting']\n",
        "negative_keywords = ['hate', 'sad', 'bad', 'boring', 'frustrated', 'angry', 'off']\n",
        "```\n",
        "\n",
        "Now, perform the following tasks:\n",
        "\n",
        "---\n",
        "\n",
        "1. Print the number of tweets in the dataset using the `len()` function.\n",
        "\n",
        "2. Print the total number of positive keywords and negative keywords.\n",
        "\n",
        "3. Check if the first tweet in `posts` contains **any word** from `positive_keywords`. If it does, set a variable `is_positive = True`.\n",
        "\n",
        "4. Loop through all tweets and count how many are **positive** (contain at least one word from `positive_keywords`).\n",
        "\n",
        "5. Calculate and display the **percentage of positive tweets** relative to the total.\n",
        "\n",
        "6. Similarly, count how many tweets are **negative** (contain at least one word from `negative_keywords`).\n",
        "\n",
        "7. Print what fraction of the tweets are classified as negative.\n",
        "\n",
        "8. Count how many tweets contain **neither positive nor negative** keywords. These are neutral.\n",
        "\n",
        "9. Count how many tweets contain **both positive and negative** keywords. Classify them as \"mixed sentiment\".\n",
        "\n",
        "10. Finally, print a sentiment summary like this:\n",
        "\n",
        "```\n",
        "Total tweets: 10  \n",
        "Positive: 4  \n",
        "Negative: 3  \n",
        "Neutral: 2  \n",
        "Mixed: 1\n",
        "```"
      ],
      "metadata": {
        "id": "Mlq1klfXHNq5"
      }
    },
    {
      "cell_type": "markdown",
      "source": [
        "#Functions\n",
        "Functions in Python are blocks of reusable code used to perform specific tasks. Instead of repeating code, we define a function once and use it wherever needed.\n",
        "\n",
        "Defining and Using a Function\n",
        "To create a function in Python, we use the def keyword followed by the function name and parentheses. A function can have parameters or not.\n",
        "###Syntax:"
      ],
      "metadata": {
        "id": "iJD5sXChHh5T"
      }
    },
    {
      "cell_type": "code",
      "source": [
        "def function_name():\n",
        "    # code block\n",
        "    # more code\n",
        "    print(\"hello\")\n"
      ],
      "metadata": {
        "id": "RfSFaKSsItj1"
      },
      "execution_count": null,
      "outputs": []
    },
    {
      "cell_type": "markdown",
      "source": [
        "###Calling a function:\n"
      ],
      "metadata": {
        "id": "E3Dk_kTRIvW0"
      }
    },
    {
      "cell_type": "code",
      "source": [
        "function_name()\n"
      ],
      "metadata": {
        "colab": {
          "base_uri": "https://localhost:8080/"
        },
        "id": "W_uE-uUOI1Ym",
        "outputId": "8dc55338-7450-46f8-8a5e-e8277a9d6ffa"
      },
      "execution_count": null,
      "outputs": [
        {
          "output_type": "stream",
          "name": "stdout",
          "text": [
            "hello\n"
          ]
        }
      ]
    },
    {
      "cell_type": "markdown",
      "source": [
        "###Function without Parameters\n",
        "You can define a function that takes no arguments."
      ],
      "metadata": {
        "id": "ttJuA6C8I9sk"
      }
    },
    {
      "cell_type": "code",
      "source": [
        "def display_message():\n",
        "    print(\"This is a custom message!\")\n",
        "\n",
        "def calculate_total():\n",
        "    item1 = 50\n",
        "    item2 = 80\n",
        "    total = item1 + item2\n",
        "    print(\"Total cost is:\", total)\n",
        "\n",
        "display_message()\n",
        "calculate_total()\n"
      ],
      "metadata": {
        "colab": {
          "base_uri": "https://localhost:8080/"
        },
        "id": "6KosvhXqJAjV",
        "outputId": "3da76d46-0ec0-4f3a-b2f7-d73700cafc63"
      },
      "execution_count": null,
      "outputs": [
        {
          "output_type": "stream",
          "name": "stdout",
          "text": [
            "This is a custom message!\n",
            "Total cost is: 130\n"
          ]
        }
      ]
    },
    {
      "cell_type": "markdown",
      "source": [
        "###Function with Return Value\n",
        "Instead of printing inside the function, we can return a value and print it outside."
      ],
      "metadata": {
        "id": "Lsm9XHA3JEBj"
      }
    },
    {
      "cell_type": "code",
      "source": [
        "def get_greeting():\n",
        "    return \"Hello, welcome to the Python workshop!\"\n",
        "\n",
        "def sum_values():\n",
        "    a = 12\n",
        "    b = 18\n",
        "    return a + b\n",
        "\n",
        "x=get_greeting()\n",
        "print(x)\n",
        "y=sum_values()\n",
        "print(y)\n"
      ],
      "metadata": {
        "colab": {
          "base_uri": "https://localhost:8080/"
        },
        "id": "IJNEOzp8JHZl",
        "outputId": "36e1cfd7-16e3-4075-99e1-62c8cc104c09"
      },
      "execution_count": null,
      "outputs": [
        {
          "output_type": "stream",
          "name": "stdout",
          "text": [
            "Hello, welcome to the Python workshop!\n",
            "30\n"
          ]
        }
      ]
    },
    {
      "cell_type": "markdown",
      "source": [
        "###Function with Single Parameter\n",
        "You can pass one value into a function."
      ],
      "metadata": {
        "id": "dRC4TormJXTX"
      }
    },
    {
      "cell_type": "code",
      "source": [
        "def square(num):\n",
        "    return num * num\n",
        "\n",
        "def greet_user(username):\n",
        "    return \"Hi {}, enjoy coding!\".format(username)\n",
        "\n",
        "print(square(6))\n",
        "print(greet_user(\"Ravi\"))\n"
      ],
      "metadata": {
        "colab": {
          "base_uri": "https://localhost:8080/"
        },
        "id": "BFV7p8i2JZaY",
        "outputId": "9321dd07-8c99-44f4-aa1c-ca3b95b92d39"
      },
      "execution_count": null,
      "outputs": [
        {
          "output_type": "stream",
          "name": "stdout",
          "text": [
            "36\n",
            "Hi Ravi, enjoy coding!\n"
          ]
        }
      ]
    },
    {
      "cell_type": "markdown",
      "source": [
        "###Function with Multiple Parameters\n",
        "You can also pass two or more values into a function."
      ],
      "metadata": {
        "id": "dSMkvfCdJfy9"
      }
    },
    {
      "cell_type": "code",
      "source": [
        "def multiply(xu, y):\n",
        "    return xu * y\n",
        "\n",
        "def build_email(first, last):\n",
        "    return first.lower() + '.' + last.lower() + \"@example.com\"\n",
        "\n",
        "print(\"Result:\", multiply(7, 5))\n",
        "print(\"Generated Email:\", build_email(\"Sai\", \"kumar\"))\n",
        "print(xu)\n"
      ],
      "metadata": {
        "colab": {
          "base_uri": "https://localhost:8080/",
          "height": 216
        },
        "id": "KwBCt99sJi8Y",
        "outputId": "5530bdf3-46fe-4920-b86d-4f9a88c2318b"
      },
      "execution_count": null,
      "outputs": [
        {
          "output_type": "stream",
          "name": "stdout",
          "text": [
            "Result: 35\n",
            "Generated Email: sai.kumar@example.com\n"
          ]
        },
        {
          "output_type": "error",
          "ename": "NameError",
          "evalue": "name 'xu' is not defined",
          "traceback": [
            "\u001b[0;31m---------------------------------------------------------------------------\u001b[0m",
            "\u001b[0;31mNameError\u001b[0m                                 Traceback (most recent call last)",
            "\u001b[0;32m/tmp/ipython-input-24443194.py\u001b[0m in \u001b[0;36m<cell line: 0>\u001b[0;34m()\u001b[0m\n\u001b[1;32m      7\u001b[0m \u001b[0mprint\u001b[0m\u001b[0;34m(\u001b[0m\u001b[0;34m\"Result:\"\u001b[0m\u001b[0;34m,\u001b[0m \u001b[0mmultiply\u001b[0m\u001b[0;34m(\u001b[0m\u001b[0;36m7\u001b[0m\u001b[0;34m,\u001b[0m \u001b[0;36m5\u001b[0m\u001b[0;34m)\u001b[0m\u001b[0;34m)\u001b[0m\u001b[0;34m\u001b[0m\u001b[0;34m\u001b[0m\u001b[0m\n\u001b[1;32m      8\u001b[0m \u001b[0mprint\u001b[0m\u001b[0;34m(\u001b[0m\u001b[0;34m\"Generated Email:\"\u001b[0m\u001b[0;34m,\u001b[0m \u001b[0mbuild_email\u001b[0m\u001b[0;34m(\u001b[0m\u001b[0;34m\"Sai\"\u001b[0m\u001b[0;34m,\u001b[0m \u001b[0;34m\"kumar\"\u001b[0m\u001b[0;34m)\u001b[0m\u001b[0;34m)\u001b[0m\u001b[0;34m\u001b[0m\u001b[0;34m\u001b[0m\u001b[0m\n\u001b[0;32m----> 9\u001b[0;31m \u001b[0mprint\u001b[0m\u001b[0;34m(\u001b[0m\u001b[0mxu\u001b[0m\u001b[0;34m)\u001b[0m\u001b[0;34m\u001b[0m\u001b[0;34m\u001b[0m\u001b[0m\n\u001b[0m",
            "\u001b[0;31mNameError\u001b[0m: name 'xu' is not defined"
          ]
        }
      ]
    },
    {
      "cell_type": "markdown",
      "source": [
        "###Returning Different Data Types\n",
        "You can return strings, numbers, booleans, lists, etc."
      ],
      "metadata": {
        "id": "8H3RB1AHJxdw"
      }
    },
    {
      "cell_type": "code",
      "source": [
        "def is_positive(n):\n",
        "    return n > 0\n",
        "\n",
        "def get_even_numbers(limit):\n",
        "    evens = []\n",
        "    for i in range(limit + 1):\n",
        "        if i % 2 == 0:\n",
        "            evens.append(i)\n",
        "    return evens\n",
        "\n",
        "print(is_positive(-3))         # False\n",
        "print(get_even_numbers(10))    # [0, 2, 4, 6, 8, 10]\n"
      ],
      "metadata": {
        "colab": {
          "base_uri": "https://localhost:8080/"
        },
        "id": "kp8yh-tqJ0cV",
        "outputId": "270dd78e-9836-465b-ab49-fcad50f5b3d0"
      },
      "execution_count": null,
      "outputs": [
        {
          "output_type": "stream",
          "name": "stdout",
          "text": [
            "False\n",
            "[0, 2, 4, 6, 8, 10]\n"
          ]
        }
      ]
    },
    {
      "cell_type": "markdown",
      "source": [
        "###Keyword Arguments\n",
        "Python allows passing arguments using key-value format, which makes the order of arguments flexible."
      ],
      "metadata": {
        "id": "GK7pkLHPLlSj"
      }
    },
    {
      "cell_type": "code",
      "source": [
        "def contact_card(name, phone):\n",
        "    return f\"Name: {name}, Phone: {phone}\"\n",
        "\n",
        "print(contact_card(phone='1234567890', name='Sana'))\n"
      ],
      "metadata": {
        "colab": {
          "base_uri": "https://localhost:8080/"
        },
        "id": "ezX7u6PYLpdZ",
        "outputId": "1fb0a5db-fce7-4dbe-f0a0-e42112ab1fc1"
      },
      "execution_count": null,
      "outputs": [
        {
          "output_type": "stream",
          "name": "stdout",
          "text": [
            "Name: Sana, Phone: 1234567890\n"
          ]
        }
      ]
    },
    {
      "cell_type": "markdown",
      "source": [
        "###Functions with Default Parameters\n",
        "We can assign default values to parameters so that if no value is passed, the default is used."
      ],
      "metadata": {
        "id": "QPpSBdAXMbmM"
      }
    },
    {
      "cell_type": "code",
      "source": [
        "def greet(name=\"Guest\"):\n",
        "    return f\"Welcome, {name}!\"\n",
        "\n",
        "print(greet(\"sai\"))         # uses default\n",
        "print(greet(\"Neha\"))   # uses provided value\n"
      ],
      "metadata": {
        "colab": {
          "base_uri": "https://localhost:8080/"
        },
        "id": "1EzHUmTOMu9Z",
        "outputId": "04dfb684-4bc1-40c7-d886-98f1cb9771ff"
      },
      "execution_count": null,
      "outputs": [
        {
          "output_type": "stream",
          "name": "stdout",
          "text": [
            "Welcome, sai!\n",
            "Welcome, Neha!\n"
          ]
        }
      ]
    },
    {
      "cell_type": "code",
      "source": [
        "def area_of_rectangle(length=5, width=3):\n",
        "    return length * width\n",
        "\n",
        "print(area_of_rectangle())         # 15\n",
        "print(area_of_rectangle(10, 4))    # 40\n"
      ],
      "metadata": {
        "colab": {
          "base_uri": "https://localhost:8080/"
        },
        "id": "GNfA2-ugM5h6",
        "outputId": "983cf59c-0053-41bb-a97c-88fa54ec4dd3"
      },
      "execution_count": null,
      "outputs": [
        {
          "output_type": "stream",
          "name": "stdout",
          "text": [
            "15\n",
            "40\n"
          ]
        }
      ]
    },
    {
      "cell_type": "markdown",
      "source": [
        "Optional Parameters and Default Values in Functions\n",
        "In Python, we can define functions that accept both required and optional arguments. Optional parameters are assigned default values and must always appear after required parameters in the function definition.\n",
        "\n",
        "Let’s understand this with a custom function to compute monthly rent after discount.\n"
      ],
      "metadata": {
        "id": "5W4qLigTOBr6"
      }
    },
    {
      "cell_type": "code",
      "source": [
        "def monthly_rent(base_rent, months, discount_rate, deposit=0):\n",
        "    net_rent = base_rent - deposit\n",
        "    monthly_payment = net_rent * (1 - discount_rate) / months\n",
        "    return monthly_payment\n"
      ],
      "metadata": {
        "id": "64z0gjIuOD8e"
      },
      "execution_count": null,
      "outputs": []
    },
    {
      "cell_type": "code",
      "source": [
        "monthly_rent(180000, 12, 0.05, 30000)\n"
      ],
      "metadata": {
        "colab": {
          "base_uri": "https://localhost:8080/"
        },
        "id": "_rYZo3lYOHs6",
        "outputId": "6a2bc89b-907a-4847-c268-266d76a6d3f3"
      },
      "execution_count": null,
      "outputs": [
        {
          "output_type": "execute_result",
          "data": {
            "text/plain": [
              "11875.0"
            ]
          },
          "metadata": {},
          "execution_count": 25
        }
      ]
    },
    {
      "cell_type": "code",
      "source": [
        "monthly_rent(180000, 12, 0.1)\n"
      ],
      "metadata": {
        "colab": {
          "base_uri": "https://localhost:8080/"
        },
        "id": "Vc0ITIMCOKOn",
        "outputId": "35e38ae4-a3f0-4f77-f5d3-3e17073357e6"
      },
      "execution_count": null,
      "outputs": [
        {
          "output_type": "execute_result",
          "data": {
            "text/plain": [
              "13500.0"
            ]
          },
          "metadata": {},
          "execution_count": 26
        }
      ]
    },
    {
      "cell_type": "markdown",
      "source": [
        "###Local Variables and Scope in Functions\n",
        "Let’s understand how variable scope works in Python by defining a function that calculates the average speed given distance and time."
      ],
      "metadata": {
        "id": "GvVtE8fRNZuh"
      }
    },
    {
      "cell_type": "code",
      "source": [
        "def average_speed(distance, time):\n",
        "    speed = distance / time\n",
        "    print(\"Average speed is\", speed, \"km/hr\")\n"
      ],
      "metadata": {
        "id": "ksKuEeQRNcFN"
      },
      "execution_count": null,
      "outputs": []
    },
    {
      "cell_type": "markdown",
      "source": [
        "In the above function, distance, time, and speed are local variables. They only exist inside the function.\n",
        "\n",
        "If you try to access them outside the function"
      ],
      "metadata": {
        "id": "Jbo2svKONeT1"
      }
    },
    {
      "cell_type": "code",
      "source": [
        "print(speed)       # ❌ NameError: name 'speed' is not defined\n",
        "print(distance)    # ❌ NameError: name 'distance' is not defined\n",
        "print(time)        # ❌ NameError: name 'time' is not defined\n"
      ],
      "metadata": {
        "colab": {
          "base_uri": "https://localhost:8080/",
          "height": 180
        },
        "id": "LBoxRdmUNe1t",
        "outputId": "ef3d154e-1fd7-43f4-f29c-ddaf8f590d18"
      },
      "execution_count": null,
      "outputs": [
        {
          "output_type": "error",
          "ename": "NameError",
          "evalue": "name 'speed' is not defined",
          "traceback": [
            "\u001b[0;31m---------------------------------------------------------------------------\u001b[0m",
            "\u001b[0;31mNameError\u001b[0m                                 Traceback (most recent call last)",
            "\u001b[0;32m/tmp/ipython-input-2097472886.py\u001b[0m in \u001b[0;36m<cell line: 0>\u001b[0;34m()\u001b[0m\n\u001b[0;32m----> 1\u001b[0;31m \u001b[0mprint\u001b[0m\u001b[0;34m(\u001b[0m\u001b[0mspeed\u001b[0m\u001b[0;34m)\u001b[0m       \u001b[0;31m# ❌ NameError: name 'speed' is not defined\u001b[0m\u001b[0;34m\u001b[0m\u001b[0;34m\u001b[0m\u001b[0m\n\u001b[0m\u001b[1;32m      2\u001b[0m \u001b[0mprint\u001b[0m\u001b[0;34m(\u001b[0m\u001b[0mdistance\u001b[0m\u001b[0;34m)\u001b[0m    \u001b[0;31m# ❌ NameError: name 'distance' is not defined\u001b[0m\u001b[0;34m\u001b[0m\u001b[0;34m\u001b[0m\u001b[0m\n\u001b[1;32m      3\u001b[0m \u001b[0mprint\u001b[0m\u001b[0;34m(\u001b[0m\u001b[0mtime\u001b[0m\u001b[0;34m)\u001b[0m        \u001b[0;31m# ❌ NameError: name 'time' is not defined\u001b[0m\u001b[0;34m\u001b[0m\u001b[0;34m\u001b[0m\u001b[0m\n",
            "\u001b[0;31mNameError\u001b[0m: name 'speed' is not defined"
          ]
        }
      ]
    },
    {
      "cell_type": "markdown",
      "source": [
        "You will get an error because these variables are not accessible outside the function they are scoped locally to the function."
      ],
      "metadata": {
        "id": "4Vlfok3uNiok"
      }
    },
    {
      "cell_type": "markdown",
      "source": [
        "Explanation\n",
        "Local Scope: Variables defined inside a function can only be used within that function.\n",
        "\n",
        "Global Scope: Variables defined outside all functions are accessible everywhere in the file."
      ],
      "metadata": {
        "id": "Ve7Z9aGsNlZY"
      }
    },
    {
      "cell_type": "code",
      "source": [
        "average_speed(300, 5)\n",
        "average_speed(180, 3)\n"
      ],
      "metadata": {
        "colab": {
          "base_uri": "https://localhost:8080/"
        },
        "id": "LWfmrUfoNtOt",
        "outputId": "2b6cca19-a2b8-4bf3-cfc5-f7e74e0f15f9"
      },
      "execution_count": null,
      "outputs": [
        {
          "output_type": "stream",
          "name": "stdout",
          "text": [
            "Average speed is 60.0 km/hr\n",
            "Average speed is 60.0 km/hr\n"
          ]
        }
      ]
    },
    {
      "cell_type": "markdown",
      "source": [
        "Each time you call the function, it calculates the result without storing anything globally."
      ],
      "metadata": {
        "id": "Gk0pgZFmNvCt"
      }
    },
    {
      "cell_type": "markdown",
      "source": [
        "\n",
        "\n",
        "# Function Practice\n",
        "\n",
        "1. Write a function called `multiply_three_numbers` that takes three arguments and returns their product.\n",
        "\n",
        "2. Define a function named `rectangle_area` that takes `length` and `width` and returns the area of the rectangle.\n",
        "\n",
        "3. Create a function `calculate_bmi` that takes a person's `weight` (in kg) and `height` (in meters) and returns their BMI value rounded to 2 decimal places.\n",
        "\n",
        "4. Write a function called `fahrenheit_to_kelvin` that converts a temperature from Fahrenheit to Kelvin using the formula: `K = ((F - 32) × 5/9) + 273.15`.\n",
        "\n",
        "5. Define a function `is_weekend` that takes a day name (string) and returns `True` if the day is Saturday or Sunday, else `False`.\n",
        "\n",
        "6. Write a function named `flatten_list` that takes a nested list like `[1, [2, 3], [4, [5]]]` and returns a flat list `[1, 2, 3, 4, 5]`. You can assume max depth = 2.\n",
        "\n",
        "7. Create a function `remove_duplicates` that takes a list and returns a new list with duplicates removed (preserve order).\n",
        "\n",
        "8. Define a function `reverse_case` that takes a string and returns a new string with all uppercase letters converted to lowercase and vice versa.\n",
        "\n",
        "9. Write a function named `extract_digits` that takes a string and returns a list of all digits (characters `'0'` to `'9'`) found in the string.\n",
        "\n",
        "10. Define a function `average_of_positives` that takes a list of numbers and returns the average of all positive values. If there are no positives, return `None`."
      ],
      "metadata": {
        "id": "zQi1qeMiOoQO"
      }
    },
    {
      "cell_type": "markdown",
      "source": [
        "\n",
        "## Modules and Library Functions in Python\n",
        "\n",
        "Python comes with a rich set of **built-in modules** that help perform tasks without writing code from scratch. These modules organize reusable functions and classes.\n",
        "\n",
        "\n",
        "###Modules in Python\n",
        "Modules are files that contain Python code such as variables, functions, and classes. They help organize code for large projects by grouping related functionality into separate files and folders. One of the main advantages of using modules is the concept of namespaces, which means a function, variable, or class inside a module must be explicitly imported before it can be used. This provides encapsulation, helping avoid naming conflicts between your own code and external code or even between multiple modules. By importing only what is needed, modules keep the code cleaner, more modular, and easier to manage in larger applications\n",
        "\n",
        "One such example is the **`math`** module, which includes mathematical functions like:\n",
        "\n",
        "* `math.ceil(x)`: Rounds a number **up** to the nearest integer\n",
        "* `math.floor(x)`: Rounds **down**\n",
        "* `math.sqrt(x)`: Returns the square root\n",
        "* `math.pow(x, y)`: Calculates $x^y$\n",
        "\n",
        "---\n",
        "\n",
        "##Rounding Up  with `math.ceil()`\n",
        "\n",
        "Suppose we’re calculating monthly EMI (Equated Monthly Installment) and we want to round it up to the next whole number.\n",
        "\n",
        "First, let's import the module and check the function:\n",
        "\n",
        "```python\n",
        "import math\n",
        "help(math.ceil)\n",
        "```\n",
        "\n",
        "Try:\n",
        "\n",
        "```python\n",
        "math.ceil(1.2)  # Output: 2\n",
        "```"
      ],
      "metadata": {
        "id": "WXQcflTLS_hO"
      }
    },
    {
      "cell_type": "code",
      "source": [
        "import math"
      ],
      "metadata": {
        "id": "bU9zo5RjT-gx"
      },
      "execution_count": null,
      "outputs": []
    },
    {
      "cell_type": "code",
      "source": [
        "def loan_emi(amount, duration, rate, down_payment=0):\n",
        "    loan_amount = amount - down_payment\n",
        "    emi = loan_amount * rate * ((1 + rate) ** duration) / (((1 + rate) ** duration) - 1)\n",
        "    emi = math.ceil(emi)\n",
        "    return emi\n"
      ],
      "metadata": {
        "id": "gF7q8ywOT5Nm"
      },
      "execution_count": null,
      "outputs": []
    },
    {
      "cell_type": "code",
      "source": [
        "emi1 = loan_emi(\n",
        "    amount=1260000,\n",
        "    duration=8*12,\n",
        "    rate=0.1/12,\n",
        "    down_payment=3e5\n",
        ")\n",
        "emi1  # Output: 14568\n"
      ],
      "metadata": {
        "colab": {
          "base_uri": "https://localhost:8080/"
        },
        "id": "RzSAeVFMT7tG",
        "outputId": "8981e0bd-4d68-4fdb-bf48-e1d8d791bad9"
      },
      "execution_count": null,
      "outputs": [
        {
          "output_type": "execute_result",
          "data": {
            "text/plain": [
              "14568"
            ]
          },
          "metadata": {},
          "execution_count": 36
        }
      ]
    },
    {
      "cell_type": "markdown",
      "source": [
        "###Exceptions and try-except in Python\n",
        "In many real-world scenarios, our functions may receive invalid inputs. For example, a user may accidentally pass a string instead of a number. Instead of crashing the program, Python allows us to handle such situations using try-except.\n",
        "\n",
        "\n",
        "###  Scenario: Converting Celsius to Fahrenheit\n",
        "\n",
        "The formula is:\n",
        "\n",
        "$$\n",
        "^\\circ\\text{F} = \\left(^\\circ\\text{C} \\times \\frac{9}{5}\\right) + 32\n",
        "$$\n"
      ],
      "metadata": {
        "id": "NxrVVGkBUrOx"
      }
    },
    {
      "cell_type": "code",
      "source": [
        "user_input=input(\"enter number\")\n",
        "try:\n",
        "  print(10/user_input)\n",
        "except ValueError:\n",
        "  print(\"Error Name\",e)\n",
        "\n",
        "print(\"very imp. code lines \")\n",
        "\n",
        "\n",
        "\n",
        "print(\"program ends here\")"
      ],
      "metadata": {
        "colab": {
          "base_uri": "https://localhost:8080/"
        },
        "id": "u2jTRE0Tr9qn",
        "outputId": "504e5ba0-5dfa-42a6-bef3-1499161fecba"
      },
      "execution_count": null,
      "outputs": [
        {
          "output_type": "stream",
          "name": "stdout",
          "text": [
            "enter number2\n",
            "Error Name unsupported operand type(s) for /: 'int' and 'str'\n",
            "very imp. code lines \n",
            "program ends here\n"
          ]
        }
      ]
    },
    {
      "cell_type": "code",
      "source": [
        "def celsius_to_fahrenheit(celsius):\n",
        "    try:\n",
        "        result = (celsius * 9/5) + 32\n",
        "        return result\n",
        "    except:\n",
        "        print(\"Invalid input! Please enter a numeric value.\")\n",
        "        return None"
      ],
      "metadata": {
        "id": "qo1G9fI9VNyG"
      },
      "execution_count": null,
      "outputs": []
    },
    {
      "cell_type": "code",
      "source": [
        "temp = celsius_to_fahrenheit(25)\n",
        "print(\"Temperature in Fahrenheit:\", temp)\n"
      ],
      "metadata": {
        "colab": {
          "base_uri": "https://localhost:8080/"
        },
        "id": "mfQdHTxxVXC6",
        "outputId": "9db48e63-9422-4e22-dd5a-9a2234470226"
      },
      "execution_count": null,
      "outputs": [
        {
          "output_type": "stream",
          "name": "stdout",
          "text": [
            "Temperature in Fahrenheit: 77.0\n"
          ]
        }
      ]
    },
    {
      "cell_type": "code",
      "source": [
        "temp = celsius_to_fahrenheit(\"cold\")\n",
        "print(\"Temperature in Fahrenheit:\", temp)\n"
      ],
      "metadata": {
        "colab": {
          "base_uri": "https://localhost:8080/"
        },
        "id": "yXXuAR0OVeQm",
        "outputId": "f989b8f4-9203-4199-c293-58b70588321a"
      },
      "execution_count": null,
      "outputs": [
        {
          "output_type": "stream",
          "name": "stdout",
          "text": [
            "Invalid input! Please enter a numeric value.\n",
            "Temperature in Fahrenheit: None\n"
          ]
        }
      ]
    },
    {
      "cell_type": "code",
      "source": [
        "try:\n",
        "  print(\"hello\")\n",
        "except Exception as e :\n",
        "  print(e)\n"
      ],
      "metadata": {
        "colab": {
          "base_uri": "https://localhost:8080/"
        },
        "id": "7RAJ0nqbZzD1",
        "outputId": "cd914a8a-65a2-41d1-d653-d63f7ceaffba"
      },
      "execution_count": null,
      "outputs": [
        {
          "output_type": "stream",
          "name": "stdout",
          "text": [
            "hello\n"
          ]
        }
      ]
    }
  ]
}