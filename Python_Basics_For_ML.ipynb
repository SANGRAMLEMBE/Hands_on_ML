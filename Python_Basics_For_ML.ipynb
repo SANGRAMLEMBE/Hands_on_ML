{
  "nbformat": 4,
  "nbformat_minor": 0,
  "metadata": {
    "colab": {
      "provenance": [],
      "include_colab_link": true
    },
    "kernelspec": {
      "name": "python3",
      "display_name": "Python 3"
    },
    "language_info": {
      "name": "python"
    }
  },
  "cells": [
    {
      "cell_type": "markdown",
      "metadata": {
        "id": "view-in-github",
        "colab_type": "text"
      },
      "source": [
        "<a href=\"https://colab.research.google.com/github/SANGRAMLEMBE/Hands_on_ML/blob/main/Python_Basics_For_ML.ipynb\" target=\"_parent\"><img src=\"https://colab.research.google.com/assets/colab-badge.svg\" alt=\"Open In Colab\"/></a>"
      ]
    },
    {
      "cell_type": "markdown",
      "source": [
        "#TAAI Machine Learning Hands on Course\n",
        "\n",
        "\n",
        "##Instructor - Manoj Kumar\n",
        "\n"
      ],
      "metadata": {
        "id": "_AFDCpQvWNIQ"
      }
    },
    {
      "cell_type": "markdown",
      "source": [
        "**The Python Interpreter**\n",
        "\n",
        "Python is an interpreted language. The Python interpreter runs a program by executing one statement at a time.\n",
        "\n",
        "**C++**:\n",
        "\n",
        "Compiled Language: C++ code is compiled into machine-executable code before execution,resulting in high performance and direct hardware interaction.\n",
        "\n",
        "Statically Typed:\n",
        "Variable types must be explicitly declared and are checked at compile-time, leading to fewer runtime type errors but requiring more verbose code."
      ],
      "metadata": {
        "id": "bA2qtGoUpM1S"
      }
    },
    {
      "cell_type": "code",
      "source": [
        "print('hello world')"
      ],
      "metadata": {
        "colab": {
          "base_uri": "https://localhost:8080/"
        },
        "id": "t63ldnjVpRrd",
        "outputId": "c0a92638-1473-48f8-9d4a-0e39b6075f31"
      },
      "execution_count": null,
      "outputs": [
        {
          "output_type": "stream",
          "name": "stdout",
          "text": [
            "hello world\n"
          ]
        }
      ]
    },
    {
      "cell_type": "code",
      "source": [
        "print(\"Hello world\",2,sep=',')"
      ],
      "metadata": {
        "colab": {
          "base_uri": "https://localhost:8080/"
        },
        "id": "3Xhve1SFF7OL",
        "outputId": "164b20b9-3cff-49cc-ab3d-d4ab9ab44ec5"
      },
      "execution_count": null,
      "outputs": [
        {
          "output_type": "stream",
          "name": "stdout",
          "text": [
            "Hello world,2\n"
          ]
        }
      ]
    },
    {
      "cell_type": "code",
      "source": [
        "help(print)"
      ],
      "metadata": {
        "colab": {
          "base_uri": "https://localhost:8080/"
        },
        "id": "eWG53QdbjTHR",
        "outputId": "12febbea-df62-4997-c56e-e6de6cf04b9e"
      },
      "execution_count": null,
      "outputs": [
        {
          "output_type": "stream",
          "name": "stdout",
          "text": [
            "Help on built-in function print in module builtins:\n",
            "\n",
            "print(*args, sep=' ', end='\\n', file=None, flush=False)\n",
            "    Prints the values to a stream, or to sys.stdout by default.\n",
            "    \n",
            "    sep\n",
            "      string inserted between values, default a space.\n",
            "    end\n",
            "      string appended after the last value, default a newline.\n",
            "    file\n",
            "      a file-like object (stream); defaults to the current sys.stdout.\n",
            "    flush\n",
            "      whether to forcibly flush the stream.\n",
            "\n"
          ]
        }
      ]
    },
    {
      "cell_type": "markdown",
      "source": [
        "Arithmetic Operations\n",
        "\n",
        "| Operator | Description         | Example   | Result |\n",
        "| -------- | ------------------- | --------- | ------ |\n",
        "| `+`      | Addition            | `7 + 8`   | `15`   |\n",
        "| `-`      | Subtraction         | `20 - 6`  | `14`   |\n",
        "| `*`      | Multiplication      | `9 * 3`   | `27`   |\n",
        "| `/`      | Division (float)    | `45 / 6`  | `7.5`  |\n",
        "| `//`     | Floor Division      | `45 // 6` | `7`    |\n",
        "| `%`      | Modulus (Remainder) | `45 % 6`  | `3`    |\n",
        "| `**`     | Exponentiation      | `3 ** 4`  | `81`   |"
      ],
      "metadata": {
        "id": "r5SeB9EKcD0b"
      }
    },
    {
      "cell_type": "code",
      "source": [
        "# Addition\n",
        "print(7 + 8)       # Output: 15\n",
        "\n",
        "# Subtraction\n",
        "print(20 - 6)      # Output: 14\n",
        "\n",
        "# Multiplication\n",
        "print(9 * 3)       # Output: 27\n",
        "\n",
        "# Division (returns float)\n",
        "print(45 / 6)      # Output: 7.5\n",
        "\n",
        "# Floor Division (removes decimal part)\n",
        "print(45 // 6)     # Output: 7\n",
        "\n",
        "# Modulus (gives remainder)\n",
        "print(45 % 6)      # Output: 3\n",
        "\n",
        "# Exponentiation (power)\n",
        "print(3 ** 4)      # Output: 81\n"
      ],
      "metadata": {
        "colab": {
          "base_uri": "https://localhost:8080/"
        },
        "id": "YMdZ5K7ecF1g",
        "outputId": "ce2579d6-8996-4d6d-e583-a10915ba9c4e"
      },
      "execution_count": null,
      "outputs": [
        {
          "output_type": "stream",
          "name": "stdout",
          "text": [
            "15\n",
            "14\n",
            "27\n",
            "7.5\n",
            "7\n",
            "3\n",
            "81\n"
          ]
        }
      ]
    },
    {
      "cell_type": "markdown",
      "source": [
        "Operator Precedence in Python\n",
        "\n",
        "Python follows standard mathematical precedence rules. Operations inside parentheses () are performed first, followed by ** (exponentiation), then *, /, //, %, and finally + and -."
      ],
      "metadata": {
        "id": "BtUyAAQ5jivx"
      }
    },
    {
      "cell_type": "code",
      "source": [
        "result = ((4 + 2) * (10 - 5)) / (2 ** 2)\n",
        "\n",
        "\n",
        "print(result)      # Output: 7.5\n"
      ],
      "metadata": {
        "colab": {
          "base_uri": "https://localhost:8080/"
        },
        "id": "bjhZuGF0kCTc",
        "outputId": "b8f223be-e8c3-4ae7-a87c-5047271cc799"
      },
      "execution_count": null,
      "outputs": [
        {
          "output_type": "stream",
          "name": "stdout",
          "text": [
            "7.5\n"
          ]
        }
      ]
    },
    {
      "cell_type": "markdown",
      "source": [
        "result= 13**2//6-7*3\n",
        "result=169//6-7*3\n",
        "result =28-21=7"
      ],
      "metadata": {
        "id": "M1FammBGHBP6"
      }
    },
    {
      "cell_type": "code",
      "source": [
        "result = (3 + 5 * 2) ** 2 // (4 + 6 % 4) - 7 * (2 ** 3 % 5)\n",
        "print(result)\n"
      ],
      "metadata": {
        "colab": {
          "base_uri": "https://localhost:8080/"
        },
        "id": "lHa7C5CJkfpv",
        "outputId": "70496546-dfa0-4f21-fda9-68eb1809b9d4"
      },
      "execution_count": null,
      "outputs": [
        {
          "output_type": "stream",
          "name": "stdout",
          "text": [
            "7\n"
          ]
        }
      ]
    },
    {
      "cell_type": "markdown",
      "source": [
        "\n",
        "\n",
        "> Add blockquote\n",
        "\n"
      ],
      "metadata": {
        "id": "qAV28fCBWkTq"
      }
    },
    {
      "cell_type": "markdown",
      "source": [
        "🍕 New Example:Tackling Multi-Step Variable Problems Using Python\n"
      ],
      "metadata": {
        "id": "p9nQ9xqhlnTH"
      }
    },
    {
      "cell_type": "markdown",
      "source": [
        "🧾 Problem Statement\n",
        "\n",
        "A pizza shop sells each pizza for 15rs The cost to make one pizza is 9rs. If they sell 350 pizzas, how much total profit do they earn?"
      ],
      "metadata": {
        "id": "_K3tVltjl3vy"
      }
    },
    {
      "cell_type": "code",
      "source": [
        "net_profit=6*350"
      ],
      "metadata": {
        "id": "6cIIOEIcH9lq"
      },
      "execution_count": null,
      "outputs": []
    },
    {
      "cell_type": "code",
      "source": [
        "# Store known data\n",
        "selling_price = 15       # Price at which one pizza is sold\n",
        "cost_price = 9           # Cost to make one pizza\n",
        "pizzas_sold = 350        # Total pizzas sold\n",
        "\n",
        "\n",
        "# Calculate profit per pizza\n",
        "profit_per_pizza =  selling_price - cost_price\n",
        "\n",
        "\n",
        "# Calculate total profit\n",
        "total_profit = profit_per_pizza * pizzas_sold\n",
        "\n",
        "\n",
        "print(\"The pizza shop makes a total profit of rs\", total_profit)\n"
      ],
      "metadata": {
        "id": "9cYsLUwGl_VZ",
        "colab": {
          "base_uri": "https://localhost:8080/"
        },
        "outputId": "4b047435-b54b-4620-b644-5044a0529c7b"
      },
      "execution_count": null,
      "outputs": [
        {
          "output_type": "stream",
          "name": "stdout",
          "text": [
            "The pizza shop makes a total profit of rs 2100\n"
          ]
        }
      ]
    },
    {
      "cell_type": "markdown",
      "source": [
        "💬 Why Use Variables?\n",
        "\n",
        "Variables help us:\n",
        "\n",
        " Avoid repeating numbers.\n",
        "\n",
        " Make the code readable and self-explanatory.\n",
        "\n",
        " Easily update values if the situation changes.\n",
        "\n"
      ],
      "metadata": {
        "id": "H6QGlpqlmqlj"
      }
    },
    {
      "cell_type": "markdown",
      "source": [
        "🧠 Extra Tip: What if a Variable Isn't Defined?\n",
        "\n",
        "Trying to access a variable before defining it will raise an error:"
      ],
      "metadata": {
        "id": "sdy1_-FDo1va"
      }
    },
    {
      "cell_type": "code",
      "source": [
        "print(profit)  # ❌ Error: net_profit is not defined\n"
      ],
      "metadata": {
        "colab": {
          "base_uri": "https://localhost:8080/",
          "height": 141
        },
        "id": "duhREuw1o6ck",
        "outputId": "ae2ad639-7ddd-4363-b720-c491f2a0e67f"
      },
      "execution_count": null,
      "outputs": [
        {
          "output_type": "error",
          "ename": "NameError",
          "evalue": "name 'profit' is not defined",
          "traceback": [
            "\u001b[0;31m---------------------------------------------------------------------------\u001b[0m",
            "\u001b[0;31mNameError\u001b[0m                                 Traceback (most recent call last)",
            "\u001b[0;32m/tmp/ipython-input-3090957069.py\u001b[0m in \u001b[0;36m<cell line: 0>\u001b[0;34m()\u001b[0m\n\u001b[0;32m----> 1\u001b[0;31m \u001b[0mprint\u001b[0m\u001b[0;34m(\u001b[0m\u001b[0mprofit\u001b[0m\u001b[0;34m)\u001b[0m  \u001b[0;31m# ❌ Error: net_profit is not defined\u001b[0m\u001b[0;34m\u001b[0m\u001b[0;34m\u001b[0m\u001b[0m\n\u001b[0m",
            "\u001b[0;31mNameError\u001b[0m: name 'profit' is not defined"
          ]
        }
      ]
    },
    {
      "cell_type": "markdown",
      "source": [
        "**Challenge #1**\n",
        "\n",
        "Modify the code for a coffee shop that sells each cup for 45 rs and spends 27.5 rs per cup. They sold 620 cups. What’s the total profit?"
      ],
      "metadata": {
        "id": "XNxZAs8qpBGb"
      }
    },
    {
      "cell_type": "code",
      "source": [
        "selling_price = 45       # Price at which one cup is sold\n",
        "cost_price =27.5         # price at which on cup is made\n",
        "total_no_cup =620\n",
        "\n",
        "#calculate profit\n",
        "total_profit = (selling_price-cost_price)*620\n",
        "print(total_profit)"
      ],
      "metadata": {
        "id": "Rzb6IIToy5PG"
      },
      "execution_count": null,
      "outputs": []
    },
    {
      "cell_type": "markdown",
      "source": [
        "Comments, blank lines, and spaces:\n",
        "\n",
        "Comments explain code but are ignored during execution.\n",
        "Blank lines and spaces improve readability and structure but have no effect on code execution."
      ],
      "metadata": {
        "id": "5ZXNofSKp0jb"
      }
    },
    {
      "cell_type": "code",
      "source": [
        "# This function adds two numbers\n",
        "def add(a, b):     # Inline comment\n",
        "    result = a + b  # Add the numbers\n",
        "\n",
        "    return result   # Return the result\n",
        "\n",
        "\n",
        "# Call the function\n",
        "sum = add(5, 3)\n",
        "\n",
        "print(sum)  # Output: 8\n"
      ],
      "metadata": {
        "id": "pDirwMjypDBA"
      },
      "execution_count": null,
      "outputs": []
    },
    {
      "cell_type": "markdown",
      "source": [
        "Types of Comments in Python\n",
        "\n",
        "1. Single-line Comments\n",
        "\n",
        "    Use the # symbol.Python ignores everything after # on that line.\n",
        "\n",
        "2. Multi-line Comments (using multiple #)\n",
        "\n",
        "    you can use several # lines\n",
        "\n",
        "3. Multi-line Strings as Comments\n",
        "\n",
        "    Using triple quotes (' ' ' or \" \" \") can create a string that’s not assigned to any variable.\n",
        "\n",
        "    Technically, it's a string, not a comment but it’s often used for multi-line notes or docstrings."
      ],
      "metadata": {
        "id": "RpfaVhBtqGmj"
      }
    },
    {
      "cell_type": "code",
      "source": [
        "# This is a single-line comment\n",
        "x = 5  # This is an inline comment\n"
      ],
      "metadata": {
        "id": "V7vTfCIFrQ37"
      },
      "execution_count": null,
      "outputs": []
    },
    {
      "cell_type": "code",
      "source": [
        "# This is a comment\n",
        "# that spans multiple\n",
        "# lines\n"
      ],
      "metadata": {
        "id": "kaL9f-t0rTx2"
      },
      "execution_count": null,
      "outputs": []
    },
    {
      "cell_type": "code",
      "source": [
        "'''\n",
        "This is not a real comment,\n",
        "but Python ignores it if it's not assigned to a variable.\n",
        "\n",
        "'''\n"
      ],
      "metadata": {
        "id": "FaDklBj3rXTJ"
      },
      "execution_count": null,
      "outputs": []
    },
    {
      "cell_type": "markdown",
      "source": [
        "#Formatting Text with Markdown in Google Colab\n",
        "\n",
        "Markdown lets you add **formatted text**, bullet lists, headers, links, images, and more inside your notebook. This helps make your work more understandable and presentable.\n",
        "\n",
        "---\n",
        "\n",
        "## Headers\n",
        "\n",
        "Use the `#` symbol at the beginning of a line (with a space) to create different levels of headers:\n",
        "\n",
        "# Header 1 (H1)\n",
        "## Header 2 (H2)\n",
        "### Header 3 (H3)\n",
        "#### Header 4 (H4)\n",
        "\n",
        "---\n",
        "\n",
        "\n",
        "### Unordered (Bullet) List:\n",
        "Use the `*` symbol at the beginning of a line (with a space) to create a Bullet point:\n",
        "* Python\n",
        "* Java\n",
        "* C++\n",
        "\n",
        "### Ordered (Numbered) List:\n",
        "we can directly add a numbers\n",
        "1. Step 1: Import data\n",
        "2. Step 2: Preprocess\n",
        "3. Step 3: Train model\n",
        "\n",
        "---\n",
        "\n",
        "## ✍️ Emphasis\n",
        "\n",
        "- **Bold text**: `**This is bold**` → **This is bold**\n",
        "- *Italic text*: `*This is italic*` → *This is italic*\n",
        "\n",
        "---\n",
        "\n",
        "## 🔗 Links\n",
        "for link we have to write [Google] in square bracket and after that add link in (link) normal brackets\n",
        "\n",
        "click here :\n",
        "[Google](https://www.google.com)\n",
        "[linked In](https://www.linkedin.com/in/sangram-lembe-56262320a/)\n",
        "[GitHub](https://github.com/SANGRAMLEMBE)\n",
        "---\n",
        "\n",
        "## 🖼️ Images\n",
        "\n",
        "Use this syntax:\n",
        "![Text](https://github.com/SANGRAMLEMBE/Hands_on_ML/blob/main/Image_URL?raw=1)\n",
        "\n",
        "Example:\n",
        "![Pandas Logo](https://pandas.pydata.org/static/img/pandas_white.svg)\n"
      ],
      "metadata": {
        "id": "7K6PPf3ZtWCR"
      }
    },
    {
      "cell_type": "markdown",
      "source": [
        "# Working with Conditions and Logic in Python\n",
        "\n",
        "Python allows us to compare values using **comparison operators** and build more advanced expressions using **logical operators**. These help control the flow of your program based on conditions.\n",
        "\n",
        "---\n",
        "\n",
        "## ⚖️ Comparison Operators\n",
        "\n",
        "| Operator | Meaning                        |\n",
        "|----------|--------------------------------|\n",
        "| `==`     | Equal to                       |\n",
        "| `!=`     | Not equal to                   |\n",
        "| `>`      | Greater than                   |\n",
        "| `<`      | Less than                      |\n",
        "| `>=`     | Greater than or equal to       |\n",
        "| `<=`     | Less than or equal to          |\n",
        "\n",
        "---\n",
        "\n",
        "## Let's Define Some Variables\n",
        "\n",
        "```python\n",
        "speed_limit = 80\n",
        "current_speed = 72\n",
        "default_speed = 60\n"
      ],
      "metadata": {
        "id": "ZZA0MdMcuf6z"
      }
    },
    {
      "cell_type": "markdown",
      "source": [
        "- Coparison operator always have values in boolen\n"
      ],
      "metadata": {
        "id": "KRy46gJj2ogg"
      }
    },
    {
      "cell_type": "markdown",
      "source": [
        "✅ Equality & Inequality Checks"
      ],
      "metadata": {
        "id": "2Mxb625zuovk"
      }
    },
    {
      "cell_type": "code",
      "source": [
        "speed_limit = 80\n",
        "current_speed = 72\n",
        "default_speed = 60\n",
        "\n",
        "\n",
        "# True\n",
        "print(current_speed == 72)\n",
        "\n",
        "# False\n",
        "print(current_speed == speed_limit)\n",
        "\n",
        "# True\n",
        "print(current_speed != default_speed)\n",
        "\n",
        "# False\n",
        "print(default_speed != 60)\n"
      ],
      "metadata": {
        "id": "C9ozwBdZt7Dg"
      },
      "execution_count": null,
      "outputs": []
    },
    {
      "cell_type": "code",
      "source": [
        "current_rate_of_apple = 80\n",
        "lowest_rate_of_apple = 70\n",
        "highest_rate_of_apple = 100\n",
        "\n",
        "\n",
        "print(current_rate_of_apple == lowest_rate_of_apple)\n",
        "print(current_rate_of_apple == highest_rate_of_apple)\n",
        "print(current_rate_of_apple != lowest_rate_of_apple)\n",
        "print(current_rate_of_apple != highest_rate_of_apple)\n"
      ],
      "metadata": {
        "id": "ybJDWDB9nBwO"
      },
      "execution_count": null,
      "outputs": []
    },
    {
      "cell_type": "markdown",
      "source": [
        "🔼 Greater / 🔽 Less Than Comparisons\n"
      ],
      "metadata": {
        "id": "RzJHaHJmu33Q"
      }
    },
    {
      "cell_type": "code",
      "source": [
        "# True\n",
        "speed_limit > default_speed\n",
        "\n",
        "# False\n",
        "default_speed > speed_limit\n",
        "\n",
        "# True\n",
        "current_speed < 100\n",
        "\n",
        "# False\n",
        "speed_limit < default_speed\n"
      ],
      "metadata": {
        "id": "674pTdIFu6-o"
      },
      "execution_count": null,
      "outputs": []
    },
    {
      "cell_type": "code",
      "source": [
        "# True\n",
        "current_speed >= 60\n",
        "\n",
        "# False\n",
        "default_speed >= 90\n",
        "\n",
        "# True\n",
        "40 + 20 <= 100\n",
        "\n",
        "# False\n",
        "speed_limit + default_speed <= 100\n"
      ],
      "metadata": {
        "id": "rWN_jxPJu_Ee"
      },
      "execution_count": null,
      "outputs": []
    },
    {
      "cell_type": "markdown",
      "source": [
        "#Storing the Result of a Condition"
      ],
      "metadata": {
        "id": "S2L3UUcMvE5T"
      }
    },
    {
      "cell_type": "code",
      "source": [
        "price_of_lapi = 110000\n",
        "is_it_high = price_of_lapi > 100000\n",
        "print(is_it_high)\n",
        "#output: True"
      ],
      "metadata": {
        "id": "uKQ_BsNzoIWh"
      },
      "execution_count": null,
      "outputs": []
    },
    {
      "cell_type": "code",
      "source": [
        "bag_weight = 7.5\n",
        "is_overweight = bag_weight > 23\n",
        "print(\"Is the bag too heavy?\", is_overweight)\n",
        "# Output: False\n"
      ],
      "metadata": {
        "id": "vKu2WHf-vFkq"
      },
      "execution_count": null,
      "outputs": []
    },
    {
      "cell_type": "markdown",
      "source": [
        "###Logical Operators: and, or, not\n",
        "\n",
        "and Operator → True if both conditions are True\n",
        "\n",
        "- In python Condition always check from Left-> Right\n",
        "# AND\n",
        "- If the 1st condition is true then it move to 2 nd condition otherwise not\n",
        "\n"
      ],
      "metadata": {
        "id": "D5HSIy09vIpB"
      }
    },
    {
      "cell_type": "code",
      "source": [
        "current_speed > 60 and current_speed <= 80   # True\n",
        "default_speed > 80 and current_speed < 60    # False\n",
        "current_speed < 90 and speed_limit > 100     # False\n",
        "\n",
        "True and False   # False\n",
        "True and True    # True\n"
      ],
      "metadata": {
        "id": "MPXOF0zBvLCV"
      },
      "execution_count": null,
      "outputs": []
    },
    {
      "cell_type": "markdown",
      "source": [
        "or Operator → True if at least one condition is True\n",
        "# OR\n",
        "- if 1st is True then not move to secound\n"
      ],
      "metadata": {
        "id": "aylOwEj7vNun"
      }
    },
    {
      "cell_type": "code",
      "source": [
        "speed_limit == 80 or default_speed > 90     # True\n",
        "default_speed != 60 or speed_limit < 40     # False\n",
        "current_speed > 100 or True                 # True\n",
        "\n",
        "False or False   # False\n"
      ],
      "metadata": {
        "id": "fBlOyYdkvOg_"
      },
      "execution_count": null,
      "outputs": []
    },
    {
      "cell_type": "markdown",
      "source": [
        "❌ not Operator → Reverses the Boolean value"
      ],
      "metadata": {
        "id": "iAriO1HjvQDL"
      }
    },
    {
      "cell_type": "code",
      "source": [
        "print(not speed_limit == 80 )  # False\n",
        "not default_speed < 40  # True\n",
        "not False               # True\n",
        "not True                # False\n"
      ],
      "metadata": {
        "id": "G19uF4ojvR-G"
      },
      "execution_count": null,
      "outputs": []
    },
    {
      "cell_type": "markdown",
      "source": [
        "Combine Conditions Using Parentheses"
      ],
      "metadata": {
        "id": "tYWN5IG_vV_C"
      }
    },
    {
      "cell_type": "code",
      "source": [
        "(3 > 1 and 5 < 10) or not (default_speed > 100 and True)  # True\n",
        "\n",
        "not (False and 1 < 2) or (True and False)                 # True\n",
        "\n",
        "# Without grouping, Python uses left-to-right evaluation\n",
        "not True and 1 < 2 or False and True                     # False"
      ],
      "metadata": {
        "id": "pLn-Zp3vwY3e"
      },
      "execution_count": null,
      "outputs": []
    },
    {
      "cell_type": "markdown",
      "source": [
        "# Python Basics: Variables and Data Types\n",
        "\n",
        "In Python, variables are like containers that store data. The type of data stored can vary, and Python automatically assigns a **data type** to the value.\n",
        "\n",
        "---\n",
        "\n",
        "## 🧬 Python Data Types Overview\n",
        "\n",
        "Python data types can be grouped as:\n",
        "\n",
        "### 🔹 Primitive Types\n",
        "- `int`: Whole numbers (e.g. 5, -2)\n",
        "- `float`: Decimal numbers (e.g. 3.14)\n",
        "- `bool`: Boolean values (`True`, `False`)\n",
        "- `str`: Text (e.g. \"hello\")\n",
        "- `NoneType`: Special type representing 'nothing'\n",
        "\n",
        "### 🔹 Container Types\n",
        "- `list`: Ordered, changeable collection (e.g. `[1, 2, 3]`)\n",
        "- `tuple`: Ordered, **unchangeable** collection (e.g. `(1, 2, 3)`)\n",
        "- `dict`: Key-value pairs (e.g. `{\"name\": \"Tom\"}`)\n",
        "\n",
        "---\n",
        "\n",
        "## Declaring and Using Variables\n",
        "\n",
        "```python\n",
        "player_score = 120\n",
        "is_online = True\n",
        "nickname = \"AceHunter\"\n"
      ],
      "metadata": {
        "id": "RdgD9fyp04p3"
      }
    },
    {
      "cell_type": "code",
      "source": [
        "player_score = 120\n",
        "is_online = True\n",
        "nickname = \"AceHunter\"\n",
        "\n",
        "print(nickname)  # Output: AceHunter"
      ],
      "metadata": {
        "id": "ulRBEwUH09vr"
      },
      "execution_count": null,
      "outputs": []
    },
    {
      "cell_type": "markdown",
      "source": [
        "Multiple Assignments\n",
        "\n",
        "Assign multiple values in one line:"
      ],
      "metadata": {
        "id": "jqwHZ6RK1WiX"
      }
    },
    {
      "cell_type": "code",
      "source": [
        "x, y, z = 5, 10, 15\n"
      ],
      "metadata": {
        "id": "afeo01Un1X_D"
      },
      "execution_count": null,
      "outputs": []
    },
    {
      "cell_type": "code",
      "source": [
        "print(x,y,z)"
      ],
      "metadata": {
        "id": "lwwFRGTZMjal"
      },
      "execution_count": null,
      "outputs": []
    },
    {
      "cell_type": "markdown",
      "source": [
        "You can also assign the same value to several variables:"
      ],
      "metadata": {
        "id": "5AbutdDp1cjr"
      }
    },
    {
      "cell_type": "code",
      "source": [
        "a = b = c = \"Python\"\n"
      ],
      "metadata": {
        "id": "faY1ax521dzP"
      },
      "execution_count": null,
      "outputs": []
    },
    {
      "cell_type": "code",
      "source": [
        "print(a,b)"
      ],
      "metadata": {
        "id": "Or84slVBsBXA"
      },
      "execution_count": null,
      "outputs": []
    },
    {
      "cell_type": "markdown",
      "source": [
        "🔁 Updating Variable Values\n",
        "\n",
        "You can change a variable’s value anytime:\n",
        "old value is lost"
      ],
      "metadata": {
        "id": "PE2IHTxS1wfR"
      }
    },
    {
      "cell_type": "code",
      "source": [
        "nickname = \"SniperPro\"\n",
        "print(nickname)  # Output: SniperPro\n"
      ],
      "metadata": {
        "id": "4jseM64K1yf9"
      },
      "execution_count": null,
      "outputs": []
    },
    {
      "cell_type": "markdown",
      "source": [
        "➕ Using Current Value to Update"
      ],
      "metadata": {
        "id": "bqfVDKcH11ov"
      }
    },
    {
      "cell_type": "code",
      "source": [
        "points = 50\n",
        "points = points + 10  # Now points is 60\n"
      ],
      "metadata": {
        "id": "pD2fOGBC1207"
      },
      "execution_count": null,
      "outputs": []
    },
    {
      "cell_type": "markdown",
      "source": [
        "Or use shorthand:"
      ],
      "metadata": {
        "id": "uRIAUPvk151I"
      }
    },
    {
      "cell_type": "code",
      "source": [
        "points += 5  # Same as points = points + 5\n"
      ],
      "metadata": {
        "id": "HGQcMKSu1464"
      },
      "execution_count": null,
      "outputs": []
    },
    {
      "cell_type": "markdown",
      "source": [
        "### Rules for Naming Variables in Python\n",
        "\n",
        "When creating variables in Python, you can use short names like `x`, `y`, or `z`, or more descriptive ones such as `total_sales`, `user_age`, or `employee_3_record`.\n",
        "\n",
        "However, Python has specific rules for how variables must be named:\n",
        "\n",
        "- Variable names must begin with a **letter (A–Z or a–z)** or an **underscore (`_`)**.  \n",
        "  ➤ They **cannot** begin with a number.\n",
        "\n",
        "- After the first character, variable names can include:\n",
        "  - Letters (uppercase or lowercase)\n",
        "  - Numbers (0–9)\n",
        "  - Underscores (`_`)\n",
        "\n",
        "\n",
        "\n",
        "✅ Valid:"
      ],
      "metadata": {
        "id": "U0wjKLqu2AEF"
      }
    },
    {
      "cell_type": "code",
      "source": [
        "user_age = 30\n",
        "_city = \"London\"\n",
        "has_passed = True\n"
      ],
      "metadata": {
        "id": "z8cNXrot2Dlz"
      },
      "execution_count": null,
      "outputs": []
    },
    {
      "cell_type": "markdown",
      "source": [
        "🚫 Invalid (causes SyntaxError):"
      ],
      "metadata": {
        "id": "uCd2hAiC2HOC"
      }
    },
    {
      "cell_type": "code",
      "source": [
        "2nd_place = \"Silver\"       # Cannot start with a digit\n",
        "user-name = \"Alex\"         # Hyphens not allowed\n",
        "total$cost = 100           # Special characters disallowed\n"
      ],
      "metadata": {
        "id": "hIeOewoA2IAj"
      },
      "execution_count": null,
      "outputs": []
    },
    {
      "cell_type": "code",
      "source": [
        "abcd=5\n",
        "print(Abcd)"
      ],
      "metadata": {
        "id": "JWIK-wRBNeS5"
      },
      "execution_count": null,
      "outputs": []
    },
    {
      "cell_type": "markdown",
      "source": [
        "🔑 Notes:\n",
        "\n",
        "Variable names are case-sensitive (Score ≠ score)\n",
        "\n",
        "Use underscores _ instead of spaces\n",
        "\n",
        "Start with a letter or underscore, not a number"
      ],
      "metadata": {
        "id": "CSgKQrvQ2L2P"
      }
    },
    {
      "cell_type": "markdown",
      "source": [
        "# Built-in Data Types in Python\n",
        "\n",
        "Every value in Python has a **data type**. You can check the type of any variable using the `type()` function.\n",
        "\n",
        "---\n",
        "\n",
        "## Examples of Common Data Types\n",
        "\n",
        "```python\n",
        "city_name = \"Paris\"\n",
        "type(city_name)     # str (string)\n",
        "\n",
        "day_is_sunday = False\n",
        "type(day_is_sunday) # bool (boolean)\n",
        "\n",
        "age = 27\n",
        "type(age)           # int (integer)\n",
        "\n",
        "temperature = 22.5\n",
        "type(temperature)   # float (decimal)\n",
        "\n",
        "primes = [2, 3, 5, 7]\n",
        "type(primes)        # list\n",
        "\n",
        "location = {\"lat\": 48.8, \"lon\": 2.3}\n",
        "type(location)      # dict\n"
      ],
      "metadata": {
        "id": "j3dpnS3InOki"
      }
    },
    {
      "cell_type": "markdown",
      "source": [
        "\n",
        "# Python Data Types\n",
        "\n",
        "## 🔸 1. Primitive Types\n",
        "- **Integer**  \n",
        "- **Float**  \n",
        "- **Boolean**  \n",
        "- **String**  \n",
        "- **NoneType**\n",
        "\n",
        "## 🔸 2. Container Types\n",
        "- **List**  \n",
        "- **Tuple**  \n",
        "- **Dictionary**\n",
        "\n",
        "\n"
      ],
      "metadata": {
        "id": "1VvKGAIrw78E"
      }
    },
    {
      "cell_type": "code",
      "source": [
        "books_sold = 150\n",
        "type(books_sold)  # int\n",
        "\n",
        "huge_value = -982347982347983478923\n",
        "type(huge_value)  # int (Python handles big integers by default)\n"
      ],
      "metadata": {
        "id": "0bfT0bBWxEvo"
      },
      "execution_count": null,
      "outputs": []
    },
    {
      "cell_type": "markdown",
      "source": [
        "Float (float)\n",
        "Floats are numbers with decimal points."
      ],
      "metadata": {
        "id": "zgj8FcXuxIpu"
      }
    },
    {
      "cell_type": "code",
      "source": [
        "price = 19.99\n",
        "type(price)  # float\n",
        "p1=20.0\n",
        "print(type(p1))\n",
        "\n",
        "g = 9.8\n",
        "weight = 70\n",
        "force = g * weight\n",
        "type(force)  # float\n"
      ],
      "metadata": {
        "id": "sPclH38RxH6y"
      },
      "execution_count": null,
      "outputs": []
    },
    {
      "cell_type": "markdown",
      "source": [
        "Floats also support scientific notation:"
      ],
      "metadata": {
        "id": "koG-wJ2sxMTv"
      }
    },
    {
      "cell_type": "code",
      "source": [
        "tiny_value = 1e-5     # 0.00001\n",
        "massive_value = 6.02e23  # Avogadro's number\n",
        "\n",
        "type(tiny_value)      # float\n",
        "type(massive_value)   # float\n"
      ],
      "metadata": {
        "id": "e0yP73p5xNw3"
      },
      "execution_count": null,
      "outputs": []
    },
    {
      "cell_type": "markdown",
      "source": [
        "🔁 Type Conversion (Casting)\n",
        "You can convert between types:"
      ],
      "metadata": {
        "id": "xD7MjeUHxVPL"
      }
    },
    {
      "cell_type": "code",
      "source": [
        "# int to float\n",
        "float(20)     # 20.0\n",
        "\n",
        "# float to int (truncates decimal)\n",
        "int(5.9)      # 5\n",
        "\n",
        "# string to int\n",
        "int(\"42\")     # 42\n",
        "\n",
        "# float to string\n",
        "str(3.14)     # '3.14'\n"
      ],
      "metadata": {
        "id": "FsNSZ49pxWfm",
        "colab": {
          "base_uri": "https://localhost:8080/",
          "height": 36
        },
        "outputId": "3ee9eced-9a23-44fa-ed70-7e1dd4e9dd1a"
      },
      "execution_count": null,
      "outputs": [
        {
          "output_type": "execute_result",
          "data": {
            "text/plain": [
              "'3.14'"
            ],
            "application/vnd.google.colaboratory.intrinsic+json": {
              "type": "string"
            }
          },
          "metadata": {},
          "execution_count": 10
        }
      ]
    },
    {
      "cell_type": "markdown",
      "source": [
        "➗ Division & Data Type Behavior"
      ],
      "metadata": {
        "id": "wxHONH7sxXdo"
      }
    },
    {
      "cell_type": "code",
      "source": [
        "# When one operand is float → result is float\n",
        "type(30 * 2.0)  # float\n",
        "\n",
        "# Integer division\n",
        "type(30 * 2)    # int\n",
        "\n",
        "# Regular division always returns float\n",
        "type(9 / 3)     # float\n",
        "\n",
        "# Floor division returns int (discards remainder)\n",
        "type(9 // 3)    # int\n"
      ],
      "metadata": {
        "id": "_DVWvpU3xddb",
        "colab": {
          "base_uri": "https://localhost:8080/"
        },
        "outputId": "57c07abf-71d3-4da7-9308-32d332ac1a3e"
      },
      "execution_count": null,
      "outputs": [
        {
          "output_type": "execute_result",
          "data": {
            "text/plain": [
              "int"
            ]
          },
          "metadata": {},
          "execution_count": 11
        }
      ]
    },
    {
      "cell_type": "markdown",
      "source": [],
      "metadata": {
        "id": "PLTIkMAoF9K_"
      }
    },
    {
      "cell_type": "markdown",
      "source": [
        "# 🔘 Boolean & NoneType in Python\n",
        "\n",
        "---\n",
        "\n",
        "## ✅ Boolean Basics (`bool`)\n",
        "\n",
        "Booleans are a data type that can hold one of two values:\n",
        "- `True`\n",
        "- `False`\n",
        "\n",
        "They are used for logical decisions, conditions, and flow control.\n",
        "\n",
        "```python\n",
        "is_weekend = True\n",
        "type(is_weekend)  # bool\n",
        "\n",
        "is_holiday = False\n",
        "\n",
        "\n"
      ],
      "metadata": {
        "id": "6Co7UPJBx652"
      }
    },
    {
      "cell_type": "markdown",
      "source": [
        "Booleans from Comparisons\n",
        "Booleans often come from comparison expressions:"
      ],
      "metadata": {
        "id": "DNgDLE7qyA0C"
      }
    },
    {
      "cell_type": "code",
      "source": [
        "temperature = 24\n",
        "is_hot = temperature > 30\n",
        "print(is_hot)  # False\n",
        "type(is_hot)   # bool\n"
      ],
      "metadata": {
        "id": "yRwPShWnyBU8",
        "colab": {
          "base_uri": "https://localhost:8080/"
        },
        "outputId": "08eaecdb-b938-49de-9f3c-b52fb8093376"
      },
      "execution_count": null,
      "outputs": [
        {
          "output_type": "stream",
          "name": "stdout",
          "text": [
            "False\n"
          ]
        },
        {
          "output_type": "execute_result",
          "data": {
            "text/plain": [
              "bool"
            ]
          },
          "metadata": {},
          "execution_count": 12
        }
      ]
    },
    {
      "cell_type": "markdown",
      "source": [
        "➕ Booleans in Arithmetic\n",
        "\n",
        "In Python:\n",
        "\n",
        "- True behaves like 1\n",
        "\n",
        "- False behaves like 0\n",
        "\n",
        "\n",
        "```python\n",
        "5 + False   # 5\n",
        "3.0 + True  # 4.0"
      ],
      "metadata": {
        "id": "t9TgOL5yyC-R"
      }
    },
    {
      "cell_type": "code",
      "source": [
        "5 + False   # 5\n",
        "3.0 + True  # 4.0\n"
      ],
      "metadata": {
        "id": "_IL_PRFeyEvd",
        "colab": {
          "base_uri": "https://localhost:8080/"
        },
        "outputId": "c8c89712-e0f3-46c1-8494-2f6667284dd1"
      },
      "execution_count": null,
      "outputs": [
        {
          "output_type": "execute_result",
          "data": {
            "text/plain": [
              "4.0"
            ]
          },
          "metadata": {},
          "execution_count": 13
        }
      ]
    },
    {
      "cell_type": "markdown",
      "source": [
        "Convert Anything to Boolean using bool()\n",
        "Python treats some values as False, others as True.\n",
        "\n",
        "🔻 Values Evaluating to False:"
      ],
      "metadata": {
        "id": "eyFrRIHByOXd"
      }
    },
    {
      "cell_type": "code",
      "source": [
        "\n",
        "bool(False)\n",
        "bool(0)\n",
        "bool(0.0)\n",
        "bool(None)\n",
        "bool(\"\")\n",
        "bool([])\n",
        "bool(())\n",
        "bool({})\n",
        "bool(set())\n",
        "bool(range(0))\n"
      ],
      "metadata": {
        "id": "aLyHu8psyQRQ",
        "colab": {
          "base_uri": "https://localhost:8080/"
        },
        "outputId": "d1ac5ffa-ee5c-4532-b8c7-953123e8c117"
      },
      "execution_count": null,
      "outputs": [
        {
          "output_type": "execute_result",
          "data": {
            "text/plain": [
              "False"
            ]
          },
          "metadata": {},
          "execution_count": 14
        }
      ]
    },
    {
      "cell_type": "markdown",
      "source": [
        "✅ Values Evaluating to True:"
      ],
      "metadata": {
        "id": "bQ2Y0F7eyS3e"
      }
    },
    {
      "cell_type": "code",
      "source": [
        "\n",
        "\n",
        "bool(True)\n",
        "bool(42)\n",
        "bool(3.14)\n",
        "bool(\"Python\")\n",
        "bool([1, 2])\n",
        "bool((3, 4))\n",
        "bool({1: \"a\"})\n",
        "bool(range(5))\n"
      ],
      "metadata": {
        "id": "iZRBcwc8yTb5",
        "colab": {
          "base_uri": "https://localhost:8080/"
        },
        "outputId": "000cee53-da46-4482-bc74-1228e7ab18b9"
      },
      "execution_count": null,
      "outputs": [
        {
          "output_type": "execute_result",
          "data": {
            "text/plain": [
              "True"
            ]
          },
          "metadata": {},
          "execution_count": 15
        }
      ]
    },
    {
      "cell_type": "markdown",
      "source": [
        "🛑 NoneType (None)\n",
        "The special value None is used to represent \"no value\" or \"nothing assigned yet\"."
      ],
      "metadata": {
        "id": "6ihPRRI9yXHv"
      }
    },
    {
      "cell_type": "code",
      "source": [
        "response = None\n",
        "type(response)  # NoneType\n"
      ],
      "metadata": {
        "id": "uvd6g3cYyXsd",
        "colab": {
          "base_uri": "https://localhost:8080/"
        },
        "outputId": "ca5d640e-e510-49b3-9b7a-58db4f1c61bf"
      },
      "execution_count": null,
      "outputs": [
        {
          "output_type": "execute_result",
          "data": {
            "text/plain": [
              "NoneType"
            ]
          },
          "metadata": {},
          "execution_count": 16
        }
      ]
    },
    {
      "cell_type": "markdown",
      "source": [
        "# Working with Strings in Python\n",
        "\n",
        "Strings are used to represent text in Python and are enclosed in either single (`'`) or double (`\"`) quotes.\n",
        "\n",
        "---\n",
        "\n",
        "##  Declaring a String\n",
        "\n",
        "```python\n",
        "day = \"Monday\"\n",
        "print(day)            # Output: Monday\n",
        "type(day)             # str\n"
      ],
      "metadata": {
        "id": "xgySk44rbQvT"
      }
    },
    {
      "cell_type": "markdown",
      "source": [
        "You can also use single quotes:"
      ],
      "metadata": {
        "id": "poGbxv8LbgV-"
      }
    },
    {
      "cell_type": "code",
      "source": [
        "quote = 'Be the change you wish to see in the world.'\n",
        "print(quote)\n",
        "type(quote)"
      ],
      "metadata": {
        "id": "Yv5uZFDacKQG",
        "colab": {
          "base_uri": "https://localhost:8080/"
        },
        "outputId": "711118ba-f19a-4ce3-d6b9-50019bebaa45"
      },
      "execution_count": null,
      "outputs": [
        {
          "output_type": "stream",
          "name": "stdout",
          "text": [
            "Be the change you wish to see in the world.\n"
          ]
        },
        {
          "output_type": "execute_result",
          "data": {
            "text/plain": [
              "str"
            ]
          },
          "metadata": {},
          "execution_count": 17
        }
      ]
    },
    {
      "cell_type": "markdown",
      "source": [
        "msg=it's a beautiful day"
      ],
      "metadata": {
        "id": "LmDbPBf3Pwta"
      }
    },
    {
      "cell_type": "code",
      "source": [
        "msg= \"it's a beautiful day\""
      ],
      "metadata": {
        "id": "d4lnJON6P0Le"
      },
      "execution_count": null,
      "outputs": []
    },
    {
      "cell_type": "code",
      "source": [
        "message = \"It's a beautiful day!\"\n",
        "joke = 'He said, \"I am Batman.\"'\n",
        "print(message,joke)"
      ],
      "metadata": {
        "colab": {
          "base_uri": "https://localhost:8080/"
        },
        "id": "tweTJC1mcNIX",
        "outputId": "18093489-d0e0-4f6b-d7b0-4c37c2ea628d"
      },
      "execution_count": null,
      "outputs": [
        {
          "output_type": "stream",
          "name": "stdout",
          "text": [
            "It's a beautiful day! He said, \"I am Batman.\"\n"
          ]
        }
      ]
    },
    {
      "cell_type": "markdown",
      "source": [
        "To use the same quote inside a string, escape it using a backslash \\:"
      ],
      "metadata": {
        "id": "yUqdPMQ5cR2b"
      }
    },
    {
      "cell_type": "code",
      "source": [
        "escaped = \"She replied, \\\"Sure, why not?\\\"\"\n",
        "print(escaped)\n"
      ],
      "metadata": {
        "colab": {
          "base_uri": "https://localhost:8080/"
        },
        "id": "R4f5cCTfcSxC",
        "outputId": "b122e4fe-0a69-48bc-dd2f-d4702a796953"
      },
      "execution_count": null,
      "outputs": [
        {
          "output_type": "stream",
          "name": "stdout",
          "text": [
            "She replied, \"Sure, why not?\"\n"
          ]
        }
      ]
    },
    {
      "cell_type": "code",
      "source": [
        "note = \"she replied, \\\"You loking cute than me \\\"\""
      ],
      "metadata": {
        "id": "_dKCSYlP1bg2"
      },
      "execution_count": null,
      "outputs": []
    },
    {
      "cell_type": "code",
      "source": [
        "print(note)"
      ],
      "metadata": {
        "colab": {
          "base_uri": "https://localhost:8080/"
        },
        "id": "8SD93lKT2THg",
        "outputId": "859e6438-4f77-4489-eeed-6f997b48426c"
      },
      "execution_count": null,
      "outputs": [
        {
          "output_type": "stream",
          "name": "stdout",
          "text": [
            "she replied, \"You loking cute than me \"\n"
          ]
        }
      ]
    },
    {
      "cell_type": "markdown",
      "source": [
        "Multiline Strings\n",
        "Use triple quotes (''' or \"\"\") for strings that span multiple lines.\n"
      ],
      "metadata": {
        "id": "o0aYDVfic1m6"
      }
    },
    {
      "cell_type": "code",
      "source": [
        "story = '''Once upon a time,\n",
        "there was a brave knight,\n",
        "who saved the realm.'''\n",
        "print(story)\n",
        "x='''a ,b\n",
        "'''"
      ],
      "metadata": {
        "colab": {
          "base_uri": "https://localhost:8080/"
        },
        "id": "Pz_TYaiWc6WN",
        "outputId": "1eca27e3-11f4-455a-ee7c-3fbf52d14b65"
      },
      "execution_count": null,
      "outputs": [
        {
          "output_type": "stream",
          "name": "stdout",
          "text": [
            "Once upon a time,\n",
            "there was a brave knight,\n",
            "who saved the realm.\n"
          ]
        }
      ]
    },
    {
      "cell_type": "markdown",
      "source": [
        "##String Length\n",
        "Use len() to count the number of characters:\n"
      ],
      "metadata": {
        "id": "-efWwNfDdNM7"
      }
    },
    {
      "cell_type": "code",
      "source": [
        "len(story)\n",
        "len(x)"
      ],
      "metadata": {
        "colab": {
          "base_uri": "https://localhost:8080/"
        },
        "id": "-wD5qZIFdPIP",
        "outputId": "79531811-c13a-4e80-ded6-95ee37b6bac4"
      },
      "execution_count": null,
      "outputs": [
        {
          "output_type": "execute_result",
          "data": {
            "text/plain": [
              "5"
            ]
          },
          "metadata": {},
          "execution_count": 24
        }
      ]
    },
    {
      "cell_type": "markdown",
      "source": [
        "##String Indexing\n",
        "Access individual characters by index:"
      ],
      "metadata": {
        "id": "o_5u81AQeyIm"
      }
    },
    {
      "cell_type": "code",
      "source": [
        "language = \"Python\"\n",
        "print(language[0])     # 'P'\n",
        "print(language[2])   # 't'\n",
        "print(language[-3])   # 'h' (last character)\n"
      ],
      "metadata": {
        "colab": {
          "base_uri": "https://localhost:8080/"
        },
        "id": "yIFUhMWoe2Ve",
        "outputId": "fd5a7d56-1883-4930-ed3b-44f0f4d98962"
      },
      "execution_count": null,
      "outputs": [
        {
          "output_type": "stream",
          "name": "stdout",
          "text": [
            "P\n",
            "t\n",
            "h\n"
          ]
        }
      ]
    },
    {
      "cell_type": "code",
      "source": [
        "name = \"sangram\"\n",
        "print(name[0])   #s\n",
        "print(name[-2])   #a\n",
        "print(name[4])   #r"
      ],
      "metadata": {
        "colab": {
          "base_uri": "https://localhost:8080/"
        },
        "id": "dVGkT0Xq3aEX",
        "outputId": "09d3c853-8660-4f19-b27c-962d678b8cdd"
      },
      "execution_count": null,
      "outputs": [
        {
          "output_type": "stream",
          "name": "stdout",
          "text": [
            "s\n",
            "a\n",
            "r\n"
          ]
        }
      ]
    },
    {
      "cell_type": "markdown",
      "source": [
        "##String Slicing\n",
        "Extract a part of a string:"
      ],
      "metadata": {
        "id": "u0U4lOoye5ga"
      }
    },
    {
      "cell_type": "code",
      "source": [
        "language[1:4]   # 'yth'\n",
        "language[:3]    # 'Pyt'\n",
        "language[3:]    # 'hon'\n"
      ],
      "metadata": {
        "colab": {
          "base_uri": "https://localhost:8080/",
          "height": 36
        },
        "id": "2mSXYm4Oe7i5",
        "outputId": "1e11bf9c-b4a0-4f07-a681-f727703d4690"
      },
      "execution_count": null,
      "outputs": [
        {
          "output_type": "execute_result",
          "data": {
            "text/plain": [
              "'hon'"
            ],
            "application/vnd.google.colaboratory.intrinsic+json": {
              "type": "string"
            }
          },
          "metadata": {},
          "execution_count": 27
        }
      ]
    },
    {
      "cell_type": "code",
      "source": [
        "name[:5]\n",
        "name[0:3]"
      ],
      "metadata": {
        "colab": {
          "base_uri": "https://localhost:8080/",
          "height": 36
        },
        "id": "TzL3aJ4D31-n",
        "outputId": "99c93ba9-b294-41ae-9c7d-869d01ef00e7"
      },
      "execution_count": null,
      "outputs": [
        {
          "output_type": "execute_result",
          "data": {
            "text/plain": [
              "'san'"
            ],
            "application/vnd.google.colaboratory.intrinsic+json": {
              "type": "string"
            }
          },
          "metadata": {},
          "execution_count": 28
        }
      ]
    },
    {
      "cell_type": "markdown",
      "source": [
        "##Search in String\n",
        "\n"
      ],
      "metadata": {
        "id": "gFYxZuOGfGeo"
      }
    },
    {
      "cell_type": "code",
      "source": [
        "print(\"thon\" in language)     # True\n",
        "print(\"Java\" in language)     # False\n"
      ],
      "metadata": {
        "id": "1Frw7_AGfIAK",
        "colab": {
          "base_uri": "https://localhost:8080/"
        },
        "outputId": "a9be737c-626b-4d49-884a-90b9ffde635a"
      },
      "execution_count": null,
      "outputs": [
        {
          "output_type": "stream",
          "name": "stdout",
          "text": [
            "True\n",
            "False\n"
          ]
        }
      ]
    },
    {
      "cell_type": "markdown",
      "source": [
        "##String Concatenation\n",
        "Join strings using +:"
      ],
      "metadata": {
        "id": "_JwNBCsvfSd5"
      }
    },
    {
      "cell_type": "code",
      "source": [
        "first = \"Good\"\n",
        "second = \"Morning\"\n",
        "print(first+second)\n",
        "greeting = first + \" \" + second\n",
        "print(greeting)"
      ],
      "metadata": {
        "colab": {
          "base_uri": "https://localhost:8080/"
        },
        "id": "Im31WhXqfWPS",
        "outputId": "28eaad72-db25-4960-db9f-f1aa269cde15"
      },
      "execution_count": null,
      "outputs": [
        {
          "output_type": "stream",
          "name": "stdout",
          "text": [
            "GoodMorning\n",
            "Good Morning\n"
          ]
        }
      ]
    },
    {
      "cell_type": "markdown",
      "source": [
        "#String Methods\n",
        "Some useful built-in methods:"
      ],
      "metadata": {
        "id": "4Fcb3tDLfg-B"
      }
    },
    {
      "cell_type": "code",
      "source": [
        "text = \"  Hello Python  \"\n",
        "\n",
        "text1=text.lower()     # '  hello python  '\n",
        "print(text.upper())        # '  HELLO PYTHON  '\n",
        "print(text.strip())      # 'Hello Python'\n",
        "print(text.replace(\"Python\", \"World\"))  # '  Hello World  '\n",
        "print(len(text.strip()))      # 'Hello Python'"
      ],
      "metadata": {
        "colab": {
          "base_uri": "https://localhost:8080/"
        },
        "id": "ULZ64e8kflT-",
        "outputId": "b5859b77-2ec0-4115-c428-1e04844772e6"
      },
      "execution_count": null,
      "outputs": [
        {
          "output_type": "stream",
          "name": "stdout",
          "text": [
            "  HELLO PYTHON  \n",
            "Hello Python\n",
            "  Hello World  \n",
            "12\n"
          ]
        }
      ]
    },
    {
      "cell_type": "code",
      "source": [
        "print(text1)"
      ],
      "metadata": {
        "id": "kzXi-Qy6S-Zp",
        "colab": {
          "base_uri": "https://localhost:8080/"
        },
        "outputId": "e33e5f55-a139-423a-b26c-70dee36cc1f4"
      },
      "execution_count": null,
      "outputs": [
        {
          "output_type": "stream",
          "name": "stdout",
          "text": [
            "  hello python  \n"
          ]
        }
      ]
    },
    {
      "cell_type": "markdown",
      "source": [
        "- We can't modify existing String\n",
        "- what ever the operation is happening there is no effect on existing string"
      ],
      "metadata": {
        "id": "HRaJaG6z6EQM"
      }
    },
    {
      "cell_type": "code",
      "source": [
        "print(text)\n",
        "print(text1)"
      ],
      "metadata": {
        "colab": {
          "base_uri": "https://localhost:8080/"
        },
        "id": "yBSqXIn3iDpy",
        "outputId": "fa08fd94-de8d-4cf5-ea8e-f066419bd7c7"
      },
      "execution_count": null,
      "outputs": [
        {
          "output_type": "stream",
          "name": "stdout",
          "text": [
            "  Hello Python  \n",
            "  hello python  \n"
          ]
        }
      ]
    },
    {
      "cell_type": "markdown",
      "source": [
        "##More String Tools"
      ],
      "metadata": {
        "id": "_IEMqiI4fpM-"
      }
    },
    {
      "cell_type": "code",
      "source": [
        "\"python\".capitalize()       # 'Python'\n",
        "\"sun,moon,stars\".split(\",\") # ['sun', 'moon', 'stars']\n"
      ],
      "metadata": {
        "colab": {
          "base_uri": "https://localhost:8080/"
        },
        "id": "ybTanuDUfqA-",
        "outputId": "7b2118bd-f749-4d45-b5b7-95e3934c1bd2"
      },
      "execution_count": null,
      "outputs": [
        {
          "output_type": "execute_result",
          "data": {
            "text/plain": [
              "['sun', 'moon', 'stars']"
            ]
          },
          "metadata": {},
          "execution_count": 34
        }
      ]
    },
    {
      "cell_type": "code",
      "source": [
        "\"sangram, jeevan, divyanshu, himanshu\".split(\",\")"
      ],
      "metadata": {
        "colab": {
          "base_uri": "https://localhost:8080/"
        },
        "id": "P5_dZ2HU61Tw",
        "outputId": "2d28cfee-322d-4b55-a8e3-3b49f29628d2"
      },
      "execution_count": null,
      "outputs": [
        {
          "output_type": "execute_result",
          "data": {
            "text/plain": [
              "['sangram', ' jeevan', ' divyanshu', ' himanshu']"
            ]
          },
          "metadata": {},
          "execution_count": 35
        }
      ]
    },
    {
      "cell_type": "markdown",
      "source": [
        "##Convert to List of Characters"
      ],
      "metadata": {
        "id": "Rl1i7y-Tfti7"
      }
    },
    {
      "cell_type": "code",
      "source": [
        "list(\"Hi!\")   # ['H', 'i', '!']\n"
      ],
      "metadata": {
        "colab": {
          "base_uri": "https://localhost:8080/"
        },
        "id": "UlCEMg42f3QQ",
        "outputId": "bad045a3-243d-4c92-cc3b-2b63450dce39"
      },
      "execution_count": null,
      "outputs": [
        {
          "output_type": "execute_result",
          "data": {
            "text/plain": [
              "['H', 'i', '!']"
            ]
          },
          "metadata": {},
          "execution_count": 36
        }
      ]
    },
    {
      "cell_type": "markdown",
      "source": [
        "##Using .format()"
      ],
      "metadata": {
        "id": "uRwJDIQFf8YN"
      }
    },
    {
      "cell_type": "code",
      "source": [
        "item = \"pen\"\n",
        "cost = 2.5\n",
        "msg = \"The price of a {} is ${}.\".format(item, cost)\n",
        "print(msg)\n"
      ],
      "metadata": {
        "colab": {
          "base_uri": "https://localhost:8080/"
        },
        "id": "D9FgOHV2gEli",
        "outputId": "34d2c1fe-e884-41ea-8587-547884cb08a3"
      },
      "execution_count": null,
      "outputs": [
        {
          "output_type": "stream",
          "name": "stdout",
          "text": [
            "The price of a pen is $2.5.\n"
          ]
        }
      ]
    },
    {
      "cell_type": "code",
      "source": [
        "name = \"sangram\"\n",
        "age = 22\n",
        "msg = \"my age is {} is {}\".format(name,age)\n",
        "print(msg)"
      ],
      "metadata": {
        "colab": {
          "base_uri": "https://localhost:8080/"
        },
        "id": "ZsNfERJN7VhB",
        "outputId": "1ac93d72-41b4-442d-a799-ff7fa734047d"
      },
      "execution_count": null,
      "outputs": [
        {
          "output_type": "stream",
          "name": "stdout",
          "text": [
            "my age is sangram is 22\n"
          ]
        }
      ]
    },
    {
      "cell_type": "markdown",
      "source": [
        "##Convert to String\n"
      ],
      "metadata": {
        "id": "3y_oeLeEgJ-N"
      }
    },
    {
      "cell_type": "code",
      "source": [
        "print(type(str(42) ) )         # '42'\n",
        "print(type(42))\n",
        "str(3.14)         # '3.14'\n",
        "str([1, 2, 3])    # '[1, 2, 3]'\n"
      ],
      "metadata": {
        "colab": {
          "base_uri": "https://localhost:8080/",
          "height": 70
        },
        "id": "rJCTwUgigQhB",
        "outputId": "7bf39911-47a4-4360-f812-b2b8886cdec2"
      },
      "execution_count": null,
      "outputs": [
        {
          "output_type": "stream",
          "name": "stdout",
          "text": [
            "<class 'str'>\n",
            "<class 'int'>\n"
          ]
        },
        {
          "output_type": "execute_result",
          "data": {
            "text/plain": [
              "'[1, 2, 3]'"
            ],
            "application/vnd.google.colaboratory.intrinsic+json": {
              "type": "string"
            }
          },
          "metadata": {},
          "execution_count": 39
        }
      ]
    },
    {
      "cell_type": "markdown",
      "source": [
        "#String Practice –\n",
        "1. Combine the strings `'Learn'`, `'Python'`, `'With'`, and `'Projects'` into a single sentence with spaces in between.\n",
        "\n",
        "2. Assign the value `'ML Course'` to a variable and demonstrate how to display the text in uppercase, lowercase, and in title case using string methods.\n",
        "\n",
        "3. Determine the character located at position 7 in the string `'Machine Learning'`, and also print the last character by using its index.\n",
        "\n",
        "4. Replace the term `'Data'` with `'AI'` in the string `'Data Analysis Tools'` and print the updated sentence.\n",
        "\n",
        "5. Extract the first word from `'Deep Learning Model'` using slicing, and check if the word `'Learning'` exists within the same string.\n",
        "\n",
        "6. Generate an acronym using the phrase `'Natural Language Processing'`, such that it returns something like `'NLP'`.\n",
        "\n",
        "7. Given the sentence `'This is important because because because it explains the rule'`, find where the word `'because'` appears first and last using the appropriate search methods.\n",
        "\n",
        "8. Test whether the following names are valid Python identifiers: `'firstName'` and `'123variable'`. Use the correct method to verify and display the result.\n",
        "\n",
        "9. Calculate the area of a rectangle with a width of 12 and height of 20, and display the result using formatted text like:\n",
        "   `The area of a rectangle with width 12 and height 20 is 240 square units.`\n",
        "\n",
        "10. Display results of multiple arithmetic operations between 15 and 4 using string formatting. Include:\n",
        "    addition, subtraction, multiplication, division, modulus, floor division, and exponentiation. Present each result on a separate line clearly.\n",
        "\n"
      ],
      "metadata": {
        "id": "4z_N5I0npcpl"
      }
    },
    {
      "cell_type": "code",
      "source": [
        "#1) Combine the strings 'Learn', 'Python', 'With', and 'Projects' into a single sentence with spaces in between.\n",
        "word = ('Learn','python','with','projects')\n",
        "sentence = word[0]+\" \"+word[1]+\" \"+word[2]+\" \"+word[3]\n",
        "print(sentence)"
      ],
      "metadata": {
        "colab": {
          "base_uri": "https://localhost:8080/"
        },
        "id": "pdWIQ5XwTkYa",
        "outputId": "3994fab4-bec1-4c8f-cd38-7d9fe25420a7"
      },
      "execution_count": null,
      "outputs": [
        {
          "output_type": "stream",
          "name": "stdout",
          "text": [
            "Learn python with projects\n"
          ]
        }
      ]
    },
    {
      "cell_type": "code",
      "source": [
        "#2) Assign the value 'ML Course' to a variable and demonstrate how to display the text in uppercase, lowercase, and in title case using string methods.\n",
        "\n",
        "course = \"ML course\"\n",
        "print(course.lower())\n",
        "print(course.upper())\n",
        "print(course.title())\n"
      ],
      "metadata": {
        "colab": {
          "base_uri": "https://localhost:8080/"
        },
        "id": "Oy51ZU0ZV2ub",
        "outputId": "f2ffbbf5-1b5c-46e1-8beb-4f3c422ed14a"
      },
      "execution_count": null,
      "outputs": [
        {
          "output_type": "stream",
          "name": "stdout",
          "text": [
            "ml course\n",
            "ML COURSE\n",
            "Ml Course\n"
          ]
        }
      ]
    },
    {
      "cell_type": "code",
      "source": [
        "#3) Determine the character located at position 7 in the string 'Machine Learning', and also print the last character by using its index\n",
        "\n",
        "#M1\n",
        "course = 'Machine Learning'\n",
        "print(course[2])\n",
        "print(course[-1])\n",
        "\n",
        "#M2\n",
        "print(course[7] and course[-1])"
      ],
      "metadata": {
        "colab": {
          "base_uri": "https://localhost:8080/"
        },
        "id": "h8qeJVVMWcTt",
        "outputId": "d5836745-f113-4ea8-8d16-a322a91aaf33"
      },
      "execution_count": null,
      "outputs": [
        {
          "output_type": "stream",
          "name": "stdout",
          "text": [
            "c\n",
            "g\n",
            "g\n"
          ]
        }
      ]
    },
    {
      "cell_type": "code",
      "source": [
        "#4) Replace the term 'Data' with 'AI' in the string 'Data Analysis Tools' and print the updated sentence.\n",
        "subj = 'data analysis tools'\n",
        "print(\"previous sentance : \",subj)\n",
        "print(\"New sentance : \",subj.replace('data','AI'))"
      ],
      "metadata": {
        "colab": {
          "base_uri": "https://localhost:8080/"
        },
        "id": "4jzuH4f-Zer1",
        "outputId": "e6a6cc95-ff54-4b7f-ae85-7d05b65db682"
      },
      "execution_count": null,
      "outputs": [
        {
          "output_type": "stream",
          "name": "stdout",
          "text": [
            "previous sentance :  data analysis tools\n",
            "New sentance :  AI analysis tools\n"
          ]
        }
      ]
    },
    {
      "cell_type": "code",
      "source": [
        "# 5) Extract the first word from 'Deep Learning Model' using slicing, and check if the word 'Learning' exists within the same string.  **\n",
        "sentance = \"Deep Learning Method\"\n",
        "print(sentance[:4])\n",
        "print(\"Learning\" in sentance)\n",
        "print(\"java\" in sentance)"
      ],
      "metadata": {
        "colab": {
          "base_uri": "https://localhost:8080/"
        },
        "id": "MtRMjJlOagZ8",
        "outputId": "22351957-d870-4695-ab2e-6980c1ae094d"
      },
      "execution_count": null,
      "outputs": [
        {
          "output_type": "stream",
          "name": "stdout",
          "text": [
            "Deep\n",
            "True\n",
            "False\n"
          ]
        }
      ]
    },
    {
      "cell_type": "code",
      "source": [
        "# 6) Generate an acronym using the phrase 'Natural Language Processing', such that it returns something like 'NLP'.\n",
        "#M1\n",
        "phrase = 'Natural Language Processing'\n",
        "print(phrase[0]+phrase[8]+phrase[17])\n",
        "\n",
        "# M2\n",
        "print(phrase[0:1]+phrase[8:9]+phrase[17:18])\n",
        "\n",
        "#M3\n",
        "print(phrase.split())\n",
        "\n",
        "l = phrase.split()\n",
        "print(l[0][0]+l[1][0]+l[2][0])\n",
        "\n"
      ],
      "metadata": {
        "colab": {
          "base_uri": "https://localhost:8080/"
        },
        "id": "Y89ARVYcdFqN",
        "outputId": "8ad3cf58-c57d-469f-9edc-9ec57892e9ea"
      },
      "execution_count": null,
      "outputs": [
        {
          "output_type": "stream",
          "name": "stdout",
          "text": [
            "NLP\n",
            "NLP\n",
            "['Natural', 'Language', 'Processing']\n",
            "NLP\n"
          ]
        }
      ]
    },
    {
      "cell_type": "markdown",
      "source": [
        "- **rfind()** searches for the last occurrence of a specified substring within a string.\n",
        "\n",
        "\n",
        "*   It returns the highest index in the string where the substring is found.\n",
        "*   If the substring is not found, it returns -1.\n",
        "\n",
        "\n",
        "\n",
        "\n"
      ],
      "metadata": {
        "id": "f1lui_PXgsGE"
      }
    },
    {
      "cell_type": "code",
      "source": [
        "#7] Given the sentence 'This is important because because because it explains the rule', find where the word 'because' appears first and last using the appropriate search methods.\n",
        "\n",
        "sentence = 'This is important because because because it explains the rule'\n",
        "print(sentence.find('because'))            # It will find where the word 'beacause' from first\n",
        "print(sentence.rfind('because'))           # #It will find where the word 'beacause' from last\n",
        "print(sentence.index('because'))           # #It will show the index number where the word 'beacause'stated\n",
        "print(sentence.rindex('because'))          # #It will show the index number where the word 'beacause' is placed from last\n",
        "print(sentence.count('because'))           #It will count how many time the word 'beacause' repeat"
      ],
      "metadata": {
        "colab": {
          "base_uri": "https://localhost:8080/"
        },
        "id": "veC5BlENftQG",
        "outputId": "306eae9d-1f72-4eed-af2b-39736a85556b"
      },
      "execution_count": null,
      "outputs": [
        {
          "output_type": "stream",
          "name": "stdout",
          "text": [
            "18\n",
            "34\n",
            "18\n",
            "34\n",
            "3\n"
          ]
        }
      ]
    },
    {
      "cell_type": "markdown",
      "source": [
        "8] Test whether the following names are valid Python identifiers: 'firstName' and '123variable'. Use the correct method to verify and display the result.  **"
      ],
      "metadata": {
        "id": "yltdbDL2j2f9"
      }
    },
    {
      "cell_type": "code",
      "source": [
        "\n",
        "print('firstName'.isidentifier())\n",
        "print('123variable'.isidentifier())"
      ],
      "metadata": {
        "colab": {
          "base_uri": "https://localhost:8080/"
        },
        "id": "8tpklRUeiOHj",
        "outputId": "93ccda13-8635-44df-cd54-c513cebafda6"
      },
      "execution_count": null,
      "outputs": [
        {
          "output_type": "stream",
          "name": "stdout",
          "text": [
            "True\n",
            "False\n"
          ]
        }
      ]
    },
    {
      "cell_type": "markdown",
      "source": [
        "9] Calculate the area of a rectangle with a width of 12 and height of 20, and display the result using formatted text like: The area of a rectangle with width 12 and height 20 is 240 square units.\n"
      ],
      "metadata": {
        "id": "h-k1XCF8jtp_"
      }
    },
    {
      "cell_type": "code",
      "source": [
        "width = 12\n",
        "height = 20\n",
        "area = width * height\n",
        "\"The area of a rectangle with width {} and height {} is {} square units.\".format(width,height,area)"
      ],
      "metadata": {
        "colab": {
          "base_uri": "https://localhost:8080/",
          "height": 36
        },
        "id": "L_VlM9G3iz8z",
        "outputId": "622dfce0-18c6-4e7b-8a87-6310561248f7"
      },
      "execution_count": null,
      "outputs": [
        {
          "output_type": "execute_result",
          "data": {
            "text/plain": [
              "'The area of a rectangle with width 12 and height 20 is 240 square units.'"
            ],
            "application/vnd.google.colaboratory.intrinsic+json": {
              "type": "string"
            }
          },
          "metadata": {},
          "execution_count": 48
        }
      ]
    },
    {
      "cell_type": "markdown",
      "source": [
        "### 10) Display results of multiple arithmetic operations between 15 and 4 using string formatting. Include: addition, subtraction, multiplication, division, modulus, floor division, and exponentiation. Present each result on a separate line clearly."
      ],
      "metadata": {
        "id": "ktjHiQoDlLeJ"
      }
    },
    {
      "cell_type": "code",
      "source": [
        "\n",
        "a = 15\n",
        "b = 4\n",
        "add = a+b\n",
        "sub = a-b\n",
        "mul = a*b\n",
        "div = a/b\n",
        "fdiv = a//b\n",
        "mod = a%b\n",
        "expo = a**b\n",
        "print('''addition of {a} and {b} is {add}\\n subtraction of {a} and {b} is {sub}\\n\n",
        "multiplication of {a} and {b} is {mul}\\n division of {a} and {b} is {div}\\nfloor division of {a} and {b} is {fdiv}\\n\n",
        " mode of {a} and {b} is {mod}\\nexponential of {a} and {b} is {expo}''')"
      ],
      "metadata": {
        "colab": {
          "base_uri": "https://localhost:8080/"
        },
        "id": "m9UJiCSvlKLM",
        "outputId": "fd7f9b4d-1f8f-4c65-8c62-b349d70d42b2"
      },
      "execution_count": null,
      "outputs": [
        {
          "output_type": "stream",
          "name": "stdout",
          "text": [
            "addition of {a} and {b} is {add}\n",
            " subtraction of {a} and {b} is {sub}\n",
            "\n",
            "multiplication of {a} and {b} is {mul}\n",
            " division of {a} and {b} is {div}\n",
            "floor division of {a} and {b} is {fdiv}\n",
            "\n",
            " mode of {a} and {b} is {mod}\n",
            "exponential of {a} and {b} is {expo}\n"
          ]
        }
      ]
    },
    {
      "cell_type": "markdown",
      "source": [
        "#  Lists in Python\n",
        "\n",
        "A **list** is an ordered, mutable collection in Python. It can store items of any data type, even a mix of types. Lists are defined using square brackets `[]`.\n",
        "\n",
        "---\n",
        "\n",
        "## 🔹 Creating Lists\n"
      ],
      "metadata": {
        "id": "Q8tAJsPzrzkL"
      }
    },
    {
      "cell_type": "code",
      "source": [
        "fruits = [\"apple\", \"banana\", \"cherry\"]"
      ],
      "metadata": {
        "id": "b8rkf9tyspCh"
      },
      "execution_count": null,
      "outputs": []
    },
    {
      "cell_type": "code",
      "source": [
        "fruits[0]"
      ],
      "metadata": {
        "colab": {
          "base_uri": "https://localhost:8080/",
          "height": 36
        },
        "id": "cwQUg0IzZeVb",
        "outputId": "9013fc10-0659-46e7-a5af-e6e9d2344220"
      },
      "execution_count": null,
      "outputs": [
        {
          "output_type": "execute_result",
          "data": {
            "text/plain": [
              "'apple'"
            ],
            "application/vnd.google.colaboratory.intrinsic+json": {
              "type": "string"
            }
          },
          "metadata": {},
          "execution_count": 51
        }
      ]
    },
    {
      "cell_type": "code",
      "source": [
        "s=\"abcd\"\n",
        "s[0]='A'"
      ],
      "metadata": {
        "colab": {
          "base_uri": "https://localhost:8080/",
          "height": 158
        },
        "id": "99HTB0o9Zmzy",
        "outputId": "ec61f523-6764-418a-f564-ab1ca4544301"
      },
      "execution_count": null,
      "outputs": [
        {
          "output_type": "error",
          "ename": "TypeError",
          "evalue": "'str' object does not support item assignment",
          "traceback": [
            "\u001b[0;31m---------------------------------------------------------------------------\u001b[0m",
            "\u001b[0;31mTypeError\u001b[0m                                 Traceback (most recent call last)",
            "\u001b[0;32m/tmp/ipython-input-285448273.py\u001b[0m in \u001b[0;36m<cell line: 0>\u001b[0;34m()\u001b[0m\n\u001b[1;32m      1\u001b[0m \u001b[0ms\u001b[0m\u001b[0;34m=\u001b[0m\u001b[0;34m\"abcd\"\u001b[0m\u001b[0;34m\u001b[0m\u001b[0;34m\u001b[0m\u001b[0m\n\u001b[0;32m----> 2\u001b[0;31m \u001b[0ms\u001b[0m\u001b[0;34m[\u001b[0m\u001b[0;36m0\u001b[0m\u001b[0;34m]\u001b[0m\u001b[0;34m=\u001b[0m\u001b[0;34m'A'\u001b[0m\u001b[0;34m\u001b[0m\u001b[0;34m\u001b[0m\u001b[0m\n\u001b[0m",
            "\u001b[0;31mTypeError\u001b[0m: 'str' object does not support item assignment"
          ]
        }
      ]
    },
    {
      "cell_type": "code",
      "source": [
        "fruits[0]='orange'"
      ],
      "metadata": {
        "id": "HUt1uCBFhcrP"
      },
      "execution_count": null,
      "outputs": []
    },
    {
      "cell_type": "code",
      "source": [
        "\n",
        "print(fruits)"
      ],
      "metadata": {
        "id": "zJ2i7VnAhiUu"
      },
      "execution_count": null,
      "outputs": []
    },
    {
      "cell_type": "markdown",
      "source": [
        "You can also store mixed types:"
      ],
      "metadata": {
        "id": "NkOcQ_jVshDw"
      }
    },
    {
      "cell_type": "code",
      "source": [
        "mixed = [42, \"hello\", None, 3.14, fruits, 5 > 2]\n",
        "print(mixed)\n"
      ],
      "metadata": {
        "id": "m0XGaxZwshp_"
      },
      "execution_count": null,
      "outputs": []
    },
    {
      "cell_type": "markdown",
      "source": [
        "##Length of a List\n",
        "Use the len() function:"
      ],
      "metadata": {
        "id": "Y1A8tEG5sxWJ"
      }
    },
    {
      "cell_type": "code",
      "source": [
        "len(fruits)      # 3\n",
        "len(mixed)       # 6\n"
      ],
      "metadata": {
        "id": "IKfL5tr4s0x7"
      },
      "execution_count": null,
      "outputs": []
    },
    {
      "cell_type": "markdown",
      "source": [
        "##Accessing List Elements\n",
        "Lists are zero-indexed. Use list[index]:"
      ],
      "metadata": {
        "id": "jBJMtiVUs6T8"
      }
    },
    {
      "cell_type": "code",
      "source": [
        "fruits[0]   # \"apple\"\n",
        "fruits[2]   # \"cherry\"\n"
      ],
      "metadata": {
        "id": "qgax2fsws9Oy"
      },
      "execution_count": null,
      "outputs": []
    },
    {
      "cell_type": "markdown",
      "source": [
        "###Negative indices count from the end:"
      ],
      "metadata": {
        "id": "-RePBCvutE6n"
      }
    },
    {
      "cell_type": "code",
      "source": [
        "fruits[-1]  # \"cherry\"\n",
        "fruits[-2]  # \"banana\"\n"
      ],
      "metadata": {
        "id": "5UrEGXQitHJw"
      },
      "execution_count": null,
      "outputs": []
    },
    {
      "cell_type": "markdown",
      "source": [
        "###Accessing an invalid index raises IndexError:"
      ],
      "metadata": {
        "id": "j8kqVLuPtUfH"
      }
    },
    {
      "cell_type": "code",
      "source": [
        "fruits[3]   # ❌ IndexError\n"
      ],
      "metadata": {
        "id": "nAtyMQoWtb9x"
      },
      "execution_count": null,
      "outputs": []
    },
    {
      "cell_type": "markdown",
      "source": [
        "##Slicing Lists"
      ],
      "metadata": {
        "id": "5XzdAbl6tiCc"
      }
    },
    {
      "cell_type": "code",
      "source": [
        "lst = [23, \"hi\", None, 3.14, fruits, True]\n",
        "lst[2:5]  # [None, 3.14, ['apple', 'banana', 'cherry']]\n"
      ],
      "metadata": {
        "colab": {
          "base_uri": "https://localhost:8080/"
        },
        "id": "z45Pgrsuto9y",
        "outputId": "da657960-35dd-4bce-af45-26c0fc5b0112"
      },
      "execution_count": null,
      "outputs": [
        {
          "output_type": "execute_result",
          "data": {
            "text/plain": [
              "[None, 3.14, ['apple', 'banana', 'cherry']]"
            ]
          },
          "metadata": {},
          "execution_count": 53
        }
      ]
    },
    {
      "cell_type": "code",
      "source": [
        "lst[4]"
      ],
      "metadata": {
        "colab": {
          "base_uri": "https://localhost:8080/"
        },
        "id": "rGJ0uFm5tngY",
        "outputId": "2f5f7165-f0e4-4078-80c1-fb41fc1ae138"
      },
      "execution_count": null,
      "outputs": [
        {
          "output_type": "execute_result",
          "data": {
            "text/plain": [
              "['apple', 'banana', 'cherry']"
            ]
          },
          "metadata": {},
          "execution_count": 54
        }
      ]
    },
    {
      "cell_type": "code",
      "source": [
        "lst[:3]   # First 3 items\n",
        "lst[3:]   # From 4th to end\n"
      ],
      "metadata": {
        "id": "7YlINSA7tymD",
        "colab": {
          "base_uri": "https://localhost:8080/"
        },
        "outputId": "752536be-93fe-48d0-a179-13c76698b631"
      },
      "execution_count": null,
      "outputs": [
        {
          "output_type": "execute_result",
          "data": {
            "text/plain": [
              "[3.14, ['apple', 'banana', 'cherry'], True]"
            ]
          },
          "metadata": {},
          "execution_count": 55
        }
      ]
    },
    {
      "cell_type": "code",
      "source": [
        "lst[-3:-1]  # Third last to second last\n"
      ],
      "metadata": {
        "id": "oe_4uvZtt8gh",
        "colab": {
          "base_uri": "https://localhost:8080/"
        },
        "outputId": "f1ef67c8-34d7-4246-f6d3-bd20aee2a526"
      },
      "execution_count": null,
      "outputs": [
        {
          "output_type": "execute_result",
          "data": {
            "text/plain": [
              "[3.14, ['apple', 'banana', 'cherry']]"
            ]
          },
          "metadata": {},
          "execution_count": 56
        }
      ]
    },
    {
      "cell_type": "code",
      "source": [
        "lst[-1:-3]  # It is follow in repited way"
      ],
      "metadata": {
        "colab": {
          "base_uri": "https://localhost:8080/"
        },
        "id": "pGyl5JMAt8Ov",
        "outputId": "e4afca60-e304-49e9-9715-7dd65d7a7fbc"
      },
      "execution_count": null,
      "outputs": [
        {
          "output_type": "execute_result",
          "data": {
            "text/plain": [
              "[]"
            ]
          },
          "metadata": {},
          "execution_count": 57
        }
      ]
    },
    {
      "cell_type": "markdown",
      "source": [
        "##Modifying Lists\n",
        "Reassign a value"
      ],
      "metadata": {
        "id": "ViBdynNxuYUB"
      }
    },
    {
      "cell_type": "code",
      "source": [
        "fruits[1] = \"blueberry\"\n"
      ],
      "metadata": {
        "id": "8_zzhta1uUJb"
      },
      "execution_count": null,
      "outputs": []
    },
    {
      "cell_type": "markdown",
      "source": [
        "##Add items"
      ],
      "metadata": {
        "id": "3vXhJmtuufRR"
      }
    },
    {
      "cell_type": "code",
      "source": [
        "print(fruits)"
      ],
      "metadata": {
        "colab": {
          "base_uri": "https://localhost:8080/"
        },
        "id": "zVETRbMIa7BL",
        "outputId": "33361590-485e-4ff8-df54-68ad76c841d3"
      },
      "execution_count": null,
      "outputs": [
        {
          "output_type": "stream",
          "name": "stdout",
          "text": [
            "['apple', 'blueberry', 'cherry']\n"
          ]
        }
      ]
    },
    {
      "cell_type": "code",
      "source": [
        "fruits.append(\"dates\")        # Adds to end\n",
        "fruits.insert(1, \"banana\")    # Inserts at index 1\n"
      ],
      "metadata": {
        "id": "q7drRdXUugrO"
      },
      "execution_count": null,
      "outputs": []
    },
    {
      "cell_type": "code",
      "source": [
        "print(fruits)"
      ],
      "metadata": {
        "colab": {
          "base_uri": "https://localhost:8080/"
        },
        "id": "IzKhFR9ibVcd",
        "outputId": "0bfcbc7b-37c3-4625-bdf8-3de07550e29d"
      },
      "execution_count": null,
      "outputs": [
        {
          "output_type": "stream",
          "name": "stdout",
          "text": [
            "['apple', 'banana', 'blueberry', 'cherry', 'dates']\n"
          ]
        }
      ]
    },
    {
      "cell_type": "markdown",
      "source": [
        "##Remove items"
      ],
      "metadata": {
        "id": "Xp5ZQi_vtvBE"
      }
    },
    {
      "cell_type": "code",
      "source": [
        "#fruits.remove(\"blueberry\")    # Removes by value\n",
        "fruits.pop()                  # Removes last item\n",
        "fruits.pop(1)                 # Removes item at index 1\n"
      ],
      "metadata": {
        "colab": {
          "base_uri": "https://localhost:8080/",
          "height": 36
        },
        "id": "fyToJihkuoGh",
        "outputId": "5a52ca9b-816c-4613-dab6-9cf7f4c2c253"
      },
      "execution_count": null,
      "outputs": [
        {
          "output_type": "execute_result",
          "data": {
            "text/plain": [
              "'banana'"
            ],
            "application/vnd.google.colaboratory.intrinsic+json": {
              "type": "string"
            }
          },
          "metadata": {},
          "execution_count": 62
        }
      ]
    },
    {
      "cell_type": "code",
      "source": [
        "print(fruits)"
      ],
      "metadata": {
        "colab": {
          "base_uri": "https://localhost:8080/"
        },
        "id": "s7zyfjDUbrcz",
        "outputId": "08b576ae-e2ad-49bb-ee80-277dde471116"
      },
      "execution_count": null,
      "outputs": [
        {
          "output_type": "stream",
          "name": "stdout",
          "text": [
            "['apple', 'blueberry', 'cherry']\n"
          ]
        }
      ]
    },
    {
      "cell_type": "markdown",
      "source": [
        "##Membership Testing"
      ],
      "metadata": {
        "id": "bSY8QhNiuxcm"
      }
    },
    {
      "cell_type": "code",
      "source": [
        "print(\"banana\" in fruits)\n",
        "print(\"kiwi\" in fruits)"
      ],
      "metadata": {
        "colab": {
          "base_uri": "https://localhost:8080/"
        },
        "id": "1xYxEiekuzR9",
        "outputId": "7bd30c0f-a0bc-4c5f-8c7f-412f1fb69207"
      },
      "execution_count": null,
      "outputs": [
        {
          "output_type": "stream",
          "name": "stdout",
          "text": [
            "False\n",
            "False\n"
          ]
        }
      ]
    },
    {
      "cell_type": "markdown",
      "source": [
        "##➕ Concatenating Lists"
      ],
      "metadata": {
        "id": "mIJTTO76u5Rr"
      }
    },
    {
      "cell_type": "code",
      "source": [
        "more_fruits = fruits + [\"grape\", \"kiwi\"]\n"
      ],
      "metadata": {
        "id": "glupb7gEu7jF"
      },
      "execution_count": null,
      "outputs": []
    },
    {
      "cell_type": "code",
      "source": [
        "print(more_fruits)"
      ],
      "metadata": {
        "colab": {
          "base_uri": "https://localhost:8080/"
        },
        "id": "eLGqUHIoix9M",
        "outputId": "f46c8dd4-3720-40da-fefd-b69489415e00"
      },
      "execution_count": null,
      "outputs": [
        {
          "output_type": "stream",
          "name": "stdout",
          "text": [
            "['apple', 'blueberry', 'cherry', 'grape', 'kiwi']\n"
          ]
        }
      ]
    },
    {
      "cell_type": "markdown",
      "source": [
        "##Copying Lists"
      ],
      "metadata": {
        "id": "YLh3bJJmvC1l"
      }
    },
    {
      "cell_type": "code",
      "source": [
        "copy_fruits = more_fruits.copy()\n"
      ],
      "metadata": {
        "id": "nS0AuZ-LvE5o"
      },
      "execution_count": null,
      "outputs": []
    },
    {
      "cell_type": "code",
      "source": [
        "print(\"copy_fruits\",copy_fruits)\n",
        "print(\"more_fruits\",more_fruits)"
      ],
      "metadata": {
        "colab": {
          "base_uri": "https://localhost:8080/"
        },
        "id": "spqXjSF7cLyO",
        "outputId": "8a64be0e-bc3c-46a4-e241-0546d3385706"
      },
      "execution_count": null,
      "outputs": [
        {
          "output_type": "stream",
          "name": "stdout",
          "text": [
            "copy_fruits ['apple', 'blueberry', 'cherry', 'grape', 'kiwi']\n",
            "more_fruits ['apple', 'blueberry', 'cherry', 'grape', 'kiwi']\n"
          ]
        }
      ]
    },
    {
      "cell_type": "code",
      "source": [
        "copy_fruits[0]='b'"
      ],
      "metadata": {
        "id": "XLpHf2ZVjDYK"
      },
      "execution_count": null,
      "outputs": []
    },
    {
      "cell_type": "code",
      "source": [
        "print(more_fruits,copy_fruits)"
      ],
      "metadata": {
        "colab": {
          "base_uri": "https://localhost:8080/"
        },
        "id": "bbts63x7jJVM",
        "outputId": "a181e5f4-007d-4f68-8d60-b71a35abe0fc"
      },
      "execution_count": null,
      "outputs": [
        {
          "output_type": "stream",
          "name": "stdout",
          "text": [
            "['apple', 'blueberry', 'cherry', 'grape', 'kiwi'] ['b', 'blueberry', 'cherry', 'grape', 'kiwi']\n"
          ]
        }
      ]
    },
    {
      "cell_type": "code",
      "source": [
        "more_fruits[0]='a'\n",
        "print(copy_fruits)"
      ],
      "metadata": {
        "colab": {
          "base_uri": "https://localhost:8080/"
        },
        "id": "rRNVVbDki26j",
        "outputId": "db86053a-902e-4273-9dd5-167977b14ce6"
      },
      "execution_count": null,
      "outputs": [
        {
          "output_type": "stream",
          "name": "stdout",
          "text": [
            "['b', 'blueberry', 'cherry', 'grape', 'kiwi']\n"
          ]
        }
      ]
    },
    {
      "cell_type": "markdown",
      "source": [
        "Changes to copy_fruits won’t affect more_fruits."
      ],
      "metadata": {
        "id": "KZ7x_D7OvLG7"
      }
    },
    {
      "cell_type": "code",
      "source": [
        "#cello copy\n",
        "more_fruits = [[\"apple\", \"banana\"], [\"orange\"]]\n",
        "copy_fruits = more_fruits.copy()\n",
        "#deep copy\n",
        "# import copy\n",
        "# copy_fruits = copy.deepcopy(more_fruits)\n",
        "copy_fruits[0][0] = \"grape\"\n",
        "\n",
        "print(more_fruits)   # [['grape', 'banana'], ['orange']]\n",
        "print(copy_fruits)   # [['grape', 'banana'], ['orange']]\n",
        "\n"
      ],
      "metadata": {
        "id": "TxYVhBihvOSd",
        "colab": {
          "base_uri": "https://localhost:8080/"
        },
        "outputId": "7f370720-c186-47b1-f692-318019c9679f"
      },
      "execution_count": null,
      "outputs": [
        {
          "output_type": "stream",
          "name": "stdout",
          "text": [
            "[['grape', 'banana'], ['orange']]\n",
            "[['grape', 'banana'], ['orange']]\n"
          ]
        }
      ]
    },
    {
      "cell_type": "markdown",
      "source": [
        "| Method      | Description                        |\n",
        "| ----------- | ---------------------------------- |\n",
        "| `append()`  | Add to end of list                 |\n",
        "| `insert()`  | Insert at specific index           |\n",
        "| `remove()`  | Remove first occurrence of a value |\n",
        "| `pop()`     | Remove and return item             |\n",
        "| `copy()`    | Create a shallow copy              |\n",
        "| `sort()`    | Sort the list in-place             |\n",
        "| `reverse()` | Reverse list in-place              |\n",
        "| `clear()`   | Remove all items from list         |\n"
      ],
      "metadata": {
        "id": "EamEWiqPvSSM"
      }
    },
    {
      "cell_type": "code",
      "source": [
        "lst=[1,13,-5,4]\n",
        "lst.reverse()\n",
        "print(lst)\n",
        "lst.sort()\n",
        "print(lst)"
      ],
      "metadata": {
        "colab": {
          "base_uri": "https://localhost:8080/"
        },
        "id": "n216Xadxc903",
        "outputId": "c333186f-c949-49a8-fd90-57d5eab44e57"
      },
      "execution_count": null,
      "outputs": [
        {
          "output_type": "stream",
          "name": "stdout",
          "text": [
            "[4, -5, 13, 1]\n",
            "[-5, 1, 4, 13]\n"
          ]
        }
      ]
    },
    {
      "cell_type": "markdown",
      "source": [
        "#List Practice\n",
        "\n",
        "1. Create an empty list named `books` and print it to confirm it is empty.\n",
        "\n",
        "2. Define a list named `fruits` that contains more than 5 fruit names.\n",
        "\n",
        "3. Display the number of items in the `fruits` list using the appropriate method.\n",
        "\n",
        "4. Retrieve the first, middle, and last elements from a list called `colors = ['red', 'blue', 'green', 'yellow', 'purple', 'orange', 'pink']`.\n",
        "\n",
        "5. Create a list called `profile` and store your name, age, height in cm, marital status, and city.\n",
        "\n",
        "6. Initialize a list named `tech_brands` with values like 'Tesla', 'Samsung', 'Intel', 'Adobe', 'IBM', 'HP', and 'Cisco'.\n",
        "\n",
        "7. Print the entire `tech_brands` list to the screen.\n",
        "\n",
        "8. Display how many companies are present in the `tech_brands` list.\n",
        "\n",
        "9. Show the first, middle, and last company names from the list `tech_brands`.\n",
        "\n",
        "10. Replace the second element in the `tech_brands` list with `'Qualcomm'` and print the updated list.\n",
        "\n",
        "11. Add `'Nvidia'` to the end of the `tech_brands` list and print the new list.\n",
        "\n",
        "12. Insert `'Zoom'` into the middle of the `tech_brands` list without replacing any element.\n",
        "\n",
        "13. Convert all company names in `tech_brands` to uppercase, except `'IBM'`.\n",
        "\n",
        "14. Sort the `tech_brands` list alphabetically and then reverse the order of the sorted list.\n",
        "\n",
        "15. Slice and print the first three and last three companies from the `tech_brands` list, and then remove the first, middle, and last companies one by one."
      ],
      "metadata": {
        "id": "8uN3R96Esapp"
      }
    },
    {
      "cell_type": "markdown",
      "source": [
        "1) Create an empty list named books and print it to confirm it is empty.\n"
      ],
      "metadata": {
        "id": "zSIZ3R-TC55O"
      }
    },
    {
      "cell_type": "code",
      "source": [
        "books = []\n",
        "print(books)"
      ],
      "metadata": {
        "colab": {
          "base_uri": "https://localhost:8080/"
        },
        "id": "rh6RoqxjC5ZO",
        "outputId": "f44bbdbb-ec6e-45a4-8923-9c7fd90237f0"
      },
      "execution_count": null,
      "outputs": [
        {
          "output_type": "stream",
          "name": "stdout",
          "text": [
            "[]\n"
          ]
        }
      ]
    },
    {
      "cell_type": "markdown",
      "source": [
        "2) Define a list named fruits that contains more than 5 fruit names.\n"
      ],
      "metadata": {
        "id": "nN-D-JIOFqxJ"
      }
    },
    {
      "cell_type": "code",
      "source": [
        "fruit = [\"mango\", \"cherry\",\"banana\",\"orange\"]\n",
        "print(fruit)\n",
        "fruit.append(\"apple\")\n",
        "print(fruit)"
      ],
      "metadata": {
        "colab": {
          "base_uri": "https://localhost:8080/"
        },
        "id": "Ox__c9BIFsJS",
        "outputId": "653f84d5-8ef6-44f5-9a2a-1a9ab27c2eab"
      },
      "execution_count": null,
      "outputs": [
        {
          "output_type": "stream",
          "name": "stdout",
          "text": [
            "['mango', 'cherry', 'banana', 'orange']\n",
            "['mango', 'cherry', 'banana', 'orange', 'apple']\n"
          ]
        }
      ]
    },
    {
      "cell_type": "markdown",
      "source": [
        "3] Display the number of items in the fruits list using the appropriate method."
      ],
      "metadata": {
        "id": "MgRHaZXVqQup"
      }
    },
    {
      "cell_type": "code",
      "source": [
        "len(fruit)"
      ],
      "metadata": {
        "colab": {
          "base_uri": "https://localhost:8080/"
        },
        "id": "ordAm1h0qQUD",
        "outputId": "252c019a-d6d2-44c1-ede2-733f5aa5e197"
      },
      "execution_count": null,
      "outputs": [
        {
          "output_type": "execute_result",
          "data": {
            "text/plain": [
              "5"
            ]
          },
          "metadata": {},
          "execution_count": 76
        }
      ]
    },
    {
      "cell_type": "markdown",
      "source": [
        "4) Retrieve the first, middle, and last elements from a list called colors = ['red', 'blue', 'green', 'yellow', 'purple', 'orange', 'pink']."
      ],
      "metadata": {
        "id": "MYxZhj1drjow"
      }
    },
    {
      "cell_type": "code",
      "source": [
        "colors = ['red', 'blue', 'green', 'yellow', 'purple', 'orange', 'pink']\n",
        "Fst_clr = colors[0]\n",
        "Lst_clr = colors[-1]\n",
        "index = len(colors)//2\n",
        "mid_clr = colors[index]\n",
        "print(Fst_clr, Lst_clr, mid_clr)"
      ],
      "metadata": {
        "colab": {
          "base_uri": "https://localhost:8080/"
        },
        "id": "NWshW41mrjY9",
        "outputId": "c517e990-12df-4dba-a028-302e8372d10c"
      },
      "execution_count": null,
      "outputs": [
        {
          "output_type": "stream",
          "name": "stdout",
          "text": [
            "red pink yellow\n"
          ]
        }
      ]
    },
    {
      "cell_type": "markdown",
      "source": [
        "5) Create a list called profile and store your name, age, height in cm, marital status, and city."
      ],
      "metadata": {
        "id": "HB0LwOuetrEO"
      }
    },
    {
      "cell_type": "code",
      "source": [
        "profile = [\"sangram\",22,165,\"single\",\"Pune\"]\n",
        "print(profile)"
      ],
      "metadata": {
        "colab": {
          "base_uri": "https://localhost:8080/"
        },
        "id": "jiFPSJiXtqxd",
        "outputId": "ee9bf09b-df86-44d4-d103-4aca8fb3690d"
      },
      "execution_count": null,
      "outputs": [
        {
          "output_type": "stream",
          "name": "stdout",
          "text": [
            "['sangram', 22, 165, 'single', 'Pune']\n"
          ]
        }
      ]
    },
    {
      "cell_type": "markdown",
      "source": [
        "6) Initialize a list named tech_brands with values like 'Tesla', 'Samsung', 'Intel', 'Adobe', 'IBM', 'HP', and 'Cisco'.\n"
      ],
      "metadata": {
        "id": "p0trcnQGuMDh"
      }
    },
    {
      "cell_type": "code",
      "source": [
        "tech_brands = ['Tesla','Samsung','Intel','Adobe','IBM','HP']\n",
        "print(tech_brands)"
      ],
      "metadata": {
        "colab": {
          "base_uri": "https://localhost:8080/"
        },
        "id": "pvhJmG0GuWUj",
        "outputId": "709884c8-b2be-4361-db36-6af6f7572794"
      },
      "execution_count": null,
      "outputs": [
        {
          "output_type": "stream",
          "name": "stdout",
          "text": [
            "['Tesla', 'Samsung', 'Intel', 'Adobe', 'IBM', 'HP']\n"
          ]
        }
      ]
    },
    {
      "cell_type": "code",
      "source": [
        "len(tech_brands)\n"
      ],
      "metadata": {
        "colab": {
          "base_uri": "https://localhost:8080/"
        },
        "id": "eXLtMckbu_UK",
        "outputId": "b2b830f4-9499-45a1-fcef-3d9335194f3c"
      },
      "execution_count": null,
      "outputs": [
        {
          "output_type": "execute_result",
          "data": {
            "text/plain": [
              "6"
            ]
          },
          "metadata": {},
          "execution_count": 80
        }
      ]
    },
    {
      "cell_type": "code",
      "source": [
        "fst = tech_brands[0]\n",
        "lst = tech_brands[-1]\n",
        "mid_index = len(tech_brands)//2\n",
        "mid = tech_brands[mid_index]\n",
        "print(fst,lst,mid)"
      ],
      "metadata": {
        "colab": {
          "base_uri": "https://localhost:8080/"
        },
        "id": "s_0MVVRnvUYP",
        "outputId": "a2fc89db-76ae-4ce6-a58e-27126e06ea3c"
      },
      "execution_count": null,
      "outputs": [
        {
          "output_type": "stream",
          "name": "stdout",
          "text": [
            "Tesla HP Adobe\n"
          ]
        }
      ]
    },
    {
      "cell_type": "code",
      "source": [
        "tech_brands[2] = \"Qualcomm\"\n",
        "print(tech_brands)"
      ],
      "metadata": {
        "colab": {
          "base_uri": "https://localhost:8080/"
        },
        "id": "a1FrHJGUw4nM",
        "outputId": "58da2f99-a451-4ea0-c667-e0a1f9104cc4"
      },
      "execution_count": null,
      "outputs": [
        {
          "output_type": "stream",
          "name": "stdout",
          "text": [
            "['Tesla', 'Samsung', 'Qualcomm', 'Adobe', 'IBM', 'HP']\n"
          ]
        }
      ]
    },
    {
      "cell_type": "markdown",
      "source": [
        "Add 'Nvidia' to the end of the tech_brands list and print the new list.\n",
        "\n"
      ],
      "metadata": {
        "id": "HQTkfPuVzBAF"
      }
    },
    {
      "cell_type": "code",
      "source": [
        "tech_brands.append(\"Nvidia\")\n",
        "print(tech_brands)"
      ],
      "metadata": {
        "colab": {
          "base_uri": "https://localhost:8080/"
        },
        "id": "YLjy_UVxw04J",
        "outputId": "a55d9fa1-9988-4ca3-9b8b-8daf05dc4229"
      },
      "execution_count": null,
      "outputs": [
        {
          "output_type": "stream",
          "name": "stdout",
          "text": [
            "['Tesla', 'Samsung', 'Qualcomm', 'Adobe', 'IBM', 'HP', 'Nvidia']\n"
          ]
        }
      ]
    },
    {
      "cell_type": "markdown",
      "source": [
        "11) Insert 'Zoom' into the middle of the tech_brands list without replacing any element.\n",
        "\n",
        "\n"
      ],
      "metadata": {
        "id": "ol-dEjHXEU4v"
      }
    },
    {
      "cell_type": "code",
      "source": [
        "tech_brands.insert(len(tech_brands)//2,\"Zoom\")\n",
        "print(tech_brands)"
      ],
      "metadata": {
        "id": "Sd5gyumyzuJg",
        "colab": {
          "base_uri": "https://localhost:8080/"
        },
        "outputId": "231349c8-adb6-485e-9064-d45a212231af"
      },
      "execution_count": null,
      "outputs": [
        {
          "output_type": "stream",
          "name": "stdout",
          "text": [
            "['Tesla', 'Samsung', 'Qualcomm', 'Zoom', 'Adobe', 'IBM', 'HP', 'Nvidia']\n"
          ]
        }
      ]
    },
    {
      "cell_type": "markdown",
      "source": [
        "12] Convert all company names in tech_brands to uppercase, except 'Nvidia'."
      ],
      "metadata": {
        "id": "setjIAqAFHug"
      }
    },
    {
      "cell_type": "code",
      "source": [
        "result = [ b if b.upper() !=\"Nvidia\" else b.upper() for b in tech_brands]\n",
        "print(result)\n",
        "# here we use lambda function and use b as tech_brands"
      ],
      "metadata": {
        "colab": {
          "base_uri": "https://localhost:8080/"
        },
        "id": "mXXVy2KtFHK8",
        "outputId": "d023d059-b2f4-4496-ee6b-82b384827cb9"
      },
      "execution_count": null,
      "outputs": [
        {
          "output_type": "stream",
          "name": "stdout",
          "text": [
            "['Tesla', 'Samsung', 'Qualcomm', 'Zoom', 'Adobe', 'IBM', 'HP', 'Nvidia']\n"
          ]
        }
      ]
    },
    {
      "cell_type": "code",
      "source": [
        "result1 = [a if a.lower() != \"samsung\" else a.lower()for a in tech_brands]\n",
        "print(result1)"
      ],
      "metadata": {
        "colab": {
          "base_uri": "https://localhost:8080/"
        },
        "id": "JupC4jzcW0I6",
        "outputId": "7dfeccc3-6c3a-478c-d9f4-171974e550f5"
      },
      "execution_count": null,
      "outputs": [
        {
          "output_type": "stream",
          "name": "stdout",
          "text": [
            "['Tesla', 'samsung', 'Qualcomm', 'Zoom', 'Adobe', 'IBM', 'HP', 'Nvidia']\n"
          ]
        }
      ]
    },
    {
      "cell_type": "markdown",
      "source": [
        "15] Sort the tech_brands list alphabetically and then reverse the order of the sorted list.\n",
        "\n",
        "## method 1"
      ],
      "metadata": {
        "id": "DdAdMxSRY5ZM"
      }
    },
    {
      "cell_type": "code",
      "source": [
        "tech_brands.sort()\n",
        "tech_brands.reverse()\n",
        "print(tech_brands)"
      ],
      "metadata": {
        "colab": {
          "base_uri": "https://localhost:8080/"
        },
        "id": "xkEj36nbY5LT",
        "outputId": "3b3872e4-b052-45de-d025-484353935e7e"
      },
      "execution_count": null,
      "outputs": [
        {
          "output_type": "stream",
          "name": "stdout",
          "text": [
            "['Zoom', 'Tesla', 'Samsung', 'Qualcomm', 'Nvidia', 'IBM', 'HP', 'Adobe']\n"
          ]
        }
      ]
    },
    {
      "cell_type": "markdown",
      "source": [
        "## method 2   In-place sort and reverse with chained arguments\n"
      ],
      "metadata": {
        "id": "DwjdXVmKZR6r"
      }
    },
    {
      "cell_type": "code",
      "source": [
        "tech_brands.sort(reverse=True)\n",
        "print(tech_brands)"
      ],
      "metadata": {
        "colab": {
          "base_uri": "https://localhost:8080/"
        },
        "id": "jUTZIuokaNKM",
        "outputId": "0a14c214-2235-4ff4-ee42-52a72cef71f1"
      },
      "execution_count": null,
      "outputs": [
        {
          "output_type": "stream",
          "name": "stdout",
          "text": [
            "['Zoom', 'Tesla', 'Samsung', 'Qualcomm', 'Nvidia', 'IBM', 'HP', 'Adobe']\n"
          ]
        }
      ]
    },
    {
      "cell_type": "markdown",
      "source": [
        "## method 3 sorted() with reverse=True"
      ],
      "metadata": {
        "id": "zWeMG1QHaxEP"
      }
    },
    {
      "cell_type": "code",
      "source": [
        "tech_brands = sorted(tech_brands, reverse =True)\n",
        "print(tech_brands)"
      ],
      "metadata": {
        "colab": {
          "base_uri": "https://localhost:8080/"
        },
        "id": "zy0tmUO8aw1S",
        "outputId": "f63d485f-a2be-4bc7-b866-6ef2ceab5400"
      },
      "execution_count": null,
      "outputs": [
        {
          "output_type": "stream",
          "name": "stdout",
          "text": [
            "['Zoom', 'Tesla', 'Samsung', 'Qualcomm', 'Nvidia', 'IBM', 'HP', 'Adobe']\n"
          ]
        }
      ]
    },
    {
      "cell_type": "markdown",
      "source": [
        "#  Python Tuples – The Immutable Collection\n",
        "\n",
        "A **tuple** is a built-in Python data structure that is:\n",
        "- ✅ Ordered\n",
        "- 🚫 Immutable (cannot be changed after creation)\n",
        "- ✅ Can contain duplicates\n",
        "- ✅ Can hold different data types (like integers, strings, etc.)\n",
        "\n",
        "---\n",
        "\n",
        "##  Creating Tuples\n"
      ],
      "metadata": {
        "id": "6P04TSHBlvEI"
      }
    },
    {
      "cell_type": "code",
      "source": [
        "veggies = ('carrot', 'potato', 'spinach')"
      ],
      "metadata": {
        "id": "wTTogz3Cl-Oq"
      },
      "execution_count": null,
      "outputs": []
    },
    {
      "cell_type": "markdown",
      "source": [
        "##Count Elements"
      ],
      "metadata": {
        "id": "IaRQ2DGjmB-n"
      }
    },
    {
      "cell_type": "code",
      "source": [
        "len(veggies)  # Output: 3\n"
      ],
      "metadata": {
        "id": "cgpHuZBcmEBJ",
        "colab": {
          "base_uri": "https://localhost:8080/"
        },
        "outputId": "9968c78c-1f30-46d0-c7ac-7a3c5b83d020"
      },
      "execution_count": null,
      "outputs": [
        {
          "output_type": "execute_result",
          "data": {
            "text/plain": [
              "3"
            ]
          },
          "metadata": {},
          "execution_count": 91
        }
      ]
    },
    {
      "cell_type": "markdown",
      "source": [
        "##Accessing Elements"
      ],
      "metadata": {
        "id": "fvd8S0QYmGLa"
      }
    },
    {
      "cell_type": "code",
      "source": [
        "# Positive Index\n",
        "veggies[0]    # Output: 'carrot'\n",
        "\n",
        "# Negative Index\n",
        "veggies[-2]   # Output: 'potato'\n"
      ],
      "metadata": {
        "id": "PHq7-Gs7mJr7",
        "colab": {
          "base_uri": "https://localhost:8080/",
          "height": 36
        },
        "outputId": "e884a005-7d9c-4541-c061-4d5d4c5c1261"
      },
      "execution_count": null,
      "outputs": [
        {
          "output_type": "execute_result",
          "data": {
            "text/plain": [
              "'potato'"
            ],
            "application/vnd.google.colaboratory.intrinsic+json": {
              "type": "string"
            }
          },
          "metadata": {},
          "execution_count": 92
        }
      ]
    },
    {
      "cell_type": "markdown",
      "source": [
        "##Membership Test"
      ],
      "metadata": {
        "id": "Ca4KQZbKmPJ4"
      }
    },
    {
      "cell_type": "code",
      "source": [
        "'potato' in veggies   # Output: True\n"
      ],
      "metadata": {
        "id": "29vu4z86mQ2s",
        "colab": {
          "base_uri": "https://localhost:8080/"
        },
        "outputId": "af5e79f6-7816-4cbd-e98e-68fc00b344b8"
      },
      "execution_count": null,
      "outputs": [
        {
          "output_type": "execute_result",
          "data": {
            "text/plain": [
              "True"
            ]
          },
          "metadata": {},
          "execution_count": 93
        }
      ]
    },
    {
      "cell_type": "markdown",
      "source": [
        "##Immutability in Action"
      ],
      "metadata": {
        "id": "RxGOtfwfmT4p"
      }
    },
    {
      "cell_type": "code",
      "source": [
        "# Try changing an item\n",
        "veggies[1] = 'beetroot'\n",
        "# Error: TypeError: 'tuple' object does not support item assignment\n"
      ],
      "metadata": {
        "id": "FzMYWX49maAf",
        "colab": {
          "base_uri": "https://localhost:8080/",
          "height": 176
        },
        "outputId": "6ac0f692-c7f5-4bd3-97d9-938aac4df0f7"
      },
      "execution_count": null,
      "outputs": [
        {
          "output_type": "error",
          "ename": "TypeError",
          "evalue": "'tuple' object does not support item assignment",
          "traceback": [
            "\u001b[0;31m---------------------------------------------------------------------------\u001b[0m",
            "\u001b[0;31mTypeError\u001b[0m                                 Traceback (most recent call last)",
            "\u001b[0;32m/tmp/ipython-input-585397328.py\u001b[0m in \u001b[0;36m<cell line: 0>\u001b[0;34m()\u001b[0m\n\u001b[1;32m      1\u001b[0m \u001b[0;31m# Try changing an item\u001b[0m\u001b[0;34m\u001b[0m\u001b[0;34m\u001b[0m\u001b[0m\n\u001b[0;32m----> 2\u001b[0;31m \u001b[0mveggies\u001b[0m\u001b[0;34m[\u001b[0m\u001b[0;36m1\u001b[0m\u001b[0;34m]\u001b[0m \u001b[0;34m=\u001b[0m \u001b[0;34m'beetroot'\u001b[0m\u001b[0;34m\u001b[0m\u001b[0;34m\u001b[0m\u001b[0m\n\u001b[0m\u001b[1;32m      3\u001b[0m \u001b[0;31m# Error: TypeError: 'tuple' object does not support item assignment\u001b[0m\u001b[0;34m\u001b[0m\u001b[0;34m\u001b[0m\u001b[0m\n",
            "\u001b[0;31mTypeError\u001b[0m: 'tuple' object does not support item assignment"
          ]
        }
      ]
    },
    {
      "cell_type": "markdown",
      "source": [
        "##Can't Modify Tuples"
      ],
      "metadata": {
        "id": "l2kZ7x6cmfnB"
      }
    },
    {
      "cell_type": "code",
      "source": [],
      "metadata": {
        "id": "-I-4qROdeWWp"
      },
      "execution_count": null,
      "outputs": []
    },
    {
      "cell_type": "code",
      "source": [
        "# Try to add an item\n",
        "veggies.append('peas')\n",
        "# AttributeError: 'tuple' object has no attribute 'append'\n",
        "\n",
        "# Try to remove an item\n",
        "veggies.remove('carrot')\n",
        "# AttributeError: 'tuple' object has no attribute 'remove'\n",
        "\n"
      ],
      "metadata": {
        "id": "qaFWhPUgmjBo"
      },
      "execution_count": null,
      "outputs": []
    },
    {
      "cell_type": "markdown",
      "source": [
        "##Parentheses Are Optional\n",
        "\n",
        "Because Tuple defines on comma"
      ],
      "metadata": {
        "id": "34JoTiS8mxas"
      }
    },
    {
      "cell_type": "code",
      "source": [
        "city_codes = 'DEL', 'MUM', 'BLR'\n",
        "print(city_codes)   # Output: ('DEL', 'MUM', 'BLR')"
      ],
      "metadata": {
        "id": "ysusjVVzmzJe"
      },
      "execution_count": null,
      "outputs": []
    },
    {
      "cell_type": "markdown",
      "source": [
        "##Single Element Tuple\n",
        "If we have to take tuple then we have to take it with comma(,)"
      ],
      "metadata": {
        "id": "bgE8JS8jm3D2"
      }
    },
    {
      "cell_type": "code",
      "source": [
        "temp = (5,10)\n",
        "print(temp)         # Output: (5,)\n",
        "print(type(temp))\n",
        "\n",
        "temp = (5,)\n",
        "print(temp)         # Output: (5,)\n",
        "print(type(temp))\n",
        "\n",
        "not_a_tuple = (5)\n",
        "print(not_a_tuple)  # Output: 5 (an integer, not a tuple!)\n",
        "print(type(not_a_tuple))"
      ],
      "metadata": {
        "id": "XHrFG7t8m8pC"
      },
      "execution_count": null,
      "outputs": []
    },
    {
      "cell_type": "markdown",
      "source": [
        "##Tuple Unpacking"
      ],
      "metadata": {
        "id": "9gQiWD-GnCs5"
      }
    },
    {
      "cell_type": "code",
      "source": [
        "coordinates = (10, 20)\n",
        "x_pos, y_pos = coordinates\n",
        "print(x_pos)   # Output: 10\n",
        "print(y_pos)   # Output: 20\n"
      ],
      "metadata": {
        "id": "2UhDtj_EnHHe"
      },
      "execution_count": null,
      "outputs": []
    },
    {
      "cell_type": "markdown",
      "source": [
        "##🔄 Convert Between List & Tuple"
      ],
      "metadata": {
        "id": "vBOiBBjCnMaa"
      }
    },
    {
      "cell_type": "code",
      "source": [
        "\n",
        "\n",
        "# List ➡ Tuple\n",
        "names_list = ['Tom', 'Jerry']\n",
        "names_tuple = tuple(names_list)\n",
        "\n",
        "# Tuple ➡ List\n",
        "tools = ('hammer', 'wrench')\n",
        "tools_list = list(tools)\n"
      ],
      "metadata": {
        "id": "WA9N-LgPnOO8"
      },
      "execution_count": null,
      "outputs": []
    },
    {
      "cell_type": "markdown",
      "source": [
        "##Tuple Methods\n",
        "\n",
        "Only two built-in methods: .count() and .index()"
      ],
      "metadata": {
        "id": "X-ISjGEgnU7Q"
      }
    },
    {
      "cell_type": "code",
      "source": [
        "sample_data = ('sun', 'moon', 'sun', 'stars', 'moon', 'sun')\n",
        "\n",
        "# Count how many times 'sun' appears\n",
        "sample_data.count('sun')    # Output: 3\n",
        "\n",
        "# Find first index of 'moon'\n",
        "sample_data.index('moon')   # Output: 1\n"
      ],
      "metadata": {
        "id": "9YPi7S3pnaY5"
      },
      "execution_count": null,
      "outputs": []
    },
    {
      "cell_type": "markdown",
      "source": [
        "##Use help() for Documentation"
      ],
      "metadata": {
        "id": "1vR9luSEnegH"
      }
    },
    {
      "cell_type": "code",
      "source": [
        "help(sample_data.count)"
      ],
      "metadata": {
        "id": "O2XSdKNbngiL"
      },
      "execution_count": null,
      "outputs": []
    },
    {
      "cell_type": "markdown",
      "source": [
        "# Python Dictionary –\n",
        "\n",
        "A **dictionary** in Python is an **unordered collection** of key-value pairs.  \n",
        "Each **key** must be unique and immutable (like string, number, tuple), and is used to access its **associated value**.\n",
        "\n",
        "---\n",
        "\n",
        "##Creating a Dictionary"
      ],
      "metadata": {
        "id": "jtFcVCmTq7Uh"
      }
    },
    {
      "cell_type": "code",
      "source": [
        "employee1 = {\n",
        "    'name': 'Alice Smith',\n",
        "    'role': 'Developer',\n",
        "    'experience': 5,\n",
        "    'remote': True\n",
        "}"
      ],
      "metadata": {
        "id": "_jrlx6dwq_Zi"
      },
      "execution_count": null,
      "outputs": []
    },
    {
      "cell_type": "code",
      "source": [
        "college = {\n",
        "    '1st': 'IISC',\n",
        "    '2nd':'IIT Madras',\n",
        "    'strength':120\n",
        "}"
      ],
      "metadata": {
        "id": "aZ-gDSWW0BHs"
      },
      "execution_count": null,
      "outputs": []
    },
    {
      "cell_type": "code",
      "source": [
        "\n",
        "college['1st']"
      ],
      "metadata": {
        "id": "A460QF2X0rqG",
        "colab": {
          "base_uri": "https://localhost:8080/",
          "height": 36
        },
        "outputId": "386b7b2f-a5a2-42b3-9e00-d2fe1b0bcf85"
      },
      "execution_count": null,
      "outputs": [
        {
          "output_type": "execute_result",
          "data": {
            "text/plain": [
              "'IISC'"
            ],
            "application/vnd.google.colaboratory.intrinsic+json": {
              "type": "string"
            }
          },
          "metadata": {},
          "execution_count": 96
        }
      ]
    },
    {
      "cell_type": "code",
      "source": [
        "employee1['role']"
      ],
      "metadata": {
        "id": "yymgRrU6faQN",
        "colab": {
          "base_uri": "https://localhost:8080/",
          "height": 141
        },
        "outputId": "a556116a-a3a9-42b8-e1a9-ac0738685085"
      },
      "execution_count": null,
      "outputs": [
        {
          "output_type": "error",
          "ename": "NameError",
          "evalue": "name 'employee1' is not defined",
          "traceback": [
            "\u001b[0;31m---------------------------------------------------------------------------\u001b[0m",
            "\u001b[0;31mNameError\u001b[0m                                 Traceback (most recent call last)",
            "\u001b[0;32m/tmp/ipython-input-2204720541.py\u001b[0m in \u001b[0;36m<cell line: 0>\u001b[0;34m()\u001b[0m\n\u001b[0;32m----> 1\u001b[0;31m \u001b[0memployee1\u001b[0m\u001b[0;34m[\u001b[0m\u001b[0;34m'role'\u001b[0m\u001b[0;34m]\u001b[0m\u001b[0;34m\u001b[0m\u001b[0;34m\u001b[0m\u001b[0m\n\u001b[0m",
            "\u001b[0;31mNameError\u001b[0m: name 'employee1' is not defined"
          ]
        }
      ]
    },
    {
      "cell_type": "code",
      "source": [
        "print(employee1)"
      ],
      "metadata": {
        "id": "r-GnH9TvfoFN",
        "colab": {
          "base_uri": "https://localhost:8080/",
          "height": 141
        },
        "outputId": "0cbe6515-d7d1-4dfe-f053-dc147f67405f"
      },
      "execution_count": null,
      "outputs": [
        {
          "output_type": "error",
          "ename": "NameError",
          "evalue": "name 'employee1' is not defined",
          "traceback": [
            "\u001b[0;31m---------------------------------------------------------------------------\u001b[0m",
            "\u001b[0;31mNameError\u001b[0m                                 Traceback (most recent call last)",
            "\u001b[0;32m/tmp/ipython-input-181069487.py\u001b[0m in \u001b[0;36m<cell line: 0>\u001b[0;34m()\u001b[0m\n\u001b[0;32m----> 1\u001b[0;31m \u001b[0mprint\u001b[0m\u001b[0;34m(\u001b[0m\u001b[0memployee1\u001b[0m\u001b[0;34m)\u001b[0m\u001b[0;34m\u001b[0m\u001b[0;34m\u001b[0m\u001b[0m\n\u001b[0m",
            "\u001b[0;31mNameError\u001b[0m: name 'employee1' is not defined"
          ]
        }
      ]
    },
    {
      "cell_type": "markdown",
      "source": [
        "###Another Way to Create a Dictionary"
      ],
      "metadata": {
        "id": "fkdWVEBNrIJJ"
      }
    },
    {
      "cell_type": "code",
      "source": [
        "employee2 = dict(name='Bob Lee', role='Designer', experience=3, remote=False)"
      ],
      "metadata": {
        "id": "pgNAuaR8rKBT"
      },
      "execution_count": null,
      "outputs": []
    },
    {
      "cell_type": "code",
      "source": [
        "type(employee2)"
      ],
      "metadata": {
        "id": "2KemlrYPrP3a"
      },
      "execution_count": null,
      "outputs": []
    },
    {
      "cell_type": "code",
      "source": [
        "print(employee2)"
      ],
      "metadata": {
        "id": "zWs7bCZxfvYS",
        "colab": {
          "base_uri": "https://localhost:8080/",
          "height": 141
        },
        "outputId": "32af7661-3692-4926-a468-21062aec2572"
      },
      "execution_count": null,
      "outputs": [
        {
          "output_type": "error",
          "ename": "NameError",
          "evalue": "name 'employee2' is not defined",
          "traceback": [
            "\u001b[0;31m---------------------------------------------------------------------------\u001b[0m",
            "\u001b[0;31mNameError\u001b[0m                                 Traceback (most recent call last)",
            "\u001b[0;32m/tmp/ipython-input-586682796.py\u001b[0m in \u001b[0;36m<cell line: 0>\u001b[0;34m()\u001b[0m\n\u001b[0;32m----> 1\u001b[0;31m \u001b[0mprint\u001b[0m\u001b[0;34m(\u001b[0m\u001b[0memployee2\u001b[0m\u001b[0;34m)\u001b[0m\u001b[0;34m\u001b[0m\u001b[0;34m\u001b[0m\u001b[0m\n\u001b[0m",
            "\u001b[0;31mNameError\u001b[0m: name 'employee2' is not defined"
          ]
        }
      ]
    },
    {
      "cell_type": "markdown",
      "source": [
        "###Accessing Values Using Keys"
      ],
      "metadata": {
        "id": "imFC29ZDrSLa"
      }
    },
    {
      "cell_type": "code",
      "source": [
        "employee1['name']      # Output: 'Alice Smith'\n",
        "# employee2['remote']    # Output: False\n"
      ],
      "metadata": {
        "id": "MgHw0PrFrVh8",
        "colab": {
          "base_uri": "https://localhost:8080/",
          "height": 158
        },
        "outputId": "3e3b28f5-f417-412f-86f5-e9de0b644d55"
      },
      "execution_count": null,
      "outputs": [
        {
          "output_type": "error",
          "ename": "NameError",
          "evalue": "name 'employee1' is not defined",
          "traceback": [
            "\u001b[0;31m---------------------------------------------------------------------------\u001b[0m",
            "\u001b[0;31mNameError\u001b[0m                                 Traceback (most recent call last)",
            "\u001b[0;32m/tmp/ipython-input-487584263.py\u001b[0m in \u001b[0;36m<cell line: 0>\u001b[0;34m()\u001b[0m\n\u001b[0;32m----> 1\u001b[0;31m \u001b[0memployee1\u001b[0m\u001b[0;34m[\u001b[0m\u001b[0;34m'name'\u001b[0m\u001b[0;34m]\u001b[0m      \u001b[0;31m# Output: 'Alice Smith'\u001b[0m\u001b[0;34m\u001b[0m\u001b[0;34m\u001b[0m\u001b[0m\n\u001b[0m\u001b[1;32m      2\u001b[0m \u001b[0;31m# employee2['remote']    # Output: False\u001b[0m\u001b[0;34m\u001b[0m\u001b[0;34m\u001b[0m\u001b[0m\n",
            "\u001b[0;31mNameError\u001b[0m: name 'employee1' is not defined"
          ]
        }
      ]
    },
    {
      "cell_type": "markdown",
      "source": [
        "###Accessing a Missing Key (KeyError)"
      ],
      "metadata": {
        "id": "favGwrZfreRs"
      }
    },
    {
      "cell_type": "code",
      "source": [
        "employee1[\"salar\"]"
      ],
      "metadata": {
        "id": "-XXuW3mvf542"
      },
      "execution_count": null,
      "outputs": []
    },
    {
      "cell_type": "markdown",
      "source": [
        " .get()"
      ],
      "metadata": {
        "id": "Eu-9S4zoc1aX"
      }
    },
    {
      "cell_type": "code",
      "source": [
        "# Using .get() to access a potentially missing key\n",
        "salary = employee1.get('salary')\n",
        "print(f\"Salary: {salary}\") # Output: Salary: None\n",
        "\n",
        "\n",
        "# You can also provide a default value if the key is not found\n",
        "salary_with_default = employee1.get('salary', 0)\n",
        "print(f\"Salary with default: {salary_with_default}\") # Output: Salary with default: 0"
      ],
      "metadata": {
        "id": "-FlF6GtDrgZC"
      },
      "execution_count": null,
      "outputs": []
    },
    {
      "cell_type": "markdown",
      "source": [
        "###Check Key Existence with in"
      ],
      "metadata": {
        "id": "dYIyw_2Brrvg"
      }
    },
    {
      "cell_type": "code",
      "source": [
        "print('name' in employee2)      # Output: True\n",
        "print('salary' in employee2 )    # Output: False\n"
      ],
      "metadata": {
        "id": "lNryhWGVrt25"
      },
      "execution_count": null,
      "outputs": []
    },
    {
      "cell_type": "markdown",
      "source": [
        "###Updating and Adding Data"
      ],
      "metadata": {
        "id": "EdpQoRCdrwhu"
      }
    },
    {
      "cell_type": "code",
      "source": [
        "employee2['remote'] = True         # Updates value\n",
        "employee1['salary'] = 75000        # Adds new key-value pair\n"
      ],
      "metadata": {
        "id": "I_Fm9-hBr06O",
        "colab": {
          "base_uri": "https://localhost:8080/",
          "height": 158
        },
        "outputId": "101d98b9-0f1e-4742-fe4a-21cedcafea16"
      },
      "execution_count": null,
      "outputs": [
        {
          "output_type": "error",
          "ename": "NameError",
          "evalue": "name 'employee2' is not defined",
          "traceback": [
            "\u001b[0;31m---------------------------------------------------------------------------\u001b[0m",
            "\u001b[0;31mNameError\u001b[0m                                 Traceback (most recent call last)",
            "\u001b[0;32m/tmp/ipython-input-2313029109.py\u001b[0m in \u001b[0;36m<cell line: 0>\u001b[0;34m()\u001b[0m\n\u001b[0;32m----> 1\u001b[0;31m \u001b[0memployee2\u001b[0m\u001b[0;34m[\u001b[0m\u001b[0;34m'remote'\u001b[0m\u001b[0;34m]\u001b[0m \u001b[0;34m=\u001b[0m \u001b[0;32mTrue\u001b[0m         \u001b[0;31m# Updates value\u001b[0m\u001b[0;34m\u001b[0m\u001b[0;34m\u001b[0m\u001b[0m\n\u001b[0m\u001b[1;32m      2\u001b[0m \u001b[0memployee1\u001b[0m\u001b[0;34m[\u001b[0m\u001b[0;34m'salary'\u001b[0m\u001b[0;34m]\u001b[0m \u001b[0;34m=\u001b[0m \u001b[0;36m75000\u001b[0m        \u001b[0;31m# Adds new key-value pair\u001b[0m\u001b[0;34m\u001b[0m\u001b[0;34m\u001b[0m\u001b[0m\n",
            "\u001b[0;31mNameError\u001b[0m: name 'employee2' is not defined"
          ]
        }
      ]
    },
    {
      "cell_type": "code",
      "source": [
        "employee1['age'] = 48"
      ],
      "metadata": {
        "id": "lOT6UtTDedwY"
      },
      "execution_count": null,
      "outputs": []
    },
    {
      "cell_type": "code",
      "source": [
        "print(employee1)\n",
        "print(employee2)"
      ],
      "metadata": {
        "id": "L9v2ubGy2HVG"
      },
      "execution_count": null,
      "outputs": []
    },
    {
      "cell_type": "markdown",
      "source": [
        "###Removing Data"
      ],
      "metadata": {
        "id": "st_1V9t8r7bB"
      }
    },
    {
      "cell_type": "code",
      "source": [
        "employee1.pop('salary')    # Removes 'salary' key and returns its value\n"
      ],
      "metadata": {
        "id": "1HwsIIOor4tO"
      },
      "execution_count": null,
      "outputs": []
    },
    {
      "cell_type": "markdown",
      "source": [
        "###Dictionary Methods\n",
        "keys(), values(), and items()\n"
      ],
      "metadata": {
        "id": "P9YipkMJri-I"
      }
    },
    {
      "cell_type": "code",
      "source": [
        "employee1.keys()     # dict_keys(['name', 'role', 'experience', 'remote'])\n",
        "employee1.values()   # dict_values(['Alice Smith', 'Developer', 5, True])\n",
        "employee1.items()    # dict_items([('name', 'Alice Smith'), ('role', 'Developer'), ...])"
      ],
      "metadata": {
        "id": "ergrPPiMsFV1"
      },
      "execution_count": null,
      "outputs": []
    },
    {
      "cell_type": "code",
      "source": [
        "list(employee1.keys())[0]"
      ],
      "metadata": {
        "id": "upUdivqjgsqc"
      },
      "execution_count": null,
      "outputs": []
    },
    {
      "cell_type": "code",
      "source": [
        "# list(employee1.keys())[0]"
      ],
      "metadata": {
        "id": "Ft3CqtTgtzxl"
      },
      "execution_count": null,
      "outputs": []
    },
    {
      "cell_type": "markdown",
      "source": [
        "###Cannot Index dict_items"
      ],
      "metadata": {
        "id": "gxeYXOfpsI1h"
      }
    },
    {
      "cell_type": "code",
      "source": [
        "employee1.items()[1]     # ❌ Error: 'dict_items' object is not subscriptable\n"
      ],
      "metadata": {
        "id": "ucXN_jD2sM73",
        "colab": {
          "base_uri": "https://localhost:8080/",
          "height": 141
        },
        "outputId": "83f61a9a-6e28-4798-d78f-bf9d1b0e1802"
      },
      "execution_count": null,
      "outputs": [
        {
          "output_type": "error",
          "ename": "NameError",
          "evalue": "name 'employee1' is not defined",
          "traceback": [
            "\u001b[0;31m---------------------------------------------------------------------------\u001b[0m",
            "\u001b[0;31mNameError\u001b[0m                                 Traceback (most recent call last)",
            "\u001b[0;32m/tmp/ipython-input-699485052.py\u001b[0m in \u001b[0;36m<cell line: 0>\u001b[0;34m()\u001b[0m\n\u001b[0;32m----> 1\u001b[0;31m \u001b[0memployee1\u001b[0m\u001b[0;34m.\u001b[0m\u001b[0mitems\u001b[0m\u001b[0;34m(\u001b[0m\u001b[0;34m)\u001b[0m\u001b[0;34m[\u001b[0m\u001b[0;36m1\u001b[0m\u001b[0;34m]\u001b[0m     \u001b[0;31m# ❌ Error: 'dict_items' object is not subscriptable\u001b[0m\u001b[0;34m\u001b[0m\u001b[0;34m\u001b[0m\u001b[0m\n\u001b[0m",
            "\u001b[0;31mNameError\u001b[0m: name 'employee1' is not defined"
          ]
        }
      ]
    },
    {
      "cell_type": "markdown",
      "source": [
        "#Convert to List First"
      ],
      "metadata": {
        "id": "BWEcVx12seqE"
      }
    },
    {
      "cell_type": "code",
      "source": [
        "list(employee1.items())[1]   # Output: ('role', 'Developer')\n"
      ],
      "metadata": {
        "id": "NDF_DNfosgmr",
        "colab": {
          "base_uri": "https://localhost:8080/",
          "height": 141
        },
        "outputId": "ac114ecb-ab9c-4179-876c-9912ce06ca94"
      },
      "execution_count": null,
      "outputs": [
        {
          "output_type": "error",
          "ename": "NameError",
          "evalue": "name 'employee1' is not defined",
          "traceback": [
            "\u001b[0;31m---------------------------------------------------------------------------\u001b[0m",
            "\u001b[0;31mNameError\u001b[0m                                 Traceback (most recent call last)",
            "\u001b[0;32m/tmp/ipython-input-219908147.py\u001b[0m in \u001b[0;36m<cell line: 0>\u001b[0;34m()\u001b[0m\n\u001b[0;32m----> 1\u001b[0;31m \u001b[0mlist\u001b[0m\u001b[0;34m(\u001b[0m\u001b[0memployee1\u001b[0m\u001b[0;34m.\u001b[0m\u001b[0mitems\u001b[0m\u001b[0;34m(\u001b[0m\u001b[0;34m)\u001b[0m\u001b[0;34m)\u001b[0m\u001b[0;34m[\u001b[0m\u001b[0;36m1\u001b[0m\u001b[0;34m]\u001b[0m   \u001b[0;31m# Output: ('role', 'Developer')\u001b[0m\u001b[0;34m\u001b[0m\u001b[0;34m\u001b[0m\u001b[0m\n\u001b[0m",
            "\u001b[0;31mNameError\u001b[0m: name 'employee1' is not defined"
          ]
        }
      ]
    },
    {
      "cell_type": "markdown",
      "source": [
        "###Merge Dictionaries"
      ],
      "metadata": {
        "id": "gO32mcDhsqil"
      }
    },
    {
      "cell_type": "code",
      "source": [
        "employee1.update(employee2)   # Adds/updates all key-value pairs from employee2\n"
      ],
      "metadata": {
        "id": "lU_XAfN2sr7Y"
      },
      "execution_count": null,
      "outputs": []
    },
    {
      "cell_type": "code",
      "source": [
        "print(employee1,employee2)"
      ],
      "metadata": {
        "id": "5dHL2BF3uKR-"
      },
      "execution_count": null,
      "outputs": []
    },
    {
      "cell_type": "markdown",
      "source": [
        "###❓ More Experiments to Try\n",
        "\n",
        "1.   Can a key be a tuple? A float? A list? Try and see.\n",
        "-->  yes, Tuples and Float we can take as key\n",
        "```python\n",
        "d = {(1, 2, 3): \"tuple as key\"}\n",
        "print(d[(1, 2, 3)])  # Output: tuple as key\n",
        "\n",
        "d = {3.14: \"pi\"}\n",
        "print(d[3.14])  # Output: pi\n",
        "\n",
        "d = {[1, 2, 3]: \"list as key\"}  # Raises TypeError\n",
        "```\n",
        "\n",
        "\n",
        "2.   What happens if the same key is used more than once during creation?\n",
        "-->  It will overwrite the value\n",
        "```python\n",
        "d = {1: 'a', 2: 'b', 1: 'c'}\n",
        "print(d)  # Output: {1: 'c', 2: 'b'}\n",
        "```\n",
        "\n",
        "3.    What if a value is another dictionary?\n",
        "-->  \n",
        "```python\n",
        "     nested = {\n",
        "    'a': {'x': 1, 'y': 2},\n",
        "    'b': {'x': 10, 'y': 20}\n",
        "    }\n",
        "print(nested['a']['x'])  # Output: 1\n",
        "\n",
        "\n",
        "```\n",
        "4.  How to loop through all keys/values/pairs?\n",
        "--->\n",
        "\n",
        "Looping Through Keys\n",
        "```python\n",
        "my_dict = {\"name\": \"Geeks\", \"topic\": \"dict\", \"task\": \"iterate\"}\n",
        "\n",
        "# Default: loops through keys\n",
        "for key in my_dict:\n",
        "    print(key)\n",
        "\n",
        "# Or use .keys() method\n",
        "for key in my_dict.keys():\n",
        "    print(key)\n",
        "```\n",
        "Looping Through Values\n",
        "```python\n",
        "for value in my_dict.values():\n",
        "    print(value)\n",
        "```\n",
        "Looping Through Key-Value Pairs\n",
        "```python\n",
        "for key, value in my_dict.items():\n",
        "    print(f\"{key}: {value}\")\n",
        "```\n",
        "\n",
        "\n",
        "\n"
      ],
      "metadata": {
        "id": "y9dDV9Z0su_p"
      }
    },
    {
      "cell_type": "code",
      "source": [
        "student = { (\"name\",\"roll_no\",\"subj\",1.58):(\"sangram\",1,(\"MLOps\",\"ADS\"),\"float_no\")}\n",
        "print(student)"
      ],
      "metadata": {
        "id": "stfGJnGPe0jz"
      },
      "execution_count": null,
      "outputs": []
    },
    {
      "cell_type": "code",
      "source": [],
      "metadata": {
        "id": "6Wtm0SIPf7B0"
      },
      "execution_count": null,
      "outputs": []
    },
    {
      "cell_type": "markdown",
      "source": [
        "#Dictionary\n",
        "\n",
        "1. Initialize an empty dictionary named `vehicle` and print it to verify.\n",
        "\n",
        "2. Add the following details to the `vehicle` dictionary: `type`, `brand`, `model`, `year`, and `color`.\n",
        "\n",
        "3. Create a dictionary called `employee` and include keys such as `first_name`, `last_name`, `position`, `salary`, `department`, `skills`, `city`, and `country`.\n",
        "\n",
        "4. Display the number of key-value pairs present in the `employee` dictionary.\n",
        "\n",
        "5. Access the value associated with the `skills` key in the `employee` dictionary and confirm that its data type is a list.\n",
        "\n",
        "6. Update the `skills` list by appending at least two new skills to it.\n",
        "\n",
        "7. Convert the keys of the `employee` dictionary into a list and print it.\n",
        "\n",
        "8. Convert the values of the `employee` dictionary into a list and print the result.\n",
        "\n",
        "9. Convert the `employee` dictionary into a list of tuples using the `items()` method.\n",
        "\n",
        "10. Remove a specific item from the `employee` dictionary using the `pop()` method or `del` statement.\n",
        "\n",
        "11. Completely delete the `vehicle` dictionary from memory.\n"
      ],
      "metadata": {
        "id": "b0ciwj9BtIex"
      }
    },
    {
      "cell_type": "markdown",
      "source": [
        "1] Initialize an empty dictionary named vehicle and print it to verify."
      ],
      "metadata": {
        "id": "jqruxpUpNsaV"
      }
    },
    {
      "cell_type": "code",
      "source": [
        "vehicle = {}\n",
        "print(vehicle)"
      ],
      "metadata": {
        "id": "puOqakgmNrrh"
      },
      "execution_count": null,
      "outputs": []
    },
    {
      "cell_type": "markdown",
      "source": [
        "2) Add the following details to the vehicle dictionary: type, brand, model, year, and color."
      ],
      "metadata": {
        "id": "FVk9gBLzN2CX"
      }
    },
    {
      "cell_type": "code",
      "source": [
        "vehicle['type'] = 'Car'\n",
        "vehicle['brand']= 'toyota'\n",
        "vehicle['model']='corolla'\n",
        "vehicle['year'] =2020\n",
        "vehicle['color']='red'\n",
        "print(vehicle)"
      ],
      "metadata": {
        "colab": {
          "base_uri": "https://localhost:8080/",
          "height": 211
        },
        "id": "nnUns9hcN1r5",
        "outputId": "8b042680-5c78-4d77-c67b-68f53acd3422"
      },
      "execution_count": null,
      "outputs": [
        {
          "output_type": "error",
          "ename": "NameError",
          "evalue": "name 'vehicle' is not defined",
          "traceback": [
            "\u001b[0;31m---------------------------------------------------------------------------\u001b[0m",
            "\u001b[0;31mNameError\u001b[0m                                 Traceback (most recent call last)",
            "\u001b[0;32m/tmp/ipython-input-3784527232.py\u001b[0m in \u001b[0;36m<cell line: 0>\u001b[0;34m()\u001b[0m\n\u001b[0;32m----> 1\u001b[0;31m \u001b[0mvehicle\u001b[0m\u001b[0;34m[\u001b[0m\u001b[0;34m'type'\u001b[0m\u001b[0;34m]\u001b[0m \u001b[0;34m=\u001b[0m \u001b[0;34m'Car'\u001b[0m\u001b[0;34m\u001b[0m\u001b[0;34m\u001b[0m\u001b[0m\n\u001b[0m\u001b[1;32m      2\u001b[0m \u001b[0mvehicle\u001b[0m\u001b[0;34m[\u001b[0m\u001b[0;34m'brand'\u001b[0m\u001b[0;34m]\u001b[0m\u001b[0;34m=\u001b[0m \u001b[0;34m'toyota'\u001b[0m\u001b[0;34m\u001b[0m\u001b[0;34m\u001b[0m\u001b[0m\n\u001b[1;32m      3\u001b[0m \u001b[0mvehicle\u001b[0m\u001b[0;34m[\u001b[0m\u001b[0;34m'model'\u001b[0m\u001b[0;34m]\u001b[0m\u001b[0;34m=\u001b[0m\u001b[0;34m'corolla'\u001b[0m\u001b[0;34m\u001b[0m\u001b[0;34m\u001b[0m\u001b[0m\n\u001b[1;32m      4\u001b[0m \u001b[0mvehicle\u001b[0m\u001b[0;34m[\u001b[0m\u001b[0;34m'year'\u001b[0m\u001b[0;34m]\u001b[0m \u001b[0;34m=\u001b[0m\u001b[0;36m2020\u001b[0m\u001b[0;34m\u001b[0m\u001b[0;34m\u001b[0m\u001b[0m\n\u001b[1;32m      5\u001b[0m \u001b[0mvehicle\u001b[0m\u001b[0;34m[\u001b[0m\u001b[0;34m'color'\u001b[0m\u001b[0;34m]\u001b[0m\u001b[0;34m=\u001b[0m\u001b[0;34m'red'\u001b[0m\u001b[0;34m\u001b[0m\u001b[0;34m\u001b[0m\u001b[0m\n",
            "\u001b[0;31mNameError\u001b[0m: name 'vehicle' is not defined"
          ]
        }
      ]
    },
    {
      "cell_type": "markdown",
      "source": [
        "3] Create a dictionary called employee and include keys such as first_name, last_name, position, salary, department, skills, city, and country"
      ],
      "metadata": {
        "id": "jOON-78vOzxo"
      }
    },
    {
      "cell_type": "code",
      "source": [
        "employee = {\n",
        "    'first_name': 'sangram',\n",
        "    \"last_name\"  : 'lembe',\n",
        "    'position':'Data scientist',\n",
        "    'salary':150000,\n",
        "    'department':'R&D',\n",
        "    'skills':['python','cv','nlp','communication'],\n",
        "    'city':'Pune',\n",
        "    'country':\"India\"\n",
        "}\n",
        "print(employee)"
      ],
      "metadata": {
        "id": "jxZ3mP9wOzdZ"
      },
      "execution_count": null,
      "outputs": []
    },
    {
      "cell_type": "markdown",
      "source": [
        "4) Display the number of key-value pairs present in the employee dictionary.\n",
        "\n"
      ],
      "metadata": {
        "id": "lBM_IWvEQWB8"
      }
    },
    {
      "cell_type": "code",
      "source": [
        "len(employee)\n",
        "employee.items()\n"
      ],
      "metadata": {
        "id": "F8YbDaK6QTyL"
      },
      "execution_count": null,
      "outputs": []
    },
    {
      "cell_type": "markdown",
      "source": [
        "5} Access the value associated with the skills key in the employee dictionary and confirm that its data type is a list."
      ],
      "metadata": {
        "id": "AklLFtHIQy-a"
      }
    },
    {
      "cell_type": "code",
      "source": [
        "skill_value = employee['skills']\n",
        "print(type(skill_value))\n",
        "print(isinstance(skill_value,list))"
      ],
      "metadata": {
        "id": "AcIc8kcgQy07"
      },
      "execution_count": null,
      "outputs": []
    },
    {
      "cell_type": "markdown",
      "source": [
        "6) Update the skills list by appending at least two new skills to it."
      ],
      "metadata": {
        "id": "7t5AKGlDSMlb"
      }
    },
    {
      "cell_type": "code",
      "source": [
        "skill_value.append('sql')\n",
        "skill_value.append('machine_learning')\n",
        "print(skill_value)"
      ],
      "metadata": {
        "colab": {
          "base_uri": "https://localhost:8080/",
          "height": 176
        },
        "id": "1IVfDuinSMP7",
        "outputId": "5081ccd8-cbe6-4a0f-e212-65e2bed40742"
      },
      "execution_count": null,
      "outputs": [
        {
          "output_type": "error",
          "ename": "NameError",
          "evalue": "name 'skill_value' is not defined",
          "traceback": [
            "\u001b[0;31m---------------------------------------------------------------------------\u001b[0m",
            "\u001b[0;31mNameError\u001b[0m                                 Traceback (most recent call last)",
            "\u001b[0;32m/tmp/ipython-input-4264143657.py\u001b[0m in \u001b[0;36m<cell line: 0>\u001b[0;34m()\u001b[0m\n\u001b[0;32m----> 1\u001b[0;31m \u001b[0mskill_value\u001b[0m\u001b[0;34m.\u001b[0m\u001b[0mappend\u001b[0m\u001b[0;34m(\u001b[0m\u001b[0;34m'sql'\u001b[0m\u001b[0;34m)\u001b[0m\u001b[0;34m\u001b[0m\u001b[0;34m\u001b[0m\u001b[0m\n\u001b[0m\u001b[1;32m      2\u001b[0m \u001b[0mskill_value\u001b[0m\u001b[0;34m.\u001b[0m\u001b[0mappend\u001b[0m\u001b[0;34m(\u001b[0m\u001b[0;34m'machine_learning'\u001b[0m\u001b[0;34m)\u001b[0m\u001b[0;34m\u001b[0m\u001b[0;34m\u001b[0m\u001b[0m\n\u001b[1;32m      3\u001b[0m \u001b[0mprint\u001b[0m\u001b[0;34m(\u001b[0m\u001b[0mskill_value\u001b[0m\u001b[0;34m)\u001b[0m\u001b[0;34m\u001b[0m\u001b[0;34m\u001b[0m\u001b[0m\n",
            "\u001b[0;31mNameError\u001b[0m: name 'skill_value' is not defined"
          ]
        }
      ]
    },
    {
      "cell_type": "markdown",
      "source": [
        "7) Convert the keys of the employee dictionary into a list and print it.\n"
      ],
      "metadata": {
        "id": "oOcyPu7tTEiU"
      }
    },
    {
      "cell_type": "code",
      "source": [
        "employee_keys  = list(employee.keys())\n",
        "print(employee_keys)"
      ],
      "metadata": {
        "colab": {
          "base_uri": "https://localhost:8080/",
          "height": 158
        },
        "id": "KCpoAEs6SMMd",
        "outputId": "9fbf7c44-7bd8-4b52-ce76-bec498a4d43a"
      },
      "execution_count": null,
      "outputs": [
        {
          "output_type": "error",
          "ename": "NameError",
          "evalue": "name 'employee' is not defined",
          "traceback": [
            "\u001b[0;31m---------------------------------------------------------------------------\u001b[0m",
            "\u001b[0;31mNameError\u001b[0m                                 Traceback (most recent call last)",
            "\u001b[0;32m/tmp/ipython-input-190778538.py\u001b[0m in \u001b[0;36m<cell line: 0>\u001b[0;34m()\u001b[0m\n\u001b[0;32m----> 1\u001b[0;31m \u001b[0memployee_keys\u001b[0m  \u001b[0;34m=\u001b[0m \u001b[0mlist\u001b[0m\u001b[0;34m(\u001b[0m\u001b[0memployee\u001b[0m\u001b[0;34m.\u001b[0m\u001b[0mkeys\u001b[0m\u001b[0;34m(\u001b[0m\u001b[0;34m)\u001b[0m\u001b[0;34m)\u001b[0m\u001b[0;34m\u001b[0m\u001b[0;34m\u001b[0m\u001b[0m\n\u001b[0m\u001b[1;32m      2\u001b[0m \u001b[0mprint\u001b[0m\u001b[0;34m(\u001b[0m\u001b[0memployee_keys\u001b[0m\u001b[0;34m)\u001b[0m\u001b[0;34m\u001b[0m\u001b[0;34m\u001b[0m\u001b[0m\n",
            "\u001b[0;31mNameError\u001b[0m: name 'employee' is not defined"
          ]
        }
      ]
    },
    {
      "cell_type": "code",
      "source": [
        "employee_values = list(employee.values())\n",
        "print(employee_values)"
      ],
      "metadata": {
        "id": "Pp7DYWRVUKT0"
      },
      "execution_count": null,
      "outputs": []
    },
    {
      "cell_type": "markdown",
      "source": [
        "9) Convert the employee dictionary into a list of tuples using the items() method.\n",
        "\n"
      ],
      "metadata": {
        "id": "frhX4me2Uldv"
      }
    },
    {
      "cell_type": "code",
      "source": [
        "employee_list = list(employee.items())\n",
        "print(employee_list)"
      ],
      "metadata": {
        "colab": {
          "base_uri": "https://localhost:8080/",
          "height": 158
        },
        "id": "rnngGZxJUlT7",
        "outputId": "71cf414e-9704-47fd-8d83-c7a5379c4880"
      },
      "execution_count": null,
      "outputs": [
        {
          "output_type": "error",
          "ename": "NameError",
          "evalue": "name 'employee' is not defined",
          "traceback": [
            "\u001b[0;31m---------------------------------------------------------------------------\u001b[0m",
            "\u001b[0;31mNameError\u001b[0m                                 Traceback (most recent call last)",
            "\u001b[0;32m/tmp/ipython-input-1430305278.py\u001b[0m in \u001b[0;36m<cell line: 0>\u001b[0;34m()\u001b[0m\n\u001b[0;32m----> 1\u001b[0;31m \u001b[0memployee_list\u001b[0m \u001b[0;34m=\u001b[0m \u001b[0mlist\u001b[0m\u001b[0;34m(\u001b[0m\u001b[0memployee\u001b[0m\u001b[0;34m.\u001b[0m\u001b[0mitems\u001b[0m\u001b[0;34m(\u001b[0m\u001b[0;34m)\u001b[0m\u001b[0;34m)\u001b[0m\u001b[0;34m\u001b[0m\u001b[0;34m\u001b[0m\u001b[0m\n\u001b[0m\u001b[1;32m      2\u001b[0m \u001b[0mprint\u001b[0m\u001b[0;34m(\u001b[0m\u001b[0memployee_list\u001b[0m\u001b[0;34m)\u001b[0m\u001b[0;34m\u001b[0m\u001b[0;34m\u001b[0m\u001b[0m\n",
            "\u001b[0;31mNameError\u001b[0m: name 'employee' is not defined"
          ]
        }
      ]
    },
    {
      "cell_type": "markdown",
      "source": [
        "10] Remove a specific item from the employee dictionary using the pop() method or del statement.\n",
        "\n"
      ],
      "metadata": {
        "id": "TLNkhf-GVgxZ"
      }
    },
    {
      "cell_type": "code",
      "source": [
        "employee.pop('department')\n",
        "print(employee)"
      ],
      "metadata": {
        "id": "weSHOexwVgnf"
      },
      "execution_count": null,
      "outputs": []
    },
    {
      "cell_type": "code",
      "source": [
        "#del(employee['country'])\n",
        "print(employee)"
      ],
      "metadata": {
        "colab": {
          "base_uri": "https://localhost:8080/",
          "height": 158
        },
        "id": "ZOa2bXQbVzfv",
        "outputId": "a3b3a1c6-1cfe-4675-f258-f80e2ed4ece0"
      },
      "execution_count": null,
      "outputs": [
        {
          "output_type": "error",
          "ename": "NameError",
          "evalue": "name 'employee' is not defined",
          "traceback": [
            "\u001b[0;31m---------------------------------------------------------------------------\u001b[0m",
            "\u001b[0;31mNameError\u001b[0m                                 Traceback (most recent call last)",
            "\u001b[0;32m/tmp/ipython-input-4136709856.py\u001b[0m in \u001b[0;36m<cell line: 0>\u001b[0;34m()\u001b[0m\n\u001b[1;32m      1\u001b[0m \u001b[0;31m#del(employee['country'])\u001b[0m\u001b[0;34m\u001b[0m\u001b[0;34m\u001b[0m\u001b[0m\n\u001b[0;32m----> 2\u001b[0;31m \u001b[0mprint\u001b[0m\u001b[0;34m(\u001b[0m\u001b[0memployee\u001b[0m\u001b[0;34m)\u001b[0m\u001b[0;34m\u001b[0m\u001b[0;34m\u001b[0m\u001b[0m\n\u001b[0m",
            "\u001b[0;31mNameError\u001b[0m: name 'employee' is not defined"
          ]
        }
      ]
    },
    {
      "cell_type": "markdown",
      "source": [
        "11] Completely delete the vehicle dictionary from memory.\n",
        "{'type': 'Car', 'brand': 'toyota', 'model': 'corolla', 'year': 2020, 'color': 'red'}"
      ],
      "metadata": {
        "id": "4eBXECNdWjJu"
      }
    },
    {
      "cell_type": "code",
      "source": [
        "del(vehicle)\n",
        "print(vehicle)"
      ],
      "metadata": {
        "id": "2dTxONwjWrDH"
      },
      "execution_count": null,
      "outputs": []
    },
    {
      "cell_type": "markdown",
      "source": [
        "# Conditional Statements and Branching in Python\n",
        "\n",
        "Python allows you to make decisions in code using **branching statements** like `if`, `elif`, and `else`.\n",
        "\n",
        "---\n",
        "\n",
        "## ✅ The `if` Statement\n"
      ],
      "metadata": {
        "id": "FUJOc6kGwvsw"
      }
    },
    {
      "cell_type": "code",
      "source": [
        "score = 80\n",
        "\n",
        "if score >= 75:\n",
        "  print(\"Excellent performance!\")\n",
        "print(\"Keep it up!\")"
      ],
      "metadata": {
        "id": "CmvAS6Zqw6IY",
        "colab": {
          "base_uri": "https://localhost:8080/"
        },
        "outputId": "4c2fbac3-aeb7-4640-e1f7-ec726034bfb9"
      },
      "execution_count": null,
      "outputs": [
        {
          "output_type": "stream",
          "name": "stdout",
          "text": [
            "Excellent performance!\n",
            "Keep it up!\n"
          ]
        }
      ]
    },
    {
      "cell_type": "markdown",
      "source": [
        "💡 If the condition is True, the indented block runs.\n",
        "\n",
        "Python uses indentation (spaces or tabs) to define blocks."
      ],
      "metadata": {
        "id": "ei7SmoAUxN8h"
      }
    },
    {
      "cell_type": "markdown",
      "source": [
        "###if-else Statement"
      ],
      "metadata": {
        "id": "QFayFdnHxe4k"
      }
    },
    {
      "cell_type": "code",
      "source": [
        "num = 13\n",
        "\n",
        "if num % 2 == 0:\n",
        "    print(\"{} is even.\".format(num))\n",
        "else:\n",
        "    print(f\"{num} is odd.\")\n"
      ],
      "metadata": {
        "id": "yf-bqgZ6xjvv",
        "colab": {
          "base_uri": "https://localhost:8080/"
        },
        "outputId": "b19dd398-aa52-4938-d0d3-3d99bd1d2960"
      },
      "execution_count": null,
      "outputs": [
        {
          "output_type": "stream",
          "name": "stdout",
          "text": [
            "13 is odd.\n"
          ]
        }
      ]
    },
    {
      "cell_type": "markdown",
      "source": [
        "###Example with Membership and else"
      ],
      "metadata": {
        "id": "SKo63KKrx09k"
      }
    },
    {
      "cell_type": "code",
      "source": [
        "characters = ('Harry', 'Ron', 'Hermione')\n",
        "name = 'Draco'\n",
        "\n",
        "if name in characters:\n",
        "    print(f\"{name} is a main character.\")\n",
        "else:\n",
        "    print(f\"{name} is not a main character.\")\n"
      ],
      "metadata": {
        "id": "bwMPu4Xox2fl",
        "colab": {
          "base_uri": "https://localhost:8080/"
        },
        "outputId": "4bc351f6-e222-45cf-ed56-2066d6fce1cd"
      },
      "execution_count": null,
      "outputs": [
        {
          "output_type": "stream",
          "name": "stdout",
          "text": [
            "Draco is not a main character.\n"
          ]
        }
      ]
    },
    {
      "cell_type": "markdown",
      "source": [
        "###The elif Statement (else-if)\n",
        "Use elif to check multiple conditions:"
      ],
      "metadata": {
        "id": "uaOHrwCpyFnJ"
      }
    },
    {
      "cell_type": "code",
      "source": [
        "day = \"Wednesday\"\n",
        "\n",
        "if day == \"Monday\":\n",
        "    print(\"Start of work week.\")\n",
        "elif day == \"Wednesday\":\n",
        "    print(\"Midweek vibes.\")\n",
        "elif day == \"Friday\":\n",
        "    print(\"Almost weekend!\")\n",
        "else:\n",
        "    print(\"Just another day.\")\n"
      ],
      "metadata": {
        "id": "rlmtC4RKyHkz",
        "colab": {
          "base_uri": "https://localhost:8080/"
        },
        "outputId": "75bde9f1-030f-4d61-f0d8-59b37faf7a7f"
      },
      "execution_count": null,
      "outputs": [
        {
          "output_type": "stream",
          "name": "stdout",
          "text": [
            "Midweek vibes.\n"
          ]
        }
      ]
    },
    {
      "cell_type": "markdown",
      "source": [
        "📌 Python evaluates conditions top to bottom. The first True block executes and others are skipped."
      ],
      "metadata": {
        "id": "cm-olBAIyQrX"
      }
    },
    {
      "cell_type": "markdown",
      "source": [
        "###Example: Number Divisibility"
      ],
      "metadata": {
        "id": "jWVMpfWAyX5q"
      }
    },
    {
      "cell_type": "code",
      "source": [
        "n = 15\n",
        "\n",
        "if n % 2 == 0:\n",
        "    print(f\"{n} is divisible by 2\")\n",
        "elif n % 3 == 0:\n",
        "    print(f\"{n} is divisible by 3\")\n",
        "elif n % 5 == 0:\n",
        "    print(f\"{n} is divisible by 5\")\n",
        "else:\n",
        "    print(f\"{n} is not divisible by 2, 3, or 5\")\n"
      ],
      "metadata": {
        "id": "susYfbe7ySHc",
        "colab": {
          "base_uri": "https://localhost:8080/"
        },
        "outputId": "f3146c8c-9910-4115-9e8e-59a113ce01a7"
      },
      "execution_count": null,
      "outputs": [
        {
          "output_type": "stream",
          "name": "stdout",
          "text": [
            "15 is divisible by 3\n"
          ]
        }
      ]
    },
    {
      "cell_type": "markdown",
      "source": [
        "➡️ Only the first True condition prints output."
      ],
      "metadata": {
        "id": "iV_wU8NQydjW"
      }
    },
    {
      "cell_type": "markdown",
      "source": [
        "###if vs Multiple if (All are Checked)"
      ],
      "metadata": {
        "id": "W9Ybr7aAyobw"
      }
    },
    {
      "cell_type": "code",
      "source": [
        "n = 15\n",
        "\n",
        "if n % 2 == 0:\n",
        "    print(f\"{n} is divisible by 2\")\n",
        "if n % 3 == 0:\n",
        "    print(f\"{n} is divisible by 3\")\n",
        "if n % 5 == 0:\n",
        "    print(f\"{n} is divisible by 5\")\n"
      ],
      "metadata": {
        "id": "2RtUu5cwyp1p",
        "colab": {
          "base_uri": "https://localhost:8080/"
        },
        "outputId": "792340f5-f873-41f2-972f-3b2be6d554d5"
      },
      "execution_count": null,
      "outputs": [
        {
          "output_type": "stream",
          "name": "stdout",
          "text": [
            "15 is divisible by 3\n",
            "15 is divisible by 5\n"
          ]
        }
      ]
    },
    {
      "cell_type": "markdown",
      "source": [
        "✅ All if blocks are evaluated separately."
      ],
      "metadata": {
        "id": "9-NjMRy6ywnG"
      }
    },
    {
      "cell_type": "markdown",
      "source": [
        "#Using Logical Operators (and, or, not)"
      ],
      "metadata": {
        "id": "EXg5vQ0Iy7BU"
      }
    },
    {
      "cell_type": "code",
      "source": [
        "val = 24\n",
        "\n",
        "if val % 3 == 0 and val % 4 == 0:\n",
        "    print(f\"{val} is divisible by both 3 and 4\")\n",
        "else:\n",
        "    print(f\"{val} is not divisible by both\")\n"
      ],
      "metadata": {
        "id": "WpOhCmKxy80o",
        "colab": {
          "base_uri": "https://localhost:8080/"
        },
        "outputId": "81a80e9a-48bf-473d-9a3a-3b3bc7e80385"
      },
      "execution_count": null,
      "outputs": [
        {
          "output_type": "stream",
          "name": "stdout",
          "text": [
            "24 is divisible by both 3 and 4\n"
          ]
        }
      ]
    },
    {
      "cell_type": "markdown",
      "source": [
        "##🔗 Summary of Keywords\n",
        "| Keyword | Meaning                          |\n",
        "| ------- | -------------------------------- |\n",
        "| `if`    | Check a condition                |\n",
        "| `elif`  | Additional conditions            |\n",
        "| `else`  | Run when no conditions match     |\n",
        "| `and`   | Both conditions must be `True`   |\n",
        "| `or`    | At least one condition is `True` |\n",
        "| `not`   | Negates a condition              |\n"
      ],
      "metadata": {
        "id": "hWI2UtWnzEpa"
      }
    },
    {
      "cell_type": "code",
      "source": [],
      "metadata": {
        "id": "6h4rrIeTgN2Z"
      },
      "execution_count": null,
      "outputs": []
    },
    {
      "cell_type": "markdown",
      "source": [
        "\n",
        "\n",
        "###In Python, any value used in a condition is **automatically converted to boolean** using `bool()`.\n",
        "\n",
        "### ✅ Truthy and Falsy values\n",
        "\n",
        "- Falsy: `0`, `None`, `''`, `[]`, `{}`, `False`\n",
        "- Truthy: Non-zero numbers, non-empty strings/lists/dicts, etc.\n",
        "\n",
        "```python\n",
        "if '':\n",
        "    print(\"True branch\")\n",
        "else:\n",
        "    print(\"False branch\")   # Output\n",
        "\n",
        "if 'World':\n",
        "    print(\"True branch\")    # Output\n",
        "else:\n",
        "    print(\"False branch\")\n",
        "\n",
        "if {}:\n",
        "    print(\"True\")\n",
        "else:\n",
        "    print(\"False\")          # Output\n",
        "\n",
        "if {'key': 10}:\n",
        "    print(\"True\")           # Output\n",
        "else:\n",
        "    print(\"False\")\n",
        "\n",
        "if None:\n",
        "    print(\"Yes\")\n",
        "else:\n",
        "    print(\"No\")             # Output\n"
      ],
      "metadata": {
        "id": "9KkxIB2Jz033"
      }
    },
    {
      "cell_type": "markdown",
      "source": [
        "###Nested if Statements\n",
        "One if inside another = nested condition. Use with care!"
      ],
      "metadata": {
        "id": "tJbQ2rm-z7kq"
      }
    },
    {
      "cell_type": "code",
      "source": [
        "value = 24\n",
        "\n",
        "if value % 2 == 0:\n",
        "  print(f\"{value} is even\")\n",
        "  if value % 3 == 0:\n",
        "      print(f\"{value} is divisible by 3 also\")\n",
        "  else:\n",
        "      print(f\"{value} is not divisible by 3\")\n",
        "\n",
        "else:\n",
        "    print(f\"{value} is odd\")\n",
        "    if value % 5 == 0:\n",
        "        print(f\"{value} is also divisible by 5\")\n"
      ],
      "metadata": {
        "id": "OloXikkF0Aax",
        "colab": {
          "base_uri": "https://localhost:8080/"
        },
        "outputId": "455f2499-86ad-45a3-c61b-03836ad1b018"
      },
      "execution_count": null,
      "outputs": [
        {
          "output_type": "stream",
          "name": "stdout",
          "text": [
            "24 is even\n",
            "24 is divisible by 3 also\n"
          ]
        }
      ]
    },
    {
      "cell_type": "markdown",
      "source": [
        "Avoid more than 1–2 levels of nesting for better readability."
      ],
      "metadata": {
        "id": "cv0-2hnC0LNR"
      }
    },
    {
      "cell_type": "markdown",
      "source": [
        "⚡ Shorthand if Expression"
      ],
      "metadata": {
        "id": "DlFPMERC0OtB"
      }
    },
    {
      "cell_type": "code",
      "source": [
        "# Traditional way\n",
        "num = 13\n",
        "if num % 2 == 0:\n",
        "    status = \"even\"\n",
        "else:\n",
        "    status = \"odd\"\n",
        "print(f\"{num} is {status}\")\n"
      ],
      "metadata": {
        "id": "AowWPIwq0L82",
        "colab": {
          "base_uri": "https://localhost:8080/"
        },
        "outputId": "86925d39-1c26-4810-bc2f-651ca60adedb"
      },
      "execution_count": null,
      "outputs": [
        {
          "output_type": "stream",
          "name": "stdout",
          "text": [
            "13 is odd\n"
          ]
        }
      ]
    },
    {
      "cell_type": "code",
      "source": [
        "#lambda function\n",
        "fee = 300000\n",
        "student = \"hosteller\" if fee>=100000 else 'non hosteller'\n",
        "print(student)"
      ],
      "metadata": {
        "colab": {
          "base_uri": "https://localhost:8080/"
        },
        "id": "iHgJ-waDxKuX",
        "outputId": "0e2e3cfc-f3b6-40b2-85c9-0e57990bf57f"
      },
      "execution_count": null,
      "outputs": [
        {
          "output_type": "stream",
          "name": "stdout",
          "text": [
            "hosteller\n"
          ]
        }
      ]
    },
    {
      "cell_type": "code",
      "source": [
        "# One-liner\n",
        "status = \"even\" if num % 2 == 0 else \"odd\"\n",
        "\n",
        "\n",
        "print(f\"{num} is {status}\")\n"
      ],
      "metadata": {
        "id": "jol_2gEN0T6Z",
        "colab": {
          "base_uri": "https://localhost:8080/"
        },
        "outputId": "8bad1e31-8698-4cc9-9c12-53d241a29921"
      },
      "execution_count": null,
      "outputs": [
        {
          "output_type": "stream",
          "name": "stdout",
          "text": [
            "13 is odd\n"
          ]
        }
      ]
    },
    {
      "cell_type": "markdown",
      "source": [
        "###The pass Statement\n",
        "Sometimes you want to leave an if or elif block empty (temporarily or logically).\n",
        "Python does not allow empty blocks, so use pass as a placeholder."
      ],
      "metadata": {
        "id": "iwyZj5XV0tqO"
      }
    },
    {
      "cell_type": "code",
      "source": [
        "value = 9\n",
        "\n",
        "if value % 2 == 0:\n",
        "    pass   # No action for even numbers\n",
        "elif value % 3 == 0:\n",
        "    print(f\"{value} is divisible by 3 but not 2\")\n"
      ],
      "metadata": {
        "id": "rbL1ds4E0vSy",
        "colab": {
          "base_uri": "https://localhost:8080/"
        },
        "outputId": "c7678286-0e6e-4eff-e4e8-bc84bcf8ee63"
      },
      "execution_count": null,
      "outputs": [
        {
          "output_type": "stream",
          "name": "stdout",
          "text": [
            "9 is divisible by 3 but not 2\n"
          ]
        }
      ]
    },
    {
      "cell_type": "markdown",
      "source": [
        "Without pass, the above would raise IndentationError."
      ],
      "metadata": {
        "id": "BRGo3eLO00vu"
      }
    },
    {
      "cell_type": "markdown",
      "source": [
        "#Practice\n",
        "\n",
        "1. Prompt the user to input a full sentence. Check whether the sentence:\n",
        "\n",
        "   * starts with a capital letter\n",
        "   * ends with a punctuation mark (., !, or ?)\n",
        "   * contains the word `\"Python\"`\n",
        "     Based on the result, print a sentence quality rating: `\"Well-formed\"`, `\"Needs punctuation\"`, or `\"Needs both improvements\"`.\n",
        "\n",
        "\n"
      ],
      "metadata": {
        "id": "TVtcSJK_xjI9"
      }
    },
    {
      "cell_type": "code",
      "source": [
        "sentence1 = \"Hii , my name is sangram pradip lembe.\"\n",
        "sentence2 = \"Wow, PytHON looks so cute!\"\n",
        "sentence3 = \"Is python that is easy to learn?\"\n",
        "\n"
      ],
      "metadata": {
        "id": "4GcJ_S8YDuLA"
      },
      "execution_count": null,
      "outputs": []
    },
    {
      "cell_type": "code",
      "source": [
        "def check_sentence_quality(sentence):\n",
        "\n",
        "  # check if sentence start with Capital Letter\n",
        "  starts_capital = sentence[0].isupper()\n",
        "\n",
        "  # check if sentenceends with .,!,or ?\n",
        "  ends_punct = sentence[-1] in['.','!','?']\n",
        "\n",
        "  # Check if sentence contains word \"python\"\n",
        "  contain_python =\"python\" in sentence.lower()   # we taken .lower so it not become case sensitive\n",
        "\n",
        "  #Determine Quality Rating\n",
        "  if starts_capital and ends_punct and contain_python:\n",
        "    quality = \"Well-formed with Contain Python\"\n",
        "\n",
        "  elif starts_capital and ends_punct :\n",
        "    quality = \"Well-formed\"\n",
        "\n",
        "  elif starts_capital:\n",
        "    quality = \"Need Punctuation\"\n",
        "\n",
        "  else:\n",
        "    quality = \"Need both improvements\"\n",
        "\n",
        "  return quality\n",
        "\n"
      ],
      "metadata": {
        "id": "EF3PdzrWElhP"
      },
      "execution_count": null,
      "outputs": []
    },
    {
      "cell_type": "code",
      "source": [
        "\n",
        "check_sentence_quality(sentence1)\n"
      ],
      "metadata": {
        "colab": {
          "base_uri": "https://localhost:8080/",
          "height": 36
        },
        "id": "P0WvHnEdK5xf",
        "outputId": "e895ea01-8e21-4d83-d058-9d6af4d39a82"
      },
      "execution_count": null,
      "outputs": [
        {
          "output_type": "execute_result",
          "data": {
            "text/plain": [
              "'Well-formed'"
            ],
            "application/vnd.google.colaboratory.intrinsic+json": {
              "type": "string"
            }
          },
          "metadata": {},
          "execution_count": 123
        }
      ]
    },
    {
      "cell_type": "code",
      "source": [
        "check_sentence_quality(sentence2)\n"
      ],
      "metadata": {
        "colab": {
          "base_uri": "https://localhost:8080/",
          "height": 36
        },
        "id": "jsP74pl2K7yg",
        "outputId": "a479822f-f457-4235-ae25-feba28a63589"
      },
      "execution_count": null,
      "outputs": [
        {
          "output_type": "execute_result",
          "data": {
            "text/plain": [
              "'Well-formed with Contain Python'"
            ],
            "application/vnd.google.colaboratory.intrinsic+json": {
              "type": "string"
            }
          },
          "metadata": {},
          "execution_count": 124
        }
      ]
    },
    {
      "cell_type": "code",
      "source": [
        "check_sentence_quality(sentence3)"
      ],
      "metadata": {
        "colab": {
          "base_uri": "https://localhost:8080/",
          "height": 36
        },
        "id": "nF76FYVjLZNZ",
        "outputId": "e170562d-19d4-466b-ce1e-ec8aef3d92cc"
      },
      "execution_count": null,
      "outputs": [
        {
          "output_type": "execute_result",
          "data": {
            "text/plain": [
              "'Well-formed with Contain Python'"
            ],
            "application/vnd.google.colaboratory.intrinsic+json": {
              "type": "string"
            }
          },
          "metadata": {},
          "execution_count": 125
        }
      ]
    },
    {
      "cell_type": "markdown",
      "source": [
        "\n",
        "2. Ask the user to enter their birth month (e.g., \"March\") and age.\n",
        "\n",
        "   * Based on the month, classify the **season** (Spring, Summer, Autumn, Winter).\n",
        "   * If the user is younger than 18, print: `\"Enjoy your studies this [season]!\"`\n",
        "   * If 18 or older, print: `\"Hope you're making the most of your [season]!\"`\n"
      ],
      "metadata": {
        "id": "zSVUAjWgzG3l"
      }
    },
    {
      "cell_type": "code",
      "source": [
        "month = input(\"Enter your Birth Month :\")\n",
        "age = int(input(\"Enter your Age : \"))\n",
        "\n",
        "if month in [\"December\",\"January\",\"February\"]:\n",
        "  season = \"winter\"\n",
        "elif month in [\"March\",\"April\",\"May\"]:\n",
        "  season = \"spring\"\n",
        "elif month in [\"June\",\"July\",\"August\"]:\n",
        "  season = \"summer\"\n",
        "else:\n",
        "  season = \"autumn\"\n",
        "\n",
        "if season:\n",
        "  if age<18:\n",
        "    print(f\"Enjoy your studies this {season}\")\n",
        "  else:\n",
        "    print(f\"Hope you're making the most of your {season}!\")\n"
      ],
      "metadata": {
        "id": "06zO2DyvMoAq"
      },
      "execution_count": null,
      "outputs": []
    },
    {
      "cell_type": "markdown",
      "source": [
        "\n",
        "3. Take two strings from the user: `first_word` and `second_word`.\n",
        "\n",
        "   * If both have the same length, compare them alphabetically and print which one comes first.\n",
        "   * If they have different lengths, print the longer one in uppercase and the shorter one in lowercase.\n",
        "   * If both are equal in value and length, print `\"Perfect match!\"`.\n",
        "\n"
      ],
      "metadata": {
        "id": "i8SExGXpMot_"
      }
    },
    {
      "cell_type": "code",
      "source": [
        "first_word = input(\"Enter first word : \")\n",
        "second_word = input(\"Enter second word: \")\n",
        "\n",
        "if len(first_word) < len(second_word):\n",
        "  first_word = first_word.lower()\n",
        "  second_word = second_word.upper()\n",
        "  print(first_word,second_word)\n",
        "\n",
        "if len(first_word) > len(second_word):\n",
        "  first_word = first_word.upper()\n",
        "  second_word = second_word.lower()\n",
        "  print(first_word,second_word)\n",
        "\n",
        "elif len(first_word) == len(second_word):\n",
        "  if first_word == second_word:\n",
        "    print(\"Perfect Match!!\")\n",
        "\n",
        "  elif first_word < second_word:   ## In Python, when you compare strings with <, >, <=, or >=, it performs a lexicographical (alphabetical) comparison\n",
        "    print(first_word,second_word)\n",
        "\n",
        "  else:\n",
        "    print(second_word,first_word)\n",
        "\n",
        "\n",
        "\n",
        "\n"
      ],
      "metadata": {
        "id": "xQLV49VyRUDh"
      },
      "execution_count": null,
      "outputs": []
    },
    {
      "cell_type": "markdown",
      "source": [
        "\\4. Create a dictionary called `book = {'title': 'Invisible Cities', 'author': 'Italo Calvino', 'year': 1972, 'genres': ['fiction', 'philosophy']}`\n",
        "\n",
        "   * Check if the key `'publisher'` exists. If not, add `'publisher': 'Harcourt'`.\n",
        "   * If `'fiction'` is in the genres list and `'philosophy'` is not, replace `'fiction'` with `'literary fiction'`.\n",
        "   * If the year is before 1980, add a new key `'status': 'classic'`.\n",
        "   * Print the final dictionary.\n"
      ],
      "metadata": {
        "id": "2YWEhtfvy0kC"
      }
    },
    {
      "cell_type": "code",
      "source": [
        "book = {\n",
        "    \"title\" : \"Invisible Cities\",\n",
        "    \"Author\": \"Italo Calvino\",\n",
        "    \"year\": 1972,\n",
        "    \"genres\":[\"fiction\"]\n",
        "}\n",
        "print(book)\n"
      ],
      "metadata": {
        "id": "c9yGwl5wfSNE"
      },
      "execution_count": null,
      "outputs": []
    },
    {
      "cell_type": "code",
      "source": [
        "book[\"publisher\"]=\"harocourt\"\n",
        "print(book)"
      ],
      "metadata": {
        "id": "avQpCpJsmSez"
      },
      "execution_count": null,
      "outputs": []
    },
    {
      "cell_type": "markdown",
      "source": [
        "- The first line uses the .index() method on the genres list in the book dictionary. This method searches for the string 'fiction' in the list and returns its position (i.e., the index of its first appearance). For example, if book['genres'] is ['fiction', 'philosophy'], 'fiction' is at position 0, so index will be 0.\n",
        "\n",
        "- The second line then replaces the item at that index with 'literary fiction'. Using the previous example, book['genres'] = 'literary fiction' changes the list to ['literary fiction', 'philosophy'].\n"
      ],
      "metadata": {
        "id": "72jdDYmR9Fvo"
      }
    },
    {
      "cell_type": "code",
      "source": [
        "if 'fiction' in book['genres'] and 'philosophy' not in book['genres']:\n",
        "    index = book['genres'].index('fiction')\n",
        "    book['genres'][index] = 'literary fiction'\n",
        "\n",
        "if book['year'] < 1980:\n",
        "    book['status'] = 'classic'\n",
        "\n",
        "print(book)\n",
        "\n",
        "\n"
      ],
      "metadata": {
        "id": "tCwtNtdun6X0"
      },
      "execution_count": null,
      "outputs": []
    },
    {
      "cell_type": "code",
      "source": [],
      "metadata": {
        "id": "11v2pSFC88t3"
      },
      "execution_count": null,
      "outputs": []
    },
    {
      "cell_type": "code",
      "source": [
        "print(\"hello world\")\n",
        "print(\"hello world\")\n",
        "print(\"hello world\")\n",
        "print(\"hello world\")\n",
        "print(\"hello world\")"
      ],
      "metadata": {
        "id": "tnjwBXQ7hUV6"
      },
      "execution_count": null,
      "outputs": []
    },
    {
      "cell_type": "code",
      "source": [
        "i=0\n",
        "while i<5:\n",
        "  print(\"hello world\")\n",
        "  i+=1"
      ],
      "metadata": {
        "id": "Yaga_9VNhaGt"
      },
      "execution_count": null,
      "outputs": []
    },
    {
      "cell_type": "markdown",
      "source": [
        "# Python Loops – The Complete Guide\n",
        "\n",
        "In programming, **loops** allow you to repeat tasks efficiently. Python supports:\n",
        "\n",
        "1. `while` loops\n",
        "2. `for` loops\n",
        "\n",
        "---\n",
        "\n",
        "## 🌀 `while` Loop\n",
        "\n",
        "Repeats a block **as long as a condition is true**.\n",
        "\n",
        "### 📌 Syntax\n",
        "\n",
        "```python\n",
        "while condition:\n",
        "    # repeated code block\n"
      ],
      "metadata": {
        "id": "iQyOjhk_8QT1"
      }
    },
    {
      "cell_type": "code",
      "source": [
        "counter = 0\n",
        "\n",
        "while counter < 4:\n",
        "    print(\"Count is:\", counter)\n",
        "    counter += 1\n"
      ],
      "metadata": {
        "id": "i_cCGmcr8Tug"
      },
      "execution_count": null,
      "outputs": []
    },
    {
      "cell_type": "code",
      "source": [
        "i = 0\n",
        "while i < 3:\n",
        "    print(i)\n",
        "    i += 1\n",
        "else:\n",
        "    print(\"Loop ended at:\", i)\n"
      ],
      "metadata": {
        "id": "JAuGAgYj8pR8"
      },
      "execution_count": null,
      "outputs": []
    },
    {
      "cell_type": "markdown",
      "source": [
        "Examples"
      ],
      "metadata": {
        "id": "sxSqCcrg84I9"
      }
    },
    {
      "cell_type": "markdown",
      "source": [
        "## break and continue (in while)\n",
        "\n",
        "break: Exit loop early"
      ],
      "metadata": {
        "id": "XoEm7vQa8znr"
      }
    },
    {
      "cell_type": "code",
      "source": [
        "n = 0\n",
        "while n < 5:\n",
        "    print(n)\n",
        "    if n == 2:\n",
        "        break\n",
        "    n += 1\n",
        "print(\"value of n is \",n)"
      ],
      "metadata": {
        "id": "CGrMc7mF8-fI"
      },
      "execution_count": null,
      "outputs": []
    },
    {
      "cell_type": "markdown",
      "source": [
        "continue: Skip current iteration"
      ],
      "metadata": {
        "id": "UyL2G3N29Dyi"
      }
    },
    {
      "cell_type": "code",
      "source": [
        "x = 0\n",
        "while x < 5:\n",
        "    x += 1\n",
        "    if x == 3:\n",
        "        continue\n",
        "    print(\"x =\", x)\n"
      ],
      "metadata": {
        "id": "D2dvKyu-9EkS"
      },
      "execution_count": null,
      "outputs": []
    },
    {
      "cell_type": "markdown",
      "source": [
        "###Sum of First 10 Natural Numbers"
      ],
      "metadata": {
        "id": "3iOD7WvjBJJR"
      }
    },
    {
      "cell_type": "code",
      "source": [
        "# 1+2+3+.....10\n",
        "s=0\n",
        "i=1\n",
        "while i<=10:\n",
        "  s+=i\n",
        "  i+=1\n",
        "print(\"sum is :\",s)"
      ],
      "metadata": {
        "id": "HhJpQREtiyLp"
      },
      "execution_count": null,
      "outputs": []
    },
    {
      "cell_type": "markdown",
      "source": [
        "###Factorial Calculator"
      ],
      "metadata": {
        "id": "W_-e_HVyBPtZ"
      }
    },
    {
      "cell_type": "code",
      "source": [
        "n = int(input(\"enter number: \"))\n",
        "fact = 1\n",
        "i =1\n",
        "\n",
        "while i<=n:\n",
        "  fact = fact * i\n",
        "  i += 1\n",
        "print(f'The factorial of {n} is : {fact}' )\n",
        "\n"
      ],
      "metadata": {
        "id": "cUBHIzP5EpP0"
      },
      "execution_count": null,
      "outputs": []
    },
    {
      "cell_type": "markdown",
      "source": [
        "###Check Prime Number\n"
      ],
      "metadata": {
        "id": "MEhl9HzfBULx"
      }
    },
    {
      "cell_type": "code",
      "source": [
        "num=int(input(\"enter number\"))\n",
        "flag=0\n",
        "if num<=1 :\n",
        "  flag=0\n",
        "i=2\n",
        "while i<num//2:\n",
        "  if num%i==0:\n",
        "    flag=0\n",
        "    break\n",
        "  else:\n",
        "    i+=1\n",
        "    flag=1\n",
        "if flag==1:\n",
        "  print(\"prime number\")\n",
        "else:\n",
        "  print(\"not prime\")"
      ],
      "metadata": {
        "id": "6VMgodbVLuDh"
      },
      "execution_count": null,
      "outputs": []
    },
    {
      "cell_type": "code",
      "source": [
        "n = int(input(\"enter number : \"))\n",
        "flag = 0\n",
        "if n==1:\n",
        "  flag = 0\n",
        "\n",
        "i=2\n",
        "while i<n//2:\n",
        "  if i%n == 0 :\n",
        "    flag = 0\n",
        "    break\n",
        "\n",
        "  else :\n",
        "    flag =1\n",
        "\n",
        "if flag ==1:\n",
        "  print(\"no is prime\")\n",
        "else:\n",
        "  print(\"no is not prime\")"
      ],
      "metadata": {
        "id": "IpQmMyHrjg7y"
      },
      "execution_count": null,
      "outputs": []
    },
    {
      "cell_type": "markdown",
      "source": [
        "###for Loop – Iterate over sequences\n",
        "\n",
        "Works with lists, tuples, strings, sets, dictionaries, etc."
      ],
      "metadata": {
        "id": "YOdMUGEI9Nu5"
      }
    },
    {
      "cell_type": "code",
      "source": [
        "cities = [\"Delhi\", \"Tokyo\", \"Paris\"]\n",
        "\n",
        "for city in cities:\n",
        "    print(\"City:\", city)\n"
      ],
      "metadata": {
        "id": "Nx7R9Xqy9Q5v"
      },
      "execution_count": null,
      "outputs": []
    },
    {
      "cell_type": "code",
      "source": [
        "word = \"Loop\"\n",
        "\n",
        "for ch in word:\n",
        "    print(ch)\n"
      ],
      "metadata": {
        "id": "GitDJWug9U70"
      },
      "execution_count": null,
      "outputs": []
    },
    {
      "cell_type": "code",
      "source": [
        "marks = (90, 80, 70)\n",
        "\n",
        "for mark in marks:\n",
        "    print(\"Mark:\", mark)\n"
      ],
      "metadata": {
        "id": "MbhiRZkx9Zxz"
      },
      "execution_count": null,
      "outputs": []
    },
    {
      "cell_type": "markdown",
      "source": [
        "Loop Over Dictionary (Keys + Values)"
      ],
      "metadata": {
        "id": "YciOCRIf9kLY"
      }
    },
    {
      "cell_type": "code",
      "source": [
        "user = {\n",
        "    \"username\": \"johndoe\",\n",
        "    \"age\": 30,\n",
        "    \"skills\": [\"Python\", \"SQL\"]\n",
        "}\n",
        "\n",
        "# Looping over keys\n",
        "for x in user:\n",
        "    print(\"Key:\",x)\n",
        "\n",
        "# Looping over items\n",
        "for k, v in user.items():\n",
        "    print(f\"{k} -> {v}\")\n"
      ],
      "metadata": {
        "id": "RUsoWABc9k5q"
      },
      "execution_count": null,
      "outputs": []
    },
    {
      "cell_type": "markdown",
      "source": [
        "break, continue in for Loop"
      ],
      "metadata": {
        "id": "ROjYREYR-JM8"
      }
    },
    {
      "cell_type": "code",
      "source": [
        "for num in range(6):\n",
        "    if num == 4:\n",
        "        break\n",
        "    print(num)\n"
      ],
      "metadata": {
        "id": "0qu3Eipt-KK4"
      },
      "execution_count": null,
      "outputs": []
    },
    {
      "cell_type": "code",
      "source": [
        "for num in range(6):\n",
        "    if num == 2:\n",
        "        continue\n",
        "    print(num)\n"
      ],
      "metadata": {
        "id": "6nfk4B_h-VTt"
      },
      "execution_count": null,
      "outputs": []
    },
    {
      "cell_type": "markdown",
      "source": [
        "#`range()` Function in Loops\n",
        "\n",
        "The `range()` function is used to generate a sequence of numbers, usually for looping.\n",
        "\n",
        "### Syntax\n",
        "\n",
        "```python\n",
        "range(stop)\n",
        "range(start, stop)\n",
        "range(start, stop, step)\n"
      ],
      "metadata": {
        "id": "-r5iIjmc-0It"
      }
    },
    {
      "cell_type": "markdown",
      "source": [
        "start defaults to 0\n",
        "\n",
        "step defaults to 1\n",
        "\n",
        "stop is exclusive"
      ],
      "metadata": {
        "id": "Se1kd03t--Z2"
      }
    },
    {
      "cell_type": "code",
      "source": [
        "print(range(5))"
      ],
      "metadata": {
        "id": "OgZCjgBN-3t-"
      },
      "execution_count": null,
      "outputs": []
    },
    {
      "cell_type": "code",
      "source": [
        "print(list(range(5)))             # [0, 1, 2, 3, 4]\n",
        "print(list(range(1, 6)))          # [1, 2, 3, 4, 5]\n",
        "print(list(range(0, 10, 2)))      # [0, 2, 4, 6, 8]\n"
      ],
      "metadata": {
        "id": "Mflcmdpx-6t6"
      },
      "execution_count": null,
      "outputs": []
    },
    {
      "cell_type": "markdown",
      "source": [
        "Nested for Loops\n",
        "\n",
        "One loop inside another is called a nested loop."
      ],
      "metadata": {
        "id": "R7iWemB__ICP"
      }
    },
    {
      "cell_type": "code",
      "source": [
        "matrix = [[1, 2], [3, 4], [5, 6]]\n",
        "\n",
        "for row in matrix:\n",
        "  # print(row,end=' ')\n",
        "  s=0\n",
        "  for item in row:\n",
        "    s+=item\n",
        "    print(item ,end=' ')\n",
        "  print(s)\n"
      ],
      "metadata": {
        "id": "utXnmL0-_MFw"
      },
      "execution_count": null,
      "outputs": []
    },
    {
      "cell_type": "code",
      "source": [
        "developer = {\n",
        "    \"name\": \"Anya\",\n",
        "    \"skills\": [\"Python\", \"Flask\", \"SQL\"]\n",
        "}\n",
        "\n",
        "for key in developer:\n",
        "    if key == \"skills\":\n",
        "        for tech in developer[key]:\n",
        "            print(tech)\n"
      ],
      "metadata": {
        "id": "GtT9ZOF-_dmy"
      },
      "execution_count": null,
      "outputs": []
    },
    {
      "cell_type": "markdown",
      "source": [
        "#Loop Practice\n",
        "\n",
        "1. Create a square pattern using nested `for` loops where each row contains exactly 8 `*` characters and there are 8 rows in total.\n",
        "\n",
        "2. Generate a table using a loop where each line prints the cube of numbers from 1 to 10 in the format:\n",
        "   `1 ^ 3 = 1`\n",
        "   `2 ^ 3 = 8`\n",
        "   ...\n",
        "\n",
        "3. Loop through the list `tools = ['Git', 'VSCode', 'Jupyter', 'Colab', 'Docker']` and print each tool followed by the number of characters in its name.\n",
        "\n",
        "4. Use a `for` loop to print all the numbers between 1 and 100 that are divisible by 5.\n",
        "\n",
        "5. Using a loop, print all numbers from 1 to 50 that are not divisible by 3.\n",
        "\n",
        "6. Write a `for` loop that prints this exact pattern:\n",
        "   `A`\n",
        "   `BB`\n",
        "   `CCC`\n",
        "   `DDDD`\n",
        "   `EEEEE`\n",
        "\n",
        "7. Iterate over the string `'DataScience'` using a `for` loop and print each character followed by its position (index).\n",
        "\n",
        "\n"
      ],
      "metadata": {
        "id": "FUOdYv2cGJ7J"
      }
    },
    {
      "cell_type": "markdown",
      "source": [
        "# Python Sentiment Analysis Practice\n",
        "\n",
        "We are given a list of fictional tweets, and we want to analyze their sentiment using simple keyword matching.\n",
        "\n",
        "```python\n",
        "posts = [\n",
        "    \"I absolutely love the new album. #awesome\",\n",
        "    \"Ugh, the traffic today was so bad! #frustrated\",\n",
        "    \"Python makes data science fun and exciting!\",\n",
        "    \"Feeling a bit sad about the weather lately.\",\n",
        "    \"Just finished a great workout session!\",\n",
        "    \"The movie was boring and way too long.\",\n",
        "    \"Happy to see my family after a long time. #grateful\",\n",
        "    \"I hate when plans get canceled at the last minute.\",\n",
        "    \"Had an amazing lunch with friends today!\",\n",
        "    \"Not feeling well. Everything seems off today.\"\n",
        "]\n",
        "```\n",
        "\n",
        "We will also use the following predefined keywords:\n",
        "\n",
        "```python\n",
        "positive_keywords = ['love', 'happy', 'awesome', 'great', 'fun', 'amazing', 'grateful', 'exciting']\n",
        "negative_keywords = ['hate', 'sad', 'bad', 'boring', 'frustrated', 'angry', 'off']\n",
        "```\n",
        "\n",
        "Now, perform the following tasks:\n",
        "\n",
        "---\n",
        "\n",
        "1. Print the number of tweets in the dataset using the `len()` function.\n",
        "\n",
        "2. Print the total number of positive keywords and negative keywords.\n",
        "\n",
        "3. Check if the first tweet in `posts` contains **any word** from `positive_keywords`. If it does, set a variable `is_positive = True`.\n",
        "\n",
        "4. Loop through all tweets and count how many are **positive** (contain at least one word from `positive_keywords`).\n",
        "\n",
        "5. Calculate and display the **percentage of positive tweets** relative to the total.\n",
        "\n",
        "6. Similarly, count how many tweets are **negative** (contain at least one word from `negative_keywords`).\n",
        "\n",
        "7. Print what fraction of the tweets are classified as negative.\n",
        "\n",
        "8. Count how many tweets contain **neither positive nor negative** keywords. These are neutral.\n",
        "\n",
        "9. Count how many tweets contain **both positive and negative** keywords. Classify them as \"mixed sentiment\".\n",
        "\n",
        "10. Finally, print a sentiment summary like this:\n",
        "\n",
        "```\n",
        "Total tweets: 10  \n",
        "Positive: 4  \n",
        "Negative: 3  \n",
        "Neutral: 2  \n",
        "Mixed: 1\n",
        "```"
      ],
      "metadata": {
        "id": "Mlq1klfXHNq5"
      }
    },
    {
      "cell_type": "markdown",
      "source": [
        "#Functions\n",
        "Functions in Python are blocks of reusable code used to perform specific tasks. Instead of repeating code, we define a function once and use it wherever needed.\n",
        "\n",
        "Defining and Using a Function\n",
        "To create a function in Python, we use the def keyword followed by the function name and parentheses. A function can have parameters or not.\n",
        "###Syntax:"
      ],
      "metadata": {
        "id": "iJD5sXChHh5T"
      }
    },
    {
      "cell_type": "code",
      "source": [
        "def function_name():\n",
        "    # code block\n",
        "    # more code\n",
        "    print(\"hello\")\n"
      ],
      "metadata": {
        "id": "RfSFaKSsItj1"
      },
      "execution_count": 45,
      "outputs": []
    },
    {
      "cell_type": "markdown",
      "source": [
        "###Calling a function:\n"
      ],
      "metadata": {
        "id": "E3Dk_kTRIvW0"
      }
    },
    {
      "cell_type": "code",
      "source": [
        "function_name()\n"
      ],
      "metadata": {
        "id": "W_uE-uUOI1Ym",
        "outputId": "e7a5f3cd-aae6-43f3-ff93-edbf25de4a85",
        "colab": {
          "base_uri": "https://localhost:8080/"
        }
      },
      "execution_count": 46,
      "outputs": [
        {
          "output_type": "stream",
          "name": "stdout",
          "text": [
            "hello\n"
          ]
        }
      ]
    },
    {
      "cell_type": "markdown",
      "source": [
        "###Function without Parameters\n",
        "You can define a function that takes no arguments."
      ],
      "metadata": {
        "id": "ttJuA6C8I9sk"
      }
    },
    {
      "cell_type": "code",
      "source": [
        "def display_message():\n",
        "    print(\"This is a custom message!\")\n",
        "\n",
        "def calculate_total():\n",
        "    item1 = 50\n",
        "    item2 = 80\n",
        "    total = item1 + item2\n",
        "    print(\"Total cost is:\", total)\n",
        "\n",
        "display_message()\n",
        "calculate_total()\n"
      ],
      "metadata": {
        "id": "6KosvhXqJAjV",
        "outputId": "8ac19bda-0462-41d1-f89b-05f35dd70f9c",
        "colab": {
          "base_uri": "https://localhost:8080/"
        }
      },
      "execution_count": 47,
      "outputs": [
        {
          "output_type": "stream",
          "name": "stdout",
          "text": [
            "This is a custom message!\n",
            "Total cost is: 130\n"
          ]
        }
      ]
    },
    {
      "cell_type": "markdown",
      "source": [
        "###Function with Return Value\n",
        "Instead of printing inside the function, we can return a value and print it outside."
      ],
      "metadata": {
        "id": "Lsm9XHA3JEBj"
      }
    },
    {
      "cell_type": "code",
      "source": [
        "def get_greeting():\n",
        "    return \"Hello, welcome to the Python workshop!\"\n",
        "\n",
        "def sum_values():\n",
        "    a = 12\n",
        "    b = 18\n",
        "    return a + b\n",
        "\n",
        "x = get_greeting()\n",
        "print(x)\n",
        "y = sum_values()\n",
        "print(y)\n"
      ],
      "metadata": {
        "id": "IJNEOzp8JHZl",
        "outputId": "f2cca6e5-d81d-4255-8992-bd4c8ee99bdc",
        "colab": {
          "base_uri": "https://localhost:8080/"
        }
      },
      "execution_count": 48,
      "outputs": [
        {
          "output_type": "stream",
          "name": "stdout",
          "text": [
            "Hello, welcome to the Python workshop!\n",
            "30\n"
          ]
        }
      ]
    },
    {
      "cell_type": "markdown",
      "source": [
        "###Function with Single Parameter\n",
        "You can pass one value into a function."
      ],
      "metadata": {
        "id": "dRC4TormJXTX"
      }
    },
    {
      "cell_type": "code",
      "source": [
        "def square(num):\n",
        "    return num * num\n",
        "\n",
        "def greet_user(username):\n",
        "    #return \"Hi {}, enjoy coding!\".format(username)\n",
        "    return f\"Hi {username} , enjoy Coding!!\"\n",
        "\n",
        "print(square(6))\n",
        "print(greet_user(\"sangram\"))\n"
      ],
      "metadata": {
        "id": "BFV7p8i2JZaY",
        "outputId": "6eaf885b-9c37-4844-a1b4-900986c4c5bd",
        "colab": {
          "base_uri": "https://localhost:8080/"
        }
      },
      "execution_count": 52,
      "outputs": [
        {
          "output_type": "stream",
          "name": "stdout",
          "text": [
            "36\n",
            "Hi sangram , enjoy Coding!!\n"
          ]
        }
      ]
    },
    {
      "cell_type": "markdown",
      "source": [
        "###Function with Multiple Parameters\n",
        "You can also pass two or more values into a function."
      ],
      "metadata": {
        "id": "dSMkvfCdJfy9"
      }
    },
    {
      "cell_type": "code",
      "source": [
        "def multiply(xu, y):\n",
        "    return xu * y\n",
        "\n",
        "def build_email(first, last):\n",
        "    return first.lower() + '.' + last.lower() + \"@example.com\"\n",
        "\n",
        "print(\"Result:\", multiply(7, 5))\n",
        "print(\"Generated Email:\", build_email(\"Sai\", \"kumar\"))\n",
        "#print(xu)\n"
      ],
      "metadata": {
        "id": "KwBCt99sJi8Y",
        "outputId": "e995170b-6cad-4364-af9d-531bd8a0420d",
        "colab": {
          "base_uri": "https://localhost:8080/"
        }
      },
      "execution_count": 54,
      "outputs": [
        {
          "output_type": "stream",
          "name": "stdout",
          "text": [
            "Result: 35\n",
            "Generated Email: sai.kumar@example.com\n"
          ]
        }
      ]
    },
    {
      "cell_type": "code",
      "source": [
        "def division(x,y):\n",
        "  return x//y\n",
        "\n",
        "def college_email(first,last):\n",
        "  return first.lower()+last.lower()+\".iitm,edu.in\"\n",
        ""
      ],
      "metadata": {
        "id": "s5BKt4bcu-wu"
      },
      "execution_count": null,
      "outputs": []
    },
    {
      "cell_type": "markdown",
      "source": [
        "###Returning Different Data Types\n",
        "You can return strings, numbers, booleans, lists, etc."
      ],
      "metadata": {
        "id": "8H3RB1AHJxdw"
      }
    },
    {
      "cell_type": "code",
      "source": [
        "def is_positive(n):\n",
        "    return n > 0\n",
        "\n",
        "def get_even_numbers(limit):\n",
        "    evens = []\n",
        "    for i in range(limit + 1):\n",
        "        if i % 2 == 0:\n",
        "            evens.append(i)\n",
        "    return evens\n",
        "\n",
        "print(is_positive(-3))         # False\n",
        "print(get_even_numbers(10))    # [0, 2, 4, 6, 8, 10]\n"
      ],
      "metadata": {
        "id": "kp8yh-tqJ0cV"
      },
      "execution_count": null,
      "outputs": []
    },
    {
      "cell_type": "markdown",
      "source": [
        "###Keyword Arguments\n",
        "Python allows passing arguments using key-value format, which makes the order of arguments flexible."
      ],
      "metadata": {
        "id": "GK7pkLHPLlSj"
      }
    },
    {
      "cell_type": "code",
      "source": [
        "def contact_card(name, phone):\n",
        "    return f\"Name: {name}, Phone: {phone}\"\n",
        "\n",
        "print(contact_card(phone='1234567890', name='Sana'))\n"
      ],
      "metadata": {
        "id": "ezX7u6PYLpdZ"
      },
      "execution_count": null,
      "outputs": []
    },
    {
      "cell_type": "markdown",
      "source": [
        "###Functions with Default Parameters\n",
        "We can assign default values to parameters so that if no value is passed, the default is used."
      ],
      "metadata": {
        "id": "QPpSBdAXMbmM"
      }
    },
    {
      "cell_type": "code",
      "source": [
        "def greet(name=\"Guest\"):\n",
        "    return f\"Welcome, {name}!\"\n",
        "\n",
        "print(greet(\"sai\"))         # uses default\n",
        "print(greet(\"Neha\"))   # uses provided value\n"
      ],
      "metadata": {
        "id": "1EzHUmTOMu9Z"
      },
      "execution_count": null,
      "outputs": []
    },
    {
      "cell_type": "code",
      "source": [
        "def area_of_rectangle(length=5, width=3):\n",
        "    return length * width\n",
        "\n",
        "print(area_of_rectangle())         # 15\n",
        "print(area_of_rectangle(10, 4))    # 40\n"
      ],
      "metadata": {
        "id": "GNfA2-ugM5h6"
      },
      "execution_count": null,
      "outputs": []
    },
    {
      "cell_type": "markdown",
      "source": [
        "Optional Parameters and Default Values in Functions\n",
        "In Python, we can define functions that accept both required and optional arguments. Optional parameters are assigned default values and must always appear after required parameters in the function definition.\n",
        "\n",
        "Let’s understand this with a custom function to compute monthly rent after discount.\n"
      ],
      "metadata": {
        "id": "5W4qLigTOBr6"
      }
    },
    {
      "cell_type": "code",
      "source": [
        "def monthly_rent(base_rent, months, discount_rate, deposit=0):\n",
        "    net_rent = base_rent - deposit\n",
        "    monthly_payment = net_rent * (1 - discount_rate) / months\n",
        "    return monthly_payment\n"
      ],
      "metadata": {
        "id": "64z0gjIuOD8e"
      },
      "execution_count": null,
      "outputs": []
    },
    {
      "cell_type": "code",
      "source": [
        "monthly_rent(180000, 12, 0.05, 30000)\n"
      ],
      "metadata": {
        "id": "_rYZo3lYOHs6"
      },
      "execution_count": null,
      "outputs": []
    },
    {
      "cell_type": "code",
      "source": [
        "monthly_rent(180000, 12, 0.1)\n"
      ],
      "metadata": {
        "id": "Vc0ITIMCOKOn"
      },
      "execution_count": null,
      "outputs": []
    },
    {
      "cell_type": "markdown",
      "source": [
        "###Local Variables and Scope in Functions\n",
        "Let’s understand how variable scope works in Python by defining a function that calculates the average speed given distance and time."
      ],
      "metadata": {
        "id": "GvVtE8fRNZuh"
      }
    },
    {
      "cell_type": "code",
      "source": [
        "def average_speed(distance, time):\n",
        "    speed = distance / time\n",
        "    print(\"Average speed is\", speed, \"km/hr\")\n"
      ],
      "metadata": {
        "id": "ksKuEeQRNcFN"
      },
      "execution_count": null,
      "outputs": []
    },
    {
      "cell_type": "markdown",
      "source": [
        "In the above function, distance, time, and speed are local variables. They only exist inside the function.\n",
        "\n",
        "If you try to access them outside the function"
      ],
      "metadata": {
        "id": "Jbo2svKONeT1"
      }
    },
    {
      "cell_type": "code",
      "source": [
        "print(speed)       # ❌ NameError: name 'speed' is not defined\n",
        "print(distance)    # ❌ NameError: name 'distance' is not defined\n",
        "print(time)        # ❌ NameError: name 'time' is not defined\n"
      ],
      "metadata": {
        "id": "LBoxRdmUNe1t"
      },
      "execution_count": null,
      "outputs": []
    },
    {
      "cell_type": "markdown",
      "source": [
        "You will get an error because these variables are not accessible outside the function they are scoped locally to the function."
      ],
      "metadata": {
        "id": "4Vlfok3uNiok"
      }
    },
    {
      "cell_type": "markdown",
      "source": [
        "Explanation\n",
        "Local Scope: Variables defined inside a function can only be used within that function.\n",
        "\n",
        "Global Scope: Variables defined outside all functions are accessible everywhere in the file."
      ],
      "metadata": {
        "id": "Ve7Z9aGsNlZY"
      }
    },
    {
      "cell_type": "code",
      "source": [
        "average_speed(300, 5)\n",
        "average_speed(180, 3)\n"
      ],
      "metadata": {
        "id": "LWfmrUfoNtOt"
      },
      "execution_count": null,
      "outputs": []
    },
    {
      "cell_type": "markdown",
      "source": [
        "Each time you call the function, it calculates the result without storing anything globally."
      ],
      "metadata": {
        "id": "Gk0pgZFmNvCt"
      }
    },
    {
      "cell_type": "markdown",
      "source": [
        "\n",
        "\n",
        "# Function Practice\n",
        "\n",
        "1. Write a function called `multiply_three_numbers` that takes three arguments and returns their product.\n",
        "\n",
        "2. Define a function named `rectangle_area` that takes `length` and `width` and returns the area of the rectangle.\n",
        "\n",
        "3. Create a function `calculate_bmi` that takes a person's `weight` (in kg) and `height` (in meters) and returns their BMI value rounded to 2 decimal places.\n",
        "\n",
        "4. Write a function called `fahrenheit_to_kelvin` that converts a temperature from Fahrenheit to Kelvin using the formula: `K = ((F - 32) × 5/9) + 273.15`.\n",
        "\n",
        "5. Define a function `is_weekend` that takes a day name (string) and returns `True` if the day is Saturday or Sunday, else `False`.\n",
        "\n",
        "6. Write a function named `flatten_list` that takes a nested list like `[1, [2, 3], [4, [5]]]` and returns a flat list `[1, 2, 3, 4, 5]`. You can assume max depth = 2.\n",
        "\n",
        "7. Create a function `remove_duplicates` that takes a list and returns a new list with duplicates removed (preserve order).\n",
        "\n",
        "8. Define a function `reverse_case` that takes a string and returns a new string with all uppercase letters converted to lowercase and vice versa.\n",
        "\n",
        "9. Write a function named `extract_digits` that takes a string and returns a list of all digits (characters `'0'` to `'9'`) found in the string.\n",
        "\n",
        "10. Define a function `average_of_positives` that takes a list of numbers and returns the average of all positive values. If there are no positives, return `None`."
      ],
      "metadata": {
        "id": "zQi1qeMiOoQO"
      }
    },
    {
      "cell_type": "markdown",
      "source": [
        "\n",
        "## Modules and Library Functions in Python\n",
        "\n",
        "Python comes with a rich set of **built-in modules** that help perform tasks without writing code from scratch. These modules organize reusable functions and classes.\n",
        "\n",
        "\n",
        "###Modules in Python\n",
        "Modules are files that contain Python code such as variables, functions, and classes. They help organize code for large projects by grouping related functionality into separate files and folders. One of the main advantages of using modules is the concept of namespaces, which means a function, variable, or class inside a module must be explicitly imported before it can be used. This provides encapsulation, helping avoid naming conflicts between your own code and external code or even between multiple modules. By importing only what is needed, modules keep the code cleaner, more modular, and easier to manage in larger applications\n",
        "\n",
        "One such example is the **`math`** module, which includes mathematical functions like:\n",
        "\n",
        "* `math.ceil(x)`: Rounds a number **up** to the nearest integer\n",
        "* `math.floor(x)`: Rounds **down**\n",
        "* `math.sqrt(x)`: Returns the square root\n",
        "* `math.pow(x, y)`: Calculates $x^y$\n",
        "\n",
        "---\n",
        "\n",
        "##Rounding Up  with `math.ceil()`\n",
        "\n",
        "Suppose we’re calculating monthly EMI (Equated Monthly Installment) and we want to round it up to the next whole number.\n",
        "\n",
        "First, let's import the module and check the function:\n",
        "\n",
        "```python\n",
        "import math\n",
        "help(math.ceil)\n",
        "```\n",
        "\n",
        "Try:\n",
        "\n",
        "```python\n",
        "math.ceil(1.2)  # Output: 2\n",
        "```"
      ],
      "metadata": {
        "id": "WXQcflTLS_hO"
      }
    },
    {
      "cell_type": "code",
      "source": [
        "import math"
      ],
      "metadata": {
        "id": "bU9zo5RjT-gx"
      },
      "execution_count": null,
      "outputs": []
    },
    {
      "cell_type": "code",
      "source": [
        "def loan_emi(amount, duration, rate, down_payment=0):\n",
        "    loan_amount = amount - down_payment\n",
        "    emi = loan_amount * rate * ((1 + rate) ** duration) / (((1 + rate) ** duration) - 1)\n",
        "    emi = math.ceil(emi)\n",
        "    return emi\n"
      ],
      "metadata": {
        "id": "gF7q8ywOT5Nm"
      },
      "execution_count": null,
      "outputs": []
    },
    {
      "cell_type": "code",
      "source": [
        "emi1 = loan_emi(\n",
        "    amount=1260000,\n",
        "    duration=8*12,\n",
        "    rate=0.1/12,\n",
        "    down_payment=3e5\n",
        ")\n",
        "emi1  # Output: 14568\n"
      ],
      "metadata": {
        "id": "RzSAeVFMT7tG"
      },
      "execution_count": null,
      "outputs": []
    },
    {
      "cell_type": "markdown",
      "source": [
        "###Exceptions and try-except in Python\n",
        "In many real-world scenarios, our functions may receive invalid inputs. For example, a user may accidentally pass a string instead of a number. Instead of crashing the program, Python allows us to handle such situations using try-except.\n",
        "\n",
        "\n",
        "###  Scenario: Converting Celsius to Fahrenheit\n",
        "\n",
        "The formula is:\n",
        "\n",
        "$$\n",
        "^\\circ\\text{F} = \\left(^\\circ\\text{C} \\times \\frac{9}{5}\\right) + 32\n",
        "$$\n"
      ],
      "metadata": {
        "id": "NxrVVGkBUrOx"
      }
    },
    {
      "cell_type": "code",
      "source": [
        "user_input=input(\"enter number\")\n",
        "try:\n",
        "  print(10/user_input)\n",
        "except ValueError:\n",
        "  print(\"Error Name\",e)\n",
        "\n",
        "print(\"very imp. code lines \")\n",
        "\n",
        "\n",
        "\n",
        "print(\"program ends here\")"
      ],
      "metadata": {
        "id": "u2jTRE0Tr9qn"
      },
      "execution_count": null,
      "outputs": []
    },
    {
      "cell_type": "code",
      "source": [
        "def celsius_to_fahrenheit(celsius):\n",
        "    try:\n",
        "        result = (celsius * 9/5) + 32\n",
        "        return result\n",
        "    except:\n",
        "        print(\"Invalid input! Please enter a numeric value.\")\n",
        "        return None"
      ],
      "metadata": {
        "id": "qo1G9fI9VNyG"
      },
      "execution_count": null,
      "outputs": []
    },
    {
      "cell_type": "code",
      "source": [
        "temp = celsius_to_fahrenheit(25)\n",
        "print(\"Temperature in Fahrenheit:\", temp)\n"
      ],
      "metadata": {
        "id": "mfQdHTxxVXC6"
      },
      "execution_count": null,
      "outputs": []
    },
    {
      "cell_type": "code",
      "source": [
        "temp = celsius_to_fahrenheit(\"cold\")\n",
        "print(\"Temperature in Fahrenheit:\", temp)\n"
      ],
      "metadata": {
        "id": "yXXuAR0OVeQm"
      },
      "execution_count": null,
      "outputs": []
    },
    {
      "cell_type": "code",
      "source": [
        "try:\n",
        "  print(\"hello\")\n",
        "except Exception as e :\n",
        "  print(e)\n"
      ],
      "metadata": {
        "id": "7RAJ0nqbZzD1"
      },
      "execution_count": null,
      "outputs": []
    }
  ]
}